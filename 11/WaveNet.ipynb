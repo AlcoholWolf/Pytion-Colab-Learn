{
  "nbformat": 4,
  "nbformat_minor": 0,
  "metadata": {
    "colab": {
      "name": "ch04_05_WaveNet.ipynb",
      "provenance": [],
      "collapsed_sections": [],
      "include_colab_link": true
    },
    "kernelspec": {
      "name": "python3",
      "display_name": "Python 3"
    },
    "language_info": {
      "name": "python"
    }
  },
  "cells": [
    {
      "cell_type": "markdown",
      "metadata": {
        "id": "view-in-github",
        "colab_type": "text"
      },
      "source": [
        "<a href=\"https://colab.research.google.com/github/AlcoholWolf/Pytion-Colab-Learn/blob/main/11/WaveNet.ipynb\" target=\"_parent\"><img src=\"https://colab.research.google.com/assets/colab-badge.svg\" alt=\"Open In Colab\"/></a>"
      ]
    },
    {
      "cell_type": "markdown",
      "source": [
        "# ch04.05 Wave Net\n",
        "\n",
        "* 날짜:\n",
        "* 이름:\n",
        "\n",
        "## 학습내용\n",
        "    - Audio data에 대해 이해한다.\n",
        "    - 머신러닝 방법으로 접근하여 문제를 해결해 본다.\n",
        "    - 딥러닝 네트워크를 이용해 문제를 해결한다.\n",
        "    - waveNet, yamNet 등 딥러닝 알고리즘을 적용한다.\n",
        "\n"
      ],
      "metadata": {
        "id": "nLnUQASYQKZc"
      }
    },
    {
      "cell_type": "code",
      "source": [
        "from google.colab import drive\n",
        "drive.mount('/content/drive')"
      ],
      "metadata": {
        "colab": {
          "base_uri": "https://localhost:8080/"
        },
        "id": "BWHaSMwRXRdQ",
        "outputId": "0d339840-f569-4426-b75b-a557ea137f80"
      },
      "execution_count": 8,
      "outputs": [
        {
          "output_type": "stream",
          "name": "stdout",
          "text": [
            "Mounted at /content/drive\n"
          ]
        }
      ]
    },
    {
      "cell_type": "code",
      "source": [
        "!git clone https://github.com/AlcoholWolf/SDASSF\n",
        "\n",
        "import sys\n",
        "\n",
        "sys.path.append('./SDASSF/Prossece')\n",
        "\n",
        "from GetAll import *"
      ],
      "metadata": {
        "id": "U3il3OYQHLOU",
        "outputId": "85cd483f-d3e1-4889-ad20-561ac91b53eb",
        "colab": {
          "base_uri": "https://localhost:8080/"
        }
      },
      "execution_count": 10,
      "outputs": [
        {
          "output_type": "stream",
          "name": "stdout",
          "text": [
            "Cloning into 'SDASSF'...\n",
            "remote: Enumerating objects: 128, done.\u001b[K\n",
            "remote: Counting objects: 100% (18/18), done.\u001b[K\n",
            "remote: Compressing objects: 100% (14/14), done.\u001b[K\n",
            "remote: Total 128 (delta 4), reused 0 (delta 0), pack-reused 110\u001b[K\n",
            "Receiving objects: 100% (128/128), 121.11 KiB | 3.56 MiB/s, done.\n",
            "Resolving deltas: 100% (38/38), done.\n",
            "Bot | Setting Set Other : Waring(Ignore)\n",
            "Bot | Setting Set AddOn : Requests, Matplotlib(color, ToolKit-3D), Xgboost(Efficiency), Lightgbm(Lightening), Bs4\n",
            "Bot | Setting Set AddOn-Sklearn : Sklearn(sk), Sklearn-AddOn(preprocessing, model_selection, tree, datasets, linear_model, metrics, svm, decomposition, ensemble, pipeline\n",
            "Bot | Setting Set Bagic : Time, Random, Math\n",
            "Bot | Setting Set Calqulrus : Numpy(np), Sklearn(sk)\n",
            "Bot | Setting Set DataLoader : Pandas(pd), StatsModels(sm)\n",
            "Bot | Setting Set Import : Shutil, tqdm, Glob, Librosa(Boice EDA)\n",
            "Bot | Setting Set Show : Seaborn(sns), Matplotlib(plt=dark_backgraund, mpatches, mpl, plb)\n",
            "Bot | Setting Set System : Os\n",
            "Bot | Get DEF : ShapeBuilder\n"
          ]
        }
      ]
    },
    {
      "cell_type": "code",
      "source": [
        "'''lib.py\n",
        "import tensorflow as tf\n",
        "from tensorflow.keras import models, layers, utils, losses, optimizers\n",
        "import numpy as np\n",
        "import matplotlib.pyplot as plt\n",
        "import pandas as pd\n",
        "import seaborn as sns\n",
        "'''"
      ],
      "metadata": {
        "id": "mBluYfrhYyi5",
        "outputId": "c3b7eab9-001b-4e91-ffb5-2af4f844da41",
        "colab": {
          "base_uri": "https://localhost:8080/",
          "height": 35
        }
      },
      "execution_count": 11,
      "outputs": [
        {
          "output_type": "execute_result",
          "data": {
            "text/plain": [
              "'lib.py\\nimport tensorflow as tf\\nfrom tensorflow.keras import models, layers, utils, losses, optimizers\\nimport numpy as np\\nimport matplotlib.pyplot as plt\\nimport pandas as pd\\nimport seaborn as sns\\n'"
            ],
            "application/vnd.google.colaboratory.intrinsic+json": {
              "type": "string"
            }
          },
          "metadata": {},
          "execution_count": 11
        }
      ]
    },
    {
      "cell_type": "markdown",
      "source": [
        "## 데이터셋 - Kaggle GTZAN Dataset \n",
        "---\n",
        "\n",
        "https://www.kaggle.com/datasets/andradaolteanu/gtzan-dataset-music-genre-classification\n",
        "\n"
      ],
      "metadata": {
        "id": "hxIvHXTQQ2gq"
      }
    },
    {
      "cell_type": "markdown",
      "source": [
        "### **| kaggle 데이터 연동**\n",
        "\n",
        "\n",
        "1. kaggle 로그인 - my account - API Create New Api Token - `kaggle.json` 파일 다운로드\n",
        "2. Drive에 저장해 놓는것을 권장\n",
        "3. kaggle 패키지 다운로드\n",
        "```\n",
        "! pip install kaggle\n",
        "```\n",
        "4. 권한 변경\n",
        "```\n",
        "! chmod 600 `드라이브 파일 경로`\n",
        "```\n",
        "5. `~/` 위치에 복사\n",
        "```\n",
        "! cp `드라이브 파일 경로` ~/.kaggle/kaggle.json\n",
        "```\n",
        "\n",
        "6. 데이터셋 다운로드\n",
        "```\n",
        "! kaggle datasets download 데이터주소\n",
        "```"
      ],
      "metadata": {
        "id": "qcb6YKfTH7Vc"
      }
    },
    {
      "cell_type": "code",
      "source": [
        "! pip install kaggle"
      ],
      "metadata": {
        "id": "NH7Ez3ipJEwE",
        "colab": {
          "base_uri": "https://localhost:8080/"
        },
        "outputId": "58ab87c7-cf8b-4f74-a4e7-e41df5860975"
      },
      "execution_count": 1,
      "outputs": [
        {
          "output_type": "stream",
          "name": "stdout",
          "text": [
            "Looking in indexes: https://pypi.org/simple, https://us-python.pkg.dev/colab-wheels/public/simple/\n",
            "Requirement already satisfied: kaggle in /usr/local/lib/python3.7/dist-packages (1.5.12)\n",
            "Requirement already satisfied: tqdm in /usr/local/lib/python3.7/dist-packages (from kaggle) (4.64.0)\n",
            "Requirement already satisfied: urllib3 in /usr/local/lib/python3.7/dist-packages (from kaggle) (1.24.3)\n",
            "Requirement already satisfied: python-slugify in /usr/local/lib/python3.7/dist-packages (from kaggle) (6.1.2)\n",
            "Requirement already satisfied: six>=1.10 in /usr/local/lib/python3.7/dist-packages (from kaggle) (1.15.0)\n",
            "Requirement already satisfied: requests in /usr/local/lib/python3.7/dist-packages (from kaggle) (2.23.0)\n",
            "Requirement already satisfied: python-dateutil in /usr/local/lib/python3.7/dist-packages (from kaggle) (2.8.2)\n",
            "Requirement already satisfied: certifi in /usr/local/lib/python3.7/dist-packages (from kaggle) (2022.6.15)\n",
            "Requirement already satisfied: text-unidecode>=1.3 in /usr/local/lib/python3.7/dist-packages (from python-slugify->kaggle) (1.3)\n",
            "Requirement already satisfied: chardet<4,>=3.0.2 in /usr/local/lib/python3.7/dist-packages (from requests->kaggle) (3.0.4)\n",
            "Requirement already satisfied: idna<3,>=2.5 in /usr/local/lib/python3.7/dist-packages (from requests->kaggle) (2.10)\n"
          ]
        }
      ]
    },
    {
      "cell_type": "code",
      "source": [
        "#! chmod 600 /content/drive/MyDrive/scripts/kaggle.json"
      ],
      "metadata": {
        "id": "YW4KkTP3JKd8"
      },
      "execution_count": 2,
      "outputs": []
    },
    {
      "cell_type": "code",
      "source": [
        "! mkdir ~/.kaggle/"
      ],
      "metadata": {
        "id": "U2Ytm7gqaHia"
      },
      "execution_count": 3,
      "outputs": []
    },
    {
      "cell_type": "code",
      "source": [
        "! cp /content/drive/MyDrive/scripts/kaggle.json ~/.kaggle/kaggle.json"
      ],
      "metadata": {
        "id": "xMEmxQ-zWXNM",
        "outputId": "a971f79d-b20d-40a0-9b66-ff768cce1447",
        "colab": {
          "base_uri": "https://localhost:8080/"
        }
      },
      "execution_count": 4,
      "outputs": [
        {
          "output_type": "stream",
          "name": "stdout",
          "text": [
            "cp: cannot stat '/content/drive/MyDrive/scripts/kaggle.json': No such file or directory\n"
          ]
        }
      ]
    },
    {
      "cell_type": "code",
      "source": [
        "! kaggle datasets download andradaolteanu/gtzan-dataset-music-genre-classification"
      ],
      "metadata": {
        "colab": {
          "base_uri": "https://localhost:8080/"
        },
        "id": "Bw4BaP6OWuHR",
        "outputId": "1d4cd951-e622-476a-c48b-a8739115bc6d"
      },
      "execution_count": 5,
      "outputs": [
        {
          "output_type": "stream",
          "name": "stdout",
          "text": [
            "Traceback (most recent call last):\n",
            "  File \"/usr/local/bin/kaggle\", line 5, in <module>\n",
            "    from kaggle.cli import main\n",
            "  File \"/usr/local/lib/python3.7/dist-packages/kaggle/__init__.py\", line 23, in <module>\n",
            "    api.authenticate()\n",
            "  File \"/usr/local/lib/python3.7/dist-packages/kaggle/api/kaggle_api_extended.py\", line 166, in authenticate\n",
            "    self.config_file, self.config_dir))\n",
            "OSError: Could not find kaggle.json. Make sure it's located in /root/.kaggle. Or use the environment method.\n"
          ]
        }
      ]
    },
    {
      "cell_type": "code",
      "source": [
        "! unzip /content/gtzan-dataset-music-genre-classification.zip"
      ],
      "metadata": {
        "id": "jEGtqu3ha0TX",
        "outputId": "dba6cb8e-cf22-461a-9a9c-d19d281c7ddf",
        "colab": {
          "base_uri": "https://localhost:8080/"
        }
      },
      "execution_count": 6,
      "outputs": [
        {
          "output_type": "stream",
          "name": "stdout",
          "text": [
            "unzip:  cannot find or open /content/gtzan-dataset-music-genre-classification.zip, /content/gtzan-dataset-music-genre-classification.zip.zip or /content/gtzan-dataset-music-genre-classification.zip.ZIP.\n"
          ]
        }
      ]
    },
    {
      "cell_type": "markdown",
      "source": [
        "### **| EDA**"
      ],
      "metadata": {
        "id": "k_sMsWczLaQk"
      }
    },
    {
      "cell_type": "code",
      "source": [
        "df = pd.read_csv('/content/archive/features_30_sec.csv')\n",
        "print(df.shape)\n",
        "df.head()"
      ],
      "metadata": {
        "id": "-aL8n9q0LfCB"
      },
      "execution_count": null,
      "outputs": []
    },
    {
      "cell_type": "code",
      "source": [
        "# 예측해야할 클래스\n",
        "class_count = df['label'].value_counts()\n",
        "plt.title('Number per class')\n",
        "_=sns.barplot(x=class_count.index , y=class_count.values)"
      ],
      "metadata": {
        "id": "KweV9aufLlKS"
      },
      "execution_count": null,
      "outputs": []
    },
    {
      "cell_type": "code",
      "source": [
        "# 음성 파일의 길이\n",
        "plt.title('Audio file length')\n",
        "_=plt.hist(df['length'], log=True)"
      ],
      "metadata": {
        "id": "3KTR9wdcQfR7"
      },
      "execution_count": null,
      "outputs": []
    },
    {
      "cell_type": "code",
      "source": [
        "# 특성 분포 \n",
        "print('특성 개수', len(df.columns[2:-1]))\n",
        "plt.figure(figsize=(20,18))\n",
        "for i, col in enumerate(df.columns[2:-1]):\n",
        "  plt.subplot(6,10, i+1)\n",
        "  plt.title(col)\n",
        "  plt.hist(df[col])"
      ],
      "metadata": {
        "id": "dp6iuwNmSadi"
      },
      "execution_count": null,
      "outputs": []
    },
    {
      "cell_type": "markdown",
      "source": [
        "## 머신러닝 접근 방법 (features)\n",
        "---"
      ],
      "metadata": {
        "id": "d4Q9k8t6RNYS"
      }
    },
    {
      "cell_type": "markdown",
      "source": [
        "### **| 파라미터 추가**\n"
      ],
      "metadata": {
        "id": "y_PydNFEY5SI"
      }
    },
    {
      "cell_type": "code",
      "source": [
        ""
      ],
      "metadata": {
        "id": "JdbxEMkGbMkg"
      },
      "execution_count": null,
      "outputs": []
    },
    {
      "cell_type": "code",
      "source": [
        ""
      ],
      "metadata": {
        "id": "xo3fAGv1dIlI"
      },
      "execution_count": null,
      "outputs": []
    },
    {
      "cell_type": "code",
      "source": [
        ""
      ],
      "metadata": {
        "id": "fN5uwX_DY9ZX"
      },
      "execution_count": null,
      "outputs": []
    },
    {
      "cell_type": "code",
      "source": [
        ""
      ],
      "metadata": {
        "id": "vPm1jsbaY9cP"
      },
      "execution_count": null,
      "outputs": []
    },
    {
      "cell_type": "code",
      "source": [
        ""
      ],
      "metadata": {
        "id": "t1mAntq3aN9B"
      },
      "execution_count": null,
      "outputs": []
    },
    {
      "cell_type": "markdown",
      "source": [
        "### **| 전처리**\n"
      ],
      "metadata": {
        "id": "ejdMsI7-S55y"
      }
    },
    {
      "cell_type": "code",
      "source": [
        "# label encoding ( blues, classical, ... ) - > (0, 1, ...)\n",
        "from sklearn import preprocessing\n",
        "\n",
        "le = preprocessing.LabelEncoder()\n",
        "df['le_label'] = le.fit_transform(df['label'])\n",
        "print(le.classes_)\n",
        "df.head()"
      ],
      "metadata": {
        "id": "oEKlZSAYS4Ca",
        "colab": {
          "base_uri": "https://localhost:8080/",
          "height": 336
        },
        "outputId": "f7c6f7ef-0292-4881-a676-bb9c27f96db5"
      },
      "execution_count": null,
      "outputs": [
        {
          "output_type": "stream",
          "name": "stdout",
          "text": [
            "['blues' 'classical' 'country' 'disco' 'hiphop' 'jazz' 'metal' 'pop'\n",
            " 'reggae' 'rock']\n"
          ]
        },
        {
          "output_type": "execute_result",
          "data": {
            "text/plain": [
              "          filename  length  chroma_stft_mean  chroma_stft_var  rms_mean  \\\n",
              "0  blues.00000.wav  661794          0.350088         0.088757  0.130228   \n",
              "1  blues.00001.wav  661794          0.340914         0.094980  0.095948   \n",
              "2  blues.00002.wav  661794          0.363637         0.085275  0.175570   \n",
              "3  blues.00003.wav  661794          0.404785         0.093999  0.141093   \n",
              "4  blues.00004.wav  661794          0.308526         0.087841  0.091529   \n",
              "\n",
              "    rms_var  spectral_centroid_mean  spectral_centroid_var  \\\n",
              "0  0.002827             1784.165850          129774.064525   \n",
              "1  0.002373             1530.176679          375850.073649   \n",
              "2  0.002746             1552.811865          156467.643368   \n",
              "3  0.006346             1070.106615          184355.942417   \n",
              "4  0.002303             1835.004266          343399.939274   \n",
              "\n",
              "   spectral_bandwidth_mean  spectral_bandwidth_var  ...  mfcc17_mean  \\\n",
              "0              2002.449060            85882.761315  ...    -1.690215   \n",
              "1              2039.036516           213843.755497  ...    -0.731125   \n",
              "2              1747.702312            76254.192257  ...    -7.729093   \n",
              "3              1596.412872           166441.494769  ...    -3.319597   \n",
              "4              1748.172116            88445.209036  ...    -5.454034   \n",
              "\n",
              "   mfcc17_var  mfcc18_mean  mfcc18_var  mfcc19_mean  mfcc19_var  mfcc20_mean  \\\n",
              "0   36.524071    -0.408979   41.597103    -2.303523   55.062923     1.221291   \n",
              "1   60.314529     0.295073   48.120598    -0.283518   51.106190     0.531217   \n",
              "2   47.639427    -1.816407   52.382141    -3.439720   46.639660    -2.231258   \n",
              "3   50.206673     0.636965   37.319130    -0.619121   37.259739    -3.407448   \n",
              "4   75.269707    -0.916874   53.613918    -4.404827   62.910812   -11.703234   \n",
              "\n",
              "   mfcc20_var  label  le_label  \n",
              "0   46.936035  blues         0  \n",
              "1   45.786282  blues         0  \n",
              "2   30.573025  blues         0  \n",
              "3   31.949339  blues         0  \n",
              "4   55.195160  blues         0  \n",
              "\n",
              "[5 rows x 61 columns]"
            ],
            "text/html": [
              "\n",
              "  <div id=\"df-6ef11b39-f2ec-43af-8f37-a495c3f6457c\">\n",
              "    <div class=\"colab-df-container\">\n",
              "      <div>\n",
              "<style scoped>\n",
              "    .dataframe tbody tr th:only-of-type {\n",
              "        vertical-align: middle;\n",
              "    }\n",
              "\n",
              "    .dataframe tbody tr th {\n",
              "        vertical-align: top;\n",
              "    }\n",
              "\n",
              "    .dataframe thead th {\n",
              "        text-align: right;\n",
              "    }\n",
              "</style>\n",
              "<table border=\"1\" class=\"dataframe\">\n",
              "  <thead>\n",
              "    <tr style=\"text-align: right;\">\n",
              "      <th></th>\n",
              "      <th>filename</th>\n",
              "      <th>length</th>\n",
              "      <th>chroma_stft_mean</th>\n",
              "      <th>chroma_stft_var</th>\n",
              "      <th>rms_mean</th>\n",
              "      <th>rms_var</th>\n",
              "      <th>spectral_centroid_mean</th>\n",
              "      <th>spectral_centroid_var</th>\n",
              "      <th>spectral_bandwidth_mean</th>\n",
              "      <th>spectral_bandwidth_var</th>\n",
              "      <th>...</th>\n",
              "      <th>mfcc17_mean</th>\n",
              "      <th>mfcc17_var</th>\n",
              "      <th>mfcc18_mean</th>\n",
              "      <th>mfcc18_var</th>\n",
              "      <th>mfcc19_mean</th>\n",
              "      <th>mfcc19_var</th>\n",
              "      <th>mfcc20_mean</th>\n",
              "      <th>mfcc20_var</th>\n",
              "      <th>label</th>\n",
              "      <th>le_label</th>\n",
              "    </tr>\n",
              "  </thead>\n",
              "  <tbody>\n",
              "    <tr>\n",
              "      <th>0</th>\n",
              "      <td>blues.00000.wav</td>\n",
              "      <td>661794</td>\n",
              "      <td>0.350088</td>\n",
              "      <td>0.088757</td>\n",
              "      <td>0.130228</td>\n",
              "      <td>0.002827</td>\n",
              "      <td>1784.165850</td>\n",
              "      <td>129774.064525</td>\n",
              "      <td>2002.449060</td>\n",
              "      <td>85882.761315</td>\n",
              "      <td>...</td>\n",
              "      <td>-1.690215</td>\n",
              "      <td>36.524071</td>\n",
              "      <td>-0.408979</td>\n",
              "      <td>41.597103</td>\n",
              "      <td>-2.303523</td>\n",
              "      <td>55.062923</td>\n",
              "      <td>1.221291</td>\n",
              "      <td>46.936035</td>\n",
              "      <td>blues</td>\n",
              "      <td>0</td>\n",
              "    </tr>\n",
              "    <tr>\n",
              "      <th>1</th>\n",
              "      <td>blues.00001.wav</td>\n",
              "      <td>661794</td>\n",
              "      <td>0.340914</td>\n",
              "      <td>0.094980</td>\n",
              "      <td>0.095948</td>\n",
              "      <td>0.002373</td>\n",
              "      <td>1530.176679</td>\n",
              "      <td>375850.073649</td>\n",
              "      <td>2039.036516</td>\n",
              "      <td>213843.755497</td>\n",
              "      <td>...</td>\n",
              "      <td>-0.731125</td>\n",
              "      <td>60.314529</td>\n",
              "      <td>0.295073</td>\n",
              "      <td>48.120598</td>\n",
              "      <td>-0.283518</td>\n",
              "      <td>51.106190</td>\n",
              "      <td>0.531217</td>\n",
              "      <td>45.786282</td>\n",
              "      <td>blues</td>\n",
              "      <td>0</td>\n",
              "    </tr>\n",
              "    <tr>\n",
              "      <th>2</th>\n",
              "      <td>blues.00002.wav</td>\n",
              "      <td>661794</td>\n",
              "      <td>0.363637</td>\n",
              "      <td>0.085275</td>\n",
              "      <td>0.175570</td>\n",
              "      <td>0.002746</td>\n",
              "      <td>1552.811865</td>\n",
              "      <td>156467.643368</td>\n",
              "      <td>1747.702312</td>\n",
              "      <td>76254.192257</td>\n",
              "      <td>...</td>\n",
              "      <td>-7.729093</td>\n",
              "      <td>47.639427</td>\n",
              "      <td>-1.816407</td>\n",
              "      <td>52.382141</td>\n",
              "      <td>-3.439720</td>\n",
              "      <td>46.639660</td>\n",
              "      <td>-2.231258</td>\n",
              "      <td>30.573025</td>\n",
              "      <td>blues</td>\n",
              "      <td>0</td>\n",
              "    </tr>\n",
              "    <tr>\n",
              "      <th>3</th>\n",
              "      <td>blues.00003.wav</td>\n",
              "      <td>661794</td>\n",
              "      <td>0.404785</td>\n",
              "      <td>0.093999</td>\n",
              "      <td>0.141093</td>\n",
              "      <td>0.006346</td>\n",
              "      <td>1070.106615</td>\n",
              "      <td>184355.942417</td>\n",
              "      <td>1596.412872</td>\n",
              "      <td>166441.494769</td>\n",
              "      <td>...</td>\n",
              "      <td>-3.319597</td>\n",
              "      <td>50.206673</td>\n",
              "      <td>0.636965</td>\n",
              "      <td>37.319130</td>\n",
              "      <td>-0.619121</td>\n",
              "      <td>37.259739</td>\n",
              "      <td>-3.407448</td>\n",
              "      <td>31.949339</td>\n",
              "      <td>blues</td>\n",
              "      <td>0</td>\n",
              "    </tr>\n",
              "    <tr>\n",
              "      <th>4</th>\n",
              "      <td>blues.00004.wav</td>\n",
              "      <td>661794</td>\n",
              "      <td>0.308526</td>\n",
              "      <td>0.087841</td>\n",
              "      <td>0.091529</td>\n",
              "      <td>0.002303</td>\n",
              "      <td>1835.004266</td>\n",
              "      <td>343399.939274</td>\n",
              "      <td>1748.172116</td>\n",
              "      <td>88445.209036</td>\n",
              "      <td>...</td>\n",
              "      <td>-5.454034</td>\n",
              "      <td>75.269707</td>\n",
              "      <td>-0.916874</td>\n",
              "      <td>53.613918</td>\n",
              "      <td>-4.404827</td>\n",
              "      <td>62.910812</td>\n",
              "      <td>-11.703234</td>\n",
              "      <td>55.195160</td>\n",
              "      <td>blues</td>\n",
              "      <td>0</td>\n",
              "    </tr>\n",
              "  </tbody>\n",
              "</table>\n",
              "<p>5 rows × 61 columns</p>\n",
              "</div>\n",
              "      <button class=\"colab-df-convert\" onclick=\"convertToInteractive('df-6ef11b39-f2ec-43af-8f37-a495c3f6457c')\"\n",
              "              title=\"Convert this dataframe to an interactive table.\"\n",
              "              style=\"display:none;\">\n",
              "        \n",
              "  <svg xmlns=\"http://www.w3.org/2000/svg\" height=\"24px\"viewBox=\"0 0 24 24\"\n",
              "       width=\"24px\">\n",
              "    <path d=\"M0 0h24v24H0V0z\" fill=\"none\"/>\n",
              "    <path d=\"M18.56 5.44l.94 2.06.94-2.06 2.06-.94-2.06-.94-.94-2.06-.94 2.06-2.06.94zm-11 1L8.5 8.5l.94-2.06 2.06-.94-2.06-.94L8.5 2.5l-.94 2.06-2.06.94zm10 10l.94 2.06.94-2.06 2.06-.94-2.06-.94-.94-2.06-.94 2.06-2.06.94z\"/><path d=\"M17.41 7.96l-1.37-1.37c-.4-.4-.92-.59-1.43-.59-.52 0-1.04.2-1.43.59L10.3 9.45l-7.72 7.72c-.78.78-.78 2.05 0 2.83L4 21.41c.39.39.9.59 1.41.59.51 0 1.02-.2 1.41-.59l7.78-7.78 2.81-2.81c.8-.78.8-2.07 0-2.86zM5.41 20L4 18.59l7.72-7.72 1.47 1.35L5.41 20z\"/>\n",
              "  </svg>\n",
              "      </button>\n",
              "      \n",
              "  <style>\n",
              "    .colab-df-container {\n",
              "      display:flex;\n",
              "      flex-wrap:wrap;\n",
              "      gap: 12px;\n",
              "    }\n",
              "\n",
              "    .colab-df-convert {\n",
              "      background-color: #E8F0FE;\n",
              "      border: none;\n",
              "      border-radius: 50%;\n",
              "      cursor: pointer;\n",
              "      display: none;\n",
              "      fill: #1967D2;\n",
              "      height: 32px;\n",
              "      padding: 0 0 0 0;\n",
              "      width: 32px;\n",
              "    }\n",
              "\n",
              "    .colab-df-convert:hover {\n",
              "      background-color: #E2EBFA;\n",
              "      box-shadow: 0px 1px 2px rgba(60, 64, 67, 0.3), 0px 1px 3px 1px rgba(60, 64, 67, 0.15);\n",
              "      fill: #174EA6;\n",
              "    }\n",
              "\n",
              "    [theme=dark] .colab-df-convert {\n",
              "      background-color: #3B4455;\n",
              "      fill: #D2E3FC;\n",
              "    }\n",
              "\n",
              "    [theme=dark] .colab-df-convert:hover {\n",
              "      background-color: #434B5C;\n",
              "      box-shadow: 0px 1px 3px 1px rgba(0, 0, 0, 0.15);\n",
              "      filter: drop-shadow(0px 1px 2px rgba(0, 0, 0, 0.3));\n",
              "      fill: #FFFFFF;\n",
              "    }\n",
              "  </style>\n",
              "\n",
              "      <script>\n",
              "        const buttonEl =\n",
              "          document.querySelector('#df-6ef11b39-f2ec-43af-8f37-a495c3f6457c button.colab-df-convert');\n",
              "        buttonEl.style.display =\n",
              "          google.colab.kernel.accessAllowed ? 'block' : 'none';\n",
              "\n",
              "        async function convertToInteractive(key) {\n",
              "          const element = document.querySelector('#df-6ef11b39-f2ec-43af-8f37-a495c3f6457c');\n",
              "          const dataTable =\n",
              "            await google.colab.kernel.invokeFunction('convertToInteractive',\n",
              "                                                     [key], {});\n",
              "          if (!dataTable) return;\n",
              "\n",
              "          const docLinkHtml = 'Like what you see? Visit the ' +\n",
              "            '<a target=\"_blank\" href=https://colab.research.google.com/notebooks/data_table.ipynb>data table notebook</a>'\n",
              "            + ' to learn more about interactive tables.';\n",
              "          element.innerHTML = '';\n",
              "          dataTable['output_type'] = 'display_data';\n",
              "          await google.colab.output.renderOutput(dataTable, element);\n",
              "          const docLink = document.createElement('div');\n",
              "          docLink.innerHTML = docLinkHtml;\n",
              "          element.appendChild(docLink);\n",
              "        }\n",
              "      </script>\n",
              "    </div>\n",
              "  </div>\n",
              "  "
            ]
          },
          "metadata": {},
          "execution_count": 25
        }
      ]
    },
    {
      "cell_type": "code",
      "source": [
        "x = df.drop(columns=['filename', 'length', 'label', 'le_label'])\n",
        "y = df['le_label']\n",
        "x.shape, y.shape"
      ],
      "metadata": {
        "id": "GjvdryMJS4Ep",
        "colab": {
          "base_uri": "https://localhost:8080/"
        },
        "outputId": "bda7d8dd-4d53-4aa9-8463-3562d2911d2d"
      },
      "execution_count": null,
      "outputs": [
        {
          "output_type": "execute_result",
          "data": {
            "text/plain": [
              "((1000, 57), (1000,))"
            ]
          },
          "metadata": {},
          "execution_count": 26
        }
      ]
    },
    {
      "cell_type": "code",
      "source": [
        "from sklearn.model_selection import train_test_split\n",
        "x_train, x_test, y_train, y_test = train_test_split(x, y, test_size=0.1, stratify=y, random_state=0)\n",
        "print('train', x_train.shape, y_train.shape)\n",
        "print('test', x_test.shape, y_test.shape)"
      ],
      "metadata": {
        "id": "XsQSvYv5TZOR",
        "colab": {
          "base_uri": "https://localhost:8080/"
        },
        "outputId": "1976401b-9865-4887-9fcf-fc1f30b968a4"
      },
      "execution_count": null,
      "outputs": [
        {
          "output_type": "stream",
          "name": "stdout",
          "text": [
            "train (900, 57) (900,)\n",
            "test (100, 57) (100,)\n"
          ]
        }
      ]
    },
    {
      "cell_type": "code",
      "source": [
        "# x 정규화\n",
        "sc = preprocessing.StandardScaler()\n",
        "x_train = sc.fit_transform(x_train)\n",
        "x_test = sc.transform(x_test)\n",
        "x_train.shape, x_test.shape"
      ],
      "metadata": {
        "id": "IDUfzRhJT-lp",
        "colab": {
          "base_uri": "https://localhost:8080/"
        },
        "outputId": "a63ee381-bb46-41be-bef6-1fb0b7952451"
      },
      "execution_count": null,
      "outputs": [
        {
          "output_type": "execute_result",
          "data": {
            "text/plain": [
              "((900, 57), (100, 57))"
            ]
          },
          "metadata": {},
          "execution_count": 29
        }
      ]
    },
    {
      "cell_type": "markdown",
      "source": [
        "### **| 학습 - XGBoost**"
      ],
      "metadata": {
        "id": "5l5G-ZbNUO0h"
      }
    },
    {
      "cell_type": "code",
      "source": [
        "! pip install xgboost -U"
      ],
      "metadata": {
        "id": "LAO5ZwSkS4Lc",
        "colab": {
          "base_uri": "https://localhost:8080/"
        },
        "outputId": "689a02b3-b04d-4abc-b5b8-391385d17f4f"
      },
      "execution_count": null,
      "outputs": [
        {
          "output_type": "stream",
          "name": "stdout",
          "text": [
            "Looking in indexes: https://pypi.org/simple, https://us-python.pkg.dev/colab-wheels/public/simple/\n",
            "Requirement already satisfied: xgboost in /usr/local/lib/python3.7/dist-packages (0.90)\n",
            "Collecting xgboost\n",
            "  Downloading xgboost-1.6.2-py3-none-manylinux2014_x86_64.whl (255.9 MB)\n",
            "\u001b[K     |████████████████████████████████| 255.9 MB 40 kB/s \n",
            "\u001b[?25hRequirement already satisfied: scipy in /usr/local/lib/python3.7/dist-packages (from xgboost) (1.7.3)\n",
            "Requirement already satisfied: numpy in /usr/local/lib/python3.7/dist-packages (from xgboost) (1.21.6)\n",
            "Installing collected packages: xgboost\n",
            "  Attempting uninstall: xgboost\n",
            "    Found existing installation: xgboost 0.90\n",
            "    Uninstalling xgboost-0.90:\n",
            "      Successfully uninstalled xgboost-0.90\n",
            "Successfully installed xgboost-1.6.2\n"
          ]
        }
      ]
    },
    {
      "cell_type": "code",
      "source": [
        "from xgboost import XGBClassifier\n",
        "xgb = XGBClassifier(n_estimators=1000)\n",
        "xgb.fit(x_train, y_train)"
      ],
      "metadata": {
        "id": "IBYVm_8AS4N7",
        "colab": {
          "base_uri": "https://localhost:8080/"
        },
        "outputId": "7dd3074e-5fe0-4191-a5d0-98ab3e6ec71c"
      },
      "execution_count": null,
      "outputs": [
        {
          "output_type": "execute_result",
          "data": {
            "text/plain": [
              "XGBClassifier(base_score=0.5, booster='gbtree', callbacks=None,\n",
              "              colsample_bylevel=1, colsample_bynode=1, colsample_bytree=1,\n",
              "              early_stopping_rounds=None, enable_categorical=False,\n",
              "              eval_metric=None, gamma=0, gpu_id=-1, grow_policy='depthwise',\n",
              "              importance_type=None, interaction_constraints='',\n",
              "              learning_rate=0.300000012, max_bin=256, max_cat_to_onehot=4,\n",
              "              max_delta_step=0, max_depth=6, max_leaves=0, min_child_weight=1,\n",
              "              missing=nan, monotone_constraints='()', n_estimators=1000,\n",
              "              n_jobs=0, num_parallel_tree=1, objective='multi:softprob',\n",
              "              predictor='auto', random_state=0, reg_alpha=0, ...)"
            ]
          },
          "metadata": {},
          "execution_count": 32
        }
      ]
    },
    {
      "cell_type": "code",
      "source": [
        "from sklearn.metrics import confusion_matrix, accuracy_score, classification_report\n",
        "def show_result(model, x_test, y_test, proba=False):\n",
        "  y_pred = model.predict(x_test)\n",
        "  if proba: \n",
        "    y_pred = np.argmax(y_pred, axis=1)\n",
        "  print('Test Acc:', accuracy_score(y_test, y_pred))\n",
        "  #print(classification_report(y_test, y_pred))\n",
        "  cm = confusion_matrix(y_test, y_pred)\n",
        "  _=sns.heatmap(cm, annot=True, cmap='PuBu', xticklabels=le.classes_, yticklabels=le.classes_)\n",
        "show_result(xgb, x_test, y_test)"
      ],
      "metadata": {
        "colab": {
          "base_uri": "https://localhost:8080/",
          "height": 320
        },
        "id": "2dmPLC74iIfw",
        "outputId": "33a93660-0c60-414d-c0ed-248105928f7a"
      },
      "execution_count": null,
      "outputs": [
        {
          "output_type": "stream",
          "name": "stdout",
          "text": [
            "Test Acc: 0.79\n"
          ]
        },
        {
          "output_type": "display_data",
          "data": {
            "text/plain": [
              "<Figure size 432x288 with 2 Axes>"
            ],
            "image/png": "[encoded data removed]"
          },
          "metadata": {
            "needs_background": "light"
          }
        }
      ]
    },
    {
      "cell_type": "markdown",
      "source": [
        "### **| 학습 - DNN**"
      ],
      "metadata": {
        "id": "sSp8HDpJRpUT"
      }
    },
    {
      "cell_type": "code",
      "source": [
        "# 딥러닝 (Dense layer)\n",
        "def build_dnn():\n",
        "  x = layers.Input(shape=(57,))\n",
        "  y = layers.Dense(1024, activation='relu')(x)\n",
        "  y = layers.Dense(128, activation='relu')(y)\n",
        "  y = layers.Dense(10, activation='softmax')(y)\n",
        "  model = models.Model(x, y)\n",
        "  return model"
      ],
      "metadata": {
        "id": "N5uyggs47hdU"
      },
      "execution_count": null,
      "outputs": []
    },
    {
      "cell_type": "code",
      "source": [
        "dnn = build_dnn()\n",
        "dnn.summary()"
      ],
      "metadata": {
        "id": "NC9NJ53_-9Vb",
        "colab": {
          "base_uri": "https://localhost:8080/"
        },
        "outputId": "2a855c52-0e7f-4a3b-fc09-237368c6f4d8"
      },
      "execution_count": null,
      "outputs": [
        {
          "output_type": "stream",
          "name": "stdout",
          "text": [
            "Model: \"model_5\"\n",
            "_________________________________________________________________\n",
            " Layer (type)                Output Shape              Param #   \n",
            "=================================================================\n",
            " input_6 (InputLayer)        [(None, 57)]              0         \n",
            "                                                                 \n",
            " dense_15 (Dense)            (None, 1024)              59392     \n",
            "                                                                 \n",
            " dense_16 (Dense)            (None, 128)               131200    \n",
            "                                                                 \n",
            " dense_17 (Dense)            (None, 10)                1290      \n",
            "                                                                 \n",
            "=================================================================\n",
            "Total params: 191,882\n",
            "Trainable params: 191,882\n",
            "Non-trainable params: 0\n",
            "_________________________________________________________________\n"
          ]
        }
      ]
    },
    {
      "cell_type": "code",
      "source": [
        "dnn.compile(loss='sparse_categorical_crossentropy',\n",
        "              optimizer='adam',\n",
        "              metrics=['accuracy'])"
      ],
      "metadata": {
        "id": "o6ROAr7SACJ7"
      },
      "execution_count": null,
      "outputs": []
    },
    {
      "cell_type": "code",
      "source": [
        "dnn.fit(x_train, y_train, epochs=15, batch_size=8)"
      ],
      "metadata": {
        "id": "D7hr3aQVAVLC",
        "colab": {
          "base_uri": "https://localhost:8080/"
        },
        "outputId": "c5024e4d-fbd2-49c2-acb9-6a5f2776cda4"
      },
      "execution_count": null,
      "outputs": [
        {
          "output_type": "stream",
          "name": "stdout",
          "text": [
            "Epoch 1/15\n",
            "113/113 [==============================] - 0s 2ms/step - loss: 1.3138 - accuracy: 0.5278\n",
            "Epoch 2/15\n",
            "113/113 [==============================] - 0s 2ms/step - loss: 0.7545 - accuracy: 0.7433\n",
            "Epoch 3/15\n",
            "113/113 [==============================] - 0s 2ms/step - loss: 0.5628 - accuracy: 0.8167\n",
            "Epoch 4/15\n",
            "113/113 [==============================] - 0s 2ms/step - loss: 0.4120 - accuracy: 0.8600\n",
            "Epoch 5/15\n",
            "113/113 [==============================] - 0s 2ms/step - loss: 0.2906 - accuracy: 0.9078\n",
            "Epoch 6/15\n",
            "113/113 [==============================] - 0s 2ms/step - loss: 0.2258 - accuracy: 0.9256\n",
            "Epoch 7/15\n",
            "113/113 [==============================] - 0s 2ms/step - loss: 0.1775 - accuracy: 0.9456\n",
            "Epoch 8/15\n",
            "113/113 [==============================] - 0s 2ms/step - loss: 0.1219 - accuracy: 0.9622\n",
            "Epoch 9/15\n",
            "113/113 [==============================] - 0s 2ms/step - loss: 0.2284 - accuracy: 0.9356\n",
            "Epoch 10/15\n",
            "113/113 [==============================] - 0s 2ms/step - loss: 0.1663 - accuracy: 0.9522\n",
            "Epoch 11/15\n",
            "113/113 [==============================] - 0s 2ms/step - loss: 0.0710 - accuracy: 0.9856\n",
            "Epoch 12/15\n",
            "113/113 [==============================] - 0s 2ms/step - loss: 0.0534 - accuracy: 0.9878\n",
            "Epoch 13/15\n",
            "113/113 [==============================] - 0s 2ms/step - loss: 0.0470 - accuracy: 0.9900\n",
            "Epoch 14/15\n",
            "113/113 [==============================] - 0s 2ms/step - loss: 0.0478 - accuracy: 0.9933\n",
            "Epoch 15/15\n",
            "113/113 [==============================] - 0s 2ms/step - loss: 0.0356 - accuracy: 0.9956\n"
          ]
        },
        {
          "output_type": "execute_result",
          "data": {
            "text/plain": [
              "<keras.callbacks.History at 0x7f6ba3cbfb50>"
            ]
          },
          "metadata": {},
          "execution_count": 74
        }
      ]
    },
    {
      "cell_type": "code",
      "source": [
        "show_result(dnn, x_test, y_test, proba=True)"
      ],
      "metadata": {
        "id": "iqLi0l-OkUm2",
        "outputId": "fb81c882-1b45-4220-f671-d7f1043543d2",
        "colab": {
          "base_uri": "https://localhost:8080/",
          "height": 320
        }
      },
      "execution_count": null,
      "outputs": [
        {
          "output_type": "stream",
          "name": "stdout",
          "text": [
            "Test Acc: 0.79\n"
          ]
        },
        {
          "output_type": "display_data",
          "data": {
            "text/plain": [
              "<Figure size 432x288 with 2 Axes>"
            ],
            "image/png": "[encoded data removed]"
          },
          "metadata": {
            "needs_background": "light"
          }
        }
      ]
    },
    {
      "cell_type": "markdown",
      "source": [
        "## 딥러닝 접근 방법(Audio 원 데이터)\n",
        "---"
      ],
      "metadata": {
        "id": "D426_xuhBBLj"
      }
    },
    {
      "cell_type": "code",
      "source": [
        ""
      ],
      "metadata": {
        "id": "VymTW7sKCD2K"
      },
      "execution_count": null,
      "outputs": []
    },
    {
      "cell_type": "code",
      "source": [
        ""
      ],
      "metadata": {
        "id": "Bi55w3G2SL7C"
      },
      "execution_count": null,
      "outputs": []
    }
  ]
}