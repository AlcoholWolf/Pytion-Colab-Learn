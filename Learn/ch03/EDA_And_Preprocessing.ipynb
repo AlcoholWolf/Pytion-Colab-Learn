{
  "nbformat": 4,
  "nbformat_minor": 0,
  "metadata": {
    "colab": {
      "name": "EDA And Preprocessing",
      "provenance": [],
      "toc_visible": true,
      "authorship_tag": "ABX9TyN1WTTihIDExvcZduWcCQdh",
      "include_colab_link": true
    },
    "kernelspec": {
      "name": "python3",
      "display_name": "Python 3"
    },
    "language_info": {
      "name": "python"
    }
  },
  "cells": [
    {
      "cell_type": "markdown",
      "metadata": {
        "id": "view-in-github",
        "colab_type": "text"
      },
      "source": [
        "<a href=\"https://colab.research.google.com/github/AlcoholWolf/PY-SAVE/blob/main/EDA_And_Preprocessing.ipynb\" target=\"_parent\"><img src=\"https://colab.research.google.com/assets/colab-badge.svg\" alt=\"Open In Colab\"/></a>"
      ]
    },
    {
      "cell_type": "markdown",
      "source": [
        "# | CODE SETTING"
      ],
      "metadata": {
        "id": "UjGXSZlygC9E"
      }
    },
    {
      "cell_type": "markdown",
      "source": [
        "## | Import And Init"
      ],
      "metadata": {
        "id": "5A-kzrsBf2WF"
      }
    },
    {
      "cell_type": "markdown",
      "source": [
        "### | Data Import"
      ],
      "metadata": {
        "id": "79-kJqVxtw1W"
      }
    },
    {
      "cell_type": "code",
      "execution_count": 146,
      "metadata": {
        "id": "P9pUfXolfoXr"
      },
      "outputs": [],
      "source": [
        "import re \n",
        "import numpy as np\n",
        "import pandas as pd\n",
        "import matplotlib.pyplot as plt\n",
        "import seaborn as sns\n",
        "\n",
        "import warnings\n",
        "warnings.filterwarnings(action='ignore')\n",
        "plt.rc(\"axes\", unicode_minus=False) # 음수값 깨지는 폰트 설정"
      ]
    },
    {
      "cell_type": "markdown",
      "source": [
        "### | Data Input"
      ],
      "metadata": {
        "id": "QQ8E87SYf6jU"
      }
    },
    {
      "cell_type": "code",
      "source": [
        "from google.colab import drive\n",
        "drive.mount('/content/drive')"
      ],
      "metadata": {
        "colab": {
          "base_uri": "https://localhost:8080/"
        },
        "id": "6bKRegzafrUF",
        "outputId": "2aefdc57-65cd-4f51-e648-41c10635b18f"
      },
      "execution_count": 37,
      "outputs": [
        {
          "output_type": "stream",
          "name": "stdout",
          "text": [
            "Drive already mounted at /content/drive; to attempt to forcibly remount, call drive.mount(\"/content/drive\", force_remount=True).\n"
          ]
        }
      ]
    },
    {
      "cell_type": "code",
      "source": [
        "data_pile = '/content/drive/MyDrive/user_data'"
      ],
      "metadata": {
        "id": "EmH6-uUMft-k"
      },
      "execution_count": 38,
      "outputs": []
    },
    {
      "cell_type": "code",
      "source": [
        "train_data = pd.read_csv(f\"{data_pile}/train.csv\")\n",
        "test_data = pd.read_csv(f\"{data_pile}/test.csv\")\n",
        "submission = pd.read_csv(f\"{data_pile}/sample_submission.csv\")"
      ],
      "metadata": {
        "id": "8AsptaEWfxyk"
      },
      "execution_count": 39,
      "outputs": []
    },
    {
      "cell_type": "markdown",
      "source": [
        "# |  DATA SETTING"
      ],
      "metadata": {
        "id": "sEAUe_Alf-NM"
      }
    },
    {
      "cell_type": "markdown",
      "source": [
        "## | View"
      ],
      "metadata": {
        "id": "M4Um0R3iuBiA"
      }
    },
    {
      "cell_type": "markdown",
      "source": [
        "### | Data View"
      ],
      "metadata": {
        "id": "v8E-qsoHgvTG"
      }
    },
    {
      "cell_type": "code",
      "source": [
        "train_data.head()"
      ],
      "metadata": {
        "colab": {
          "base_uri": "https://localhost:8080/",
          "height": 0
        },
        "id": "lm78q_IEf1Ek",
        "outputId": "2df0cb12-c8c4-4ff8-920f-9b82a4d8e604"
      },
      "execution_count": 295,
      "outputs": [
        {
          "output_type": "execute_result",
          "data": {
            "text/plain": [
              "   id                          title  odometer location    isimported  \\\n",
              "0   0                   Toyota RAV 4     18277   Lagos   Foreign Used   \n",
              "1   1            Toyota Land Cruiser        10    Lagos          New    \n",
              "2   2  Land Rover Range Rover Evoque     83091    Lagos  Foreign Used   \n",
              "3   3                   Lexus ES 350     91524    Lagos  Foreign Used   \n",
              "4   4                   Toyota Venza     94177    Lagos  Foreign Used   \n",
              "\n",
              "           engine transmission    fuel  paint  year    target  \n",
              "0  4-cylinder(I4)    automatic  petrol    Red  2016  13665000  \n",
              "1  4-cylinder(I4)    automatic  petrol  Black  2019  33015000  \n",
              "2  6-cylinder(V6)    automatic  petrol    Red  2012   9915000  \n",
              "3  4-cylinder(I4)    automatic  petrol   Gray  2007   3815000  \n",
              "4  6-cylinder(V6)    automatic  petrol    Red  2010   7385000  "
            ],
            "text/html": [
              "\n",
              "  <div id=\"df-3747e4d0-5753-477b-a593-d03c419258b5\">\n",
              "    <div class=\"colab-df-container\">\n",
              "      <div>\n",
              "<style scoped>\n",
              "    .dataframe tbody tr th:only-of-type {\n",
              "        vertical-align: middle;\n",
              "    }\n",
              "\n",
              "    .dataframe tbody tr th {\n",
              "        vertical-align: top;\n",
              "    }\n",
              "\n",
              "    .dataframe thead th {\n",
              "        text-align: right;\n",
              "    }\n",
              "</style>\n",
              "<table border=\"1\" class=\"dataframe\">\n",
              "  <thead>\n",
              "    <tr style=\"text-align: right;\">\n",
              "      <th></th>\n",
              "      <th>id</th>\n",
              "      <th>title</th>\n",
              "      <th>odometer</th>\n",
              "      <th>location</th>\n",
              "      <th>isimported</th>\n",
              "      <th>engine</th>\n",
              "      <th>transmission</th>\n",
              "      <th>fuel</th>\n",
              "      <th>paint</th>\n",
              "      <th>year</th>\n",
              "      <th>target</th>\n",
              "    </tr>\n",
              "  </thead>\n",
              "  <tbody>\n",
              "    <tr>\n",
              "      <th>0</th>\n",
              "      <td>0</td>\n",
              "      <td>Toyota RAV 4</td>\n",
              "      <td>18277</td>\n",
              "      <td>Lagos</td>\n",
              "      <td>Foreign Used</td>\n",
              "      <td>4-cylinder(I4)</td>\n",
              "      <td>automatic</td>\n",
              "      <td>petrol</td>\n",
              "      <td>Red</td>\n",
              "      <td>2016</td>\n",
              "      <td>13665000</td>\n",
              "    </tr>\n",
              "    <tr>\n",
              "      <th>1</th>\n",
              "      <td>1</td>\n",
              "      <td>Toyota Land Cruiser</td>\n",
              "      <td>10</td>\n",
              "      <td>Lagos</td>\n",
              "      <td>New</td>\n",
              "      <td>4-cylinder(I4)</td>\n",
              "      <td>automatic</td>\n",
              "      <td>petrol</td>\n",
              "      <td>Black</td>\n",
              "      <td>2019</td>\n",
              "      <td>33015000</td>\n",
              "    </tr>\n",
              "    <tr>\n",
              "      <th>2</th>\n",
              "      <td>2</td>\n",
              "      <td>Land Rover Range Rover Evoque</td>\n",
              "      <td>83091</td>\n",
              "      <td>Lagos</td>\n",
              "      <td>Foreign Used</td>\n",
              "      <td>6-cylinder(V6)</td>\n",
              "      <td>automatic</td>\n",
              "      <td>petrol</td>\n",
              "      <td>Red</td>\n",
              "      <td>2012</td>\n",
              "      <td>9915000</td>\n",
              "    </tr>\n",
              "    <tr>\n",
              "      <th>3</th>\n",
              "      <td>3</td>\n",
              "      <td>Lexus ES 350</td>\n",
              "      <td>91524</td>\n",
              "      <td>Lagos</td>\n",
              "      <td>Foreign Used</td>\n",
              "      <td>4-cylinder(I4)</td>\n",
              "      <td>automatic</td>\n",
              "      <td>petrol</td>\n",
              "      <td>Gray</td>\n",
              "      <td>2007</td>\n",
              "      <td>3815000</td>\n",
              "    </tr>\n",
              "    <tr>\n",
              "      <th>4</th>\n",
              "      <td>4</td>\n",
              "      <td>Toyota Venza</td>\n",
              "      <td>94177</td>\n",
              "      <td>Lagos</td>\n",
              "      <td>Foreign Used</td>\n",
              "      <td>6-cylinder(V6)</td>\n",
              "      <td>automatic</td>\n",
              "      <td>petrol</td>\n",
              "      <td>Red</td>\n",
              "      <td>2010</td>\n",
              "      <td>7385000</td>\n",
              "    </tr>\n",
              "  </tbody>\n",
              "</table>\n",
              "</div>\n",
              "      <button class=\"colab-df-convert\" onclick=\"convertToInteractive('df-3747e4d0-5753-477b-a593-d03c419258b5')\"\n",
              "              title=\"Convert this dataframe to an interactive table.\"\n",
              "              style=\"display:none;\">\n",
              "        \n",
              "  <svg xmlns=\"http://www.w3.org/2000/svg\" height=\"24px\"viewBox=\"0 0 24 24\"\n",
              "       width=\"24px\">\n",
              "    <path d=\"M0 0h24v24H0V0z\" fill=\"none\"/>\n",
              "    <path d=\"M18.56 5.44l.94 2.06.94-2.06 2.06-.94-2.06-.94-.94-2.06-.94 2.06-2.06.94zm-11 1L8.5 8.5l.94-2.06 2.06-.94-2.06-.94L8.5 2.5l-.94 2.06-2.06.94zm10 10l.94 2.06.94-2.06 2.06-.94-2.06-.94-.94-2.06-.94 2.06-2.06.94z\"/><path d=\"M17.41 7.96l-1.37-1.37c-.4-.4-.92-.59-1.43-.59-.52 0-1.04.2-1.43.59L10.3 9.45l-7.72 7.72c-.78.78-.78 2.05 0 2.83L4 21.41c.39.39.9.59 1.41.59.51 0 1.02-.2 1.41-.59l7.78-7.78 2.81-2.81c.8-.78.8-2.07 0-2.86zM5.41 20L4 18.59l7.72-7.72 1.47 1.35L5.41 20z\"/>\n",
              "  </svg>\n",
              "      </button>\n",
              "      \n",
              "  <style>\n",
              "    .colab-df-container {\n",
              "      display:flex;\n",
              "      flex-wrap:wrap;\n",
              "      gap: 12px;\n",
              "    }\n",
              "\n",
              "    .colab-df-convert {\n",
              "      background-color: #E8F0FE;\n",
              "      border: none;\n",
              "      border-radius: 50%;\n",
              "      cursor: pointer;\n",
              "      display: none;\n",
              "      fill: #1967D2;\n",
              "      height: 32px;\n",
              "      padding: 0 0 0 0;\n",
              "      width: 32px;\n",
              "    }\n",
              "\n",
              "    .colab-df-convert:hover {\n",
              "      background-color: #E2EBFA;\n",
              "      box-shadow: 0px 1px 2px rgba(60, 64, 67, 0.3), 0px 1px 3px 1px rgba(60, 64, 67, 0.15);\n",
              "      fill: #174EA6;\n",
              "    }\n",
              "\n",
              "    [theme=dark] .colab-df-convert {\n",
              "      background-color: #3B4455;\n",
              "      fill: #D2E3FC;\n",
              "    }\n",
              "\n",
              "    [theme=dark] .colab-df-convert:hover {\n",
              "      background-color: #434B5C;\n",
              "      box-shadow: 0px 1px 3px 1px rgba(0, 0, 0, 0.15);\n",
              "      filter: drop-shadow(0px 1px 2px rgba(0, 0, 0, 0.3));\n",
              "      fill: #FFFFFF;\n",
              "    }\n",
              "  </style>\n",
              "\n",
              "      <script>\n",
              "        const buttonEl =\n",
              "          document.querySelector('#df-3747e4d0-5753-477b-a593-d03c419258b5 button.colab-df-convert');\n",
              "        buttonEl.style.display =\n",
              "          google.colab.kernel.accessAllowed ? 'block' : 'none';\n",
              "\n",
              "        async function convertToInteractive(key) {\n",
              "          const element = document.querySelector('#df-3747e4d0-5753-477b-a593-d03c419258b5');\n",
              "          const dataTable =\n",
              "            await google.colab.kernel.invokeFunction('convertToInteractive',\n",
              "                                                     [key], {});\n",
              "          if (!dataTable) return;\n",
              "\n",
              "          const docLinkHtml = 'Like what you see? Visit the ' +\n",
              "            '<a target=\"_blank\" href=https://colab.research.google.com/notebooks/data_table.ipynb>data table notebook</a>'\n",
              "            + ' to learn more about interactive tables.';\n",
              "          element.innerHTML = '';\n",
              "          dataTable['output_type'] = 'display_data';\n",
              "          await google.colab.output.renderOutput(dataTable, element);\n",
              "          const docLink = document.createElement('div');\n",
              "          docLink.innerHTML = docLinkHtml;\n",
              "          element.appendChild(docLink);\n",
              "        }\n",
              "      </script>\n",
              "    </div>\n",
              "  </div>\n",
              "  "
            ]
          },
          "metadata": {},
          "execution_count": 295
        }
      ]
    },
    {
      "cell_type": "markdown",
      "source": [
        "## | Data Bind"
      ],
      "metadata": {
        "id": "35qFL_zrt4oO"
      }
    },
    {
      "cell_type": "markdown",
      "source": [
        "### | Train Data + Test Data"
      ],
      "metadata": {
        "id": "EXber4VzhCRd"
      }
    },
    {
      "cell_type": "code",
      "source": [
        "All_data = pd.concat([train_data, test_data], axis=0, ignore_index=True)\n",
        "Set_data = pd.concat([train_data, test_data], axis=0, ignore_index=True)"
      ],
      "metadata": {
        "id": "b8ErzHzpgJy0"
      },
      "execution_count": 296,
      "outputs": []
    },
    {
      "cell_type": "markdown",
      "source": [
        "### | Columns Replace"
      ],
      "metadata": {
        "id": "fTHE7oPDldGH"
      }
    },
    {
      "cell_type": "code",
      "source": [
        "Col_list = ['ID', 'Company', 'RunTime', 'Location', 'UserUse', 'Engine', 'Mission', 'Fuel', 'Paint', 'Year', 'Each']\n",
        "All_data.columns = Col_list\n",
        "Set_data.columns = Col_list\n",
        "All_data.columns"
      ],
      "metadata": {
        "colab": {
          "base_uri": "https://localhost:8080/"
        },
        "id": "gxuiXTnilhVe",
        "outputId": "b0bc5a46-7145-4112-c07e-47d494878545"
      },
      "execution_count": 297,
      "outputs": [
        {
          "output_type": "execute_result",
          "data": {
            "text/plain": [
              "Index(['ID', 'Company', 'RunTime', 'Location', 'UserUse', 'Engine', 'Mission',\n",
              "       'Fuel', 'Paint', 'Year', 'Each'],\n",
              "      dtype='object')"
            ]
          },
          "metadata": {},
          "execution_count": 297
        }
      ]
    },
    {
      "cell_type": "markdown",
      "source": [
        "## | DATA REPLACE"
      ],
      "metadata": {
        "id": "dm59-wVbtQ7n"
      }
    },
    {
      "cell_type": "markdown",
      "source": [
        "### | Company"
      ],
      "metadata": {
        "id": "x9au_cqrhnBd"
      }
    },
    {
      "cell_type": "code",
      "source": [
        "All_data[\"Company\"] = all_data[\"title\"].map(lambda x: x.split()[0].upper())"
      ],
      "metadata": {
        "id": "lMIZGfjchuId"
      },
      "execution_count": 298,
      "outputs": []
    },
    {
      "cell_type": "code",
      "source": [
        "All_data[\"Company\"].replace(\"MERCEDES-BENZ/52\",\"MERCEDES-BENZ\",inplace=True)"
      ],
      "metadata": {
        "id": "7Of9SN3vh9cs"
      },
      "execution_count": 299,
      "outputs": []
    },
    {
      "cell_type": "markdown",
      "source": [
        "### | log_RunTime"
      ],
      "metadata": {
        "id": "fOBF459piNad"
      }
    },
    {
      "cell_type": "code",
      "source": [
        "All_data[\"log_RunTime\"]=np.log1p(All_data[\"RunTime\"])"
      ],
      "metadata": {
        "id": "JzS21EQKiQv8"
      },
      "execution_count": 300,
      "outputs": []
    },
    {
      "cell_type": "markdown",
      "source": [
        "### | Use"
      ],
      "metadata": {
        "id": "31Riw_xdmH-G"
      }
    },
    {
      "cell_type": "code",
      "source": [
        "All_data[\"Use\"] = All_data[\"log_RunTime\"].copy()\n",
        "All_data[\"Use\"][All_data[\"log_RunTime\"] < 15 ] = 100\n",
        "All_data[\"Use\"][All_data[\"log_RunTime\"] < 13 ] = 75\n",
        "All_data[\"Use\"][All_data[\"log_RunTime\"] < 10 ] = 50\n",
        "All_data[\"Use\"][All_data[\"log_RunTime\"] < 5 ] = 25\n",
        "All_data[\"Use\"][All_data[\"log_RunTime\"] == 0 ] = 0"
      ],
      "metadata": {
        "id": "_BbkiJc8ia69"
      },
      "execution_count": 301,
      "outputs": []
    },
    {
      "cell_type": "markdown",
      "source": [
        "### | Year"
      ],
      "metadata": {
        "id": "RqAVOn2WuYYd"
      }
    },
    {
      "cell_type": "code",
      "source": [
        "All_data[\"OldYear\"] = All_data[\"Year\"]-2020\n",
        "All_data[\"OldYear\"][All_data[\"OldYear\"]>0] = 0\n",
        "All_data[\"OldYear\"][All_data[\"OldYear\"]<-100] = -10\n",
        "All_data[\"OldYear\"] = abs(All_data[\"OldYear\"])"
      ],
      "metadata": {
        "id": "-sfMFmObub8l"
      },
      "execution_count": 302,
      "outputs": []
    },
    {
      "cell_type": "code",
      "source": [
        "All_data[\"Year\"].dropna()\n",
        "Drop_Index = []"
      ],
      "metadata": {
        "id": "nzvJEdiPx6-l"
      },
      "execution_count": 303,
      "outputs": []
    },
    {
      "cell_type": "code",
      "source": [
        "Drop_Mask = (All_data['Year']>2020) & (All_data['Year']<1900)\n",
        "All_data[\"Year\"][Drop_Mask] = float('nan')\n",
        "All_data[\"Year\"].dropna()"
      ],
      "metadata": {
        "colab": {
          "base_uri": "https://localhost:8080/"
        },
        "id": "_94_-jou0KIL",
        "outputId": "153c41ff-7d9d-48ca-c392-47dd56a63523"
      },
      "execution_count": 304,
      "outputs": [
        {
          "output_type": "execute_result",
          "data": {
            "text/plain": [
              "0       2016\n",
              "1       2019\n",
              "2       2012\n",
              "3       2007\n",
              "4       2010\n",
              "        ... \n",
              "1446    2014\n",
              "1447    2011\n",
              "1448    2013\n",
              "1449    2003\n",
              "1450    2006\n",
              "Name: Year, Length: 1451, dtype: int64"
            ]
          },
          "metadata": {},
          "execution_count": 304
        }
      ]
    },
    {
      "cell_type": "markdown",
      "source": [
        "### | Paint"
      ],
      "metadata": {
        "id": "sONsqLBZuP63"
      }
    },
    {
      "cell_type": "code",
      "source": [
        "def clean_text(texts): \n",
        "    corpus = [] \n",
        "    for i in range(0, len(texts)): \n",
        "        review = re.sub(r'[@%\\\\*=()/~#&\\+á?\\xc3\\xa1\\-\\|\\.\\:\\;\\!\\-\\,\\_\\~\\$\\'\\\"\\n\\]\\[\\>\\<]', '',texts[i])\n",
        "        review = re.sub(r'\\d+','',review)\n",
        "        review = review.lower()\n",
        "        review = re.sub(r'\\s+', ' ', review)\n",
        "        review = re.sub(r'<[^>]+>','',review)\n",
        "        review = re.sub(r'\\s+', ' ', review)\n",
        "        review = re.sub(r\"^\\s+\", '', review)\n",
        "        review = re.sub(r'\\s+$', '', review)\n",
        "        review = re.sub(r'_', ' ', review)\n",
        "\n",
        "        corpus.append(review) \n",
        "        \n",
        "    return corpus"
      ],
      "metadata": {
        "id": "5GfuIN66uUv_"
      },
      "execution_count": 305,
      "outputs": []
    },
    {
      "cell_type": "code",
      "source": [
        "All_data['Paint'] = clean_text(All_data['Paint'])"
      ],
      "metadata": {
        "id": "smF5L1Nb7No5"
      },
      "execution_count": 306,
      "outputs": []
    },
    {
      "cell_type": "markdown",
      "source": [
        "# | RGB Color Mask And Gloss Mask"
      ],
      "metadata": {
        "id": "IG06vE8XDmHe"
      }
    },
    {
      "cell_type": "code",
      "source": [
        "Color_Mask = []\n",
        "C_list = ['Red', 'Yellow', 'Green', 'Blue', 'White', 'Gray', 'Black', 'Silver', 'Gold', 'Wine']\n",
        "E_list = [['red', 'brown', 'maroon'], ['orange', 'yellow'], ['green'], ['blue', 'purple', 'indigo ink pearl'], ['white', 'cream', 'milk', 'beige'], ['gray', 'grey', 'gary', 'gery', 'ash'], ['black', 'blac'], ['silver', 'sliver'], ['gold', 'golf'], ['wine', 'whine'] ]\n",
        "for Index in range(len(C_list)):\n",
        "    Color_Mask.append([])\n",
        "    for Err in E_list[Index]:\n",
        "        Color_Mask[Index] = All_data['Paint'].str.contains(f'{Err}')\n",
        "        All_data['Paint'][Color_Mask[Index]] = C_list[Index]"
      ],
      "metadata": {
        "id": "XoBh3DKV5hKK"
      },
      "execution_count": 309,
      "outputs": []
    },
    {
      "cell_type": "code",
      "source": [
        "All_data[\"Light\"] = All_data[\"Paint\"].copy()\n",
        "Matt_Mask = []\n",
        "G_list = ['Silver', 'Gold', 'Wine']\n",
        "K_list = ['Gray', 'Yellow', 'Red']\n",
        "for Index in range(len(G_list)):\n",
        "    Matt_Mask.append([])\n",
        "    for Rep in G_list:\n",
        "        Matt_Mask[Index] = All_data['Paint'].str.contains(f'{Rep}')\n",
        "        All_data['Paint'][Matt_Mask[Index]] = K_list[Index]\n",
        "        All_data['Light'] = 'Matte'\n",
        "        All_data['Light'][Matt_Mask[Index]] = 'Gloss'"
      ],
      "metadata": {
        "id": "0d_8dFVqFCxW"
      },
      "execution_count": 292,
      "outputs": []
    },
    {
      "cell_type": "code",
      "source": [
        "All_data['Light'].unique()"
      ],
      "metadata": {
        "colab": {
          "base_uri": "https://localhost:8080/"
        },
        "id": "wzUkPwc7-p8Y",
        "outputId": "ee74379d-91f6-450d-eaa4-36959c634ddb"
      },
      "execution_count": 293,
      "outputs": [
        {
          "output_type": "execute_result",
          "data": {
            "text/plain": [
              "array(['Matte'], dtype=object)"
            ]
          },
          "metadata": {},
          "execution_count": 293
        }
      ]
    },
    {
      "cell_type": "markdown",
      "source": [
        "## | Data View"
      ],
      "metadata": {
        "id": "LP3DLqMTiWz8"
      }
    },
    {
      "cell_type": "code",
      "source": [
        "All_data"
      ],
      "metadata": {
        "colab": {
          "base_uri": "https://localhost:8080/",
          "height": 423
        },
        "id": "aqwaaTWHiY_8",
        "outputId": "5a2b3df7-2fa7-44ae-e171-d7c6b9757c7f"
      },
      "execution_count": 310,
      "outputs": [
        {
          "output_type": "execute_result",
          "data": {
            "text/plain": [
              "       ID        Company  RunTime Location       UserUse          Engine  \\\n",
              "0       0         TOYOTA    18277   Lagos   Foreign Used  4-cylinder(I4)   \n",
              "1       1         TOYOTA       10    Lagos          New   4-cylinder(I4)   \n",
              "2       2           LAND    83091    Lagos  Foreign Used  6-cylinder(V6)   \n",
              "3       3          LEXUS    91524    Lagos  Foreign Used  4-cylinder(I4)   \n",
              "4       4         TOYOTA    94177    Lagos  Foreign Used  6-cylinder(V6)   \n",
              "...   ...            ...      ...      ...           ...             ...   \n",
              "1446  431  MERCEDES-BENZ    78175    Lagos  Foreign Used  6-cylinder(V6)   \n",
              "1447  432          HONDA   129223    Lagos  Foreign Used  6-cylinder(V6)   \n",
              "1448  433  MERCEDES-BENZ   100943    Lagos  Foreign Used  4-cylinder(I4)   \n",
              "1449  434          LEXUS    81463    Lagos  Foreign Used  4-cylinder(I4)   \n",
              "1450  435         TOYOTA      646    Lagos  Foreign Used  6-cylinder(V6)   \n",
              "\n",
              "        Mission    Fuel   Paint  Year        Each  log_RunTime   Use  OldYear  \n",
              "0     automatic  petrol     Red  2016  13665000.0     9.813453  50.0        4  \n",
              "1     automatic  petrol   Black  2019  33015000.0     2.397895  25.0        1  \n",
              "2     automatic  petrol     Red  2012   9915000.0    11.327704  75.0        8  \n",
              "3     automatic  petrol    Gray  2007   3815000.0    11.424367  75.0       13  \n",
              "4     automatic  petrol     Red  2010   7385000.0    11.452942  75.0       10  \n",
              "...         ...     ...     ...   ...         ...          ...   ...      ...  \n",
              "1446  automatic  petrol    Blue  2014         NaN    11.266718  75.0        6  \n",
              "1447  automatic  petrol     Red  2011         NaN    11.769303  75.0        9  \n",
              "1448  automatic  petrol   Black  2013         NaN    11.522321  75.0        7  \n",
              "1449  automatic  petrol   Green  2003         NaN    11.307916  75.0       17  \n",
              "1450  automatic  petrol  Silver  2006         NaN     6.472346  50.0       14  \n",
              "\n",
              "[1451 rows x 14 columns]"
            ],
            "text/html": [
              "\n",
              "  <div id=\"df-b8c0daca-41c3-4da9-8f90-40cc71f3de42\">\n",
              "    <div class=\"colab-df-container\">\n",
              "      <div>\n",
              "<style scoped>\n",
              "    .dataframe tbody tr th:only-of-type {\n",
              "        vertical-align: middle;\n",
              "    }\n",
              "\n",
              "    .dataframe tbody tr th {\n",
              "        vertical-align: top;\n",
              "    }\n",
              "\n",
              "    .dataframe thead th {\n",
              "        text-align: right;\n",
              "    }\n",
              "</style>\n",
              "<table border=\"1\" class=\"dataframe\">\n",
              "  <thead>\n",
              "    <tr style=\"text-align: right;\">\n",
              "      <th></th>\n",
              "      <th>ID</th>\n",
              "      <th>Company</th>\n",
              "      <th>RunTime</th>\n",
              "      <th>Location</th>\n",
              "      <th>UserUse</th>\n",
              "      <th>Engine</th>\n",
              "      <th>Mission</th>\n",
              "      <th>Fuel</th>\n",
              "      <th>Paint</th>\n",
              "      <th>Year</th>\n",
              "      <th>Each</th>\n",
              "      <th>log_RunTime</th>\n",
              "      <th>Use</th>\n",
              "      <th>OldYear</th>\n",
              "    </tr>\n",
              "  </thead>\n",
              "  <tbody>\n",
              "    <tr>\n",
              "      <th>0</th>\n",
              "      <td>0</td>\n",
              "      <td>TOYOTA</td>\n",
              "      <td>18277</td>\n",
              "      <td>Lagos</td>\n",
              "      <td>Foreign Used</td>\n",
              "      <td>4-cylinder(I4)</td>\n",
              "      <td>automatic</td>\n",
              "      <td>petrol</td>\n",
              "      <td>Red</td>\n",
              "      <td>2016</td>\n",
              "      <td>13665000.0</td>\n",
              "      <td>9.813453</td>\n",
              "      <td>50.0</td>\n",
              "      <td>4</td>\n",
              "    </tr>\n",
              "    <tr>\n",
              "      <th>1</th>\n",
              "      <td>1</td>\n",
              "      <td>TOYOTA</td>\n",
              "      <td>10</td>\n",
              "      <td>Lagos</td>\n",
              "      <td>New</td>\n",
              "      <td>4-cylinder(I4)</td>\n",
              "      <td>automatic</td>\n",
              "      <td>petrol</td>\n",
              "      <td>Black</td>\n",
              "      <td>2019</td>\n",
              "      <td>33015000.0</td>\n",
              "      <td>2.397895</td>\n",
              "      <td>25.0</td>\n",
              "      <td>1</td>\n",
              "    </tr>\n",
              "    <tr>\n",
              "      <th>2</th>\n",
              "      <td>2</td>\n",
              "      <td>LAND</td>\n",
              "      <td>83091</td>\n",
              "      <td>Lagos</td>\n",
              "      <td>Foreign Used</td>\n",
              "      <td>6-cylinder(V6)</td>\n",
              "      <td>automatic</td>\n",
              "      <td>petrol</td>\n",
              "      <td>Red</td>\n",
              "      <td>2012</td>\n",
              "      <td>9915000.0</td>\n",
              "      <td>11.327704</td>\n",
              "      <td>75.0</td>\n",
              "      <td>8</td>\n",
              "    </tr>\n",
              "    <tr>\n",
              "      <th>3</th>\n",
              "      <td>3</td>\n",
              "      <td>LEXUS</td>\n",
              "      <td>91524</td>\n",
              "      <td>Lagos</td>\n",
              "      <td>Foreign Used</td>\n",
              "      <td>4-cylinder(I4)</td>\n",
              "      <td>automatic</td>\n",
              "      <td>petrol</td>\n",
              "      <td>Gray</td>\n",
              "      <td>2007</td>\n",
              "      <td>3815000.0</td>\n",
              "      <td>11.424367</td>\n",
              "      <td>75.0</td>\n",
              "      <td>13</td>\n",
              "    </tr>\n",
              "    <tr>\n",
              "      <th>4</th>\n",
              "      <td>4</td>\n",
              "      <td>TOYOTA</td>\n",
              "      <td>94177</td>\n",
              "      <td>Lagos</td>\n",
              "      <td>Foreign Used</td>\n",
              "      <td>6-cylinder(V6)</td>\n",
              "      <td>automatic</td>\n",
              "      <td>petrol</td>\n",
              "      <td>Red</td>\n",
              "      <td>2010</td>\n",
              "      <td>7385000.0</td>\n",
              "      <td>11.452942</td>\n",
              "      <td>75.0</td>\n",
              "      <td>10</td>\n",
              "    </tr>\n",
              "    <tr>\n",
              "      <th>...</th>\n",
              "      <td>...</td>\n",
              "      <td>...</td>\n",
              "      <td>...</td>\n",
              "      <td>...</td>\n",
              "      <td>...</td>\n",
              "      <td>...</td>\n",
              "      <td>...</td>\n",
              "      <td>...</td>\n",
              "      <td>...</td>\n",
              "      <td>...</td>\n",
              "      <td>...</td>\n",
              "      <td>...</td>\n",
              "      <td>...</td>\n",
              "      <td>...</td>\n",
              "    </tr>\n",
              "    <tr>\n",
              "      <th>1446</th>\n",
              "      <td>431</td>\n",
              "      <td>MERCEDES-BENZ</td>\n",
              "      <td>78175</td>\n",
              "      <td>Lagos</td>\n",
              "      <td>Foreign Used</td>\n",
              "      <td>6-cylinder(V6)</td>\n",
              "      <td>automatic</td>\n",
              "      <td>petrol</td>\n",
              "      <td>Blue</td>\n",
              "      <td>2014</td>\n",
              "      <td>NaN</td>\n",
              "      <td>11.266718</td>\n",
              "      <td>75.0</td>\n",
              "      <td>6</td>\n",
              "    </tr>\n",
              "    <tr>\n",
              "      <th>1447</th>\n",
              "      <td>432</td>\n",
              "      <td>HONDA</td>\n",
              "      <td>129223</td>\n",
              "      <td>Lagos</td>\n",
              "      <td>Foreign Used</td>\n",
              "      <td>6-cylinder(V6)</td>\n",
              "      <td>automatic</td>\n",
              "      <td>petrol</td>\n",
              "      <td>Red</td>\n",
              "      <td>2011</td>\n",
              "      <td>NaN</td>\n",
              "      <td>11.769303</td>\n",
              "      <td>75.0</td>\n",
              "      <td>9</td>\n",
              "    </tr>\n",
              "    <tr>\n",
              "      <th>1448</th>\n",
              "      <td>433</td>\n",
              "      <td>MERCEDES-BENZ</td>\n",
              "      <td>100943</td>\n",
              "      <td>Lagos</td>\n",
              "      <td>Foreign Used</td>\n",
              "      <td>4-cylinder(I4)</td>\n",
              "      <td>automatic</td>\n",
              "      <td>petrol</td>\n",
              "      <td>Black</td>\n",
              "      <td>2013</td>\n",
              "      <td>NaN</td>\n",
              "      <td>11.522321</td>\n",
              "      <td>75.0</td>\n",
              "      <td>7</td>\n",
              "    </tr>\n",
              "    <tr>\n",
              "      <th>1449</th>\n",
              "      <td>434</td>\n",
              "      <td>LEXUS</td>\n",
              "      <td>81463</td>\n",
              "      <td>Lagos</td>\n",
              "      <td>Foreign Used</td>\n",
              "      <td>4-cylinder(I4)</td>\n",
              "      <td>automatic</td>\n",
              "      <td>petrol</td>\n",
              "      <td>Green</td>\n",
              "      <td>2003</td>\n",
              "      <td>NaN</td>\n",
              "      <td>11.307916</td>\n",
              "      <td>75.0</td>\n",
              "      <td>17</td>\n",
              "    </tr>\n",
              "    <tr>\n",
              "      <th>1450</th>\n",
              "      <td>435</td>\n",
              "      <td>TOYOTA</td>\n",
              "      <td>646</td>\n",
              "      <td>Lagos</td>\n",
              "      <td>Foreign Used</td>\n",
              "      <td>6-cylinder(V6)</td>\n",
              "      <td>automatic</td>\n",
              "      <td>petrol</td>\n",
              "      <td>Silver</td>\n",
              "      <td>2006</td>\n",
              "      <td>NaN</td>\n",
              "      <td>6.472346</td>\n",
              "      <td>50.0</td>\n",
              "      <td>14</td>\n",
              "    </tr>\n",
              "  </tbody>\n",
              "</table>\n",
              "<p>1451 rows × 14 columns</p>\n",
              "</div>\n",
              "      <button class=\"colab-df-convert\" onclick=\"convertToInteractive('df-b8c0daca-41c3-4da9-8f90-40cc71f3de42')\"\n",
              "              title=\"Convert this dataframe to an interactive table.\"\n",
              "              style=\"display:none;\">\n",
              "        \n",
              "  <svg xmlns=\"http://www.w3.org/2000/svg\" height=\"24px\"viewBox=\"0 0 24 24\"\n",
              "       width=\"24px\">\n",
              "    <path d=\"M0 0h24v24H0V0z\" fill=\"none\"/>\n",
              "    <path d=\"M18.56 5.44l.94 2.06.94-2.06 2.06-.94-2.06-.94-.94-2.06-.94 2.06-2.06.94zm-11 1L8.5 8.5l.94-2.06 2.06-.94-2.06-.94L8.5 2.5l-.94 2.06-2.06.94zm10 10l.94 2.06.94-2.06 2.06-.94-2.06-.94-.94-2.06-.94 2.06-2.06.94z\"/><path d=\"M17.41 7.96l-1.37-1.37c-.4-.4-.92-.59-1.43-.59-.52 0-1.04.2-1.43.59L10.3 9.45l-7.72 7.72c-.78.78-.78 2.05 0 2.83L4 21.41c.39.39.9.59 1.41.59.51 0 1.02-.2 1.41-.59l7.78-7.78 2.81-2.81c.8-.78.8-2.07 0-2.86zM5.41 20L4 18.59l7.72-7.72 1.47 1.35L5.41 20z\"/>\n",
              "  </svg>\n",
              "      </button>\n",
              "      \n",
              "  <style>\n",
              "    .colab-df-container {\n",
              "      display:flex;\n",
              "      flex-wrap:wrap;\n",
              "      gap: 12px;\n",
              "    }\n",
              "\n",
              "    .colab-df-convert {\n",
              "      background-color: #E8F0FE;\n",
              "      border: none;\n",
              "      border-radius: 50%;\n",
              "      cursor: pointer;\n",
              "      display: none;\n",
              "      fill: #1967D2;\n",
              "      height: 32px;\n",
              "      padding: 0 0 0 0;\n",
              "      width: 32px;\n",
              "    }\n",
              "\n",
              "    .colab-df-convert:hover {\n",
              "      background-color: #E2EBFA;\n",
              "      box-shadow: 0px 1px 2px rgba(60, 64, 67, 0.3), 0px 1px 3px 1px rgba(60, 64, 67, 0.15);\n",
              "      fill: #174EA6;\n",
              "    }\n",
              "\n",
              "    [theme=dark] .colab-df-convert {\n",
              "      background-color: #3B4455;\n",
              "      fill: #D2E3FC;\n",
              "    }\n",
              "\n",
              "    [theme=dark] .colab-df-convert:hover {\n",
              "      background-color: #434B5C;\n",
              "      box-shadow: 0px 1px 3px 1px rgba(0, 0, 0, 0.15);\n",
              "      filter: drop-shadow(0px 1px 2px rgba(0, 0, 0, 0.3));\n",
              "      fill: #FFFFFF;\n",
              "    }\n",
              "  </style>\n",
              "\n",
              "      <script>\n",
              "        const buttonEl =\n",
              "          document.querySelector('#df-b8c0daca-41c3-4da9-8f90-40cc71f3de42 button.colab-df-convert');\n",
              "        buttonEl.style.display =\n",
              "          google.colab.kernel.accessAllowed ? 'block' : 'none';\n",
              "\n",
              "        async function convertToInteractive(key) {\n",
              "          const element = document.querySelector('#df-b8c0daca-41c3-4da9-8f90-40cc71f3de42');\n",
              "          const dataTable =\n",
              "            await google.colab.kernel.invokeFunction('convertToInteractive',\n",
              "                                                     [key], {});\n",
              "          if (!dataTable) return;\n",
              "\n",
              "          const docLinkHtml = 'Like what you see? Visit the ' +\n",
              "            '<a target=\"_blank\" href=https://colab.research.google.com/notebooks/data_table.ipynb>data table notebook</a>'\n",
              "            + ' to learn more about interactive tables.';\n",
              "          element.innerHTML = '';\n",
              "          dataTable['output_type'] = 'display_data';\n",
              "          await google.colab.output.renderOutput(dataTable, element);\n",
              "          const docLink = document.createElement('div');\n",
              "          docLink.innerHTML = docLinkHtml;\n",
              "          element.appendChild(docLink);\n",
              "        }\n",
              "      </script>\n",
              "    </div>\n",
              "  </div>\n",
              "  "
            ]
          },
          "metadata": {},
          "execution_count": 310
        }
      ]
    },
    {
      "cell_type": "code",
      "source": [
        ""
      ],
      "metadata": {
        "id": "qxF2uL5fpHye"
      },
      "execution_count": null,
      "outputs": []
    }
  ]
}