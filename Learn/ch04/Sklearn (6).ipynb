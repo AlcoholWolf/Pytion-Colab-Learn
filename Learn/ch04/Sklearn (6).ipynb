{
  "nbformat": 4,
  "nbformat_minor": 0,
  "metadata": {
    "colab": {
      "name": "ch05_09_사이킷런실습-회귀분석",
      "provenance": [],
      "collapsed_sections": [],
      "toc_visible": true,
      "include_colab_link": true
    },
    "kernelspec": {
      "name": "python3",
      "display_name": "Python 3"
    },
    "language_info": {
      "name": "python"
    }
  },
  "cells": [
    {
      "cell_type": "markdown",
      "metadata": {
        "id": "view-in-github",
        "colab_type": "text"
      },
      "source": [
        "<a href=\"https://colab.research.google.com/github/AlcoholWolf/PY-SAVE/blob/main/ch05_09_%EC%82%AC%EC%9D%B4%ED%82%B7%EB%9F%B0%EC%8B%A4%EC%8A%B5_%ED%9A%8C%EA%B7%80%EB%B6%84%EC%84%9D.ipynb\" target=\"_parent\"><img src=\"https://colab.research.google.com/assets/colab-badge.svg\" alt=\"Open In Colab\"/></a>"
      ]
    },
    {
      "cell_type": "markdown",
      "metadata": {
        "id": "wWpXZc2fi39U"
      },
      "source": [
        "# ch05.09. 사이킷런 실습 - 회귀분석\n",
        "\n",
        "---\n",
        "* 날짜:\n",
        "* 이름:\n",
        "\n",
        "## 학습내용\n",
        "    - 사이킷런을 이용해 여러가지 회귀 모델을 사용한다.\n",
        "    - 회귀 성능 지표에 대해 이해한다.\n",
        "    - 회귀 분석 결과를 시각화 한다."
      ]
    },
    {
      "cell_type": "markdown",
      "metadata": {
        "id": "kByKdJPApy6P"
      },
      "source": [
        "```\n",
        "import numpy as np\n",
        "import pandas as pd\n",
        "import seaborn as sns\n",
        "import matplotlib.pyplot as plt\n",
        "```"
      ]
    },
    {
      "cell_type": "code",
      "source": [
        "import numpy as np\n",
        "import pandas as pd\n",
        "import seaborn as sns\n",
        "import matplotlib.pyplot as plt"
      ],
      "metadata": {
        "id": "YW4q7CsxPlQh"
      },
      "execution_count": 64,
      "outputs": []
    },
    {
      "cell_type": "markdown",
      "source": [
        "## 단순 회귀 분석\n",
        "---"
      ],
      "metadata": {
        "id": "GYfR9QxDOEIy"
      }
    },
    {
      "cell_type": "markdown",
      "source": [
        "### **| 데이터 처리**\n"
      ],
      "metadata": {
        "id": "B4BejB3gxzqR"
      }
    },
    {
      "cell_type": "markdown",
      "source": [
        "\n",
        "#### **주택 데이터 EDA**\n",
        "\n",
        "[https://archive.ics.uci.edu/ml/datasets/Housing](https://archive.ics.uci.edu/ml/datasets/Housing)\n",
        "\n",
        "    \n",
        "<pre>\n",
        "01. CRIM     도시의 인당 범죄율\n",
        "02. ZN       2만 5,0000평방 피트가 넘는 주택 비율\n",
        "03. INDUS    도시에서 소매 업종이 아닌 지역 비율\n",
        "04. CHAS     찰스 강 인접 여부(강 주변=1, 그외=0)\n",
        "05. NOX      일산화질소 농도(10ppm당)\n",
        "06. RM       주택의 평균 방 개수\n",
        "07. AGE      1940년 이전에 지어진 자가 주택 비율\n",
        "08. DIS      다섯 개의 보스턴 고용 센터까지 가중치가 적용된 거리\n",
        "09. RAD      방사형으로 뻗은 고속도로까지 접근성 지수\n",
        "10. TAX      10만 달러당 재산세율\n",
        "11. PTRATIO  도시의 학생-교사 비율\n",
        "12. B        1000(Bk - 0.63)^2 도시의 아프리카계 미국인 비율\n",
        "13. LSTAT    저소득층 비율\n",
        "14. MEDV     자가 주택의 중간가격 (단위 $1000s)\n",
        "</pre>\n",
        "\n",
        "```\n",
        "import pandas as pd\n",
        "\n",
        "df = pd.read_csv('https://raw.githubusercontent.com/rasbt/'\n",
        "                 'python-machine-learning-book-3rd-edition/'\n",
        "                 'master/ch10/housing.data.txt',\n",
        "                 header=None,\n",
        "                 sep='\\s+')\n",
        "\n",
        "df.columns = ['CRIM', 'ZN', 'INDUS', 'CHAS', \n",
        "              'NOX', 'RM', 'AGE', 'DIS', 'RAD', \n",
        "              'TAX', 'PTRATIO', 'B', 'LSTAT', 'MEDV']\n",
        "```"
      ],
      "metadata": {
        "id": "SwHpIs02xtKM"
      }
    },
    {
      "cell_type": "markdown",
      "source": [
        "* 데이터 불러오기 및 기본 shape 확인"
      ],
      "metadata": {
        "id": "2glG-FY183bH"
      }
    },
    {
      "cell_type": "code",
      "source": [
        "import pandas as pd\n",
        "\n",
        "df = pd.read_csv('https://raw.githubusercontent.com/rasbt/'\n",
        "                 'python-machine-learning-book-3rd-edition/'\n",
        "                 'master/ch10/housing.data.txt',\n",
        "                 header=None,\n",
        "                 sep='\\s+')\n",
        "\n",
        "df.columns = ['CRIM', 'ZN', 'INDUS', 'CHAS', \n",
        "              'NOX', 'RM', 'AGE', 'DIS', 'RAD', \n",
        "              'TAX', 'PTRATIO', 'B', 'LSTAT', 'MEDV']\n",
        "print(df.shape)\n",
        "df.head()"
      ],
      "metadata": {
        "id": "W4NEYjhdGB0s",
        "colab": {
          "base_uri": "https://localhost:8080/",
          "height": 224
        },
        "outputId": "9953dd5e-1823-4451-f171-aecba25a62ec"
      },
      "execution_count": 65,
      "outputs": [
        {
          "output_type": "stream",
          "name": "stdout",
          "text": [
            "(506, 14)\n"
          ]
        },
        {
          "output_type": "execute_result",
          "data": {
            "text/plain": [
              "      CRIM    ZN  INDUS  CHAS    NOX     RM   AGE     DIS  RAD    TAX  \\\n",
              "0  0.00632  18.0   2.31     0  0.538  6.575  65.2  4.0900    1  296.0   \n",
              "1  0.02731   0.0   7.07     0  0.469  6.421  78.9  4.9671    2  242.0   \n",
              "2  0.02729   0.0   7.07     0  0.469  7.185  61.1  4.9671    2  242.0   \n",
              "3  0.03237   0.0   2.18     0  0.458  6.998  45.8  6.0622    3  222.0   \n",
              "4  0.06905   0.0   2.18     0  0.458  7.147  54.2  6.0622    3  222.0   \n",
              "\n",
              "   PTRATIO       B  LSTAT  MEDV  \n",
              "0     15.3  396.90   4.98  24.0  \n",
              "1     17.8  396.90   9.14  21.6  \n",
              "2     17.8  392.83   4.03  34.7  \n",
              "3     18.7  394.63   2.94  33.4  \n",
              "4     18.7  396.90   5.33  36.2  "
            ],
            "text/html": [
              "\n",
              "  <div id=\"df-311e031c-9d17-4270-9710-6a084dd8f7d0\">\n",
              "    <div class=\"colab-df-container\">\n",
              "      <div>\n",
              "<style scoped>\n",
              "    .dataframe tbody tr th:only-of-type {\n",
              "        vertical-align: middle;\n",
              "    }\n",
              "\n",
              "    .dataframe tbody tr th {\n",
              "        vertical-align: top;\n",
              "    }\n",
              "\n",
              "    .dataframe thead th {\n",
              "        text-align: right;\n",
              "    }\n",
              "</style>\n",
              "<table border=\"1\" class=\"dataframe\">\n",
              "  <thead>\n",
              "    <tr style=\"text-align: right;\">\n",
              "      <th></th>\n",
              "      <th>CRIM</th>\n",
              "      <th>ZN</th>\n",
              "      <th>INDUS</th>\n",
              "      <th>CHAS</th>\n",
              "      <th>NOX</th>\n",
              "      <th>RM</th>\n",
              "      <th>AGE</th>\n",
              "      <th>DIS</th>\n",
              "      <th>RAD</th>\n",
              "      <th>TAX</th>\n",
              "      <th>PTRATIO</th>\n",
              "      <th>B</th>\n",
              "      <th>LSTAT</th>\n",
              "      <th>MEDV</th>\n",
              "    </tr>\n",
              "  </thead>\n",
              "  <tbody>\n",
              "    <tr>\n",
              "      <th>0</th>\n",
              "      <td>0.00632</td>\n",
              "      <td>18.0</td>\n",
              "      <td>2.31</td>\n",
              "      <td>0</td>\n",
              "      <td>0.538</td>\n",
              "      <td>6.575</td>\n",
              "      <td>65.2</td>\n",
              "      <td>4.0900</td>\n",
              "      <td>1</td>\n",
              "      <td>296.0</td>\n",
              "      <td>15.3</td>\n",
              "      <td>396.90</td>\n",
              "      <td>4.98</td>\n",
              "      <td>24.0</td>\n",
              "    </tr>\n",
              "    <tr>\n",
              "      <th>1</th>\n",
              "      <td>0.02731</td>\n",
              "      <td>0.0</td>\n",
              "      <td>7.07</td>\n",
              "      <td>0</td>\n",
              "      <td>0.469</td>\n",
              "      <td>6.421</td>\n",
              "      <td>78.9</td>\n",
              "      <td>4.9671</td>\n",
              "      <td>2</td>\n",
              "      <td>242.0</td>\n",
              "      <td>17.8</td>\n",
              "      <td>396.90</td>\n",
              "      <td>9.14</td>\n",
              "      <td>21.6</td>\n",
              "    </tr>\n",
              "    <tr>\n",
              "      <th>2</th>\n",
              "      <td>0.02729</td>\n",
              "      <td>0.0</td>\n",
              "      <td>7.07</td>\n",
              "      <td>0</td>\n",
              "      <td>0.469</td>\n",
              "      <td>7.185</td>\n",
              "      <td>61.1</td>\n",
              "      <td>4.9671</td>\n",
              "      <td>2</td>\n",
              "      <td>242.0</td>\n",
              "      <td>17.8</td>\n",
              "      <td>392.83</td>\n",
              "      <td>4.03</td>\n",
              "      <td>34.7</td>\n",
              "    </tr>\n",
              "    <tr>\n",
              "      <th>3</th>\n",
              "      <td>0.03237</td>\n",
              "      <td>0.0</td>\n",
              "      <td>2.18</td>\n",
              "      <td>0</td>\n",
              "      <td>0.458</td>\n",
              "      <td>6.998</td>\n",
              "      <td>45.8</td>\n",
              "      <td>6.0622</td>\n",
              "      <td>3</td>\n",
              "      <td>222.0</td>\n",
              "      <td>18.7</td>\n",
              "      <td>394.63</td>\n",
              "      <td>2.94</td>\n",
              "      <td>33.4</td>\n",
              "    </tr>\n",
              "    <tr>\n",
              "      <th>4</th>\n",
              "      <td>0.06905</td>\n",
              "      <td>0.0</td>\n",
              "      <td>2.18</td>\n",
              "      <td>0</td>\n",
              "      <td>0.458</td>\n",
              "      <td>7.147</td>\n",
              "      <td>54.2</td>\n",
              "      <td>6.0622</td>\n",
              "      <td>3</td>\n",
              "      <td>222.0</td>\n",
              "      <td>18.7</td>\n",
              "      <td>396.90</td>\n",
              "      <td>5.33</td>\n",
              "      <td>36.2</td>\n",
              "    </tr>\n",
              "  </tbody>\n",
              "</table>\n",
              "</div>\n",
              "      <button class=\"colab-df-convert\" onclick=\"convertToInteractive('df-311e031c-9d17-4270-9710-6a084dd8f7d0')\"\n",
              "              title=\"Convert this dataframe to an interactive table.\"\n",
              "              style=\"display:none;\">\n",
              "        \n",
              "  <svg xmlns=\"http://www.w3.org/2000/svg\" height=\"24px\"viewBox=\"0 0 24 24\"\n",
              "       width=\"24px\">\n",
              "    <path d=\"M0 0h24v24H0V0z\" fill=\"none\"/>\n",
              "    <path d=\"M18.56 5.44l.94 2.06.94-2.06 2.06-.94-2.06-.94-.94-2.06-.94 2.06-2.06.94zm-11 1L8.5 8.5l.94-2.06 2.06-.94-2.06-.94L8.5 2.5l-.94 2.06-2.06.94zm10 10l.94 2.06.94-2.06 2.06-.94-2.06-.94-.94-2.06-.94 2.06-2.06.94z\"/><path d=\"M17.41 7.96l-1.37-1.37c-.4-.4-.92-.59-1.43-.59-.52 0-1.04.2-1.43.59L10.3 9.45l-7.72 7.72c-.78.78-.78 2.05 0 2.83L4 21.41c.39.39.9.59 1.41.59.51 0 1.02-.2 1.41-.59l7.78-7.78 2.81-2.81c.8-.78.8-2.07 0-2.86zM5.41 20L4 18.59l7.72-7.72 1.47 1.35L5.41 20z\"/>\n",
              "  </svg>\n",
              "      </button>\n",
              "      \n",
              "  <style>\n",
              "    .colab-df-container {\n",
              "      display:flex;\n",
              "      flex-wrap:wrap;\n",
              "      gap: 12px;\n",
              "    }\n",
              "\n",
              "    .colab-df-convert {\n",
              "      background-color: #E8F0FE;\n",
              "      border: none;\n",
              "      border-radius: 50%;\n",
              "      cursor: pointer;\n",
              "      display: none;\n",
              "      fill: #1967D2;\n",
              "      height: 32px;\n",
              "      padding: 0 0 0 0;\n",
              "      width: 32px;\n",
              "    }\n",
              "\n",
              "    .colab-df-convert:hover {\n",
              "      background-color: #E2EBFA;\n",
              "      box-shadow: 0px 1px 2px rgba(60, 64, 67, 0.3), 0px 1px 3px 1px rgba(60, 64, 67, 0.15);\n",
              "      fill: #174EA6;\n",
              "    }\n",
              "\n",
              "    [theme=dark] .colab-df-convert {\n",
              "      background-color: #3B4455;\n",
              "      fill: #D2E3FC;\n",
              "    }\n",
              "\n",
              "    [theme=dark] .colab-df-convert:hover {\n",
              "      background-color: #434B5C;\n",
              "      box-shadow: 0px 1px 3px 1px rgba(0, 0, 0, 0.15);\n",
              "      filter: drop-shadow(0px 1px 2px rgba(0, 0, 0, 0.3));\n",
              "      fill: #FFFFFF;\n",
              "    }\n",
              "  </style>\n",
              "\n",
              "      <script>\n",
              "        const buttonEl =\n",
              "          document.querySelector('#df-311e031c-9d17-4270-9710-6a084dd8f7d0 button.colab-df-convert');\n",
              "        buttonEl.style.display =\n",
              "          google.colab.kernel.accessAllowed ? 'block' : 'none';\n",
              "\n",
              "        async function convertToInteractive(key) {\n",
              "          const element = document.querySelector('#df-311e031c-9d17-4270-9710-6a084dd8f7d0');\n",
              "          const dataTable =\n",
              "            await google.colab.kernel.invokeFunction('convertToInteractive',\n",
              "                                                     [key], {});\n",
              "          if (!dataTable) return;\n",
              "\n",
              "          const docLinkHtml = 'Like what you see? Visit the ' +\n",
              "            '<a target=\"_blank\" href=https://colab.research.google.com/notebooks/data_table.ipynb>data table notebook</a>'\n",
              "            + ' to learn more about interactive tables.';\n",
              "          element.innerHTML = '';\n",
              "          dataTable['output_type'] = 'display_data';\n",
              "          await google.colab.output.renderOutput(dataTable, element);\n",
              "          const docLink = document.createElement('div');\n",
              "          docLink.innerHTML = docLinkHtml;\n",
              "          element.appendChild(docLink);\n",
              "        }\n",
              "      </script>\n",
              "    </div>\n",
              "  </div>\n",
              "  "
            ]
          },
          "metadata": {},
          "execution_count": 65
        }
      ]
    },
    {
      "cell_type": "markdown",
      "source": [
        "* 각 속성별 기본 정보 확인"
      ],
      "metadata": {
        "id": "KNgCYDRF8762"
      }
    },
    {
      "cell_type": "code",
      "source": [
        "df.info()"
      ],
      "metadata": {
        "colab": {
          "base_uri": "https://localhost:8080/"
        },
        "id": "kFfkOclaRXiy",
        "outputId": "24c0edd2-9524-482d-e99a-1c9887059e06"
      },
      "execution_count": 66,
      "outputs": [
        {
          "output_type": "stream",
          "name": "stdout",
          "text": [
            "<class 'pandas.core.frame.DataFrame'>\n",
            "RangeIndex: 506 entries, 0 to 505\n",
            "Data columns (total 14 columns):\n",
            " #   Column   Non-Null Count  Dtype  \n",
            "---  ------   --------------  -----  \n",
            " 0   CRIM     506 non-null    float64\n",
            " 1   ZN       506 non-null    float64\n",
            " 2   INDUS    506 non-null    float64\n",
            " 3   CHAS     506 non-null    int64  \n",
            " 4   NOX      506 non-null    float64\n",
            " 5   RM       506 non-null    float64\n",
            " 6   AGE      506 non-null    float64\n",
            " 7   DIS      506 non-null    float64\n",
            " 8   RAD      506 non-null    int64  \n",
            " 9   TAX      506 non-null    float64\n",
            " 10  PTRATIO  506 non-null    float64\n",
            " 11  B        506 non-null    float64\n",
            " 12  LSTAT    506 non-null    float64\n",
            " 13  MEDV     506 non-null    float64\n",
            "dtypes: float64(12), int64(2)\n",
            "memory usage: 55.5 KB\n"
          ]
        }
      ]
    },
    {
      "cell_type": "markdown",
      "source": [
        "* 속성별 고유값 확인"
      ],
      "metadata": {
        "id": "__NJGtbw8_kQ"
      }
    },
    {
      "cell_type": "code",
      "source": [
        "# 모든 컬럼에 대해서 \n",
        "for col in df.columns:\n",
        "  n_unique = len(df[col].unique()) # 고유값 개수\n",
        "  print( col, n_unique ) # 컬럼명과 고유값 개수 출력"
      ],
      "metadata": {
        "colab": {
          "base_uri": "https://localhost:8080/"
        },
        "id": "OAQ9ucIiRqJa",
        "outputId": "106c7fbc-1cfb-4d2d-8b1b-fe3f73302fa7"
      },
      "execution_count": 67,
      "outputs": [
        {
          "output_type": "stream",
          "name": "stdout",
          "text": [
            "CRIM 504\n",
            "ZN 26\n",
            "INDUS 76\n",
            "CHAS 2\n",
            "NOX 81\n",
            "RM 446\n",
            "AGE 356\n",
            "DIS 412\n",
            "RAD 9\n",
            "TAX 66\n",
            "PTRATIO 46\n",
            "B 357\n",
            "LSTAT 455\n",
            "MEDV 229\n"
          ]
        }
      ]
    },
    {
      "cell_type": "markdown",
      "source": [
        "* 속성별 분포 시각화"
      ],
      "metadata": {
        "id": "Gfosk5ap9Fgd"
      }
    },
    {
      "cell_type": "code",
      "source": [
        "fig, axes = plt.subplots(2,7,figsize=(20, 6))\n",
        "axes=axes.flatten()\n",
        "for col, ax in zip(df.columns, axes):\n",
        "  sns.histplot(data=df, x=col, ax=ax)\n",
        "plt.show()"
      ],
      "metadata": {
        "colab": {
          "base_uri": "https://localhost:8080/",
          "height": 351
        },
        "id": "KmdpQYfdQ_Ke",
        "outputId": "9e9fc349-074a-4dc9-9790-5445b720e839"
      },
      "execution_count": 68,
      "outputs": [
        {
          "output_type": "display_data",
          "data": {
            "text/plain": [
              "<Figure size 1440x432 with 14 Axes>"
            ],
            "image/png": "[encoded data removed]"
          },
          "metadata": {
            "needs_background": "light"
          }
        }
      ]
    },
    {
      "cell_type": "markdown",
      "source": [
        "* 속성간 상관계수 시각화"
      ],
      "metadata": {
        "id": "ltv4KC4x9IMc"
      }
    },
    {
      "cell_type": "code",
      "source": [
        "plt.figure(figsize=(8,6))\n",
        "sns.heatmap(df.corr(), cmap='coolwarm',annot=True, vmax=1, vmin=-1)"
      ],
      "metadata": {
        "colab": {
          "base_uri": "https://localhost:8080/",
          "height": 427
        },
        "id": "Jica-L9yREl2",
        "outputId": "41305df5-51e2-493d-bfe6-f5c6f4e26806"
      },
      "execution_count": 69,
      "outputs": [
        {
          "output_type": "execute_result",
          "data": {
            "text/plain": [
              "<matplotlib.axes._subplots.AxesSubplot at 0x7f62ed918cd0>"
            ]
          },
          "metadata": {},
          "execution_count": 69
        },
        {
          "output_type": "display_data",
          "data": {
            "text/plain": [
              "<Figure size 576x432 with 2 Axes>"
            ],
            "image/png": "[encoded data removed]"
          },
          "metadata": {
            "needs_background": "light"
          }
        }
      ]
    },
    {
      "cell_type": "markdown",
      "source": [
        "* 모든 속성간 산점도 그리기"
      ],
      "metadata": {
        "id": "Hb2e24rP9Kpz"
      }
    },
    {
      "cell_type": "code",
      "source": [
        "#sns.pairplot(data=df.sample(100))"
      ],
      "metadata": {
        "id": "2ONUZOQFWg9u"
      },
      "execution_count": 70,
      "outputs": []
    },
    {
      "cell_type": "markdown",
      "source": [
        "#### **데이터 전처리**\n"
      ],
      "metadata": {
        "id": "an_F7hczTA6u"
      }
    },
    {
      "cell_type": "markdown",
      "source": [
        "* 넘파이 배열로 변환"
      ],
      "metadata": {
        "id": "e8v8T1p5UbEe"
      }
    },
    {
      "cell_type": "code",
      "source": [
        "# df.values 넘파이 배열 변환\n",
        "# 단순회귀  X : RM y: MEDV\n",
        "X = df['RM'].values\n",
        "y = df['MEDV'].values\n",
        "# 방법 1: 넘파이 reshape\n",
        "X = X.reshape(-1, 1)\n",
        "# 방법 2: 넘파이 배열 변환시 \n",
        "X = df[['RM']].values\n",
        "X.shape, y.shape \n",
        "# 모델 라이브러리에서의 암묵적인 룰\n",
        "# 인풋 X는 2차 텐서 (행렬)\n",
        "# 아웃풋 y는 1차 텐서 (벡터) / 단, 세개 이상 카테고리면 행렬\n",
        "# X.shape = (506, 1) y.shape = (506,)"
      ],
      "metadata": {
        "colab": {
          "base_uri": "https://localhost:8080/"
        },
        "id": "s2L7QwwBTC6J",
        "outputId": "9aa6735f-2e74-49fc-ec83-38419a7d6a1a"
      },
      "execution_count": 71,
      "outputs": [
        {
          "output_type": "execute_result",
          "data": {
            "text/plain": [
              "((506, 1), (506,))"
            ]
          },
          "metadata": {},
          "execution_count": 71
        }
      ]
    },
    {
      "cell_type": "markdown",
      "source": [
        "* 데이터 분할 (테스트 비율 0.2)"
      ],
      "metadata": {
        "id": "kFIEJTGhTbBt"
      }
    },
    {
      "cell_type": "code",
      "source": [
        "from sklearn.model_selection import train_test_split\n",
        "X_train, X_test, y_train, y_test = train_test_split(X,y, test_size=0.2, random_state=1)\n",
        "X_train.shape, X_test.shape, y_train.shape, y_test.shape"
      ],
      "metadata": {
        "colab": {
          "base_uri": "https://localhost:8080/"
        },
        "id": "oJuhx3WzTcd1",
        "outputId": "e0c560c1-826c-4dcd-c582-14c6039bb100"
      },
      "execution_count": 72,
      "outputs": [
        {
          "output_type": "execute_result",
          "data": {
            "text/plain": [
              "((404, 1), (102, 1), (404,), (102,))"
            ]
          },
          "metadata": {},
          "execution_count": 72
        }
      ]
    },
    {
      "cell_type": "markdown",
      "source": [
        "* 스케일링 - 정규화 진행"
      ],
      "metadata": {
        "id": "1QMTBgw1TV_a"
      }
    },
    {
      "cell_type": "code",
      "source": [
        "from sklearn.preprocessing import StandardScaler\n",
        "\n",
        "# z-score\n",
        "sc_x = StandardScaler() # X에 대한 정규화 mean, std가 정해지지 않음\n",
        "sc_y = StandardScaler() # y에 대한 정규화 mean, std가 정해지지 않음\n",
        "sc_x.fit(X_train) # 인풋 X_train에 대한 mean, std 정해주기 \n",
        "sc_y.fit(y_train.reshape(-1,1)) # 아웃풋 y_train에 대한 mean, std 정해주기\n",
        "# fit 함수의 인풋은 2차 텐서\n",
        "# sc_x 함수 : 데이터 들어오면 x-mean_xtrain / std_xtrain"
      ],
      "metadata": {
        "colab": {
          "base_uri": "https://localhost:8080/"
        },
        "id": "y41IdgbsTUqG",
        "outputId": "2f6bd418-0345-4493-f033-6ca9466371f1"
      },
      "execution_count": 73,
      "outputs": [
        {
          "output_type": "execute_result",
          "data": {
            "text/plain": [
              "StandardScaler()"
            ]
          },
          "metadata": {},
          "execution_count": 73
        }
      ]
    },
    {
      "cell_type": "markdown",
      "source": [
        "* 훈련 데이터 정규화"
      ],
      "metadata": {
        "id": "GaYSKxwTUnAs"
      }
    },
    {
      "cell_type": "code",
      "source": [
        "X_train = sc_x.fit_transform(X_train)\n",
        "y_train = sc_y.fit_transform( np.expand_dims(y_train, 1) ).flatten()\n",
        "print(X_train.shape, y_train.shape)"
      ],
      "metadata": {
        "colab": {
          "base_uri": "https://localhost:8080/"
        },
        "id": "ouWeklk4T0xm",
        "outputId": "73236728-13ac-49f9-8fe3-3385c0e3a1bc"
      },
      "execution_count": 74,
      "outputs": [
        {
          "output_type": "stream",
          "name": "stdout",
          "text": [
            "(404, 1) (404,)\n"
          ]
        }
      ]
    },
    {
      "cell_type": "markdown",
      "source": [
        "* 테스트 데이터 정규화"
      ],
      "metadata": {
        "id": "EPAZ4MKZUr0a"
      }
    },
    {
      "cell_type": "code",
      "source": [
        "X_test = sc_x.fit_transform(X_test)\n",
        "y_test = sc_y.fit_transform( np.expand_dims(y_test, 1) ).flatten()\n",
        "print(X_test.shape, y_test.shape)"
      ],
      "metadata": {
        "colab": {
          "base_uri": "https://localhost:8080/"
        },
        "id": "lI2Q3tjFUfhq",
        "outputId": "e99a78e8-ec7c-469d-bd1e-d5b886e72374"
      },
      "execution_count": 75,
      "outputs": [
        {
          "output_type": "stream",
          "name": "stdout",
          "text": [
            "(102, 1) (102,)\n"
          ]
        }
      ]
    },
    {
      "cell_type": "markdown",
      "source": [
        "### **| 모델링**"
      ],
      "metadata": {
        "id": "vZlfqOjAUvGi"
      }
    },
    {
      "cell_type": "markdown",
      "source": [
        "#### **직접 만든 회귀 클래스 사용**"
      ],
      "metadata": {
        "id": "V17EHGHYVG7Y"
      }
    },
    {
      "cell_type": "markdown",
      "source": [
        "* 클래스 구현"
      ],
      "metadata": {
        "id": "nLVZc5p-VMsa"
      }
    },
    {
      "cell_type": "code",
      "source": [
        "class LinearRegressionGD():\n",
        "  def __init__(self, lr=0.001, random_state=1):\n",
        "    self.lr=lr\n",
        "    self.seed = np.random.RandomState(random_state)\n",
        "\n",
        "  def init_weights(self, X):\n",
        "    self.w = self.seed.normal(loc=0.0, scale = 0.01, size=1+X.shape[1])\n",
        "  \n",
        "  def model(self, X):\n",
        "    '''\n",
        "    X : (n_samples, n_features)\n",
        "    w : (n_features+1)\n",
        "    \n",
        "    return : (n_samples, )\n",
        "    '''\n",
        "    return np.dot(X, self.w[:-1])+self.w[-1]\n",
        "\n",
        "  def predict(self, X):\n",
        "    return self.model(X)\n",
        "\n",
        "  def loss(self, y, y_hat):\n",
        "    return 1/2 * ( (y-y_hat)**2 )\n",
        "    \n",
        "  def evaluate(self, X, y):\n",
        "    y_hat = self.model(X) # 예측\n",
        "    loss = ( self.loss(y,y_hat).sum() ) / len(y) # 손실 평균\n",
        "    return loss\n",
        "\n",
        "  def fit(self, X, y, epochs=10, show_params=False):\n",
        "\n",
        "    self.init_weights(X) # 가중치 초기화\n",
        "    self.history=dict(loss=[]) # history 초기화\n",
        "\n",
        "    for epoch in range(epochs):\n",
        "      # 최적화\n",
        "      y_hat = self.model(X)\n",
        "      self.w[:-1]+= self.lr * np.dot(X.T , (y-y_hat))\n",
        "      self.w[-1] += self.lr * np.sum(y-y_hat)\n",
        "      \n",
        "      # 평가\n",
        "      loss = self.evaluate(X, y)\n",
        "      self.history['loss'].append(loss)\n",
        "      print(f'[Epoch {epoch}] loss: {np.round(loss,2)}')\n",
        "      if show_params: print(self.w)\n",
        "\n",
        "  def draw_dflow(self, X, y, title='', figsize=(8,4)):\n",
        "    y_hat = self.model(X)\n",
        "    plt.figure(figsize=figsize)\n",
        "    plt.title(title)\n",
        "    plt.plot(y, label='y', marker='o')\n",
        "    plt.plot(y_hat, label='$\\hat{y}$', marker='.', linestyle='--')\n",
        "    plt.legend()\n",
        "    plt.show()\n",
        "\n",
        "  def draw_lcurve(self, title='', figsize=(8,4)):\n",
        "    plt.figure(figsize=figsize)\n",
        "    plt.title(title)\n",
        "    plt.plot(self.history['loss'], label='loss', marker='o')\n",
        "    plt.xlabel('epoch')\n",
        "    plt.legend()\n",
        "    plt.show()"
      ],
      "metadata": {
        "id": "SD4aJm-uVJtl"
      },
      "execution_count": 76,
      "outputs": []
    },
    {
      "cell_type": "markdown",
      "source": [
        "* 모델 로드 및 학습"
      ],
      "metadata": {
        "id": "jTBW4snUhFoW"
      }
    },
    {
      "cell_type": "code",
      "source": [
        "model = LinearRegressionGD(lr=0.0001)\n",
        "history = model.fit(X_train, y_train, epochs=100)"
      ],
      "metadata": {
        "colab": {
          "base_uri": "https://localhost:8080/"
        },
        "id": "AgCLSwKxVU1U",
        "outputId": "6f047487-6dc3-4d73-d502-d44e4a274958"
      },
      "execution_count": 77,
      "outputs": [
        {
          "output_type": "stream",
          "name": "stdout",
          "text": [
            "[Epoch 0] loss: 0.47\n",
            "[Epoch 1] loss: 0.46\n",
            "[Epoch 2] loss: 0.44\n",
            "[Epoch 3] loss: 0.43\n",
            "[Epoch 4] loss: 0.42\n",
            "[Epoch 5] loss: 0.41\n",
            "[Epoch 6] loss: 0.4\n",
            "[Epoch 7] loss: 0.39\n",
            "[Epoch 8] loss: 0.38\n",
            "[Epoch 9] loss: 0.37\n",
            "[Epoch 10] loss: 0.36\n",
            "[Epoch 11] loss: 0.35\n",
            "[Epoch 12] loss: 0.35\n",
            "[Epoch 13] loss: 0.34\n",
            "[Epoch 14] loss: 0.34\n",
            "[Epoch 15] loss: 0.33\n",
            "[Epoch 16] loss: 0.33\n",
            "[Epoch 17] loss: 0.32\n",
            "[Epoch 18] loss: 0.32\n",
            "[Epoch 19] loss: 0.32\n",
            "[Epoch 20] loss: 0.31\n",
            "[Epoch 21] loss: 0.31\n",
            "[Epoch 22] loss: 0.31\n",
            "[Epoch 23] loss: 0.3\n",
            "[Epoch 24] loss: 0.3\n",
            "[Epoch 25] loss: 0.3\n",
            "[Epoch 26] loss: 0.3\n",
            "[Epoch 27] loss: 0.3\n",
            "[Epoch 28] loss: 0.29\n",
            "[Epoch 29] loss: 0.29\n",
            "[Epoch 30] loss: 0.29\n",
            "[Epoch 31] loss: 0.29\n",
            "[Epoch 32] loss: 0.29\n",
            "[Epoch 33] loss: 0.29\n",
            "[Epoch 34] loss: 0.29\n",
            "[Epoch 35] loss: 0.29\n",
            "[Epoch 36] loss: 0.29\n",
            "[Epoch 37] loss: 0.28\n",
            "[Epoch 38] loss: 0.28\n",
            "[Epoch 39] loss: 0.28\n",
            "[Epoch 40] loss: 0.28\n",
            "[Epoch 41] loss: 0.28\n",
            "[Epoch 42] loss: 0.28\n",
            "[Epoch 43] loss: 0.28\n",
            "[Epoch 44] loss: 0.28\n",
            "[Epoch 45] loss: 0.28\n",
            "[Epoch 46] loss: 0.28\n",
            "[Epoch 47] loss: 0.28\n",
            "[Epoch 48] loss: 0.28\n",
            "[Epoch 49] loss: 0.28\n",
            "[Epoch 50] loss: 0.28\n",
            "[Epoch 51] loss: 0.28\n",
            "[Epoch 52] loss: 0.28\n",
            "[Epoch 53] loss: 0.28\n",
            "[Epoch 54] loss: 0.28\n",
            "[Epoch 55] loss: 0.28\n",
            "[Epoch 56] loss: 0.28\n",
            "[Epoch 57] loss: 0.28\n",
            "[Epoch 58] loss: 0.28\n",
            "[Epoch 59] loss: 0.28\n",
            "[Epoch 60] loss: 0.28\n",
            "[Epoch 61] loss: 0.28\n",
            "[Epoch 62] loss: 0.28\n",
            "[Epoch 63] loss: 0.28\n",
            "[Epoch 64] loss: 0.28\n",
            "[Epoch 65] loss: 0.28\n",
            "[Epoch 66] loss: 0.28\n",
            "[Epoch 67] loss: 0.28\n",
            "[Epoch 68] loss: 0.28\n",
            "[Epoch 69] loss: 0.28\n",
            "[Epoch 70] loss: 0.28\n",
            "[Epoch 71] loss: 0.28\n",
            "[Epoch 72] loss: 0.28\n",
            "[Epoch 73] loss: 0.28\n",
            "[Epoch 74] loss: 0.28\n",
            "[Epoch 75] loss: 0.28\n",
            "[Epoch 76] loss: 0.28\n",
            "[Epoch 77] loss: 0.28\n",
            "[Epoch 78] loss: 0.28\n",
            "[Epoch 79] loss: 0.28\n",
            "[Epoch 80] loss: 0.28\n",
            "[Epoch 81] loss: 0.28\n",
            "[Epoch 82] loss: 0.28\n",
            "[Epoch 83] loss: 0.28\n",
            "[Epoch 84] loss: 0.28\n",
            "[Epoch 85] loss: 0.28\n",
            "[Epoch 86] loss: 0.28\n",
            "[Epoch 87] loss: 0.28\n",
            "[Epoch 88] loss: 0.28\n",
            "[Epoch 89] loss: 0.28\n",
            "[Epoch 90] loss: 0.28\n",
            "[Epoch 91] loss: 0.28\n",
            "[Epoch 92] loss: 0.28\n",
            "[Epoch 93] loss: 0.27\n",
            "[Epoch 94] loss: 0.27\n",
            "[Epoch 95] loss: 0.27\n",
            "[Epoch 96] loss: 0.27\n",
            "[Epoch 97] loss: 0.27\n",
            "[Epoch 98] loss: 0.27\n",
            "[Epoch 99] loss: 0.27\n"
          ]
        }
      ]
    },
    {
      "cell_type": "markdown",
      "source": [
        "* 학습곡선 그리기"
      ],
      "metadata": {
        "id": "7RLF_j2qhIh1"
      }
    },
    {
      "cell_type": "code",
      "source": [
        "model.draw_lcurve()"
      ],
      "metadata": {
        "colab": {
          "base_uri": "https://localhost:8080/",
          "height": 279
        },
        "id": "HOyh9oSAVeU0",
        "outputId": "fd4e1496-3efb-42d2-cc7a-3c8c338a8187"
      },
      "execution_count": 78,
      "outputs": [
        {
          "output_type": "display_data",
          "data": {
            "text/plain": [
              "<Figure size 576x288 with 1 Axes>"
            ],
            "image/png": "[encoded data removed]"
          },
          "metadata": {
            "needs_background": "light"
          }
        }
      ]
    },
    {
      "cell_type": "markdown",
      "source": [
        "* 값 비교"
      ],
      "metadata": {
        "id": "4UIXf-YkhJ9z"
      }
    },
    {
      "cell_type": "code",
      "source": [
        "print('성능: ', model.evaluate(X_train, y_train))\n",
        "model.draw_dflow(X_train, y_train, figsize=(16,4))"
      ],
      "metadata": {
        "colab": {
          "base_uri": "https://localhost:8080/",
          "height": 283
        },
        "id": "fFmb0Md0VX1O",
        "outputId": "28fb6b41-2d92-429a-a154-5a908c0941a3"
      },
      "execution_count": 79,
      "outputs": [
        {
          "output_type": "stream",
          "name": "stdout",
          "text": [
            "성능:  0.2749602283874613\n"
          ]
        },
        {
          "output_type": "display_data",
          "data": {
            "text/plain": [
              "<Figure size 1152x288 with 1 Axes>"
            ],
            "image/png": "[encoded data removed]"
          },
          "metadata": {
            "needs_background": "light"
          }
        }
      ]
    },
    {
      "cell_type": "markdown",
      "source": [
        "* 기울기와 절편 구하기\n",
        "\n",
        "\\begin{align}\n",
        "\\hat{y} = wx+b\n",
        "\\end{align}"
      ],
      "metadata": {
        "id": "BrWvCUqVhLzQ"
      }
    },
    {
      "cell_type": "code",
      "source": [
        "print('기울기: %.3f' % model.w[0])\n",
        "print('절편: %.3f' % model.w[1])\n",
        "# 주택가격 = 방 개수 * 0.671 + 0"
      ],
      "metadata": {
        "colab": {
          "base_uri": "https://localhost:8080/"
        },
        "id": "rttArx7Cf4-C",
        "outputId": "af58b404-d46d-4d14-adb4-fd2943ee1dd8"
      },
      "execution_count": 80,
      "outputs": [
        {
          "output_type": "stream",
          "name": "stdout",
          "text": [
            "기울기: 0.660\n",
            "절편: -0.000\n"
          ]
        }
      ]
    },
    {
      "cell_type": "markdown",
      "source": [
        "* 회귀선 시각화"
      ],
      "metadata": {
        "id": "nFHv-aEqhu4k"
      }
    },
    {
      "cell_type": "code",
      "source": [
        "plt.scatter(X_train, y_train, label = 'trainset', c='dodgerblue', edgecolor='k')\n",
        "plt.scatter(X_test, y_test, label='testset', c='limegreen', edgecolor='k')\n",
        "plt.plot(X_train, model.predict(X_train), color='r', linestyle=':')    \n",
        "plt.xlabel('Average number of rooms [RM] (standardized)')\n",
        "plt.ylabel('Price in $1000s [MEDV] (standardized)')\n",
        "plt.legend()\n",
        "plt.show()"
      ],
      "metadata": {
        "id": "K-iSPj7AV0Cv",
        "colab": {
          "base_uri": "https://localhost:8080/",
          "height": 279
        },
        "outputId": "56bc5480-6f66-49ee-bed9-0dfcd165a519"
      },
      "execution_count": 81,
      "outputs": [
        {
          "output_type": "display_data",
          "data": {
            "text/plain": [
              "<Figure size 432x288 with 1 Axes>"
            ],
            "image/png": "[encoded data removed]"
          },
          "metadata": {
            "needs_background": "light"
          }
        }
      ]
    },
    {
      "cell_type": "markdown",
      "source": [
        "#### **사이킷런으로 추정**"
      ],
      "metadata": {
        "id": "mQb03fh0VJ8C"
      }
    },
    {
      "cell_type": "markdown",
      "source": [
        "* 모델 로드 및 학습"
      ],
      "metadata": {
        "id": "a-GeCXpeifQZ"
      }
    },
    {
      "cell_type": "code",
      "source": [
        "from sklearn.linear_model import *\n",
        "\n",
        "lr = LinearRegression()\n",
        "lr.fit(X_train, y_train)"
      ],
      "metadata": {
        "colab": {
          "base_uri": "https://localhost:8080/"
        },
        "id": "G5jnP9DEU3JO",
        "outputId": "58e6a1c2-9b4d-41df-c75c-cc152e9b41e5"
      },
      "execution_count": 82,
      "outputs": [
        {
          "output_type": "execute_result",
          "data": {
            "text/plain": [
              "LinearRegression()"
            ]
          },
          "metadata": {},
          "execution_count": 82
        }
      ]
    },
    {
      "cell_type": "markdown",
      "source": [
        "* 기울기와 절편 구하기\n",
        "\n",
        "\\begin{align}\n",
        "\\hat{y} = wx+b\n",
        "\\end{align}"
      ],
      "metadata": {
        "id": "OD34Jhjfij_7"
      }
    },
    {
      "cell_type": "code",
      "source": [
        "y_pred = lr.predict(X_train)\n",
        "print('기울기: %.3f' % lr.coef_[0])\n",
        "print('절편: %.3f' % lr.intercept_)"
      ],
      "metadata": {
        "colab": {
          "base_uri": "https://localhost:8080/"
        },
        "id": "8LDgTEVYgHQV",
        "outputId": "4d4439f5-b983-4108-883f-62d61330aafd"
      },
      "execution_count": 83,
      "outputs": [
        {
          "output_type": "stream",
          "name": "stdout",
          "text": [
            "기울기: 0.671\n",
            "절편: 0.000\n"
          ]
        }
      ]
    },
    {
      "cell_type": "markdown",
      "source": [
        "* 회귀선 시각화"
      ],
      "metadata": {
        "id": "dLax2AvZilpK"
      }
    },
    {
      "cell_type": "code",
      "source": [
        "plt.scatter(X_train, y_train, label = 'trainset', c='dodgerblue', edgecolor='k')\n",
        "plt.scatter(X_test, y_test, label='testset', c='limegreen', edgecolor='k')\n",
        "plt.plot(X_train, lr.predict(X_train), color='r', linestyle=':')    \n",
        "plt.xlabel('Average number of rooms [RM] (standardized)')\n",
        "plt.ylabel('Price in $1000s [MEDV] (standardized)')\n",
        "plt.legend()\n",
        "plt.show()"
      ],
      "metadata": {
        "colab": {
          "base_uri": "https://localhost:8080/",
          "height": 279
        },
        "id": "ikWwDiHLgMDn",
        "outputId": "62056351-0d4f-4a54-b067-2022d2d70db0"
      },
      "execution_count": 84,
      "outputs": [
        {
          "output_type": "display_data",
          "data": {
            "text/plain": [
              "<Figure size 432x288 with 1 Axes>"
            ],
            "image/png": "[encoded data removed]"
          },
          "metadata": {
            "needs_background": "light"
          }
        }
      ]
    },
    {
      "cell_type": "markdown",
      "source": [
        "#### **RANSAC을 사용한 안정된 회귀모델 훈련**\n",
        "\n",
        "- RANSAC (RANdom SAmple Consensus)\n",
        "- 이상치를 효율적으로 다루는 알고리즘\n",
        "- 이상치를 제거하는 대신 정상치(inlier) 라는 일부 데이터로 회귀 모델을 훈련\n",
        "\n",
        "```\n",
        "1. 랜덤하게 일부 샘플을 정상치로 선택하여 모델 훈련\n",
        "2. 훈련된 모델에서 다른 모든 포인트를 테스트하여 사용자가 입력한 허용 오차 안에 속한 포인트를 정상치에 추가\n",
        "3. 모든 정상치를 사용하여 모델을 재훈련\n",
        "4. 훈련된 모델과 정상치 간의 오차 추정\n",
        "5. 성능이 사용자가 지정한 임계 값에 도달하거나 지정된 반복 횟수에 도달하면 알고리즘 종료\n",
        "```"
      ],
      "metadata": {
        "id": "glCk2hCxkoAO"
      }
    },
    {
      "cell_type": "markdown",
      "source": [
        "* 모델 로드 및 훈련"
      ],
      "metadata": {
        "id": "6DtMIh6u9l21"
      }
    },
    {
      "cell_type": "code",
      "source": [
        "from sklearn.linear_model import RANSACRegressor\n",
        "\n",
        "ransac = RANSACRegressor(LinearRegression(), \n",
        "                         max_trials=100, # 최대반복 횟수\n",
        "                         min_samples=50, # 랜덤하게 선택할 샘플의 최소 개수\n",
        "                         loss='absolute_error', # 손실함수 (절대 오차)\n",
        "                         #residual_threshold=5.0, # 정상치 임계 값 (회귀선과 수직거리 5 이내의 정상 샘플만 포함)\n",
        "                         random_state=1)\n",
        "\n",
        "\n",
        "ransac.fit(X_train, y_train)"
      ],
      "metadata": {
        "colab": {
          "base_uri": "https://localhost:8080/"
        },
        "id": "HXbx36OFlKIL",
        "outputId": "d42c40a8-26e7-40d1-80be-712e93bb1f1a"
      },
      "execution_count": 85,
      "outputs": [
        {
          "output_type": "execute_result",
          "data": {
            "text/plain": [
              "RANSACRegressor(base_estimator=LinearRegression(), min_samples=50,\n",
              "                random_state=1)"
            ]
          },
          "metadata": {},
          "execution_count": 85
        }
      ]
    },
    {
      "cell_type": "markdown",
      "source": [
        "* 학습 파라미터 확인"
      ],
      "metadata": {
        "id": "MdHyc5S4EMCx"
      }
    },
    {
      "cell_type": "code",
      "source": [
        "print('기울기: %.3f' % ransac.estimator_.coef_[0])\n",
        "print('절편: %.3f' % ransac.estimator_.intercept_)"
      ],
      "metadata": {
        "colab": {
          "base_uri": "https://localhost:8080/"
        },
        "id": "8VtK2HZdo5i-",
        "outputId": "ad8b29a4-37dc-4742-992c-4e45c34a158c"
      },
      "execution_count": 86,
      "outputs": [
        {
          "output_type": "stream",
          "name": "stdout",
          "text": [
            "기울기: 0.816\n",
            "절편: 0.069\n"
          ]
        }
      ]
    },
    {
      "cell_type": "markdown",
      "source": [
        "* 정상치와 이상치 구분"
      ],
      "metadata": {
        "id": "gnCzukk3GFbt"
      }
    },
    {
      "cell_type": "code",
      "source": [
        "inlier_mask = ransac.inlier_mask_\n",
        "outlier_mask = np.logical_not(inlier_mask)\n",
        "inlier_mask.shape"
      ],
      "metadata": {
        "colab": {
          "base_uri": "https://localhost:8080/"
        },
        "id": "1aUnGdBTmB67",
        "outputId": "e8268244-49d9-4b65-d671-695adf5717b5"
      },
      "execution_count": 87,
      "outputs": [
        {
          "output_type": "execute_result",
          "data": {
            "text/plain": [
              "(404,)"
            ]
          },
          "metadata": {},
          "execution_count": 87
        }
      ]
    },
    {
      "cell_type": "markdown",
      "source": [
        "* 정상치와 이상치 데이터 시각화"
      ],
      "metadata": {
        "id": "Z6_2MK8kGJn6"
      }
    },
    {
      "cell_type": "code",
      "source": [
        "plt.scatter(X_train[inlier_mask], y_train[inlier_mask], label = 'inlier', c='dodgerblue', edgecolor='k')\n",
        "plt.scatter(X_train[outlier_mask], y_train[outlier_mask], label='outlier', c='limegreen', edgecolor='k')\n",
        "plt.plot(X_train, ransac.predict(X_train), color='r', linestyle=':')    \n",
        "\n",
        "plt.xlabel('Average number of rooms [RM] (standardized)')\n",
        "plt.ylabel('Price in $1000s [MEDV] (standardized)')\n",
        "plt.legend()\n",
        "plt.show()"
      ],
      "metadata": {
        "colab": {
          "base_uri": "https://localhost:8080/",
          "height": 279
        },
        "id": "x2H2vcRKmGKN",
        "outputId": "0f87e1a0-3362-44f4-fd51-0eda444e94bc"
      },
      "execution_count": 88,
      "outputs": [
        {
          "output_type": "display_data",
          "data": {
            "text/plain": [
              "<Figure size 432x288 with 1 Axes>"
            ],
            "image/png": "[encoded data removed]"
          },
          "metadata": {
            "needs_background": "light"
          }
        }
      ]
    },
    {
      "cell_type": "markdown",
      "source": [
        "### **| 회귀 성능 지표**"
      ],
      "metadata": {
        "id": "rlgky6Ooro-0"
      }
    },
    {
      "cell_type": "markdown",
      "source": [
        "* 성능지표 함수 임포트"
      ],
      "metadata": {
        "id": "mh4CcE5buxF_"
      }
    },
    {
      "cell_type": "code",
      "source": [
        "from sklearn.metrics import mean_squared_error, r2_score, mean_absolute_error"
      ],
      "metadata": {
        "id": "d7iHLJzHT9tr"
      },
      "execution_count": 89,
      "outputs": []
    },
    {
      "cell_type": "markdown",
      "source": [
        "* 성능 확인을 위한 y 예측값 불러오기"
      ],
      "metadata": {
        "id": "eJG12F5CAFiY"
      }
    },
    {
      "cell_type": "code",
      "source": [
        "lr = LinearRegression()\n",
        "lr.fit(X_train, y_train)\n",
        "y_pred = lr.predict(X_train)\n",
        "y_train.shape, y_pred.shape"
      ],
      "metadata": {
        "colab": {
          "base_uri": "https://localhost:8080/"
        },
        "id": "LHdcZJ7Br7QM",
        "outputId": "eb3b4b42-d9cc-4c1a-f568-9e699b784da8"
      },
      "execution_count": 90,
      "outputs": [
        {
          "output_type": "execute_result",
          "data": {
            "text/plain": [
              "((404,), (404,))"
            ]
          },
          "metadata": {},
          "execution_count": 90
        }
      ]
    },
    {
      "cell_type": "markdown",
      "source": [
        "#### **MSE (Mean Squared Error, 평균 제곱 오차)**\n",
        "\n",
        "\\begin{split}\n",
        "\\frac{1}{n} \\sum^n_{i=1}(y_i - \\hat{y_i})^2\n",
        "\\end{split}"
      ],
      "metadata": {
        "id": "7pBucmdgTLdl"
      }
    },
    {
      "cell_type": "code",
      "source": [
        "mean_squared_error(y_train, y_pred)"
      ],
      "metadata": {
        "colab": {
          "base_uri": "https://localhost:8080/"
        },
        "id": "7tGAjYkmT3b1",
        "outputId": "2da63821-6cdc-4c66-e025-e15f4690dede"
      },
      "execution_count": 91,
      "outputs": [
        {
          "output_type": "execute_result",
          "data": {
            "text/plain": [
              "0.5498082040657762"
            ]
          },
          "metadata": {},
          "execution_count": 91
        }
      ]
    },
    {
      "cell_type": "markdown",
      "source": [
        "#### **RMSE (Root Mean Squared Error, 제곱근 평균 제곱 오차)**\n",
        "\n",
        "\\begin{split}\n",
        "\\sqrt{\\frac{1}{n} \\sum^n_{i=1}(y_i - \\hat{y_i})^2}\n",
        "\\end{split}"
      ],
      "metadata": {
        "id": "zYHp08_6UK1s"
      }
    },
    {
      "cell_type": "code",
      "source": [
        "np.sqrt(mean_squared_error(y_train, y_pred))"
      ],
      "metadata": {
        "colab": {
          "base_uri": "https://localhost:8080/"
        },
        "outputId": "5a0ba718-fd6a-48b2-812f-ed92b33bc2c6",
        "id": "l4ML39GpUK1s"
      },
      "execution_count": 92,
      "outputs": [
        {
          "output_type": "execute_result",
          "data": {
            "text/plain": [
              "0.7414905286419889"
            ]
          },
          "metadata": {},
          "execution_count": 92
        }
      ]
    },
    {
      "cell_type": "markdown",
      "source": [
        "#### **MAE (Mean Absolute Error, 평균 절대 오차)**\n",
        "\n",
        "\\begin{split}\n",
        "\\frac{1}{n} \\sum^n_{i=1}|y_i - \\hat{y_i}|\n",
        "\\end{split}"
      ],
      "metadata": {
        "id": "KXoQP7tVUcyE"
      }
    },
    {
      "cell_type": "code",
      "source": [
        "mean_absolute_error(y_train, y_pred)"
      ],
      "metadata": {
        "colab": {
          "base_uri": "https://localhost:8080/"
        },
        "outputId": "65113215-6117-4c74-c657-f6eda9d80dee",
        "id": "Gw3Fc2D9UcyG"
      },
      "execution_count": 93,
      "outputs": [
        {
          "output_type": "execute_result",
          "data": {
            "text/plain": [
              "0.48671047551356345"
            ]
          },
          "metadata": {},
          "execution_count": 93
        }
      ]
    },
    {
      "cell_type": "markdown",
      "source": [
        "#### **NMAE (Noramlized Mean Absolute Error, 정규화된 평균 절대 오차)**\n",
        "\n",
        "\\begin{split}\n",
        "\\frac{MAE}{\\frac{1}{n} \\sum^n_{i=1}|y_i|} \n",
        "\\end{split}\n",
        "\n",
        "\\begin{split}\n",
        "\\frac{\\frac{1}{n} \\sum^n_{i=1}|y_i - \\hat{y_i}|\n",
        "}{\\frac{1}{n} \\sum^n_{i=1}|y_i|} \n",
        "\\end{split}\n",
        "\n",
        "\n",
        "\n",
        "\\begin{split}\n",
        "\\frac{1}{n} \\sum^n_{i=1} |\\frac{y_i-\\hat{y_i}}{y_i}| \\\n",
        "\\end{split}"
      ],
      "metadata": {
        "id": "5KvRW19d23Fq"
      }
    },
    {
      "cell_type": "code",
      "source": [
        "def norm_mean_absolute_error(y_true, y_pred):\n",
        "  return mean_absolute_error(y_true, y_pred)/np.mean(np.abs(y_true))\n",
        "norm_mean_absolute_error(y_train, y_pred)"
      ],
      "metadata": {
        "id": "3tH7obrc23Fq",
        "colab": {
          "base_uri": "https://localhost:8080/"
        },
        "outputId": "e5f33fdf-18a5-4ef2-9b80-833eb03e0d27"
      },
      "execution_count": 94,
      "outputs": [
        {
          "output_type": "execute_result",
          "data": {
            "text/plain": [
              "0.664893492372813"
            ]
          },
          "metadata": {},
          "execution_count": 94
        }
      ]
    },
    {
      "cell_type": "markdown",
      "source": [
        "#### **MAPE (Mean Absolute Percentage Error, 평균 절대 백분율 오차)**\n",
        "\n",
        "\\begin{split}\n",
        "\\frac{1}{n} \\sum^n_{i=1} |\\frac{y_i-\\hat{y_i}}{y_i}| × 100 \\\n",
        "\\end{split}"
      ],
      "metadata": {
        "id": "ekodcPpwUs9U"
      }
    },
    {
      "cell_type": "code",
      "source": [
        "def mean_absolute_percentage_error(y_true, y_pred):\n",
        "  return np.mean(np.abs( (y_true-y_pred) / y_true) ) * 100\n",
        "\n",
        "mean_absolute_percentage_error(y_train, y_pred)"
      ],
      "metadata": {
        "id": "VxkBIlGWUs9U",
        "colab": {
          "base_uri": "https://localhost:8080/"
        },
        "outputId": "bc17bc0e-09a5-4405-bd68-d2fc0f711929"
      },
      "execution_count": 95,
      "outputs": [
        {
          "output_type": "execute_result",
          "data": {
            "text/plain": [
              "234.51534074168111"
            ]
          },
          "metadata": {},
          "execution_count": 95
        }
      ]
    },
    {
      "cell_type": "markdown",
      "source": [
        "#### **SSE (Explained sum of squares)**\n",
        "\n",
        "\\begin{split}\n",
        "\\sum^n_{i=1} (y_i-\\hat{y_i})^2\n",
        "\\end{split}\n",
        "\n"
      ],
      "metadata": {
        "id": "Rnclf45qcfnz"
      }
    },
    {
      "cell_type": "code",
      "source": [
        "np.sum( (y_train-y_pred)**2 )"
      ],
      "metadata": {
        "id": "dU5yFhKbc13s",
        "colab": {
          "base_uri": "https://localhost:8080/"
        },
        "outputId": "a1600648-aad2-417e-b7d3-fe92befb4119"
      },
      "execution_count": 96,
      "outputs": [
        {
          "output_type": "execute_result",
          "data": {
            "text/plain": [
              "222.12251444257362"
            ]
          },
          "metadata": {},
          "execution_count": 96
        }
      ]
    },
    {
      "cell_type": "markdown",
      "source": [
        "#### **SSR(Residual sum of squares)**\n",
        "\n",
        "\\begin{split}\n",
        "\\sum^n_{i=1} (\\hat{y_i}-\\bar{y})^2\n",
        "\\end{split}"
      ],
      "metadata": {
        "id": "VvJbc8dqc2b1"
      }
    },
    {
      "cell_type": "code",
      "source": [
        "np.sum( ( y_pred - np.mean(y_train) )**2  )"
      ],
      "metadata": {
        "id": "CXK4iTe0c2b1",
        "colab": {
          "base_uri": "https://localhost:8080/"
        },
        "outputId": "3837870b-7689-46f4-f32e-d8c38cacb02a"
      },
      "execution_count": 97,
      "outputs": [
        {
          "output_type": "execute_result",
          "data": {
            "text/plain": [
              "181.87748555742644"
            ]
          },
          "metadata": {},
          "execution_count": 97
        }
      ]
    },
    {
      "cell_type": "markdown",
      "source": [
        "#### **SST(total sum of squares)**\n",
        "\n",
        "\\begin{split}\n",
        "\\sum^n_{i=1} (y_i-\\bar{y})^2\n",
        "\\end{split}"
      ],
      "metadata": {
        "id": "2MCw6urzc2oU"
      }
    },
    {
      "cell_type": "code",
      "source": [
        "np.sum( (y_train - np.mean(y_train))**2 )"
      ],
      "metadata": {
        "id": "XhNGLPqCc2oU",
        "colab": {
          "base_uri": "https://localhost:8080/"
        },
        "outputId": "5a549d8f-cc30-4d53-ce3f-19a67778e95c"
      },
      "execution_count": 98,
      "outputs": [
        {
          "output_type": "execute_result",
          "data": {
            "text/plain": [
              "404.0000000000001"
            ]
          },
          "metadata": {},
          "execution_count": 98
        }
      ]
    },
    {
      "cell_type": "markdown",
      "source": [
        "#### **결정계수 $R^2$**\n",
        "* $R^2$ 는 0과 1 사이 존재\n",
        "* $R^2 = 1$: 현재 가지고 있는 x 변수로 y를 100% 설명 가능 함. 즉, 모든 관측치가 회귀 직선 위에 있다.\n",
        "* $R^2=0$: 현재 가지고 있는 x 변수는 y를 설명하는데 전혀 도움이 되지 않는다.\n",
        "\n",
        "\n",
        "\\begin{split}\n",
        "R^2 = \\frac{SSR}{SST} = 1-\\frac{SSE}{SST}\n",
        "\\end{split}"
      ],
      "metadata": {
        "id": "cSSLHPS5WZbr"
      }
    },
    {
      "cell_type": "code",
      "source": [
        "r2_score(y_train, y_pred)"
      ],
      "metadata": {
        "colab": {
          "base_uri": "https://localhost:8080/"
        },
        "outputId": "b245dcc3-2dfd-4de8-8dca-3b4010efa679",
        "id": "9-jWORa_WZbs"
      },
      "execution_count": 99,
      "outputs": [
        {
          "output_type": "execute_result",
          "data": {
            "text/plain": [
              "0.45019179593422387"
            ]
          },
          "metadata": {},
          "execution_count": 99
        }
      ]
    },
    {
      "cell_type": "markdown",
      "source": [
        "* 함수 정리"
      ],
      "metadata": {
        "id": "ZsH4NtXMxOZk"
      }
    },
    {
      "cell_type": "code",
      "source": [
        "from sklearn.metrics import mean_squared_error, mean_absolute_error, r2_score\n",
        "\n",
        "def mean_absolute_percentage_error(y_true, y_pred):\n",
        "  return np.mean(np.abs( (y_true-y_pred) / y_true) ) * 100\n",
        "\n",
        "def norm_mean_absolute_error(y_true, y_pred):\n",
        "  return mean_absolute_error(y_true, y_pred)/np.mean(np.abs(y_true))\n",
        "\n",
        "def regression_scores(y_true,y_pred):\n",
        "  mse = mean_squared_error(y_true, y_pred)\n",
        "  rmse = np.sqrt(mean_squared_error(y_true, y_pred))\n",
        "  mae = mean_absolute_error(y_true, y_pred)\n",
        "  nmae = norm_mean_absolute_error(y_true, y_pred)\n",
        "  mape = mean_absolute_percentage_error(y_true, y_pred)\n",
        "  r2 = r2_score(y_true, y_pred)\n",
        "  return {'mse':np.round(mse,3), 'rmse':np.round(rmse,3), 'mae':np.round(mae,3), 'nmae':np.round(nmae,3), 'mape':np.round(mape,3), 'r2':np.round(r2,3) }\n",
        "\n",
        "\n",
        "regression_scores(y_train, y_pred)"
      ],
      "metadata": {
        "colab": {
          "base_uri": "https://localhost:8080/"
        },
        "id": "_N37ApHuXPho",
        "outputId": "679da804-6baa-4b5d-8a18-b78e3575f165"
      },
      "execution_count": 100,
      "outputs": [
        {
          "output_type": "execute_result",
          "data": {
            "text/plain": [
              "{'mae': 0.487,\n",
              " 'mape': 234.515,\n",
              " 'mse': 0.55,\n",
              " 'nmae': 0.665,\n",
              " 'r2': 0.45,\n",
              " 'rmse': 0.741}"
            ]
          },
          "metadata": {},
          "execution_count": 100
        }
      ]
    },
    {
      "cell_type": "code",
      "source": [
        "y_pred = lr.predict(X_test)\n",
        "pd.DataFrame(regression_scores(y_test, y_pred), index=['linear'])"
      ],
      "metadata": {
        "colab": {
          "base_uri": "https://localhost:8080/",
          "height": 81
        },
        "id": "mHPw_OyopVDp",
        "outputId": "7fc2000c-54ef-4ad1-8244-7c527066e2ba"
      },
      "execution_count": 101,
      "outputs": [
        {
          "output_type": "execute_result",
          "data": {
            "text/plain": [
              "          mse   rmse    mae   nmae    mape     r2\n",
              "linear  0.406  0.637  0.479  0.689  213.53  0.594"
            ],
            "text/html": [
              "\n",
              "  <div id=\"df-c4c84eda-a298-404f-884e-8ad85031aa42\">\n",
              "    <div class=\"colab-df-container\">\n",
              "      <div>\n",
              "<style scoped>\n",
              "    .dataframe tbody tr th:only-of-type {\n",
              "        vertical-align: middle;\n",
              "    }\n",
              "\n",
              "    .dataframe tbody tr th {\n",
              "        vertical-align: top;\n",
              "    }\n",
              "\n",
              "    .dataframe thead th {\n",
              "        text-align: right;\n",
              "    }\n",
              "</style>\n",
              "<table border=\"1\" class=\"dataframe\">\n",
              "  <thead>\n",
              "    <tr style=\"text-align: right;\">\n",
              "      <th></th>\n",
              "      <th>mse</th>\n",
              "      <th>rmse</th>\n",
              "      <th>mae</th>\n",
              "      <th>nmae</th>\n",
              "      <th>mape</th>\n",
              "      <th>r2</th>\n",
              "    </tr>\n",
              "  </thead>\n",
              "  <tbody>\n",
              "    <tr>\n",
              "      <th>linear</th>\n",
              "      <td>0.406</td>\n",
              "      <td>0.637</td>\n",
              "      <td>0.479</td>\n",
              "      <td>0.689</td>\n",
              "      <td>213.53</td>\n",
              "      <td>0.594</td>\n",
              "    </tr>\n",
              "  </tbody>\n",
              "</table>\n",
              "</div>\n",
              "      <button class=\"colab-df-convert\" onclick=\"convertToInteractive('df-c4c84eda-a298-404f-884e-8ad85031aa42')\"\n",
              "              title=\"Convert this dataframe to an interactive table.\"\n",
              "              style=\"display:none;\">\n",
              "        \n",
              "  <svg xmlns=\"http://www.w3.org/2000/svg\" height=\"24px\"viewBox=\"0 0 24 24\"\n",
              "       width=\"24px\">\n",
              "    <path d=\"M0 0h24v24H0V0z\" fill=\"none\"/>\n",
              "    <path d=\"M18.56 5.44l.94 2.06.94-2.06 2.06-.94-2.06-.94-.94-2.06-.94 2.06-2.06.94zm-11 1L8.5 8.5l.94-2.06 2.06-.94-2.06-.94L8.5 2.5l-.94 2.06-2.06.94zm10 10l.94 2.06.94-2.06 2.06-.94-2.06-.94-.94-2.06-.94 2.06-2.06.94z\"/><path d=\"M17.41 7.96l-1.37-1.37c-.4-.4-.92-.59-1.43-.59-.52 0-1.04.2-1.43.59L10.3 9.45l-7.72 7.72c-.78.78-.78 2.05 0 2.83L4 21.41c.39.39.9.59 1.41.59.51 0 1.02-.2 1.41-.59l7.78-7.78 2.81-2.81c.8-.78.8-2.07 0-2.86zM5.41 20L4 18.59l7.72-7.72 1.47 1.35L5.41 20z\"/>\n",
              "  </svg>\n",
              "      </button>\n",
              "      \n",
              "  <style>\n",
              "    .colab-df-container {\n",
              "      display:flex;\n",
              "      flex-wrap:wrap;\n",
              "      gap: 12px;\n",
              "    }\n",
              "\n",
              "    .colab-df-convert {\n",
              "      background-color: #E8F0FE;\n",
              "      border: none;\n",
              "      border-radius: 50%;\n",
              "      cursor: pointer;\n",
              "      display: none;\n",
              "      fill: #1967D2;\n",
              "      height: 32px;\n",
              "      padding: 0 0 0 0;\n",
              "      width: 32px;\n",
              "    }\n",
              "\n",
              "    .colab-df-convert:hover {\n",
              "      background-color: #E2EBFA;\n",
              "      box-shadow: 0px 1px 2px rgba(60, 64, 67, 0.3), 0px 1px 3px 1px rgba(60, 64, 67, 0.15);\n",
              "      fill: #174EA6;\n",
              "    }\n",
              "\n",
              "    [theme=dark] .colab-df-convert {\n",
              "      background-color: #3B4455;\n",
              "      fill: #D2E3FC;\n",
              "    }\n",
              "\n",
              "    [theme=dark] .colab-df-convert:hover {\n",
              "      background-color: #434B5C;\n",
              "      box-shadow: 0px 1px 3px 1px rgba(0, 0, 0, 0.15);\n",
              "      filter: drop-shadow(0px 1px 2px rgba(0, 0, 0, 0.3));\n",
              "      fill: #FFFFFF;\n",
              "    }\n",
              "  </style>\n",
              "\n",
              "      <script>\n",
              "        const buttonEl =\n",
              "          document.querySelector('#df-c4c84eda-a298-404f-884e-8ad85031aa42 button.colab-df-convert');\n",
              "        buttonEl.style.display =\n",
              "          google.colab.kernel.accessAllowed ? 'block' : 'none';\n",
              "\n",
              "        async function convertToInteractive(key) {\n",
              "          const element = document.querySelector('#df-c4c84eda-a298-404f-884e-8ad85031aa42');\n",
              "          const dataTable =\n",
              "            await google.colab.kernel.invokeFunction('convertToInteractive',\n",
              "                                                     [key], {});\n",
              "          if (!dataTable) return;\n",
              "\n",
              "          const docLinkHtml = 'Like what you see? Visit the ' +\n",
              "            '<a target=\"_blank\" href=https://colab.research.google.com/notebooks/data_table.ipynb>data table notebook</a>'\n",
              "            + ' to learn more about interactive tables.';\n",
              "          element.innerHTML = '';\n",
              "          dataTable['output_type'] = 'display_data';\n",
              "          await google.colab.output.renderOutput(dataTable, element);\n",
              "          const docLink = document.createElement('div');\n",
              "          docLink.innerHTML = docLinkHtml;\n",
              "          element.appendChild(docLink);\n",
              "        }\n",
              "      </script>\n",
              "    </div>\n",
              "  </div>\n",
              "  "
            ]
          },
          "metadata": {},
          "execution_count": 101
        }
      ]
    },
    {
      "cell_type": "markdown",
      "source": [
        "## 다중 회귀 분석\n",
        "---"
      ],
      "metadata": {
        "id": "s-cWo_2HtvM7"
      }
    },
    {
      "cell_type": "markdown",
      "source": [
        "### **| 데이터 전처리**"
      ],
      "metadata": {
        "id": "JFWAN6Vzt4WG"
      }
    },
    {
      "cell_type": "markdown",
      "source": [
        "* 넘파이 배열로 변환"
      ],
      "metadata": {
        "id": "mCP9UVzXt4WG"
      }
    },
    {
      "cell_type": "code",
      "source": [
        "print(df.columns)\n",
        "X = df.iloc[:, :-1].values\n",
        "y = df['MEDV'].values\n",
        "print(X.shape, y.shape)"
      ],
      "metadata": {
        "colab": {
          "base_uri": "https://localhost:8080/"
        },
        "outputId": "20126960-50dd-44af-a0f3-bf7a6436d464",
        "id": "vtPO7fGut4WG"
      },
      "execution_count": 103,
      "outputs": [
        {
          "output_type": "stream",
          "name": "stdout",
          "text": [
            "Index(['CRIM', 'ZN', 'INDUS', 'CHAS', 'NOX', 'RM', 'AGE', 'DIS', 'RAD', 'TAX',\n",
            "       'PTRATIO', 'B', 'LSTAT', 'MEDV'],\n",
            "      dtype='object')\n",
            "(506, 13) (506,)\n"
          ]
        }
      ]
    },
    {
      "cell_type": "markdown",
      "source": [
        "* 데이터 분할 (테스트 비율 0.2)"
      ],
      "metadata": {
        "id": "bA2e5wWnt4WG"
      }
    },
    {
      "cell_type": "code",
      "source": [
        "from sklearn.model_selection import train_test_split\n",
        "X_train, X_test, y_train, y_test = train_test_split(X,y, test_size=0.2, random_state=1)\n",
        "X_train.shape, X_test.shape, y_train.shape, y_test.shape"
      ],
      "metadata": {
        "colab": {
          "base_uri": "https://localhost:8080/"
        },
        "outputId": "76a15c9c-d56d-45bf-977d-cf8589edf235",
        "id": "j7Cw3-Unt4WH"
      },
      "execution_count": 104,
      "outputs": [
        {
          "output_type": "execute_result",
          "data": {
            "text/plain": [
              "((404, 13), (102, 13), (404,), (102,))"
            ]
          },
          "metadata": {},
          "execution_count": 104
        }
      ]
    },
    {
      "cell_type": "markdown",
      "source": [
        "* 스케일링 - 정규화 진행"
      ],
      "metadata": {
        "id": "JgSoIU6Dt4WH"
      }
    },
    {
      "cell_type": "code",
      "source": [
        "from sklearn.preprocessing import StandardScaler\n",
        "\n",
        "sc_x = StandardScaler()\n",
        "sc_y = StandardScaler()\n",
        "sc_x.fit(X_train)\n",
        "sc_y.fit(y_train[:, np.newaxis])"
      ],
      "metadata": {
        "colab": {
          "base_uri": "https://localhost:8080/"
        },
        "outputId": "626c8f49-6f18-4c91-aa73-1a66fcb9526b",
        "id": "zVDukHF6t4WH"
      },
      "execution_count": 105,
      "outputs": [
        {
          "output_type": "execute_result",
          "data": {
            "text/plain": [
              "StandardScaler()"
            ]
          },
          "metadata": {},
          "execution_count": 105
        }
      ]
    },
    {
      "cell_type": "markdown",
      "source": [
        "* 훈련 데이터 정규화"
      ],
      "metadata": {
        "id": "7IZw0qXot4WH"
      }
    },
    {
      "cell_type": "code",
      "source": [
        "X_train = sc_x.fit_transform(X_train)\n",
        "y_train = sc_y.fit_transform(y_train[:, np.newaxis]).flatten()\n",
        "print(X_train.shape, y_train.shape)"
      ],
      "metadata": {
        "colab": {
          "base_uri": "https://localhost:8080/"
        },
        "outputId": "54a2e356-12f3-4bf7-d0aa-da9e78afb18a",
        "id": "FcLhhu4Ft4WH"
      },
      "execution_count": 106,
      "outputs": [
        {
          "output_type": "stream",
          "name": "stdout",
          "text": [
            "(404, 13) (404,)\n"
          ]
        }
      ]
    },
    {
      "cell_type": "markdown",
      "source": [
        "* 테스트 데이터 정규화"
      ],
      "metadata": {
        "id": "JlIxWPJRt4WH"
      }
    },
    {
      "cell_type": "code",
      "source": [
        "X_test = sc_x.fit_transform(X_test)\n",
        "y_test = sc_y.fit_transform(y_test[:, np.newaxis]).flatten()\n",
        "print(X_test.shape, y_test.shape)"
      ],
      "metadata": {
        "colab": {
          "base_uri": "https://localhost:8080/"
        },
        "outputId": "7dfa49db-eb90-4edc-9001-08604aed2769",
        "id": "7YH27zeNt4WH"
      },
      "execution_count": 107,
      "outputs": [
        {
          "output_type": "stream",
          "name": "stdout",
          "text": [
            "(102, 13) (102,)\n"
          ]
        }
      ]
    },
    {
      "cell_type": "markdown",
      "source": [
        "### **| 모델링**"
      ],
      "metadata": {
        "id": "cGspLAOowPp2"
      }
    },
    {
      "cell_type": "markdown",
      "source": [
        "#### **Linear regression**\n",
        "\n",
        "\n",
        "\\begin{split}\n",
        "\\min_{w} || X w - y||_2^2\n",
        "\\end{split}"
      ],
      "metadata": {
        "id": "jCbVCYysu0-i"
      }
    },
    {
      "cell_type": "code",
      "source": [
        "linear = LinearRegression()\n",
        "linear.fit(X_train, y_train)"
      ],
      "metadata": {
        "colab": {
          "base_uri": "https://localhost:8080/"
        },
        "outputId": "fec75f71-7167-4463-f941-4f703ad24ecc",
        "id": "sYj4og-Gu0-i"
      },
      "execution_count": 108,
      "outputs": [
        {
          "output_type": "execute_result",
          "data": {
            "text/plain": [
              "LinearRegression()"
            ]
          },
          "metadata": {},
          "execution_count": 108
        }
      ]
    },
    {
      "cell_type": "markdown",
      "source": [
        "#### **Ridge regression**\n",
        "\n",
        "\n",
        "\\begin{split}\n",
        "\\min_{w} || X w - y||_2^2 + \\alpha ||w||_2^2\n",
        "\\end{split}"
      ],
      "metadata": {
        "id": "4c-nj-FCuslF"
      }
    },
    {
      "cell_type": "code",
      "source": [
        "ridge = Ridge(alpha=0.1)\n",
        "ridge.fit(X_train, y_train)"
      ],
      "metadata": {
        "colab": {
          "base_uri": "https://localhost:8080/"
        },
        "outputId": "3ad51311-f1cf-4262-8157-2aa652fbe380",
        "id": "Yv8_XVYMuslG"
      },
      "execution_count": 109,
      "outputs": [
        {
          "output_type": "execute_result",
          "data": {
            "text/plain": [
              "Ridge(alpha=0.1)"
            ]
          },
          "metadata": {},
          "execution_count": 109
        }
      ]
    },
    {
      "cell_type": "markdown",
      "source": [
        "#### **Lasso regression**\n",
        "\n",
        "\\begin{split}\n",
        "\\min_{w} { \\frac{1}{2n_{\\text{samples}}} ||X w - y||_2 ^ 2 + \\alpha ||w||_1}\n",
        "\\end{split}\n"
      ],
      "metadata": {
        "id": "B74dOJ1GuTX8"
      }
    },
    {
      "cell_type": "code",
      "source": [
        "lasso = Lasso(alpha=0.1)\n",
        "lasso.fit(X_train, y_train)"
      ],
      "metadata": {
        "colab": {
          "base_uri": "https://localhost:8080/"
        },
        "id": "ik-pV_sruLp9",
        "outputId": "a1887cbd-1e2b-4d54-bee9-c744f3aa9e15"
      },
      "execution_count": 110,
      "outputs": [
        {
          "output_type": "execute_result",
          "data": {
            "text/plain": [
              "Lasso(alpha=0.1)"
            ]
          },
          "metadata": {},
          "execution_count": 110
        }
      ]
    },
    {
      "cell_type": "markdown",
      "source": [
        "#### **Elastic Net**\n",
        "\n",
        "\n",
        "\\begin{split}\n",
        "\\min_{w} { \\frac{1}{2n_{\\text{samples}}} ||X w - y||_2 ^ 2 + \\alpha \\rho ||w||_1 +\n",
        "\\frac{\\alpha(1-\\rho)}{2} ||w||_2 ^ 2}\n",
        "\\end{split}\n"
      ],
      "metadata": {
        "id": "5UApWNtNusqg"
      }
    },
    {
      "cell_type": "code",
      "source": [
        "elastic = ElasticNet(alpha=0.1)\n",
        "elastic.fit(X_train, y_train)"
      ],
      "metadata": {
        "colab": {
          "base_uri": "https://localhost:8080/"
        },
        "outputId": "1b59e7a6-c278-4cd0-9690-4244da61a191",
        "id": "DfpA0e7Qusqg"
      },
      "execution_count": 111,
      "outputs": [
        {
          "output_type": "execute_result",
          "data": {
            "text/plain": [
              "ElasticNet(alpha=0.1)"
            ]
          },
          "metadata": {},
          "execution_count": 111
        }
      ]
    },
    {
      "cell_type": "markdown",
      "source": [
        "#### **Bayesian Ridge Regression**\n",
        "\n",
        "\n",
        "\\begin{split}\n",
        "p(w|\\lambda) =\n",
        "\\mathcal{N}(w|0,\\lambda^{-1}\\mathbf{I}_{p})\n",
        "\\end{split}"
      ],
      "metadata": {
        "id": "w84ERpQ31Gh3"
      }
    },
    {
      "cell_type": "code",
      "source": [
        "bayes_ridge = BayesianRidge()\n",
        "bayes_ridge.fit(X_train, y_train)"
      ],
      "metadata": {
        "colab": {
          "base_uri": "https://localhost:8080/"
        },
        "id": "UXkPyAqU1BEa",
        "outputId": "3e297da7-68bc-4825-a2da-696d75108726"
      },
      "execution_count": 112,
      "outputs": [
        {
          "output_type": "execute_result",
          "data": {
            "text/plain": [
              "BayesianRidge()"
            ]
          },
          "metadata": {},
          "execution_count": 112
        }
      ]
    },
    {
      "cell_type": "markdown",
      "source": [
        "### **| 성능 비교**"
      ],
      "metadata": {
        "id": "rUi0vcaiv4-h"
      }
    },
    {
      "cell_type": "markdown",
      "source": [
        "* `regression_scores` 이용한 회귀 모델 성능 비교"
      ],
      "metadata": {
        "id": "eJi39VIX0xpe"
      }
    },
    {
      "cell_type": "code",
      "source": [
        "df_score = pd.DataFrame()\n",
        "for model in ['linear', 'ridge', 'lasso', 'elastic', 'bayes_ridge']:\n",
        "  y_pred = eval(model).predict(X_test)\n",
        "  df_score = pd.concat([df_score, pd.DataFrame(regression_scores(y_test, y_pred) ,index=[model]) ])\n",
        "df_score.style.background_gradient(cmap='Greens_r')"
      ],
      "metadata": {
        "colab": {
          "base_uri": "https://localhost:8080/",
          "height": 206
        },
        "id": "0kJlEvWyuYqT",
        "outputId": "69dcd0d5-7988-49e8-9895-821d69bccf73"
      },
      "execution_count": 113,
      "outputs": [
        {
          "output_type": "execute_result",
          "data": {
            "text/plain": [
              "<pandas.io.formats.style.Styler at 0x7f62eda7f850>"
            ],
            "text/html": [
              "<style type=\"text/css\">\n",
              "#T_97fa2_row0_col0, #T_97fa2_row0_col1, #T_97fa2_row1_col0, #T_97fa2_row1_col1 {\n",
              "  background-color: #004a1e;\n",
              "  color: #f1f1f1;\n",
              "}\n",
              "#T_97fa2_row0_col2, #T_97fa2_row1_col2 {\n",
              "  background-color: #005321;\n",
              "  color: #f1f1f1;\n",
              "}\n",
              "#T_97fa2_row0_col3 {\n",
              "  background-color: #005622;\n",
              "  color: #f1f1f1;\n",
              "}\n",
              "#T_97fa2_row0_col4 {\n",
              "  background-color: #c0e6b9;\n",
              "  color: #000000;\n",
              "}\n",
              "#T_97fa2_row0_col5, #T_97fa2_row1_col5 {\n",
              "  background-color: #f4fbf2;\n",
              "  color: #000000;\n",
              "}\n",
              "#T_97fa2_row1_col3 {\n",
              "  background-color: #005221;\n",
              "  color: #f1f1f1;\n",
              "}\n",
              "#T_97fa2_row1_col4 {\n",
              "  background-color: #c2e7bb;\n",
              "  color: #000000;\n",
              "}\n",
              "#T_97fa2_row2_col0, #T_97fa2_row2_col1, #T_97fa2_row2_col2, #T_97fa2_row2_col3, #T_97fa2_row4_col4, #T_97fa2_row4_col5 {\n",
              "  background-color: #f7fcf5;\n",
              "  color: #000000;\n",
              "}\n",
              "#T_97fa2_row2_col4, #T_97fa2_row2_col5, #T_97fa2_row4_col0, #T_97fa2_row4_col1, #T_97fa2_row4_col2, #T_97fa2_row4_col3 {\n",
              "  background-color: #00441b;\n",
              "  color: #f1f1f1;\n",
              "}\n",
              "#T_97fa2_row3_col0 {\n",
              "  background-color: #a3da9d;\n",
              "  color: #000000;\n",
              "}\n",
              "#T_97fa2_row3_col1 {\n",
              "  background-color: #a9dca3;\n",
              "  color: #000000;\n",
              "}\n",
              "#T_97fa2_row3_col2 {\n",
              "  background-color: #a8dca2;\n",
              "  color: #000000;\n",
              "}\n",
              "#T_97fa2_row3_col3 {\n",
              "  background-color: #a4da9e;\n",
              "  color: #000000;\n",
              "}\n",
              "#T_97fa2_row3_col4 {\n",
              "  background-color: #dcf2d7;\n",
              "  color: #000000;\n",
              "}\n",
              "#T_97fa2_row3_col5 {\n",
              "  background-color: #3fa95c;\n",
              "  color: #f1f1f1;\n",
              "}\n",
              "</style>\n",
              "<table id=\"T_97fa2_\" class=\"dataframe\">\n",
              "  <thead>\n",
              "    <tr>\n",
              "      <th class=\"blank level0\" >&nbsp;</th>\n",
              "      <th class=\"col_heading level0 col0\" >mse</th>\n",
              "      <th class=\"col_heading level0 col1\" >rmse</th>\n",
              "      <th class=\"col_heading level0 col2\" >mae</th>\n",
              "      <th class=\"col_heading level0 col3\" >nmae</th>\n",
              "      <th class=\"col_heading level0 col4\" >mape</th>\n",
              "      <th class=\"col_heading level0 col5\" >r2</th>\n",
              "    </tr>\n",
              "  </thead>\n",
              "  <tbody>\n",
              "    <tr>\n",
              "      <th id=\"T_97fa2_level0_row0\" class=\"row_heading level0 row0\" >linear</th>\n",
              "      <td id=\"T_97fa2_row0_col0\" class=\"data row0 col0\" >0.222000</td>\n",
              "      <td id=\"T_97fa2_row0_col1\" class=\"data row0 col1\" >0.471000</td>\n",
              "      <td id=\"T_97fa2_row0_col2\" class=\"data row0 col2\" >0.362000</td>\n",
              "      <td id=\"T_97fa2_row0_col3\" class=\"data row0 col3\" >0.521000</td>\n",
              "      <td id=\"T_97fa2_row0_col4\" class=\"data row0 col4\" >579.145000</td>\n",
              "      <td id=\"T_97fa2_row0_col5\" class=\"data row0 col5\" >0.778000</td>\n",
              "    </tr>\n",
              "    <tr>\n",
              "      <th id=\"T_97fa2_level0_row1\" class=\"row_heading level0 row1\" >ridge</th>\n",
              "      <td id=\"T_97fa2_row1_col0\" class=\"data row1 col0\" >0.222000</td>\n",
              "      <td id=\"T_97fa2_row1_col1\" class=\"data row1 col1\" >0.471000</td>\n",
              "      <td id=\"T_97fa2_row1_col2\" class=\"data row1 col2\" >0.362000</td>\n",
              "      <td id=\"T_97fa2_row1_col3\" class=\"data row1 col3\" >0.520000</td>\n",
              "      <td id=\"T_97fa2_row1_col4\" class=\"data row1 col4\" >579.405000</td>\n",
              "      <td id=\"T_97fa2_row1_col5\" class=\"data row1 col5\" >0.778000</td>\n",
              "    </tr>\n",
              "    <tr>\n",
              "      <th id=\"T_97fa2_level0_row2\" class=\"row_heading level0 row2\" >lasso</th>\n",
              "      <td id=\"T_97fa2_row2_col0\" class=\"data row2 col0\" >0.315000</td>\n",
              "      <td id=\"T_97fa2_row2_col1\" class=\"data row2 col1\" >0.561000</td>\n",
              "      <td id=\"T_97fa2_row2_col2\" class=\"data row2 col2\" >0.421000</td>\n",
              "      <td id=\"T_97fa2_row2_col3\" class=\"data row2 col3\" >0.606000</td>\n",
              "      <td id=\"T_97fa2_row2_col4\" class=\"data row2 col4\" >549.237000</td>\n",
              "      <td id=\"T_97fa2_row2_col5\" class=\"data row2 col5\" >0.685000</td>\n",
              "    </tr>\n",
              "    <tr>\n",
              "      <th id=\"T_97fa2_level0_row3\" class=\"row_heading level0 row3\" >elastic</th>\n",
              "      <td id=\"T_97fa2_row3_col0\" class=\"data row3 col0\" >0.280000</td>\n",
              "      <td id=\"T_97fa2_row3_col1\" class=\"data row3 col1\" >0.529000</td>\n",
              "      <td id=\"T_97fa2_row3_col2\" class=\"data row3 col2\" >0.399000</td>\n",
              "      <td id=\"T_97fa2_row3_col3\" class=\"data row3 col3\" >0.573000</td>\n",
              "      <td id=\"T_97fa2_row3_col4\" class=\"data row3 col4\" >583.659000</td>\n",
              "      <td id=\"T_97fa2_row3_col5\" class=\"data row3 col5\" >0.720000</td>\n",
              "    </tr>\n",
              "    <tr>\n",
              "      <th id=\"T_97fa2_level0_row4\" class=\"row_heading level0 row4\" >bayes_ridge</th>\n",
              "      <td id=\"T_97fa2_row4_col0\" class=\"data row4 col0\" >0.220000</td>\n",
              "      <td id=\"T_97fa2_row4_col1\" class=\"data row4 col1\" >0.469000</td>\n",
              "      <td id=\"T_97fa2_row4_col2\" class=\"data row4 col2\" >0.359000</td>\n",
              "      <td id=\"T_97fa2_row4_col3\" class=\"data row4 col3\" >0.516000</td>\n",
              "      <td id=\"T_97fa2_row4_col4\" class=\"data row4 col4\" >590.402000</td>\n",
              "      <td id=\"T_97fa2_row4_col5\" class=\"data row4 col5\" >0.780000</td>\n",
              "    </tr>\n",
              "  </tbody>\n",
              "</table>\n"
            ]
          },
          "metadata": {},
          "execution_count": 113
        }
      ]
    },
    {
      "cell_type": "markdown",
      "source": [
        "* 실제값과 예측값의 산점도 그리기"
      ],
      "metadata": {
        "id": "1Ed7_khe2n7Z"
      }
    },
    {
      "cell_type": "code",
      "source": [
        "plt.figure(figsize=(5,5))\n",
        "plt.title('Bayesian Ridge')\n",
        "\n",
        "y_pred = bayes_ridge.predict(X_test)\n",
        "plt.scatter(y_test, y_pred, marker='.')\n",
        "plt.plot([-2,3],[-2,3], c='r')\n",
        "plt.xlabel('y_true')\n",
        "plt.ylabel('y_pred')\n",
        "plt.show()"
      ],
      "metadata": {
        "colab": {
          "base_uri": "https://localhost:8080/",
          "height": 350
        },
        "id": "YJq1sDNbyrGA",
        "outputId": "40c13dca-c796-4f82-812e-8757be7db39b"
      },
      "execution_count": 114,
      "outputs": [
        {
          "output_type": "display_data",
          "data": {
            "text/plain": [
              "<Figure size 360x360 with 1 Axes>"
            ],
            "image/png": "[encoded data removed]"
          },
          "metadata": {
            "needs_background": "light"
          }
        }
      ]
    }
  ]
}