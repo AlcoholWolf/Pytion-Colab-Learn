{
  "nbformat": 4,
  "nbformat_minor": 0,
  "metadata": {
    "colab": {
      "name": "ch05_10_사이킷런실습_비선형회귀분석.ipynb",
      "provenance": [],
      "collapsed_sections": [],
      "include_colab_link": true
    },
    "kernelspec": {
      "name": "python3",
      "display_name": "Python 3"
    },
    "language_info": {
      "name": "python"
    }
  },
  "cells": [
    {
      "cell_type": "markdown",
      "metadata": {
        "id": "view-in-github",
        "colab_type": "text"
      },
      "source": [
        "<a href=\"https://colab.research.google.com/github/AlcoholWolf/PY-SAVE/blob/main/ch05_10_%EC%82%AC%EC%9D%B4%ED%82%B7%EB%9F%B0%EC%8B%A4%EC%8A%B5_%EB%B9%84%EC%84%A0%ED%98%95%ED%9A%8C%EA%B7%80%EB%B6%84%EC%84%9D.ipynb\" target=\"_parent\"><img src=\"https://colab.research.google.com/assets/colab-badge.svg\" alt=\"Open In Colab\"/></a>"
      ]
    },
    {
      "cell_type": "markdown",
      "metadata": {
        "id": "wWpXZc2fi39U"
      },
      "source": [
        "# ch05.10. 사이킷런 실습 - 비선형회귀분석\n",
        "\n",
        "---\n",
        "* 날짜:\n",
        "* 이름:\n",
        "\n",
        "## 학습내용\n",
        "    - 다항식을 이용한 회귀 분석을 진행한다.\n",
        "    - 랜덤 포레스트를 이용해 비선형 회귀를 진행한다.\n",
        "    - 앙상블 학습에 대해 이해한다."
      ]
    },
    {
      "cell_type": "markdown",
      "metadata": {
        "id": "kByKdJPApy6P"
      },
      "source": [
        "```\n",
        "import numpy as np\n",
        "import pandas as pd\n",
        "import seaborn as sns\n",
        "import matplotlib.pyplot as plt\n",
        "```"
      ]
    },
    {
      "cell_type": "code",
      "source": [
        "from google.colab import drive\n",
        "drive.mount('/content/drive')"
      ],
      "metadata": {
        "colab": {
          "base_uri": "https://localhost:8080/"
        },
        "id": "0rqYkXoBACfr",
        "outputId": "06af0969-11a7-487d-8bce-a31dc298d99a"
      },
      "execution_count": 28,
      "outputs": [
        {
          "output_type": "stream",
          "name": "stdout",
          "text": [
            "Drive already mounted at /content/drive; to attempt to forcibly remount, call drive.mount(\"/content/drive\", force_remount=True).\n"
          ]
        }
      ]
    },
    {
      "cell_type": "code",
      "source": [
        "import sys\n",
        "sys.path.append('/content/drive/MyDrive/py model')\n",
        "# from AAbet import *"
      ],
      "metadata": {
        "id": "YIUkCYsGEVIh"
      },
      "execution_count": 29,
      "outputs": []
    },
    {
      "cell_type": "code",
      "source": [
        "from Set import *\n",
        "from score_dict import *\n",
        "from data_loader import *"
      ],
      "metadata": {
        "id": "NGMX9aQlAi5j"
      },
      "execution_count": 43,
      "outputs": []
    },
    {
      "cell_type": "code",
      "source": [
        "Set.Import()"
      ],
      "metadata": {
        "colab": {
          "base_uri": "https://localhost:8080/"
        },
        "id": "hStMXioIA9nR",
        "outputId": "87f6f8b1-5b24-44b0-803e-c81e3ba27a3f"
      },
      "execution_count": 31,
      "outputs": [
        {
          "output_type": "stream",
          "name": "stdout",
          "text": [
            "TemoBot | Numpy as np\n",
            "TemoBot | MatPolt as plt\n",
            "TemoBot | Pandas as pd\n",
            "TemoBot | MatPolt Style Set dark_background\n",
            "TemoBot | Warning at Ignore\n"
          ]
        }
      ]
    },
    {
      "cell_type": "code",
      "source": [
        "from sklearn.preprocessing import StandardScaler\n",
        "from sklearn.model_selection import train_test_split\n",
        "import pandas as pd\n",
        "import numpy as np"
      ],
      "metadata": {
        "id": "sZ1aOkfoMHXk"
      },
      "execution_count": 32,
      "outputs": []
    },
    {
      "cell_type": "markdown",
      "source": [
        "## **선형 회귀 모델을 다항 회귀로 변환**\n",
        "---"
      ],
      "metadata": {
        "id": "GYfR9QxDOEIy"
      }
    },
    {
      "cell_type": "markdown",
      "source": [
        "### **| 간단한 데이터에 대한 다항 회귀**"
      ],
      "metadata": {
        "id": "_dvcAIL3C3vE"
      }
    },
    {
      "cell_type": "markdown",
      "source": [
        "#### **데이터**\n",
        "```\n",
        "X = np.array([258.0, 270.0, 294.0, \n",
        "              320.0, 342.0, 368.0, \n",
        "              396.0, 446.0, 480.0, 586.0]).reshape(-1, 1)\n",
        "\n",
        "y = np.array([236.4, 234.4, 252.8, \n",
        "              298.6, 314.2, 342.2, \n",
        "              360.8, 368.0, 391.2,\n",
        "              390.8])\n",
        "```"
      ],
      "metadata": {
        "id": "OhR4fxMkCt-3"
      }
    },
    {
      "cell_type": "markdown",
      "source": [
        "* 데이터 생성"
      ],
      "metadata": {
        "id": "GMZTe-AcDRFw"
      }
    },
    {
      "cell_type": "code",
      "source": [
        "X = np.array([258.0, 270.0, 294.0, \n",
        "              320.0, 342.0, 368.0, \n",
        "              396.0, 446.0, 480.0, 586.0]).reshape(-1, 1)\n",
        "\n",
        "y = np.array([236.4, 234.4, 252.8, \n",
        "              298.6, 314.2, 342.2, \n",
        "              360.8, 368.0, 391.2,\n",
        "              390.8])\n",
        "X.shape, y.shape"
      ],
      "metadata": {
        "id": "3Ycs4pI60zPo",
        "colab": {
          "base_uri": "https://localhost:8080/"
        },
        "outputId": "b0699969-26bf-4ec8-a2b2-72920111cfeb"
      },
      "execution_count": 33,
      "outputs": [
        {
          "output_type": "execute_result",
          "data": {
            "text/plain": [
              "((10, 1), (10,))"
            ]
          },
          "metadata": {},
          "execution_count": 33
        }
      ]
    },
    {
      "cell_type": "markdown",
      "source": [
        "* 시각화"
      ],
      "metadata": {
        "id": "kJKrGZF0C1du"
      }
    },
    {
      "cell_type": "code",
      "source": [
        "plt.scatter(X, y)"
      ],
      "metadata": {
        "id": "TaZLcFNu3gRm",
        "colab": {
          "base_uri": "https://localhost:8080/",
          "height": 283
        },
        "outputId": "00f246d0-f2e8-4759-e41d-0bc558563696"
      },
      "execution_count": 34,
      "outputs": [
        {
          "output_type": "execute_result",
          "data": {
            "text/plain": [
              "<matplotlib.collections.PathCollection at 0x7f9472bb9c50>"
            ]
          },
          "metadata": {},
          "execution_count": 34
        },
        {
          "output_type": "display_data",
          "data": {
            "text/plain": [
              "<Figure size 432x288 with 1 Axes>"
            ],
            "image/png": "[encoded data removed]"
          },
          "metadata": {}
        }
      ]
    },
    {
      "cell_type": "markdown",
      "source": [
        "#### **선형 특성 학습**"
      ],
      "metadata": {
        "id": "sjMo6aNaDCIU"
      }
    },
    {
      "cell_type": "code",
      "source": [
        "from sklearn.linear_model import *\n",
        "lr1 = LinearRegression()\n",
        "lr1.fit(X, y)"
      ],
      "metadata": {
        "id": "QK57ELPT0-9M",
        "colab": {
          "base_uri": "https://localhost:8080/"
        },
        "outputId": "fc61d43e-8369-4f61-9129-6f679a8daf48"
      },
      "execution_count": 35,
      "outputs": [
        {
          "output_type": "execute_result",
          "data": {
            "text/plain": [
              "LinearRegression()"
            ]
          },
          "metadata": {},
          "execution_count": 35
        }
      ]
    },
    {
      "cell_type": "markdown",
      "source": [
        "#### **이차항 특성 학습**\n"
      ],
      "metadata": {
        "id": "rvuZSvRvzmhT"
      }
    },
    {
      "cell_type": "code",
      "source": [
        "from sklearn.preprocessing import PolynomialFeatures\n",
        "quad = PolynomialFeatures(degree=2)\n",
        "X_quad = quad.fit_transform(X)\n",
        "X.shape, X_quad.shape"
      ],
      "metadata": {
        "id": "zaVfSiPW1DyA",
        "colab": {
          "base_uri": "https://localhost:8080/"
        },
        "outputId": "06b0d4c9-c154-4794-ef66-d0fa7f22938b"
      },
      "execution_count": 36,
      "outputs": [
        {
          "output_type": "execute_result",
          "data": {
            "text/plain": [
              "((10, 1), (10, 3))"
            ]
          },
          "metadata": {},
          "execution_count": 36
        }
      ]
    },
    {
      "cell_type": "markdown",
      "source": [
        "* X 데이터 변환"
      ],
      "metadata": {
        "id": "Tlyc4sYWH3Zg"
      }
    },
    {
      "cell_type": "code",
      "source": [
        "quad.get_feature_names()\n",
        "pd.DataFrame(X_quad, columns=quad.get_feature_names())"
      ],
      "metadata": {
        "id": "7TE8lUHfz86X",
        "colab": {
          "base_uri": "https://localhost:8080/",
          "height": 363
        },
        "outputId": "be4aaff8-003d-408e-ab95-d6346758cf56"
      },
      "execution_count": 37,
      "outputs": [
        {
          "output_type": "execute_result",
          "data": {
            "text/plain": [
              "     1     x0      x0^2\n",
              "0  1.0  258.0   66564.0\n",
              "1  1.0  270.0   72900.0\n",
              "2  1.0  294.0   86436.0\n",
              "3  1.0  320.0  102400.0\n",
              "4  1.0  342.0  116964.0\n",
              "5  1.0  368.0  135424.0\n",
              "6  1.0  396.0  156816.0\n",
              "7  1.0  446.0  198916.0\n",
              "8  1.0  480.0  230400.0\n",
              "9  1.0  586.0  343396.0"
            ],
            "text/html": [
              "\n",
              "  <div id=\"df-7db3c35d-e3b4-4d34-8a40-94b6dd89eb45\">\n",
              "    <div class=\"colab-df-container\">\n",
              "      <div>\n",
              "<style scoped>\n",
              "    .dataframe tbody tr th:only-of-type {\n",
              "        vertical-align: middle;\n",
              "    }\n",
              "\n",
              "    .dataframe tbody tr th {\n",
              "        vertical-align: top;\n",
              "    }\n",
              "\n",
              "    .dataframe thead th {\n",
              "        text-align: right;\n",
              "    }\n",
              "</style>\n",
              "<table border=\"1\" class=\"dataframe\">\n",
              "  <thead>\n",
              "    <tr style=\"text-align: right;\">\n",
              "      <th></th>\n",
              "      <th>1</th>\n",
              "      <th>x0</th>\n",
              "      <th>x0^2</th>\n",
              "    </tr>\n",
              "  </thead>\n",
              "  <tbody>\n",
              "    <tr>\n",
              "      <th>0</th>\n",
              "      <td>1.0</td>\n",
              "      <td>258.0</td>\n",
              "      <td>66564.0</td>\n",
              "    </tr>\n",
              "    <tr>\n",
              "      <th>1</th>\n",
              "      <td>1.0</td>\n",
              "      <td>270.0</td>\n",
              "      <td>72900.0</td>\n",
              "    </tr>\n",
              "    <tr>\n",
              "      <th>2</th>\n",
              "      <td>1.0</td>\n",
              "      <td>294.0</td>\n",
              "      <td>86436.0</td>\n",
              "    </tr>\n",
              "    <tr>\n",
              "      <th>3</th>\n",
              "      <td>1.0</td>\n",
              "      <td>320.0</td>\n",
              "      <td>102400.0</td>\n",
              "    </tr>\n",
              "    <tr>\n",
              "      <th>4</th>\n",
              "      <td>1.0</td>\n",
              "      <td>342.0</td>\n",
              "      <td>116964.0</td>\n",
              "    </tr>\n",
              "    <tr>\n",
              "      <th>5</th>\n",
              "      <td>1.0</td>\n",
              "      <td>368.0</td>\n",
              "      <td>135424.0</td>\n",
              "    </tr>\n",
              "    <tr>\n",
              "      <th>6</th>\n",
              "      <td>1.0</td>\n",
              "      <td>396.0</td>\n",
              "      <td>156816.0</td>\n",
              "    </tr>\n",
              "    <tr>\n",
              "      <th>7</th>\n",
              "      <td>1.0</td>\n",
              "      <td>446.0</td>\n",
              "      <td>198916.0</td>\n",
              "    </tr>\n",
              "    <tr>\n",
              "      <th>8</th>\n",
              "      <td>1.0</td>\n",
              "      <td>480.0</td>\n",
              "      <td>230400.0</td>\n",
              "    </tr>\n",
              "    <tr>\n",
              "      <th>9</th>\n",
              "      <td>1.0</td>\n",
              "      <td>586.0</td>\n",
              "      <td>343396.0</td>\n",
              "    </tr>\n",
              "  </tbody>\n",
              "</table>\n",
              "</div>\n",
              "      <button class=\"colab-df-convert\" onclick=\"convertToInteractive('df-7db3c35d-e3b4-4d34-8a40-94b6dd89eb45')\"\n",
              "              title=\"Convert this dataframe to an interactive table.\"\n",
              "              style=\"display:none;\">\n",
              "        \n",
              "  <svg xmlns=\"http://www.w3.org/2000/svg\" height=\"24px\"viewBox=\"0 0 24 24\"\n",
              "       width=\"24px\">\n",
              "    <path d=\"M0 0h24v24H0V0z\" fill=\"none\"/>\n",
              "    <path d=\"M18.56 5.44l.94 2.06.94-2.06 2.06-.94-2.06-.94-.94-2.06-.94 2.06-2.06.94zm-11 1L8.5 8.5l.94-2.06 2.06-.94-2.06-.94L8.5 2.5l-.94 2.06-2.06.94zm10 10l.94 2.06.94-2.06 2.06-.94-2.06-.94-.94-2.06-.94 2.06-2.06.94z\"/><path d=\"M17.41 7.96l-1.37-1.37c-.4-.4-.92-.59-1.43-.59-.52 0-1.04.2-1.43.59L10.3 9.45l-7.72 7.72c-.78.78-.78 2.05 0 2.83L4 21.41c.39.39.9.59 1.41.59.51 0 1.02-.2 1.41-.59l7.78-7.78 2.81-2.81c.8-.78.8-2.07 0-2.86zM5.41 20L4 18.59l7.72-7.72 1.47 1.35L5.41 20z\"/>\n",
              "  </svg>\n",
              "      </button>\n",
              "      \n",
              "  <style>\n",
              "    .colab-df-container {\n",
              "      display:flex;\n",
              "      flex-wrap:wrap;\n",
              "      gap: 12px;\n",
              "    }\n",
              "\n",
              "    .colab-df-convert {\n",
              "      background-color: #E8F0FE;\n",
              "      border: none;\n",
              "      border-radius: 50%;\n",
              "      cursor: pointer;\n",
              "      display: none;\n",
              "      fill: #1967D2;\n",
              "      height: 32px;\n",
              "      padding: 0 0 0 0;\n",
              "      width: 32px;\n",
              "    }\n",
              "\n",
              "    .colab-df-convert:hover {\n",
              "      background-color: #E2EBFA;\n",
              "      box-shadow: 0px 1px 2px rgba(60, 64, 67, 0.3), 0px 1px 3px 1px rgba(60, 64, 67, 0.15);\n",
              "      fill: #174EA6;\n",
              "    }\n",
              "\n",
              "    [theme=dark] .colab-df-convert {\n",
              "      background-color: #3B4455;\n",
              "      fill: #D2E3FC;\n",
              "    }\n",
              "\n",
              "    [theme=dark] .colab-df-convert:hover {\n",
              "      background-color: #434B5C;\n",
              "      box-shadow: 0px 1px 3px 1px rgba(0, 0, 0, 0.15);\n",
              "      filter: drop-shadow(0px 1px 2px rgba(0, 0, 0, 0.3));\n",
              "      fill: #FFFFFF;\n",
              "    }\n",
              "  </style>\n",
              "\n",
              "      <script>\n",
              "        const buttonEl =\n",
              "          document.querySelector('#df-7db3c35d-e3b4-4d34-8a40-94b6dd89eb45 button.colab-df-convert');\n",
              "        buttonEl.style.display =\n",
              "          google.colab.kernel.accessAllowed ? 'block' : 'none';\n",
              "\n",
              "        async function convertToInteractive(key) {\n",
              "          const element = document.querySelector('#df-7db3c35d-e3b4-4d34-8a40-94b6dd89eb45');\n",
              "          const dataTable =\n",
              "            await google.colab.kernel.invokeFunction('convertToInteractive',\n",
              "                                                     [key], {});\n",
              "          if (!dataTable) return;\n",
              "\n",
              "          const docLinkHtml = 'Like what you see? Visit the ' +\n",
              "            '<a target=\"_blank\" href=https://colab.research.google.com/notebooks/data_table.ipynb>data table notebook</a>'\n",
              "            + ' to learn more about interactive tables.';\n",
              "          element.innerHTML = '';\n",
              "          dataTable['output_type'] = 'display_data';\n",
              "          await google.colab.output.renderOutput(dataTable, element);\n",
              "          const docLink = document.createElement('div');\n",
              "          docLink.innerHTML = docLinkHtml;\n",
              "          element.appendChild(docLink);\n",
              "        }\n",
              "      </script>\n",
              "    </div>\n",
              "  </div>\n",
              "  "
            ]
          },
          "metadata": {},
          "execution_count": 37
        }
      ]
    },
    {
      "cell_type": "markdown",
      "source": [
        "* 학습"
      ],
      "metadata": {
        "id": "DR79eUEsH8gM"
      }
    },
    {
      "cell_type": "code",
      "source": [
        "lr2 = LinearRegression()\n",
        "lr2.fit(X_quad, y)"
      ],
      "metadata": {
        "id": "831zjGBc6kGX",
        "colab": {
          "base_uri": "https://localhost:8080/"
        },
        "outputId": "d8761b27-32ab-44de-ca45-691394995cef"
      },
      "execution_count": 38,
      "outputs": [
        {
          "output_type": "execute_result",
          "data": {
            "text/plain": [
              "LinearRegression()"
            ]
          },
          "metadata": {},
          "execution_count": 38
        }
      ]
    },
    {
      "cell_type": "markdown",
      "source": [
        "#### **테스트셋 성능 비교**"
      ],
      "metadata": {
        "id": "tyHcbw-9HzF8"
      }
    },
    {
      "cell_type": "code",
      "source": [
        "y_pred1 = lr1.predict(X)\n",
        "y_pred2 = lr2.predict(X_quad)\n",
        "\n",
        "l1_scores = regression_scores(y, y_pred1)\n",
        "l2_scores = regression_scores(y, y_pred2)\n",
        "pd.DataFrame([l1_scores,l2_scores], index=['linear', 'quadratic'])"
      ],
      "metadata": {
        "id": "pKQsac_KAQz0",
        "colab": {
          "base_uri": "https://localhost:8080/",
          "height": 112
        },
        "outputId": "83404de5-5e6c-4c57-c497-902c9c96cf73"
      },
      "execution_count": 42,
      "outputs": [
        {
          "output_type": "execute_result",
          "data": {
            "text/plain": [
              "              mse    rmse     mae   nmae   mape     r2\n",
              "linear     569.78  23.870  21.898  0.069  7.035  0.832\n",
              "quadratic   61.33   7.831   6.379  0.020  2.213  0.982"
            ],
            "text/html": [
              "\n",
              "  <div id=\"df-ff7a1f7e-5acb-45a0-979a-75af68d43637\">\n",
              "    <div class=\"colab-df-container\">\n",
              "      <div>\n",
              "<style scoped>\n",
              "    .dataframe tbody tr th:only-of-type {\n",
              "        vertical-align: middle;\n",
              "    }\n",
              "\n",
              "    .dataframe tbody tr th {\n",
              "        vertical-align: top;\n",
              "    }\n",
              "\n",
              "    .dataframe thead th {\n",
              "        text-align: right;\n",
              "    }\n",
              "</style>\n",
              "<table border=\"1\" class=\"dataframe\">\n",
              "  <thead>\n",
              "    <tr style=\"text-align: right;\">\n",
              "      <th></th>\n",
              "      <th>mse</th>\n",
              "      <th>rmse</th>\n",
              "      <th>mae</th>\n",
              "      <th>nmae</th>\n",
              "      <th>mape</th>\n",
              "      <th>r2</th>\n",
              "    </tr>\n",
              "  </thead>\n",
              "  <tbody>\n",
              "    <tr>\n",
              "      <th>linear</th>\n",
              "      <td>569.78</td>\n",
              "      <td>23.870</td>\n",
              "      <td>21.898</td>\n",
              "      <td>0.069</td>\n",
              "      <td>7.035</td>\n",
              "      <td>0.832</td>\n",
              "    </tr>\n",
              "    <tr>\n",
              "      <th>quadratic</th>\n",
              "      <td>61.33</td>\n",
              "      <td>7.831</td>\n",
              "      <td>6.379</td>\n",
              "      <td>0.020</td>\n",
              "      <td>2.213</td>\n",
              "      <td>0.982</td>\n",
              "    </tr>\n",
              "  </tbody>\n",
              "</table>\n",
              "</div>\n",
              "      <button class=\"colab-df-convert\" onclick=\"convertToInteractive('df-ff7a1f7e-5acb-45a0-979a-75af68d43637')\"\n",
              "              title=\"Convert this dataframe to an interactive table.\"\n",
              "              style=\"display:none;\">\n",
              "        \n",
              "  <svg xmlns=\"http://www.w3.org/2000/svg\" height=\"24px\"viewBox=\"0 0 24 24\"\n",
              "       width=\"24px\">\n",
              "    <path d=\"M0 0h24v24H0V0z\" fill=\"none\"/>\n",
              "    <path d=\"M18.56 5.44l.94 2.06.94-2.06 2.06-.94-2.06-.94-.94-2.06-.94 2.06-2.06.94zm-11 1L8.5 8.5l.94-2.06 2.06-.94-2.06-.94L8.5 2.5l-.94 2.06-2.06.94zm10 10l.94 2.06.94-2.06 2.06-.94-2.06-.94-.94-2.06-.94 2.06-2.06.94z\"/><path d=\"M17.41 7.96l-1.37-1.37c-.4-.4-.92-.59-1.43-.59-.52 0-1.04.2-1.43.59L10.3 9.45l-7.72 7.72c-.78.78-.78 2.05 0 2.83L4 21.41c.39.39.9.59 1.41.59.51 0 1.02-.2 1.41-.59l7.78-7.78 2.81-2.81c.8-.78.8-2.07 0-2.86zM5.41 20L4 18.59l7.72-7.72 1.47 1.35L5.41 20z\"/>\n",
              "  </svg>\n",
              "      </button>\n",
              "      \n",
              "  <style>\n",
              "    .colab-df-container {\n",
              "      display:flex;\n",
              "      flex-wrap:wrap;\n",
              "      gap: 12px;\n",
              "    }\n",
              "\n",
              "    .colab-df-convert {\n",
              "      background-color: #E8F0FE;\n",
              "      border: none;\n",
              "      border-radius: 50%;\n",
              "      cursor: pointer;\n",
              "      display: none;\n",
              "      fill: #1967D2;\n",
              "      height: 32px;\n",
              "      padding: 0 0 0 0;\n",
              "      width: 32px;\n",
              "    }\n",
              "\n",
              "    .colab-df-convert:hover {\n",
              "      background-color: #E2EBFA;\n",
              "      box-shadow: 0px 1px 2px rgba(60, 64, 67, 0.3), 0px 1px 3px 1px rgba(60, 64, 67, 0.15);\n",
              "      fill: #174EA6;\n",
              "    }\n",
              "\n",
              "    [theme=dark] .colab-df-convert {\n",
              "      background-color: #3B4455;\n",
              "      fill: #D2E3FC;\n",
              "    }\n",
              "\n",
              "    [theme=dark] .colab-df-convert:hover {\n",
              "      background-color: #434B5C;\n",
              "      box-shadow: 0px 1px 3px 1px rgba(0, 0, 0, 0.15);\n",
              "      filter: drop-shadow(0px 1px 2px rgba(0, 0, 0, 0.3));\n",
              "      fill: #FFFFFF;\n",
              "    }\n",
              "  </style>\n",
              "\n",
              "      <script>\n",
              "        const buttonEl =\n",
              "          document.querySelector('#df-ff7a1f7e-5acb-45a0-979a-75af68d43637 button.colab-df-convert');\n",
              "        buttonEl.style.display =\n",
              "          google.colab.kernel.accessAllowed ? 'block' : 'none';\n",
              "\n",
              "        async function convertToInteractive(key) {\n",
              "          const element = document.querySelector('#df-ff7a1f7e-5acb-45a0-979a-75af68d43637');\n",
              "          const dataTable =\n",
              "            await google.colab.kernel.invokeFunction('convertToInteractive',\n",
              "                                                     [key], {});\n",
              "          if (!dataTable) return;\n",
              "\n",
              "          const docLinkHtml = 'Like what you see? Visit the ' +\n",
              "            '<a target=\"_blank\" href=https://colab.research.google.com/notebooks/data_table.ipynb>data table notebook</a>'\n",
              "            + ' to learn more about interactive tables.';\n",
              "          element.innerHTML = '';\n",
              "          dataTable['output_type'] = 'display_data';\n",
              "          await google.colab.output.renderOutput(dataTable, element);\n",
              "          const docLink = document.createElement('div');\n",
              "          docLink.innerHTML = docLinkHtml;\n",
              "          element.appendChild(docLink);\n",
              "        }\n",
              "      </script>\n",
              "    </div>\n",
              "  </div>\n",
              "  "
            ]
          },
          "metadata": {},
          "execution_count": 42
        }
      ]
    },
    {
      "cell_type": "markdown",
      "source": [
        "#### **그래프 시각화**"
      ],
      "metadata": {
        "id": "4Ef6kxh6H1hs"
      }
    },
    {
      "cell_type": "code",
      "source": [
        "X_every = np.arange(250, 600, 0.1).reshape(-1,1)\n",
        "\n",
        "plt.scatter(X, y, label='trainset', c='k')\n",
        "plt.plot(X_every, lr1.predict(X_every), label='linear')\n",
        "plt.plot(X_every, lr2.predict(quad.fit_transform(X_every)), label='quadratic')\n",
        "plt.legend()\n",
        "plt.show()"
      ],
      "metadata": {
        "id": "p4WIs-nQ1VKG",
        "colab": {
          "base_uri": "https://localhost:8080/",
          "height": 268
        },
        "outputId": "cecaf05c-6b27-4520-ce88-fa18dfe01da3"
      },
      "execution_count": 40,
      "outputs": [
        {
          "output_type": "display_data",
          "data": {
            "text/plain": [
              "<Figure size 432x288 with 1 Axes>"
            ],
            "image/png": "[encoded data removed]"
          },
          "metadata": {}
        }
      ]
    },
    {
      "cell_type": "markdown",
      "source": [
        "### **| 주택 데이터를 이용한 비선형 회귀 분석**\n"
      ],
      "metadata": {
        "id": "B4BejB3gxzqR"
      }
    },
    {
      "cell_type": "markdown",
      "source": [
        "\n",
        "#### **주택 데이터셋**\n",
        "\n",
        "[https://archive.ics.uci.edu/ml/datasets/Housing](https://archive.ics.uci.edu/ml/datasets/Housing)\n",
        "\n",
        "    \n",
        "<pre>\n",
        "01. CRIM     도시의 인당 범죄율\n",
        "02. ZN       2만 5,0000평방 피트가 넘는 주택 비율\n",
        "03. INDUS    도시에서 소매 업종이 아닌 지역 비율\n",
        "04. CHAS     찰스 강 인접 여부(강 주변=1, 그외=0)\n",
        "05. NOX      일산화질소 농도(10ppm당)\n",
        "06. RM       주택의 평균 방 개수\n",
        "07. AGE      1940년 이전에 지어진 자가 주택 비율\n",
        "08. DIS      다섯 개의 보스턴 고용 센터까지 가중치가 적용된 거리\n",
        "09. RAD      방사형으로 뻗은 고속도로까지 접근성 지수\n",
        "10. TAX      10만 달러당 재산세율\n",
        "11. PTRATIO  도시의 학생-교사 비율\n",
        "12. B        1000(Bk - 0.63)^2 도시의 아프리카계 미국인 비율\n",
        "13. LSTAT    저소득층 비율\n",
        "14. MEDV     자가 주택의 중간가격 (단위 $1000s)\n",
        "</pre>\n",
        "\n"
      ],
      "metadata": {
        "id": "SwHpIs02xtKM"
      }
    },
    {
      "cell_type": "markdown",
      "source": [
        "* 데이터 불러오기\n"
      ],
      "metadata": {
        "id": "an_F7hczTA6u"
      }
    },
    {
      "cell_type": "code",
      "source": [
        "from sklearn.preprocessing import StandardScaler\n",
        "from sklearn.model_selection import train_test_split\n",
        "\n",
        "def housing_loader(cols=[], norm=True):\n",
        "\n",
        "  df = pd.read_csv('https://raw.githubusercontent.com/rasbt/'\n",
        "                 'python-machine-learning-book-3rd-edition/'\n",
        "                 'master/ch10/housing.data.txt',\n",
        "                 header=None,\n",
        "                 sep='\\s+')\n",
        "\n",
        "  df.columns = ['CRIM', 'ZN', 'INDUS', 'CHAS', \n",
        "                'NOX', 'RM', 'AGE', 'DIS', 'RAD', \n",
        "                'TAX', 'PTRATIO', 'B', 'LSTAT', 'MEDV']\n",
        "  print(df.shape)\n",
        "\n",
        "  if cols:\n",
        "    X = df[cols].values\n",
        "  else:\n",
        "    X = df.drop(['MEDV'], axis=1)\n",
        "  y = df['MEDV'].values\n",
        "\n",
        "  X_train, X_test, y_train, y_test = train_test_split(X,y, test_size=0.2, random_state=1)\n",
        "\n",
        "  if norm:\n",
        "    sc_x = StandardScaler()\n",
        "    sc_y = StandardScaler()\n",
        "    sc_x.fit(X_train)\n",
        "    sc_y.fit( np.expand_dims(y_train, 1) )\n",
        "\n",
        "    X_train = sc_x.fit_transform(X_train)\n",
        "    y_train = sc_y.fit_transform( np.expand_dims(y_train, 1) ).flatten()\n",
        "    X_test = sc_x.fit_transform(X_test)\n",
        "    y_test = sc_y.fit_transform( np.expand_dims(y_test, 1) ).flatten()\n",
        "  return X_train, X_test, y_train, y_test"
      ],
      "metadata": {
        "id": "AGDAUyMTcdE-"
      },
      "execution_count": 47,
      "outputs": []
    },
    {
      "cell_type": "code",
      "source": [
        "from data_loader import *\n",
        "\n",
        "X_train, X_test, y_train, y_test = housing_loader(['LSTAT'])\n",
        "X_train.shape, X_test.shape, y_train.shape, y_test.shape"
      ],
      "metadata": {
        "id": "hyZDJJVdJ9--",
        "colab": {
          "base_uri": "https://localhost:8080/"
        },
        "outputId": "cecf73bb-3a18-42fb-815c-a7893428645d"
      },
      "execution_count": 48,
      "outputs": [
        {
          "output_type": "stream",
          "name": "stdout",
          "text": [
            "(506, 14)\n"
          ]
        },
        {
          "output_type": "execute_result",
          "data": {
            "text/plain": [
              "((404, 1), (102, 1), (404,), (102,))"
            ]
          },
          "metadata": {},
          "execution_count": 48
        }
      ]
    },
    {
      "cell_type": "markdown",
      "source": [
        "* 시각화"
      ],
      "metadata": {
        "id": "Edjyi6Ba-t5F"
      }
    },
    {
      "cell_type": "code",
      "source": [
        "def draw_data():\n",
        "  plt.scatter(X_train, y_train, label='Trainset', color='lightgray')\n",
        "  plt.scatter(X_test, y_test, label='Testset', color='lightgreen')\n",
        "  plt.xlabel('% lower status of the population [LSTAT]')\n",
        "  plt.ylabel('Price in $1000s [MEDV]')\n",
        "  plt.legend()\n",
        "draw_data()"
      ],
      "metadata": {
        "id": "VTkitF4MNXWp",
        "colab": {
          "base_uri": "https://localhost:8080/",
          "height": 279
        },
        "outputId": "976c06ef-e1ba-42e5-997d-7681bb5cc05d"
      },
      "execution_count": 49,
      "outputs": [
        {
          "output_type": "display_data",
          "data": {
            "text/plain": [
              "<Figure size 432x288 with 1 Axes>"
            ],
            "image/png": "[encoded data removed]"
          },
          "metadata": {}
        }
      ]
    },
    {
      "cell_type": "markdown",
      "source": [
        "#### **선형 모델 학습**"
      ],
      "metadata": {
        "id": "-lSaVrzH-0fd"
      }
    },
    {
      "cell_type": "code",
      "source": [
        "lr1 = LinearRegression()\n",
        "lr1.fit(X_train, y_train)"
      ],
      "metadata": {
        "id": "TgFDjdHP-yBz",
        "colab": {
          "base_uri": "https://localhost:8080/"
        },
        "outputId": "202ff132-c55e-49fd-a9c2-3da8f768e13c"
      },
      "execution_count": 50,
      "outputs": [
        {
          "output_type": "execute_result",
          "data": {
            "text/plain": [
              "LinearRegression()"
            ]
          },
          "metadata": {},
          "execution_count": 50
        }
      ]
    },
    {
      "cell_type": "markdown",
      "source": [
        "#### **이차 다항 모델 학습**"
      ],
      "metadata": {
        "id": "1RTFnTJE-29P"
      }
    },
    {
      "cell_type": "code",
      "source": [
        "lr2 = LinearRegression()\n",
        "quad =  PolynomialFeatures(degree=2)\n",
        "X_quad = quad.fit_transform(X_train)\n",
        "lr2.fit(X_quad, y_train)"
      ],
      "metadata": {
        "id": "XGz31zmn-yD9",
        "colab": {
          "base_uri": "https://localhost:8080/"
        },
        "outputId": "f63c5813-b96e-4aba-f0fb-7fde01f92259"
      },
      "execution_count": 51,
      "outputs": [
        {
          "output_type": "execute_result",
          "data": {
            "text/plain": [
              "LinearRegression()"
            ]
          },
          "metadata": {},
          "execution_count": 51
        }
      ]
    },
    {
      "cell_type": "markdown",
      "source": [
        "#### **삼차 다항 모델 학습**"
      ],
      "metadata": {
        "id": "sUOLczvE-9vM"
      }
    },
    {
      "cell_type": "code",
      "source": [
        "lr3 = LinearRegression()\n",
        "cubic = PolynomialFeatures(degree=3)\n",
        "X_cubic = cubic.fit_transform(X_train)\n",
        "lr3.fit(X_cubic, y_train)"
      ],
      "metadata": {
        "id": "69sIWqRt-yF8",
        "colab": {
          "base_uri": "https://localhost:8080/"
        },
        "outputId": "a1f5c528-211c-4f57-db91-bfe1c3b66560"
      },
      "execution_count": 52,
      "outputs": [
        {
          "output_type": "execute_result",
          "data": {
            "text/plain": [
              "LinearRegression()"
            ]
          },
          "metadata": {},
          "execution_count": 52
        }
      ]
    },
    {
      "cell_type": "markdown",
      "source": [
        "#### **테스트셋 성능 비교**"
      ],
      "metadata": {
        "id": "V3fvA5AZCci0"
      }
    },
    {
      "cell_type": "code",
      "source": [
        "y_pred1 = lr1.predict(X_test)\n",
        "y_pred2 = lr2.predict(quad.fit_transform(X_test))\n",
        "y_pred3 = lr3.predict(cubic.fit_transform(X_test))\n",
        "\n",
        "l1_scores = regression_scores(y_test, y_pred1)\n",
        "l2_scores = regression_scores(y_test, y_pred2)\n",
        "l3_scores = regression_scores(y_test, y_pred3)\n",
        "\n",
        "df_score = pd.DataFrame([l1_scores,l2_scores,l3_scores], index=['linear', 'quadratic', 'cubic'])\n",
        "df_score.style.background_gradient()"
      ],
      "metadata": {
        "id": "ljOPV5DGRBoR",
        "colab": {
          "base_uri": "https://localhost:8080/",
          "height": 143
        },
        "outputId": "5e686b32-5e12-4a1e-cbf7-27388fbd94ee"
      },
      "execution_count": 53,
      "outputs": [
        {
          "output_type": "execute_result",
          "data": {
            "text/plain": [
              "<pandas.io.formats.style.Styler at 0x7f946dd515d0>"
            ],
            "text/html": [
              "<style type=\"text/css\">\n",
              "#T_e592d_row0_col0, #T_e592d_row0_col1, #T_e592d_row0_col2, #T_e592d_row0_col3, #T_e592d_row1_col4, #T_e592d_row2_col5 {\n",
              "  background-color: #023858;\n",
              "  color: #f1f1f1;\n",
              "}\n",
              "#T_e592d_row0_col4 {\n",
              "  background-color: #bbc7e0;\n",
              "  color: #000000;\n",
              "}\n",
              "#T_e592d_row0_col5, #T_e592d_row2_col0, #T_e592d_row2_col1, #T_e592d_row2_col2, #T_e592d_row2_col3, #T_e592d_row2_col4 {\n",
              "  background-color: #fff7fb;\n",
              "  color: #000000;\n",
              "}\n",
              "#T_e592d_row1_col0 {\n",
              "  background-color: #dedcec;\n",
              "  color: #000000;\n",
              "}\n",
              "#T_e592d_row1_col1 {\n",
              "  background-color: #dad9ea;\n",
              "  color: #000000;\n",
              "}\n",
              "#T_e592d_row1_col2 {\n",
              "  background-color: #c2cbe2;\n",
              "  color: #000000;\n",
              "}\n",
              "#T_e592d_row1_col3 {\n",
              "  background-color: #c1cae2;\n",
              "  color: #000000;\n",
              "}\n",
              "#T_e592d_row1_col5 {\n",
              "  background-color: #05659f;\n",
              "  color: #f1f1f1;\n",
              "}\n",
              "</style>\n",
              "<table id=\"T_e592d_\" class=\"dataframe\">\n",
              "  <thead>\n",
              "    <tr>\n",
              "      <th class=\"blank level0\" >&nbsp;</th>\n",
              "      <th class=\"col_heading level0 col0\" >mse</th>\n",
              "      <th class=\"col_heading level0 col1\" >rmse</th>\n",
              "      <th class=\"col_heading level0 col2\" >mae</th>\n",
              "      <th class=\"col_heading level0 col3\" >nmae</th>\n",
              "      <th class=\"col_heading level0 col4\" >mape</th>\n",
              "      <th class=\"col_heading level0 col5\" >r2</th>\n",
              "    </tr>\n",
              "  </thead>\n",
              "  <tbody>\n",
              "    <tr>\n",
              "      <th id=\"T_e592d_level0_row0\" class=\"row_heading level0 row0\" >linear</th>\n",
              "      <td id=\"T_e592d_row0_col0\" class=\"data row0 col0\" >0.463000</td>\n",
              "      <td id=\"T_e592d_row0_col1\" class=\"data row0 col1\" >0.680000</td>\n",
              "      <td id=\"T_e592d_row0_col2\" class=\"data row0 col2\" >0.501000</td>\n",
              "      <td id=\"T_e592d_row0_col3\" class=\"data row0 col3\" >0.721000</td>\n",
              "      <td id=\"T_e592d_row0_col4\" class=\"data row0 col4\" >671.832000</td>\n",
              "      <td id=\"T_e592d_row0_col5\" class=\"data row0 col5\" >0.537000</td>\n",
              "    </tr>\n",
              "    <tr>\n",
              "      <th id=\"T_e592d_level0_row1\" class=\"row_heading level0 row1\" >quadratic</th>\n",
              "      <td id=\"T_e592d_row1_col0\" class=\"data row1 col0\" >0.343000</td>\n",
              "      <td id=\"T_e592d_row1_col1\" class=\"data row1 col1\" >0.586000</td>\n",
              "      <td id=\"T_e592d_row1_col2\" class=\"data row1 col2\" >0.445000</td>\n",
              "      <td id=\"T_e592d_row1_col3\" class=\"data row1 col3\" >0.640000</td>\n",
              "      <td id=\"T_e592d_row1_col4\" class=\"data row1 col4\" >713.233000</td>\n",
              "      <td id=\"T_e592d_row1_col5\" class=\"data row1 col5\" >0.657000</td>\n",
              "    </tr>\n",
              "    <tr>\n",
              "      <th id=\"T_e592d_level0_row2\" class=\"row_heading level0 row2\" >cubic</th>\n",
              "      <td id=\"T_e592d_row2_col0\" class=\"data row2 col0\" >0.315000</td>\n",
              "      <td id=\"T_e592d_row2_col1\" class=\"data row2 col1\" >0.562000</td>\n",
              "      <td id=\"T_e592d_row2_col2\" class=\"data row2 col2\" >0.422000</td>\n",
              "      <td id=\"T_e592d_row2_col3\" class=\"data row2 col3\" >0.606000</td>\n",
              "      <td id=\"T_e592d_row2_col4\" class=\"data row2 col4\" >652.893000</td>\n",
              "      <td id=\"T_e592d_row2_col5\" class=\"data row2 col5\" >0.685000</td>\n",
              "    </tr>\n",
              "  </tbody>\n",
              "</table>\n"
            ]
          },
          "metadata": {},
          "execution_count": 53
        }
      ]
    },
    {
      "cell_type": "markdown",
      "source": [
        "#### **그래프 시각화**"
      ],
      "metadata": {
        "id": "aNIjJ9smCf9F"
      }
    },
    {
      "cell_type": "code",
      "source": [
        "draw_data()\n",
        "\n",
        "X_every = np.arange(-2, 3, 0.1).reshape(-1,1)\n",
        "plt.plot(X_every, lr1.predict(X_every), \n",
        "         label='Linear',\n",
        "         linewidth=3, linestyle=':')\n",
        "plt.plot(X_every, lr2.predict(quad.fit_transform(X_every)), \n",
        "         label='Quadratic',\n",
        "         linewidth=3)\n",
        "plt.plot(X_every, lr3.predict(cubic.fit_transform(X_every)), \n",
        "         label='Cubic',\n",
        "         linewidth=3, linestyle='--')\n",
        "plt.show()"
      ],
      "metadata": {
        "id": "irw_FWuHRPra",
        "colab": {
          "base_uri": "https://localhost:8080/",
          "height": 279
        },
        "outputId": "b113ba48-e89a-4eed-cc59-3e094202496a"
      },
      "execution_count": 54,
      "outputs": [
        {
          "output_type": "display_data",
          "data": {
            "text/plain": [
              "<Figure size 432x288 with 1 Axes>"
            ],
            "image/png": "[encoded data removed]"
          },
          "metadata": {}
        }
      ]
    },
    {
      "cell_type": "markdown",
      "source": [
        "## **랜덤 포레스트를 사용하여 비선형 관계 다루기**\n",
        "---\n",
        "\n",
        "![](https://img1.daumcdn.net/thumb/R1280x0/?scode=mtistory2&fname=https%3A%2F%2Fblog.kakaocdn.net%2Fdn%2F96F6N%2FbtqwVglgV2S%2FYTCytd7Z2egbnbJM29MJv1%2Fimg.png)\n",
        "\n",
        "*출처:  ratsgo's blog"
      ],
      "metadata": {
        "id": "o_Z_UJB-bM6R"
      }
    },
    {
      "cell_type": "markdown",
      "source": [
        "### **| 결정트리 회귀**"
      ],
      "metadata": {
        "id": "JmqniPTaf0sE"
      }
    },
    {
      "cell_type": "markdown",
      "source": [
        "#### **모델 학습**"
      ],
      "metadata": {
        "id": "U9AXb-Z5EV9C"
      }
    },
    {
      "cell_type": "code",
      "source": [
        "from sklearn.tree import DecisionTreeRegressor\n",
        "\n",
        "tree = DecisionTreeRegressor(max_depth=3, random_state=1)\n",
        "tree.fit(X_train, y_train)\n",
        "y_pred = tree.predict(X_test)"
      ],
      "metadata": {
        "id": "jBKTe-_bgNDi"
      },
      "execution_count": 56,
      "outputs": []
    },
    {
      "cell_type": "markdown",
      "source": [
        "#### **테스트셋 성능비교**"
      ],
      "metadata": {
        "id": "p0j-4TSyEY0a"
      }
    },
    {
      "cell_type": "code",
      "source": [
        "df_score.loc['tree']=regression_scores(y_test, y_pred)\n",
        "df_score.style.background_gradient(cmap='Greens_r')"
      ],
      "metadata": {
        "id": "22aKQ3OJ9v8n",
        "colab": {
          "base_uri": "https://localhost:8080/",
          "height": 175
        },
        "outputId": "cc299c1c-0748-45d5-9e88-9d2a8cbd0c07"
      },
      "execution_count": 57,
      "outputs": [
        {
          "output_type": "execute_result",
          "data": {
            "text/plain": [
              "<pandas.io.formats.style.Styler at 0x7f946da1eb50>"
            ],
            "text/html": [
              "<style type=\"text/css\">\n",
              "#T_b06df_row0_col0, #T_b06df_row0_col1, #T_b06df_row0_col2, #T_b06df_row0_col3, #T_b06df_row1_col4, #T_b06df_row3_col5 {\n",
              "  background-color: #f7fcf5;\n",
              "  color: #000000;\n",
              "}\n",
              "#T_b06df_row0_col4 {\n",
              "  background-color: #b5e1ae;\n",
              "  color: #000000;\n",
              "}\n",
              "#T_b06df_row0_col5, #T_b06df_row3_col0, #T_b06df_row3_col1, #T_b06df_row3_col2, #T_b06df_row3_col3, #T_b06df_row3_col4 {\n",
              "  background-color: #00441b;\n",
              "  color: #f1f1f1;\n",
              "}\n",
              "#T_b06df_row1_col0 {\n",
              "  background-color: #1e8741;\n",
              "  color: #f1f1f1;\n",
              "}\n",
              "#T_b06df_row1_col1 {\n",
              "  background-color: #248c46;\n",
              "  color: #f1f1f1;\n",
              "}\n",
              "#T_b06df_row1_col2 {\n",
              "  background-color: #5ab769;\n",
              "  color: #f1f1f1;\n",
              "}\n",
              "#T_b06df_row1_col3 {\n",
              "  background-color: #58b668;\n",
              "  color: #f1f1f1;\n",
              "}\n",
              "#T_b06df_row1_col5 {\n",
              "  background-color: #cbebc5;\n",
              "  color: #000000;\n",
              "}\n",
              "#T_b06df_row2_col0 {\n",
              "  background-color: #005522;\n",
              "  color: #f1f1f1;\n",
              "}\n",
              "#T_b06df_row2_col1 {\n",
              "  background-color: #005924;\n",
              "  color: #f1f1f1;\n",
              "}\n",
              "#T_b06df_row2_col2 {\n",
              "  background-color: #157f3b;\n",
              "  color: #f1f1f1;\n",
              "}\n",
              "#T_b06df_row2_col3 {\n",
              "  background-color: #147e3a;\n",
              "  color: #f1f1f1;\n",
              "}\n",
              "#T_b06df_row2_col4 {\n",
              "  background-color: #84cc83;\n",
              "  color: #000000;\n",
              "}\n",
              "#T_b06df_row2_col5 {\n",
              "  background-color: #f0f9ec;\n",
              "  color: #000000;\n",
              "}\n",
              "</style>\n",
              "<table id=\"T_b06df_\" class=\"dataframe\">\n",
              "  <thead>\n",
              "    <tr>\n",
              "      <th class=\"blank level0\" >&nbsp;</th>\n",
              "      <th class=\"col_heading level0 col0\" >mse</th>\n",
              "      <th class=\"col_heading level0 col1\" >rmse</th>\n",
              "      <th class=\"col_heading level0 col2\" >mae</th>\n",
              "      <th class=\"col_heading level0 col3\" >nmae</th>\n",
              "      <th class=\"col_heading level0 col4\" >mape</th>\n",
              "      <th class=\"col_heading level0 col5\" >r2</th>\n",
              "    </tr>\n",
              "  </thead>\n",
              "  <tbody>\n",
              "    <tr>\n",
              "      <th id=\"T_b06df_level0_row0\" class=\"row_heading level0 row0\" >linear</th>\n",
              "      <td id=\"T_b06df_row0_col0\" class=\"data row0 col0\" >0.463000</td>\n",
              "      <td id=\"T_b06df_row0_col1\" class=\"data row0 col1\" >0.680000</td>\n",
              "      <td id=\"T_b06df_row0_col2\" class=\"data row0 col2\" >0.501000</td>\n",
              "      <td id=\"T_b06df_row0_col3\" class=\"data row0 col3\" >0.721000</td>\n",
              "      <td id=\"T_b06df_row0_col4\" class=\"data row0 col4\" >671.832000</td>\n",
              "      <td id=\"T_b06df_row0_col5\" class=\"data row0 col5\" >0.537000</td>\n",
              "    </tr>\n",
              "    <tr>\n",
              "      <th id=\"T_b06df_level0_row1\" class=\"row_heading level0 row1\" >quadratic</th>\n",
              "      <td id=\"T_b06df_row1_col0\" class=\"data row1 col0\" >0.343000</td>\n",
              "      <td id=\"T_b06df_row1_col1\" class=\"data row1 col1\" >0.586000</td>\n",
              "      <td id=\"T_b06df_row1_col2\" class=\"data row1 col2\" >0.445000</td>\n",
              "      <td id=\"T_b06df_row1_col3\" class=\"data row1 col3\" >0.640000</td>\n",
              "      <td id=\"T_b06df_row1_col4\" class=\"data row1 col4\" >713.233000</td>\n",
              "      <td id=\"T_b06df_row1_col5\" class=\"data row1 col5\" >0.657000</td>\n",
              "    </tr>\n",
              "    <tr>\n",
              "      <th id=\"T_b06df_level0_row2\" class=\"row_heading level0 row2\" >cubic</th>\n",
              "      <td id=\"T_b06df_row2_col0\" class=\"data row2 col0\" >0.315000</td>\n",
              "      <td id=\"T_b06df_row2_col1\" class=\"data row2 col1\" >0.562000</td>\n",
              "      <td id=\"T_b06df_row2_col2\" class=\"data row2 col2\" >0.422000</td>\n",
              "      <td id=\"T_b06df_row2_col3\" class=\"data row2 col3\" >0.606000</td>\n",
              "      <td id=\"T_b06df_row2_col4\" class=\"data row2 col4\" >652.893000</td>\n",
              "      <td id=\"T_b06df_row2_col5\" class=\"data row2 col5\" >0.685000</td>\n",
              "    </tr>\n",
              "    <tr>\n",
              "      <th id=\"T_b06df_level0_row3\" class=\"row_heading level0 row3\" >tree</th>\n",
              "      <td id=\"T_b06df_row3_col0\" class=\"data row3 col0\" >0.307000</td>\n",
              "      <td id=\"T_b06df_row3_col1\" class=\"data row3 col1\" >0.554000</td>\n",
              "      <td id=\"T_b06df_row3_col2\" class=\"data row3 col2\" >0.402000</td>\n",
              "      <td id=\"T_b06df_row3_col3\" class=\"data row3 col3\" >0.578000</td>\n",
              "      <td id=\"T_b06df_row3_col4\" class=\"data row3 col4\" >580.727000</td>\n",
              "      <td id=\"T_b06df_row3_col5\" class=\"data row3 col5\" >0.693000</td>\n",
              "    </tr>\n",
              "  </tbody>\n",
              "</table>\n"
            ]
          },
          "metadata": {},
          "execution_count": 57
        }
      ]
    },
    {
      "cell_type": "markdown",
      "source": [
        "#### **그래프 시각화**"
      ],
      "metadata": {
        "id": "J1EfnMS-Eb0T"
      }
    },
    {
      "cell_type": "code",
      "source": [
        "draw_data()\n",
        "plt.plot(X_every, tree.predict(X_every), lw=3)    \n",
        "plt.show()"
      ],
      "metadata": {
        "id": "wefFK6Ivatq5",
        "colab": {
          "base_uri": "https://localhost:8080/",
          "height": 279
        },
        "outputId": "7dd13ace-07ae-4702-e159-5ce49f4ba2b1"
      },
      "execution_count": 58,
      "outputs": [
        {
          "output_type": "display_data",
          "data": {
            "text/plain": [
              "<Figure size 432x288 with 1 Axes>"
            ],
            "image/png": "[encoded data removed]"
          },
          "metadata": {}
        }
      ]
    },
    {
      "cell_type": "markdown",
      "source": [
        "### **| 랜덤 포레스트 회귀 (Random Forest Regressor)**"
      ],
      "metadata": {
        "id": "l1XVbkXFD7Rm"
      }
    },
    {
      "cell_type": "markdown",
      "source": [
        "#### **모델 학습**"
      ],
      "metadata": {
        "id": "vPA4opI3EAza"
      }
    },
    {
      "cell_type": "code",
      "source": [
        "from sklearn.ensemble import RandomForestRegressor\n",
        "\n",
        "forest = RandomForestRegressor(random_state=1)\n",
        "forest.fit(X_train, y_train)"
      ],
      "metadata": {
        "id": "M_wdfRw0bQhp",
        "colab": {
          "base_uri": "https://localhost:8080/"
        },
        "outputId": "6dfe0f78-b778-4041-aa71-e6860fab367f"
      },
      "execution_count": 59,
      "outputs": [
        {
          "output_type": "execute_result",
          "data": {
            "text/plain": [
              "RandomForestRegressor(random_state=1)"
            ]
          },
          "metadata": {},
          "execution_count": 59
        }
      ]
    },
    {
      "cell_type": "markdown",
      "source": [
        "#### **테스트셋 성능 비교**"
      ],
      "metadata": {
        "id": "uLPJ4OV6EFyT"
      }
    },
    {
      "cell_type": "code",
      "source": [
        "y_pred = forest.predict(X_test)\n",
        "df_score.loc['forest']=regression_scores(y_test, y_pred)\n",
        "df_score.style.background_gradient(cmap='Greens_r')"
      ],
      "metadata": {
        "id": "thihkhhg91d0",
        "colab": {
          "base_uri": "https://localhost:8080/",
          "height": 206
        },
        "outputId": "d6be3575-80dd-4497-8c6f-a20f4894f994"
      },
      "execution_count": 60,
      "outputs": [
        {
          "output_type": "execute_result",
          "data": {
            "text/plain": [
              "<pandas.io.formats.style.Styler at 0x7f946ce36f50>"
            ],
            "text/html": [
              "<style type=\"text/css\">\n",
              "#T_24106_row0_col0, #T_24106_row0_col1, #T_24106_row0_col2, #T_24106_row0_col3, #T_24106_row1_col4, #T_24106_row3_col5 {\n",
              "  background-color: #f7fcf5;\n",
              "  color: #000000;\n",
              "}\n",
              "#T_24106_row0_col4 {\n",
              "  background-color: #d9f0d3;\n",
              "  color: #000000;\n",
              "}\n",
              "#T_24106_row0_col5, #T_24106_row3_col0, #T_24106_row3_col1, #T_24106_row3_col2, #T_24106_row3_col3, #T_24106_row4_col4 {\n",
              "  background-color: #00441b;\n",
              "  color: #f1f1f1;\n",
              "}\n",
              "#T_24106_row1_col0 {\n",
              "  background-color: #1e8741;\n",
              "  color: #f1f1f1;\n",
              "}\n",
              "#T_24106_row1_col1 {\n",
              "  background-color: #248c46;\n",
              "  color: #f1f1f1;\n",
              "}\n",
              "#T_24106_row1_col2, #T_24106_row3_col4 {\n",
              "  background-color: #5ab769;\n",
              "  color: #f1f1f1;\n",
              "}\n",
              "#T_24106_row1_col3 {\n",
              "  background-color: #58b668;\n",
              "  color: #f1f1f1;\n",
              "}\n",
              "#T_24106_row1_col5 {\n",
              "  background-color: #cbebc5;\n",
              "  color: #000000;\n",
              "}\n",
              "#T_24106_row2_col0 {\n",
              "  background-color: #005522;\n",
              "  color: #f1f1f1;\n",
              "}\n",
              "#T_24106_row2_col1 {\n",
              "  background-color: #005924;\n",
              "  color: #f1f1f1;\n",
              "}\n",
              "#T_24106_row2_col2 {\n",
              "  background-color: #157f3b;\n",
              "  color: #f1f1f1;\n",
              "}\n",
              "#T_24106_row2_col3 {\n",
              "  background-color: #147e3a;\n",
              "  color: #f1f1f1;\n",
              "}\n",
              "#T_24106_row2_col4 {\n",
              "  background-color: #c6e8bf;\n",
              "  color: #000000;\n",
              "}\n",
              "#T_24106_row2_col5 {\n",
              "  background-color: #f0f9ec;\n",
              "  color: #000000;\n",
              "}\n",
              "#T_24106_row4_col0 {\n",
              "  background-color: #def2d9;\n",
              "  color: #000000;\n",
              "}\n",
              "#T_24106_row4_col1 {\n",
              "  background-color: #e3f4de;\n",
              "  color: #000000;\n",
              "}\n",
              "#T_24106_row4_col2, #T_24106_row4_col3 {\n",
              "  background-color: #c7e9c0;\n",
              "  color: #000000;\n",
              "}\n",
              "#T_24106_row4_col5 {\n",
              "  background-color: #087432;\n",
              "  color: #f1f1f1;\n",
              "}\n",
              "</style>\n",
              "<table id=\"T_24106_\" class=\"dataframe\">\n",
              "  <thead>\n",
              "    <tr>\n",
              "      <th class=\"blank level0\" >&nbsp;</th>\n",
              "      <th class=\"col_heading level0 col0\" >mse</th>\n",
              "      <th class=\"col_heading level0 col1\" >rmse</th>\n",
              "      <th class=\"col_heading level0 col2\" >mae</th>\n",
              "      <th class=\"col_heading level0 col3\" >nmae</th>\n",
              "      <th class=\"col_heading level0 col4\" >mape</th>\n",
              "      <th class=\"col_heading level0 col5\" >r2</th>\n",
              "    </tr>\n",
              "  </thead>\n",
              "  <tbody>\n",
              "    <tr>\n",
              "      <th id=\"T_24106_level0_row0\" class=\"row_heading level0 row0\" >linear</th>\n",
              "      <td id=\"T_24106_row0_col0\" class=\"data row0 col0\" >0.463000</td>\n",
              "      <td id=\"T_24106_row0_col1\" class=\"data row0 col1\" >0.680000</td>\n",
              "      <td id=\"T_24106_row0_col2\" class=\"data row0 col2\" >0.501000</td>\n",
              "      <td id=\"T_24106_row0_col3\" class=\"data row0 col3\" >0.721000</td>\n",
              "      <td id=\"T_24106_row0_col4\" class=\"data row0 col4\" >671.832000</td>\n",
              "      <td id=\"T_24106_row0_col5\" class=\"data row0 col5\" >0.537000</td>\n",
              "    </tr>\n",
              "    <tr>\n",
              "      <th id=\"T_24106_level0_row1\" class=\"row_heading level0 row1\" >quadratic</th>\n",
              "      <td id=\"T_24106_row1_col0\" class=\"data row1 col0\" >0.343000</td>\n",
              "      <td id=\"T_24106_row1_col1\" class=\"data row1 col1\" >0.586000</td>\n",
              "      <td id=\"T_24106_row1_col2\" class=\"data row1 col2\" >0.445000</td>\n",
              "      <td id=\"T_24106_row1_col3\" class=\"data row1 col3\" >0.640000</td>\n",
              "      <td id=\"T_24106_row1_col4\" class=\"data row1 col4\" >713.233000</td>\n",
              "      <td id=\"T_24106_row1_col5\" class=\"data row1 col5\" >0.657000</td>\n",
              "    </tr>\n",
              "    <tr>\n",
              "      <th id=\"T_24106_level0_row2\" class=\"row_heading level0 row2\" >cubic</th>\n",
              "      <td id=\"T_24106_row2_col0\" class=\"data row2 col0\" >0.315000</td>\n",
              "      <td id=\"T_24106_row2_col1\" class=\"data row2 col1\" >0.562000</td>\n",
              "      <td id=\"T_24106_row2_col2\" class=\"data row2 col2\" >0.422000</td>\n",
              "      <td id=\"T_24106_row2_col3\" class=\"data row2 col3\" >0.606000</td>\n",
              "      <td id=\"T_24106_row2_col4\" class=\"data row2 col4\" >652.893000</td>\n",
              "      <td id=\"T_24106_row2_col5\" class=\"data row2 col5\" >0.685000</td>\n",
              "    </tr>\n",
              "    <tr>\n",
              "      <th id=\"T_24106_level0_row3\" class=\"row_heading level0 row3\" >tree</th>\n",
              "      <td id=\"T_24106_row3_col0\" class=\"data row3 col0\" >0.307000</td>\n",
              "      <td id=\"T_24106_row3_col1\" class=\"data row3 col1\" >0.554000</td>\n",
              "      <td id=\"T_24106_row3_col2\" class=\"data row3 col2\" >0.402000</td>\n",
              "      <td id=\"T_24106_row3_col3\" class=\"data row3 col3\" >0.578000</td>\n",
              "      <td id=\"T_24106_row3_col4\" class=\"data row3 col4\" >580.727000</td>\n",
              "      <td id=\"T_24106_row3_col5\" class=\"data row3 col5\" >0.693000</td>\n",
              "    </tr>\n",
              "    <tr>\n",
              "      <th id=\"T_24106_level0_row4\" class=\"row_heading level0 row4\" >forest</th>\n",
              "      <td id=\"T_24106_row4_col0\" class=\"data row4 col0\" >0.439000</td>\n",
              "      <td id=\"T_24106_row4_col1\" class=\"data row4 col1\" >0.663000</td>\n",
              "      <td id=\"T_24106_row4_col2\" class=\"data row4 col2\" >0.476000</td>\n",
              "      <td id=\"T_24106_row4_col3\" class=\"data row4 col3\" >0.685000</td>\n",
              "      <td id=\"T_24106_row4_col4\" class=\"data row4 col4\" >478.131000</td>\n",
              "      <td id=\"T_24106_row4_col5\" class=\"data row4 col5\" >0.561000</td>\n",
              "    </tr>\n",
              "  </tbody>\n",
              "</table>\n"
            ]
          },
          "metadata": {},
          "execution_count": 60
        }
      ]
    },
    {
      "cell_type": "markdown",
      "source": [
        "#### **그래프 시각화**"
      ],
      "metadata": {
        "id": "9yj-SJ85ESGc"
      }
    },
    {
      "cell_type": "code",
      "source": [
        "draw_data()\n",
        "plt.plot(X_every, forest.predict(X_every), lw=3)    \n",
        "plt.show()"
      ],
      "metadata": {
        "id": "Zipzp2MBf400",
        "colab": {
          "base_uri": "https://localhost:8080/",
          "height": 279
        },
        "outputId": "8e4bce82-2eb2-49ae-87b2-2bbf1ae942a3"
      },
      "execution_count": 61,
      "outputs": [
        {
          "output_type": "display_data",
          "data": {
            "text/plain": [
              "<Figure size 432x288 with 1 Axes>"
            ],
            "image/png": "[encoded data removed]"
          },
          "metadata": {}
        }
      ]
    },
    {
      "cell_type": "markdown",
      "source": [
        "### **| 엑스트라 트리 (Extra Tree Regressor)**"
      ],
      "metadata": {
        "id": "J6xmuPP6LZjz"
      }
    },
    {
      "cell_type": "markdown",
      "source": [
        "#### **모델 학습**"
      ],
      "metadata": {
        "id": "hC2KVu-XLZj5"
      }
    },
    {
      "cell_type": "code",
      "source": [
        "from sklearn.ensemble import ExtraTreesRegressor\n",
        "\n",
        "et = ExtraTreesRegressor(random_state=1)\n",
        "et.fit(X_train, y_train)"
      ],
      "metadata": {
        "id": "w63LEOBVLZj5",
        "colab": {
          "base_uri": "https://localhost:8080/"
        },
        "outputId": "82f65a00-521e-488e-9bff-463fe68c7e0e"
      },
      "execution_count": 62,
      "outputs": [
        {
          "output_type": "execute_result",
          "data": {
            "text/plain": [
              "ExtraTreesRegressor(random_state=1)"
            ]
          },
          "metadata": {},
          "execution_count": 62
        }
      ]
    },
    {
      "cell_type": "markdown",
      "source": [
        "#### **테스트셋 성능 비교**"
      ],
      "metadata": {
        "id": "exSV_oihLZj5"
      }
    },
    {
      "cell_type": "code",
      "source": [
        "y_pred = et.predict(X_test)\n",
        "df_score.loc['et']=regression_scores(y_test, y_pred)\n",
        "df_score.style.background_gradient(cmap='Greens_r')"
      ],
      "metadata": {
        "id": "iF7cDoxQLZj5",
        "colab": {
          "base_uri": "https://localhost:8080/",
          "height": 238
        },
        "outputId": "a482413b-64ea-48c0-aba4-51af1e48c7a4"
      },
      "execution_count": 63,
      "outputs": [
        {
          "output_type": "execute_result",
          "data": {
            "text/plain": [
              "<pandas.io.formats.style.Styler at 0x7f946ce53f10>"
            ],
            "text/html": [
              "<style type=\"text/css\">\n",
              "#T_1da1a_row0_col0, #T_1da1a_row0_col1, #T_1da1a_row0_col2, #T_1da1a_row0_col3, #T_1da1a_row1_col4, #T_1da1a_row3_col5 {\n",
              "  background-color: #f7fcf5;\n",
              "  color: #000000;\n",
              "}\n",
              "#T_1da1a_row0_col4 {\n",
              "  background-color: #e2f4dd;\n",
              "  color: #000000;\n",
              "}\n",
              "#T_1da1a_row0_col5, #T_1da1a_row3_col0, #T_1da1a_row3_col1, #T_1da1a_row3_col2, #T_1da1a_row3_col3, #T_1da1a_row5_col4 {\n",
              "  background-color: #00441b;\n",
              "  color: #f1f1f1;\n",
              "}\n",
              "#T_1da1a_row1_col0 {\n",
              "  background-color: #1e8741;\n",
              "  color: #f1f1f1;\n",
              "}\n",
              "#T_1da1a_row1_col1 {\n",
              "  background-color: #248c46;\n",
              "  color: #f1f1f1;\n",
              "}\n",
              "#T_1da1a_row1_col2 {\n",
              "  background-color: #5ab769;\n",
              "  color: #f1f1f1;\n",
              "}\n",
              "#T_1da1a_row1_col3 {\n",
              "  background-color: #58b668;\n",
              "  color: #f1f1f1;\n",
              "}\n",
              "#T_1da1a_row1_col5 {\n",
              "  background-color: #cbebc5;\n",
              "  color: #000000;\n",
              "}\n",
              "#T_1da1a_row2_col0 {\n",
              "  background-color: #005522;\n",
              "  color: #f1f1f1;\n",
              "}\n",
              "#T_1da1a_row2_col1 {\n",
              "  background-color: #005924;\n",
              "  color: #f1f1f1;\n",
              "}\n",
              "#T_1da1a_row2_col2 {\n",
              "  background-color: #157f3b;\n",
              "  color: #f1f1f1;\n",
              "}\n",
              "#T_1da1a_row2_col3 {\n",
              "  background-color: #147e3a;\n",
              "  color: #f1f1f1;\n",
              "}\n",
              "#T_1da1a_row2_col4 {\n",
              "  background-color: #d2edcc;\n",
              "  color: #000000;\n",
              "}\n",
              "#T_1da1a_row2_col5 {\n",
              "  background-color: #f0f9ec;\n",
              "  color: #000000;\n",
              "}\n",
              "#T_1da1a_row3_col4 {\n",
              "  background-color: #87cd86;\n",
              "  color: #000000;\n",
              "}\n",
              "#T_1da1a_row4_col0 {\n",
              "  background-color: #def2d9;\n",
              "  color: #000000;\n",
              "}\n",
              "#T_1da1a_row4_col1 {\n",
              "  background-color: #e3f4de;\n",
              "  color: #000000;\n",
              "}\n",
              "#T_1da1a_row4_col2, #T_1da1a_row4_col3 {\n",
              "  background-color: #c7e9c0;\n",
              "  color: #000000;\n",
              "}\n",
              "#T_1da1a_row4_col4 {\n",
              "  background-color: #16803c;\n",
              "  color: #f1f1f1;\n",
              "}\n",
              "#T_1da1a_row4_col5 {\n",
              "  background-color: #087432;\n",
              "  color: #f1f1f1;\n",
              "}\n",
              "#T_1da1a_row5_col0 {\n",
              "  background-color: #dcf2d7;\n",
              "  color: #000000;\n",
              "}\n",
              "#T_1da1a_row5_col1 {\n",
              "  background-color: #e1f3dc;\n",
              "  color: #000000;\n",
              "}\n",
              "#T_1da1a_row5_col2, #T_1da1a_row5_col3 {\n",
              "  background-color: #c9eac2;\n",
              "  color: #000000;\n",
              "}\n",
              "#T_1da1a_row5_col5 {\n",
              "  background-color: #0a7633;\n",
              "  color: #f1f1f1;\n",
              "}\n",
              "</style>\n",
              "<table id=\"T_1da1a_\" class=\"dataframe\">\n",
              "  <thead>\n",
              "    <tr>\n",
              "      <th class=\"blank level0\" >&nbsp;</th>\n",
              "      <th class=\"col_heading level0 col0\" >mse</th>\n",
              "      <th class=\"col_heading level0 col1\" >rmse</th>\n",
              "      <th class=\"col_heading level0 col2\" >mae</th>\n",
              "      <th class=\"col_heading level0 col3\" >nmae</th>\n",
              "      <th class=\"col_heading level0 col4\" >mape</th>\n",
              "      <th class=\"col_heading level0 col5\" >r2</th>\n",
              "    </tr>\n",
              "  </thead>\n",
              "  <tbody>\n",
              "    <tr>\n",
              "      <th id=\"T_1da1a_level0_row0\" class=\"row_heading level0 row0\" >linear</th>\n",
              "      <td id=\"T_1da1a_row0_col0\" class=\"data row0 col0\" >0.463000</td>\n",
              "      <td id=\"T_1da1a_row0_col1\" class=\"data row0 col1\" >0.680000</td>\n",
              "      <td id=\"T_1da1a_row0_col2\" class=\"data row0 col2\" >0.501000</td>\n",
              "      <td id=\"T_1da1a_row0_col3\" class=\"data row0 col3\" >0.721000</td>\n",
              "      <td id=\"T_1da1a_row0_col4\" class=\"data row0 col4\" >671.832000</td>\n",
              "      <td id=\"T_1da1a_row0_col5\" class=\"data row0 col5\" >0.537000</td>\n",
              "    </tr>\n",
              "    <tr>\n",
              "      <th id=\"T_1da1a_level0_row1\" class=\"row_heading level0 row1\" >quadratic</th>\n",
              "      <td id=\"T_1da1a_row1_col0\" class=\"data row1 col0\" >0.343000</td>\n",
              "      <td id=\"T_1da1a_row1_col1\" class=\"data row1 col1\" >0.586000</td>\n",
              "      <td id=\"T_1da1a_row1_col2\" class=\"data row1 col2\" >0.445000</td>\n",
              "      <td id=\"T_1da1a_row1_col3\" class=\"data row1 col3\" >0.640000</td>\n",
              "      <td id=\"T_1da1a_row1_col4\" class=\"data row1 col4\" >713.233000</td>\n",
              "      <td id=\"T_1da1a_row1_col5\" class=\"data row1 col5\" >0.657000</td>\n",
              "    </tr>\n",
              "    <tr>\n",
              "      <th id=\"T_1da1a_level0_row2\" class=\"row_heading level0 row2\" >cubic</th>\n",
              "      <td id=\"T_1da1a_row2_col0\" class=\"data row2 col0\" >0.315000</td>\n",
              "      <td id=\"T_1da1a_row2_col1\" class=\"data row2 col1\" >0.562000</td>\n",
              "      <td id=\"T_1da1a_row2_col2\" class=\"data row2 col2\" >0.422000</td>\n",
              "      <td id=\"T_1da1a_row2_col3\" class=\"data row2 col3\" >0.606000</td>\n",
              "      <td id=\"T_1da1a_row2_col4\" class=\"data row2 col4\" >652.893000</td>\n",
              "      <td id=\"T_1da1a_row2_col5\" class=\"data row2 col5\" >0.685000</td>\n",
              "    </tr>\n",
              "    <tr>\n",
              "      <th id=\"T_1da1a_level0_row3\" class=\"row_heading level0 row3\" >tree</th>\n",
              "      <td id=\"T_1da1a_row3_col0\" class=\"data row3 col0\" >0.307000</td>\n",
              "      <td id=\"T_1da1a_row3_col1\" class=\"data row3 col1\" >0.554000</td>\n",
              "      <td id=\"T_1da1a_row3_col2\" class=\"data row3 col2\" >0.402000</td>\n",
              "      <td id=\"T_1da1a_row3_col3\" class=\"data row3 col3\" >0.578000</td>\n",
              "      <td id=\"T_1da1a_row3_col4\" class=\"data row3 col4\" >580.727000</td>\n",
              "      <td id=\"T_1da1a_row3_col5\" class=\"data row3 col5\" >0.693000</td>\n",
              "    </tr>\n",
              "    <tr>\n",
              "      <th id=\"T_1da1a_level0_row4\" class=\"row_heading level0 row4\" >forest</th>\n",
              "      <td id=\"T_1da1a_row4_col0\" class=\"data row4 col0\" >0.439000</td>\n",
              "      <td id=\"T_1da1a_row4_col1\" class=\"data row4 col1\" >0.663000</td>\n",
              "      <td id=\"T_1da1a_row4_col2\" class=\"data row4 col2\" >0.476000</td>\n",
              "      <td id=\"T_1da1a_row4_col3\" class=\"data row4 col3\" >0.685000</td>\n",
              "      <td id=\"T_1da1a_row4_col4\" class=\"data row4 col4\" >478.131000</td>\n",
              "      <td id=\"T_1da1a_row4_col5\" class=\"data row4 col5\" >0.561000</td>\n",
              "    </tr>\n",
              "    <tr>\n",
              "      <th id=\"T_1da1a_level0_row5\" class=\"row_heading level0 row5\" >et</th>\n",
              "      <td id=\"T_1da1a_row5_col0\" class=\"data row5 col0\" >0.438000</td>\n",
              "      <td id=\"T_1da1a_row5_col1\" class=\"data row5 col1\" >0.662000</td>\n",
              "      <td id=\"T_1da1a_row5_col2\" class=\"data row5 col2\" >0.477000</td>\n",
              "      <td id=\"T_1da1a_row5_col3\" class=\"data row5 col3\" >0.686000</td>\n",
              "      <td id=\"T_1da1a_row5_col4\" class=\"data row5 col4\" >417.761000</td>\n",
              "      <td id=\"T_1da1a_row5_col5\" class=\"data row5 col5\" >0.562000</td>\n",
              "    </tr>\n",
              "  </tbody>\n",
              "</table>\n"
            ]
          },
          "metadata": {},
          "execution_count": 63
        }
      ]
    },
    {
      "cell_type": "markdown",
      "source": [
        "#### **그래프 시각화**"
      ],
      "metadata": {
        "id": "RWMOqMszLZj5"
      }
    },
    {
      "cell_type": "code",
      "source": [
        "draw_data()\n",
        "plt.plot(X_every, et.predict(X_every), lw=3)    \n",
        "plt.show()"
      ],
      "metadata": {
        "id": "SAm2hvuYLZj5",
        "colab": {
          "base_uri": "https://localhost:8080/",
          "height": 279
        },
        "outputId": "13088375-0bd6-48be-8f6f-83cb36116cec"
      },
      "execution_count": 64,
      "outputs": [
        {
          "output_type": "display_data",
          "data": {
            "text/plain": [
              "<Figure size 432x288 with 1 Axes>"
            ],
            "image/png": "[encoded data removed]"
          },
          "metadata": {}
        }
      ]
    },
    {
      "cell_type": "markdown",
      "source": [
        "### **| Gradient Boosting Regressor**"
      ],
      "metadata": {
        "id": "k8XiGE3NMED_"
      }
    },
    {
      "cell_type": "markdown",
      "source": [
        "#### **모델 학습**"
      ],
      "metadata": {
        "id": "OuQDDlYoMEEE"
      }
    },
    {
      "cell_type": "code",
      "source": [
        "from sklearn.ensemble import GradientBoostingRegressor\n",
        "\n",
        "gb = GradientBoostingRegressor(random_state=1)\n",
        "gb.fit(X_train, y_train)"
      ],
      "metadata": {
        "id": "JuqxOkcjMEEF",
        "colab": {
          "base_uri": "https://localhost:8080/"
        },
        "outputId": "2a223ae6-09a6-4042-f520-7fcf32ebd967"
      },
      "execution_count": 65,
      "outputs": [
        {
          "output_type": "execute_result",
          "data": {
            "text/plain": [
              "GradientBoostingRegressor(random_state=1)"
            ]
          },
          "metadata": {},
          "execution_count": 65
        }
      ]
    },
    {
      "cell_type": "markdown",
      "source": [
        "#### **테스트셋 성능 비교**"
      ],
      "metadata": {
        "id": "gCjS_nhuMEEF"
      }
    },
    {
      "cell_type": "code",
      "source": [
        "y_pred = gb.predict(X_test)\n",
        "df_score.loc['gb']=regression_scores(y_test, y_pred)\n",
        "df_score.style.background_gradient(cmap='Greens_r')"
      ],
      "metadata": {
        "id": "m2EaO6yuMEEF",
        "colab": {
          "base_uri": "https://localhost:8080/",
          "height": 268
        },
        "outputId": "41fc2e81-bc97-47e6-a5c9-11f9b2f443eb"
      },
      "execution_count": 66,
      "outputs": [
        {
          "output_type": "execute_result",
          "data": {
            "text/plain": [
              "<pandas.io.formats.style.Styler at 0x7f946cd28410>"
            ],
            "text/html": [
              "<style type=\"text/css\">\n",
              "#T_32a92_row0_col0, #T_32a92_row0_col1, #T_32a92_row0_col2, #T_32a92_row0_col3, #T_32a92_row1_col4, #T_32a92_row3_col5 {\n",
              "  background-color: #f7fcf5;\n",
              "  color: #000000;\n",
              "}\n",
              "#T_32a92_row0_col4, #T_32a92_row4_col1 {\n",
              "  background-color: #e3f4de;\n",
              "  color: #000000;\n",
              "}\n",
              "#T_32a92_row0_col5, #T_32a92_row3_col0, #T_32a92_row3_col1, #T_32a92_row3_col2, #T_32a92_row3_col3, #T_32a92_row6_col4 {\n",
              "  background-color: #00441b;\n",
              "  color: #f1f1f1;\n",
              "}\n",
              "#T_32a92_row1_col0 {\n",
              "  background-color: #1e8741;\n",
              "  color: #f1f1f1;\n",
              "}\n",
              "#T_32a92_row1_col1 {\n",
              "  background-color: #248c46;\n",
              "  color: #f1f1f1;\n",
              "}\n",
              "#T_32a92_row1_col2 {\n",
              "  background-color: #5ab769;\n",
              "  color: #f1f1f1;\n",
              "}\n",
              "#T_32a92_row1_col3 {\n",
              "  background-color: #58b668;\n",
              "  color: #f1f1f1;\n",
              "}\n",
              "#T_32a92_row1_col5 {\n",
              "  background-color: #cbebc5;\n",
              "  color: #000000;\n",
              "}\n",
              "#T_32a92_row2_col0 {\n",
              "  background-color: #005522;\n",
              "  color: #f1f1f1;\n",
              "}\n",
              "#T_32a92_row2_col1 {\n",
              "  background-color: #005924;\n",
              "  color: #f1f1f1;\n",
              "}\n",
              "#T_32a92_row2_col2 {\n",
              "  background-color: #157f3b;\n",
              "  color: #f1f1f1;\n",
              "}\n",
              "#T_32a92_row2_col3 {\n",
              "  background-color: #147e3a;\n",
              "  color: #f1f1f1;\n",
              "}\n",
              "#T_32a92_row2_col4 {\n",
              "  background-color: #d4eece;\n",
              "  color: #000000;\n",
              "}\n",
              "#T_32a92_row2_col5 {\n",
              "  background-color: #f0f9ec;\n",
              "  color: #000000;\n",
              "}\n",
              "#T_32a92_row3_col4 {\n",
              "  background-color: #8bcf89;\n",
              "  color: #000000;\n",
              "}\n",
              "#T_32a92_row4_col0 {\n",
              "  background-color: #def2d9;\n",
              "  color: #000000;\n",
              "}\n",
              "#T_32a92_row4_col2, #T_32a92_row4_col3 {\n",
              "  background-color: #c7e9c0;\n",
              "  color: #000000;\n",
              "}\n",
              "#T_32a92_row4_col4 {\n",
              "  background-color: #1c8540;\n",
              "  color: #f1f1f1;\n",
              "}\n",
              "#T_32a92_row4_col5 {\n",
              "  background-color: #087432;\n",
              "  color: #f1f1f1;\n",
              "}\n",
              "#T_32a92_row5_col0 {\n",
              "  background-color: #dcf2d7;\n",
              "  color: #000000;\n",
              "}\n",
              "#T_32a92_row5_col1 {\n",
              "  background-color: #e1f3dc;\n",
              "  color: #000000;\n",
              "}\n",
              "#T_32a92_row5_col2, #T_32a92_row5_col3 {\n",
              "  background-color: #c9eac2;\n",
              "  color: #000000;\n",
              "}\n",
              "#T_32a92_row5_col4 {\n",
              "  background-color: #004c1e;\n",
              "  color: #f1f1f1;\n",
              "}\n",
              "#T_32a92_row5_col5 {\n",
              "  background-color: #0a7633;\n",
              "  color: #f1f1f1;\n",
              "}\n",
              "#T_32a92_row6_col0 {\n",
              "  background-color: #117b38;\n",
              "  color: #f1f1f1;\n",
              "}\n",
              "#T_32a92_row6_col1 {\n",
              "  background-color: #16803c;\n",
              "  color: #f1f1f1;\n",
              "}\n",
              "#T_32a92_row6_col2 {\n",
              "  background-color: #005b25;\n",
              "  color: #f1f1f1;\n",
              "}\n",
              "#T_32a92_row6_col3 {\n",
              "  background-color: #005a24;\n",
              "  color: #f1f1f1;\n",
              "}\n",
              "#T_32a92_row6_col5 {\n",
              "  background-color: #d7efd1;\n",
              "  color: #000000;\n",
              "}\n",
              "</style>\n",
              "<table id=\"T_32a92_\" class=\"dataframe\">\n",
              "  <thead>\n",
              "    <tr>\n",
              "      <th class=\"blank level0\" >&nbsp;</th>\n",
              "      <th class=\"col_heading level0 col0\" >mse</th>\n",
              "      <th class=\"col_heading level0 col1\" >rmse</th>\n",
              "      <th class=\"col_heading level0 col2\" >mae</th>\n",
              "      <th class=\"col_heading level0 col3\" >nmae</th>\n",
              "      <th class=\"col_heading level0 col4\" >mape</th>\n",
              "      <th class=\"col_heading level0 col5\" >r2</th>\n",
              "    </tr>\n",
              "  </thead>\n",
              "  <tbody>\n",
              "    <tr>\n",
              "      <th id=\"T_32a92_level0_row0\" class=\"row_heading level0 row0\" >linear</th>\n",
              "      <td id=\"T_32a92_row0_col0\" class=\"data row0 col0\" >0.463000</td>\n",
              "      <td id=\"T_32a92_row0_col1\" class=\"data row0 col1\" >0.680000</td>\n",
              "      <td id=\"T_32a92_row0_col2\" class=\"data row0 col2\" >0.501000</td>\n",
              "      <td id=\"T_32a92_row0_col3\" class=\"data row0 col3\" >0.721000</td>\n",
              "      <td id=\"T_32a92_row0_col4\" class=\"data row0 col4\" >671.832000</td>\n",
              "      <td id=\"T_32a92_row0_col5\" class=\"data row0 col5\" >0.537000</td>\n",
              "    </tr>\n",
              "    <tr>\n",
              "      <th id=\"T_32a92_level0_row1\" class=\"row_heading level0 row1\" >quadratic</th>\n",
              "      <td id=\"T_32a92_row1_col0\" class=\"data row1 col0\" >0.343000</td>\n",
              "      <td id=\"T_32a92_row1_col1\" class=\"data row1 col1\" >0.586000</td>\n",
              "      <td id=\"T_32a92_row1_col2\" class=\"data row1 col2\" >0.445000</td>\n",
              "      <td id=\"T_32a92_row1_col3\" class=\"data row1 col3\" >0.640000</td>\n",
              "      <td id=\"T_32a92_row1_col4\" class=\"data row1 col4\" >713.233000</td>\n",
              "      <td id=\"T_32a92_row1_col5\" class=\"data row1 col5\" >0.657000</td>\n",
              "    </tr>\n",
              "    <tr>\n",
              "      <th id=\"T_32a92_level0_row2\" class=\"row_heading level0 row2\" >cubic</th>\n",
              "      <td id=\"T_32a92_row2_col0\" class=\"data row2 col0\" >0.315000</td>\n",
              "      <td id=\"T_32a92_row2_col1\" class=\"data row2 col1\" >0.562000</td>\n",
              "      <td id=\"T_32a92_row2_col2\" class=\"data row2 col2\" >0.422000</td>\n",
              "      <td id=\"T_32a92_row2_col3\" class=\"data row2 col3\" >0.606000</td>\n",
              "      <td id=\"T_32a92_row2_col4\" class=\"data row2 col4\" >652.893000</td>\n",
              "      <td id=\"T_32a92_row2_col5\" class=\"data row2 col5\" >0.685000</td>\n",
              "    </tr>\n",
              "    <tr>\n",
              "      <th id=\"T_32a92_level0_row3\" class=\"row_heading level0 row3\" >tree</th>\n",
              "      <td id=\"T_32a92_row3_col0\" class=\"data row3 col0\" >0.307000</td>\n",
              "      <td id=\"T_32a92_row3_col1\" class=\"data row3 col1\" >0.554000</td>\n",
              "      <td id=\"T_32a92_row3_col2\" class=\"data row3 col2\" >0.402000</td>\n",
              "      <td id=\"T_32a92_row3_col3\" class=\"data row3 col3\" >0.578000</td>\n",
              "      <td id=\"T_32a92_row3_col4\" class=\"data row3 col4\" >580.727000</td>\n",
              "      <td id=\"T_32a92_row3_col5\" class=\"data row3 col5\" >0.693000</td>\n",
              "    </tr>\n",
              "    <tr>\n",
              "      <th id=\"T_32a92_level0_row4\" class=\"row_heading level0 row4\" >forest</th>\n",
              "      <td id=\"T_32a92_row4_col0\" class=\"data row4 col0\" >0.439000</td>\n",
              "      <td id=\"T_32a92_row4_col1\" class=\"data row4 col1\" >0.663000</td>\n",
              "      <td id=\"T_32a92_row4_col2\" class=\"data row4 col2\" >0.476000</td>\n",
              "      <td id=\"T_32a92_row4_col3\" class=\"data row4 col3\" >0.685000</td>\n",
              "      <td id=\"T_32a92_row4_col4\" class=\"data row4 col4\" >478.131000</td>\n",
              "      <td id=\"T_32a92_row4_col5\" class=\"data row4 col5\" >0.561000</td>\n",
              "    </tr>\n",
              "    <tr>\n",
              "      <th id=\"T_32a92_level0_row5\" class=\"row_heading level0 row5\" >et</th>\n",
              "      <td id=\"T_32a92_row5_col0\" class=\"data row5 col0\" >0.438000</td>\n",
              "      <td id=\"T_32a92_row5_col1\" class=\"data row5 col1\" >0.662000</td>\n",
              "      <td id=\"T_32a92_row5_col2\" class=\"data row5 col2\" >0.477000</td>\n",
              "      <td id=\"T_32a92_row5_col3\" class=\"data row5 col3\" >0.686000</td>\n",
              "      <td id=\"T_32a92_row5_col4\" class=\"data row5 col4\" >417.761000</td>\n",
              "      <td id=\"T_32a92_row5_col5\" class=\"data row5 col5\" >0.562000</td>\n",
              "    </tr>\n",
              "    <tr>\n",
              "      <th id=\"T_32a92_level0_row6\" class=\"row_heading level0 row6\" >gb</th>\n",
              "      <td id=\"T_32a92_row6_col0\" class=\"data row6 col0\" >0.336000</td>\n",
              "      <td id=\"T_32a92_row6_col1\" class=\"data row6 col1\" >0.580000</td>\n",
              "      <td id=\"T_32a92_row6_col2\" class=\"data row6 col2\" >0.409000</td>\n",
              "      <td id=\"T_32a92_row6_col3\" class=\"data row6 col3\" >0.588000</td>\n",
              "      <td id=\"T_32a92_row6_col4\" class=\"data row6 col4\" >410.178000</td>\n",
              "      <td id=\"T_32a92_row6_col5\" class=\"data row6 col5\" >0.664000</td>\n",
              "    </tr>\n",
              "  </tbody>\n",
              "</table>\n"
            ]
          },
          "metadata": {},
          "execution_count": 66
        }
      ]
    },
    {
      "cell_type": "markdown",
      "source": [
        "#### **그래프 시각화**"
      ],
      "metadata": {
        "id": "VizJqzEyMEEF"
      }
    },
    {
      "cell_type": "code",
      "source": [
        "draw_data()\n",
        "plt.plot(X_every, gb.predict(X_every), lw=3)    \n",
        "plt.show()"
      ],
      "metadata": {
        "id": "HT2r-hT9MEEF",
        "colab": {
          "base_uri": "https://localhost:8080/",
          "height": 279
        },
        "outputId": "77a07233-6d44-4424-d200-98df92f05b91"
      },
      "execution_count": 67,
      "outputs": [
        {
          "output_type": "display_data",
          "data": {
            "text/plain": [
              "<Figure size 432x288 with 1 Axes>"
            ],
            "image/png": "[encoded data removed]"
          },
          "metadata": {}
        }
      ]
    },
    {
      "cell_type": "markdown",
      "source": [
        "### **| XGBoost Regressor**"
      ],
      "metadata": {
        "id": "kNc2FzbdMbBX"
      }
    },
    {
      "cell_type": "markdown",
      "source": [
        "#### **모델 학습**"
      ],
      "metadata": {
        "id": "o4GP5G89MbBX"
      }
    },
    {
      "cell_type": "code",
      "source": [
        "from xgboost import XGBRegressor\n",
        "\n",
        "xgb = XGBRegressor(random_state=1)\n",
        "xgb.fit(X_train, y_train)"
      ],
      "metadata": {
        "id": "e-Z4OxoFMbBX",
        "colab": {
          "base_uri": "https://localhost:8080/"
        },
        "outputId": "4087f448-6cd9-4052-d3eb-f2efd3ca2564"
      },
      "execution_count": 68,
      "outputs": [
        {
          "output_type": "stream",
          "name": "stdout",
          "text": [
            "[05:45:06] WARNING: /workspace/src/objective/regression_obj.cu:152: reg:linear is now deprecated in favor of reg:squarederror.\n"
          ]
        },
        {
          "output_type": "execute_result",
          "data": {
            "text/plain": [
              "XGBRegressor(random_state=1)"
            ]
          },
          "metadata": {},
          "execution_count": 68
        }
      ]
    },
    {
      "cell_type": "markdown",
      "source": [
        "#### **테스트셋 성능 비교**"
      ],
      "metadata": {
        "id": "JlCj1bdxMbBY"
      }
    },
    {
      "cell_type": "code",
      "source": [
        "y_pred = xgb.predict(X_test)\n",
        "df_score.loc['xgb']=regression_scores(y_test, y_pred)\n",
        "df_score.style.background_gradient(cmap='Greens_r')"
      ],
      "metadata": {
        "id": "dJDy8n18MbBY",
        "colab": {
          "base_uri": "https://localhost:8080/",
          "height": 300
        },
        "outputId": "93eca592-fe5f-437f-81b5-55e9549ce690"
      },
      "execution_count": 69,
      "outputs": [
        {
          "output_type": "execute_result",
          "data": {
            "text/plain": [
              "<pandas.io.formats.style.Styler at 0x7f946cbf4550>"
            ],
            "text/html": [
              "<style type=\"text/css\">\n",
              "#T_ef150_row0_col0, #T_ef150_row0_col1, #T_ef150_row0_col2, #T_ef150_row0_col3, #T_ef150_row1_col4, #T_ef150_row3_col5 {\n",
              "  background-color: #f7fcf5;\n",
              "  color: #000000;\n",
              "}\n",
              "#T_ef150_row0_col4 {\n",
              "  background-color: #e4f5df;\n",
              "  color: #000000;\n",
              "}\n",
              "#T_ef150_row0_col5, #T_ef150_row3_col0, #T_ef150_row3_col1, #T_ef150_row7_col2, #T_ef150_row7_col3, #T_ef150_row7_col4 {\n",
              "  background-color: #00441b;\n",
              "  color: #f1f1f1;\n",
              "}\n",
              "#T_ef150_row1_col0 {\n",
              "  background-color: #1e8741;\n",
              "  color: #f1f1f1;\n",
              "}\n",
              "#T_ef150_row1_col1 {\n",
              "  background-color: #248c46;\n",
              "  color: #f1f1f1;\n",
              "}\n",
              "#T_ef150_row1_col2, #T_ef150_row1_col3 {\n",
              "  background-color: #5eb96b;\n",
              "  color: #f1f1f1;\n",
              "}\n",
              "#T_ef150_row1_col5 {\n",
              "  background-color: #cbebc5;\n",
              "  color: #000000;\n",
              "}\n",
              "#T_ef150_row2_col0 {\n",
              "  background-color: #005522;\n",
              "  color: #f1f1f1;\n",
              "}\n",
              "#T_ef150_row2_col1 {\n",
              "  background-color: #005924;\n",
              "  color: #f1f1f1;\n",
              "}\n",
              "#T_ef150_row2_col2, #T_ef150_row2_col3 {\n",
              "  background-color: #19833e;\n",
              "  color: #f1f1f1;\n",
              "}\n",
              "#T_ef150_row2_col4 {\n",
              "  background-color: #d5efcf;\n",
              "  color: #000000;\n",
              "}\n",
              "#T_ef150_row2_col5 {\n",
              "  background-color: #f0f9ec;\n",
              "  color: #000000;\n",
              "}\n",
              "#T_ef150_row3_col2 {\n",
              "  background-color: #004a1e;\n",
              "  color: #f1f1f1;\n",
              "}\n",
              "#T_ef150_row3_col3 {\n",
              "  background-color: #004c1e;\n",
              "  color: #f1f1f1;\n",
              "}\n",
              "#T_ef150_row3_col4 {\n",
              "  background-color: #90d18d;\n",
              "  color: #000000;\n",
              "}\n",
              "#T_ef150_row4_col0 {\n",
              "  background-color: #def2d9;\n",
              "  color: #000000;\n",
              "}\n",
              "#T_ef150_row4_col1 {\n",
              "  background-color: #e3f4de;\n",
              "  color: #000000;\n",
              "}\n",
              "#T_ef150_row4_col2 {\n",
              "  background-color: #c8e9c1;\n",
              "  color: #000000;\n",
              "}\n",
              "#T_ef150_row4_col3 {\n",
              "  background-color: #c9eac2;\n",
              "  color: #000000;\n",
              "}\n",
              "#T_ef150_row4_col4 {\n",
              "  background-color: #228a44;\n",
              "  color: #f1f1f1;\n",
              "}\n",
              "#T_ef150_row4_col5 {\n",
              "  background-color: #087432;\n",
              "  color: #f1f1f1;\n",
              "}\n",
              "#T_ef150_row5_col0 {\n",
              "  background-color: #dcf2d7;\n",
              "  color: #000000;\n",
              "}\n",
              "#T_ef150_row5_col1 {\n",
              "  background-color: #e1f3dc;\n",
              "  color: #000000;\n",
              "}\n",
              "#T_ef150_row5_col2, #T_ef150_row5_col3 {\n",
              "  background-color: #cbeac4;\n",
              "  color: #000000;\n",
              "}\n",
              "#T_ef150_row5_col4 {\n",
              "  background-color: #005622;\n",
              "  color: #f1f1f1;\n",
              "}\n",
              "#T_ef150_row5_col5 {\n",
              "  background-color: #0a7633;\n",
              "  color: #f1f1f1;\n",
              "}\n",
              "#T_ef150_row6_col0 {\n",
              "  background-color: #117b38;\n",
              "  color: #f1f1f1;\n",
              "}\n",
              "#T_ef150_row6_col1 {\n",
              "  background-color: #16803c;\n",
              "  color: #f1f1f1;\n",
              "}\n",
              "#T_ef150_row6_col2 {\n",
              "  background-color: #006027;\n",
              "  color: #f1f1f1;\n",
              "}\n",
              "#T_ef150_row6_col3, #T_ef150_row7_col0 {\n",
              "  background-color: #006328;\n",
              "  color: #f1f1f1;\n",
              "}\n",
              "#T_ef150_row6_col4 {\n",
              "  background-color: #004e1f;\n",
              "  color: #f1f1f1;\n",
              "}\n",
              "#T_ef150_row6_col5 {\n",
              "  background-color: #d7efd1;\n",
              "  color: #000000;\n",
              "}\n",
              "#T_ef150_row7_col1 {\n",
              "  background-color: #006529;\n",
              "  color: #f1f1f1;\n",
              "}\n",
              "#T_ef150_row7_col5 {\n",
              "  background-color: #e9f7e5;\n",
              "  color: #000000;\n",
              "}\n",
              "</style>\n",
              "<table id=\"T_ef150_\" class=\"dataframe\">\n",
              "  <thead>\n",
              "    <tr>\n",
              "      <th class=\"blank level0\" >&nbsp;</th>\n",
              "      <th class=\"col_heading level0 col0\" >mse</th>\n",
              "      <th class=\"col_heading level0 col1\" >rmse</th>\n",
              "      <th class=\"col_heading level0 col2\" >mae</th>\n",
              "      <th class=\"col_heading level0 col3\" >nmae</th>\n",
              "      <th class=\"col_heading level0 col4\" >mape</th>\n",
              "      <th class=\"col_heading level0 col5\" >r2</th>\n",
              "    </tr>\n",
              "  </thead>\n",
              "  <tbody>\n",
              "    <tr>\n",
              "      <th id=\"T_ef150_level0_row0\" class=\"row_heading level0 row0\" >linear</th>\n",
              "      <td id=\"T_ef150_row0_col0\" class=\"data row0 col0\" >0.463000</td>\n",
              "      <td id=\"T_ef150_row0_col1\" class=\"data row0 col1\" >0.680000</td>\n",
              "      <td id=\"T_ef150_row0_col2\" class=\"data row0 col2\" >0.501000</td>\n",
              "      <td id=\"T_ef150_row0_col3\" class=\"data row0 col3\" >0.721000</td>\n",
              "      <td id=\"T_ef150_row0_col4\" class=\"data row0 col4\" >671.832000</td>\n",
              "      <td id=\"T_ef150_row0_col5\" class=\"data row0 col5\" >0.537000</td>\n",
              "    </tr>\n",
              "    <tr>\n",
              "      <th id=\"T_ef150_level0_row1\" class=\"row_heading level0 row1\" >quadratic</th>\n",
              "      <td id=\"T_ef150_row1_col0\" class=\"data row1 col0\" >0.343000</td>\n",
              "      <td id=\"T_ef150_row1_col1\" class=\"data row1 col1\" >0.586000</td>\n",
              "      <td id=\"T_ef150_row1_col2\" class=\"data row1 col2\" >0.445000</td>\n",
              "      <td id=\"T_ef150_row1_col3\" class=\"data row1 col3\" >0.640000</td>\n",
              "      <td id=\"T_ef150_row1_col4\" class=\"data row1 col4\" >713.233000</td>\n",
              "      <td id=\"T_ef150_row1_col5\" class=\"data row1 col5\" >0.657000</td>\n",
              "    </tr>\n",
              "    <tr>\n",
              "      <th id=\"T_ef150_level0_row2\" class=\"row_heading level0 row2\" >cubic</th>\n",
              "      <td id=\"T_ef150_row2_col0\" class=\"data row2 col0\" >0.315000</td>\n",
              "      <td id=\"T_ef150_row2_col1\" class=\"data row2 col1\" >0.562000</td>\n",
              "      <td id=\"T_ef150_row2_col2\" class=\"data row2 col2\" >0.422000</td>\n",
              "      <td id=\"T_ef150_row2_col3\" class=\"data row2 col3\" >0.606000</td>\n",
              "      <td id=\"T_ef150_row2_col4\" class=\"data row2 col4\" >652.893000</td>\n",
              "      <td id=\"T_ef150_row2_col5\" class=\"data row2 col5\" >0.685000</td>\n",
              "    </tr>\n",
              "    <tr>\n",
              "      <th id=\"T_ef150_level0_row3\" class=\"row_heading level0 row3\" >tree</th>\n",
              "      <td id=\"T_ef150_row3_col0\" class=\"data row3 col0\" >0.307000</td>\n",
              "      <td id=\"T_ef150_row3_col1\" class=\"data row3 col1\" >0.554000</td>\n",
              "      <td id=\"T_ef150_row3_col2\" class=\"data row3 col2\" >0.402000</td>\n",
              "      <td id=\"T_ef150_row3_col3\" class=\"data row3 col3\" >0.578000</td>\n",
              "      <td id=\"T_ef150_row3_col4\" class=\"data row3 col4\" >580.727000</td>\n",
              "      <td id=\"T_ef150_row3_col5\" class=\"data row3 col5\" >0.693000</td>\n",
              "    </tr>\n",
              "    <tr>\n",
              "      <th id=\"T_ef150_level0_row4\" class=\"row_heading level0 row4\" >forest</th>\n",
              "      <td id=\"T_ef150_row4_col0\" class=\"data row4 col0\" >0.439000</td>\n",
              "      <td id=\"T_ef150_row4_col1\" class=\"data row4 col1\" >0.663000</td>\n",
              "      <td id=\"T_ef150_row4_col2\" class=\"data row4 col2\" >0.476000</td>\n",
              "      <td id=\"T_ef150_row4_col3\" class=\"data row4 col3\" >0.685000</td>\n",
              "      <td id=\"T_ef150_row4_col4\" class=\"data row4 col4\" >478.131000</td>\n",
              "      <td id=\"T_ef150_row4_col5\" class=\"data row4 col5\" >0.561000</td>\n",
              "    </tr>\n",
              "    <tr>\n",
              "      <th id=\"T_ef150_level0_row5\" class=\"row_heading level0 row5\" >et</th>\n",
              "      <td id=\"T_ef150_row5_col0\" class=\"data row5 col0\" >0.438000</td>\n",
              "      <td id=\"T_ef150_row5_col1\" class=\"data row5 col1\" >0.662000</td>\n",
              "      <td id=\"T_ef150_row5_col2\" class=\"data row5 col2\" >0.477000</td>\n",
              "      <td id=\"T_ef150_row5_col3\" class=\"data row5 col3\" >0.686000</td>\n",
              "      <td id=\"T_ef150_row5_col4\" class=\"data row5 col4\" >417.761000</td>\n",
              "      <td id=\"T_ef150_row5_col5\" class=\"data row5 col5\" >0.562000</td>\n",
              "    </tr>\n",
              "    <tr>\n",
              "      <th id=\"T_ef150_level0_row6\" class=\"row_heading level0 row6\" >gb</th>\n",
              "      <td id=\"T_ef150_row6_col0\" class=\"data row6 col0\" >0.336000</td>\n",
              "      <td id=\"T_ef150_row6_col1\" class=\"data row6 col1\" >0.580000</td>\n",
              "      <td id=\"T_ef150_row6_col2\" class=\"data row6 col2\" >0.409000</td>\n",
              "      <td id=\"T_ef150_row6_col3\" class=\"data row6 col3\" >0.588000</td>\n",
              "      <td id=\"T_ef150_row6_col4\" class=\"data row6 col4\" >410.178000</td>\n",
              "      <td id=\"T_ef150_row6_col5\" class=\"data row6 col5\" >0.664000</td>\n",
              "    </tr>\n",
              "    <tr>\n",
              "      <th id=\"T_ef150_level0_row7\" class=\"row_heading level0 row7\" >xgb</th>\n",
              "      <td id=\"T_ef150_row7_col0\" class=\"data row7 col0\" >0.322000</td>\n",
              "      <td id=\"T_ef150_row7_col1\" class=\"data row7 col1\" >0.567000</td>\n",
              "      <td id=\"T_ef150_row7_col2\" class=\"data row7 col2\" >0.400000</td>\n",
              "      <td id=\"T_ef150_row7_col3\" class=\"data row7 col3\" >0.574000</td>\n",
              "      <td id=\"T_ef150_row7_col4\" class=\"data row7 col4\" >400.252000</td>\n",
              "      <td id=\"T_ef150_row7_col5\" class=\"data row7 col5\" >0.678000</td>\n",
              "    </tr>\n",
              "  </tbody>\n",
              "</table>\n"
            ]
          },
          "metadata": {},
          "execution_count": 69
        }
      ]
    },
    {
      "cell_type": "markdown",
      "source": [
        "#### **그래프 시각화**"
      ],
      "metadata": {
        "id": "YFFUEVtXMbBY"
      }
    },
    {
      "cell_type": "code",
      "source": [
        "draw_data()\n",
        "plt.plot(X_every, xgb.predict(X_every), lw=3)    \n",
        "plt.show()"
      ],
      "metadata": {
        "id": "ChvPJh-nMbBY",
        "colab": {
          "base_uri": "https://localhost:8080/",
          "height": 279
        },
        "outputId": "c9d09733-0e8c-48cd-d8b4-3673a5341f77"
      },
      "execution_count": 70,
      "outputs": [
        {
          "output_type": "display_data",
          "data": {
            "text/plain": [
              "<Figure size 432x288 with 1 Axes>"
            ],
            "image/png": "[encoded data removed]"
          },
          "metadata": {}
        }
      ]
    },
    {
      "cell_type": "markdown",
      "source": [
        "## **과제1: 주택 데이터셋 다중 회귀 분석**\n",
        "---\n",
        "\n",
        "* 주택 데이터셋의 X의 모든 속성을 이용해 y를 예측합니다.\n",
        "* 지난시간과 이번시간에 배운 회귀 분석 모델을 모두 사용해보고, 성능을 비교해 봅니다.\n",
        "* 단, 다항회귀는 사용하지 마세요.\n",
        "* 사용 모델 : \n",
        "```\n",
        "'linear', 'ridge', 'lasso', 'elastic', 'bayes_ridge', 'tree', 'forest', 'et', 'gb', 'xgb'\n",
        "```"
      ],
      "metadata": {
        "id": "5JWTBCG-EkR1"
      }
    },
    {
      "cell_type": "markdown",
      "source": [
        "#### **데이터 불러오기**"
      ],
      "metadata": {
        "id": "hc-YysUvFJWS"
      }
    },
    {
      "cell_type": "code",
      "source": [
        "X_train, X_test, y_train, y_test = housing_loader()\n",
        "X_train.shape, X_test.shape, y_train.shape, y_test.shape"
      ],
      "metadata": {
        "id": "qpeyED8xf9gT",
        "colab": {
          "base_uri": "https://localhost:8080/"
        },
        "outputId": "d2b847dc-b934-4cdf-c4b3-edcf63c1572e"
      },
      "execution_count": 71,
      "outputs": [
        {
          "output_type": "stream",
          "name": "stdout",
          "text": [
            "(506, 14)\n"
          ]
        },
        {
          "output_type": "execute_result",
          "data": {
            "text/plain": [
              "((404, 13), (102, 13), (404,), (102,))"
            ]
          },
          "metadata": {},
          "execution_count": 71
        }
      ]
    },
    {
      "cell_type": "markdown",
      "source": [
        "* 분석 예시"
      ],
      "metadata": {
        "id": "bOGoI8O3GieY"
      }
    },
    {
      "cell_type": "code",
      "source": [
        "linear = LinearRegression()\n",
        "ridge = Ridge(alpha=0.1, random_state=1)\n",
        "lasso = Lasso(alpha=0.1, random_state=1)\n",
        "elastic = ElasticNet(alpha=0.1, random_state=1)\n",
        "bayes_ridge = BayesianRidge()\n",
        "tree = DecisionTreeRegressor(max_depth=3, random_state=1)\n",
        "forest = RandomForestRegressor(random_state=1)\n",
        "et = ExtraTreesRegressor(random_state=1)\n",
        "gb = GradientBoostingRegressor(random_state=1)\n",
        "xgb = XGBRegressor(random_state=1)\n",
        "\n",
        "df_score = pd.DataFrame()\n",
        "plt.figure(figsize=(20,9))\n",
        "for idx, model in enumerate(['linear', 'ridge', 'lasso', 'elastic', 'bayes_ridge', \n",
        "                             'tree', 'forest', 'et', 'gb', 'xgb']):\n",
        "  # 모델별 학습 및 예측\n",
        "  eval(model).fit(X_train, y_train)\n",
        "  y_pred = eval(model).predict(X_test)\n",
        "  \n",
        "  # 실제-예측 산점도\n",
        "  plt.subplot(2,5,idx+1)\n",
        "  plt.title(model)\n",
        "  plt.scatter(y_test, y_pred, marker='.')\n",
        "  plt.plot([-2,3],[-2,3], c='r')\n",
        "  plt.xlabel('y_true')\n",
        "  plt.ylabel('y_pred')\n",
        "  \n",
        "  # 성능 평가\n",
        "  df_score = pd.concat([df_score, pd.DataFrame(regression_scores(y_test, y_pred) ,index=[model]) ])\n",
        "\n",
        "plt.show()\n",
        "df_score.style.background_gradient(cmap='Greens_r')"
      ],
      "metadata": {
        "id": "T0rcVkSyoQWp",
        "colab": {
          "base_uri": "https://localhost:8080/",
          "height": 700
        },
        "outputId": "fd2d6834-c05d-4362-cf36-427282473d1f"
      },
      "execution_count": 72,
      "outputs": [
        {
          "output_type": "stream",
          "name": "stdout",
          "text": [
            "[05:45:15] WARNING: /workspace/src/objective/regression_obj.cu:152: reg:linear is now deprecated in favor of reg:squarederror.\n"
          ]
        },
        {
          "output_type": "display_data",
          "data": {
            "text/plain": [
              "<Figure size 1440x648 with 10 Axes>"
            ],
            "image/png": "[encoded data removed]"
          },
          "metadata": {}
        },
        {
          "output_type": "execute_result",
          "data": {
            "text/plain": [
              "<pandas.io.formats.style.Styler at 0x7f9463c88fd0>"
            ],
            "text/html": [
              "<style type=\"text/css\">\n",
              "#T_7691c_row0_col0, #T_7691c_row1_col0 {\n",
              "  background-color: #9bd696;\n",
              "  color: #000000;\n",
              "}\n",
              "#T_7691c_row0_col1, #T_7691c_row1_col1 {\n",
              "  background-color: #b1e0ab;\n",
              "  color: #000000;\n",
              "}\n",
              "#T_7691c_row0_col2, #T_7691c_row0_col3, #T_7691c_row1_col2 {\n",
              "  background-color: #c0e6b9;\n",
              "  color: #000000;\n",
              "}\n",
              "#T_7691c_row0_col4, #T_7691c_row1_col4 {\n",
              "  background-color: #daf0d4;\n",
              "  color: #000000;\n",
              "}\n",
              "#T_7691c_row0_col5, #T_7691c_row1_col5 {\n",
              "  background-color: #48ae60;\n",
              "  color: #f1f1f1;\n",
              "}\n",
              "#T_7691c_row1_col3 {\n",
              "  background-color: #bee5b8;\n",
              "  color: #000000;\n",
              "}\n",
              "#T_7691c_row2_col0, #T_7691c_row2_col1, #T_7691c_row2_col2, #T_7691c_row2_col3, #T_7691c_row5_col4, #T_7691c_row7_col5 {\n",
              "  background-color: #f7fcf5;\n",
              "  color: #000000;\n",
              "}\n",
              "#T_7691c_row2_col4 {\n",
              "  background-color: #caeac3;\n",
              "  color: #000000;\n",
              "}\n",
              "#T_7691c_row2_col5, #T_7691c_row7_col0, #T_7691c_row7_col1, #T_7691c_row7_col2, #T_7691c_row7_col3, #T_7691c_row8_col4 {\n",
              "  background-color: #00441b;\n",
              "  color: #f1f1f1;\n",
              "}\n",
              "#T_7691c_row3_col0, #T_7691c_row4_col4 {\n",
              "  background-color: #e0f3db;\n",
              "  color: #000000;\n",
              "}\n",
              "#T_7691c_row3_col1 {\n",
              "  background-color: #e7f6e2;\n",
              "  color: #000000;\n",
              "}\n",
              "#T_7691c_row3_col2 {\n",
              "  background-color: #e8f6e4;\n",
              "  color: #000000;\n",
              "}\n",
              "#T_7691c_row3_col3 {\n",
              "  background-color: #e8f6e3;\n",
              "  color: #000000;\n",
              "}\n",
              "#T_7691c_row3_col4 {\n",
              "  background-color: #dcf2d7;\n",
              "  color: #000000;\n",
              "}\n",
              "#T_7691c_row3_col5 {\n",
              "  background-color: #067230;\n",
              "  color: #f1f1f1;\n",
              "}\n",
              "#T_7691c_row4_col0 {\n",
              "  background-color: #97d492;\n",
              "  color: #000000;\n",
              "}\n",
              "#T_7691c_row4_col1 {\n",
              "  background-color: #afdfa8;\n",
              "  color: #000000;\n",
              "}\n",
              "#T_7691c_row4_col2 {\n",
              "  background-color: #bce4b5;\n",
              "  color: #000000;\n",
              "}\n",
              "#T_7691c_row4_col3 {\n",
              "  background-color: #bbe4b4;\n",
              "  color: #000000;\n",
              "}\n",
              "#T_7691c_row4_col5 {\n",
              "  background-color: #4db163;\n",
              "  color: #f1f1f1;\n",
              "}\n",
              "#T_7691c_row5_col0 {\n",
              "  background-color: #94d390;\n",
              "  color: #000000;\n",
              "}\n",
              "#T_7691c_row5_col1 {\n",
              "  background-color: #acdea6;\n",
              "  color: #000000;\n",
              "}\n",
              "#T_7691c_row5_col2 {\n",
              "  background-color: #d3eecd;\n",
              "  color: #000000;\n",
              "}\n",
              "#T_7691c_row5_col3 {\n",
              "  background-color: #d2edcc;\n",
              "  color: #000000;\n",
              "}\n",
              "#T_7691c_row5_col5 {\n",
              "  background-color: #50b264;\n",
              "  color: #f1f1f1;\n",
              "}\n",
              "#T_7691c_row6_col0, #T_7691c_row9_col1 {\n",
              "  background-color: #005a24;\n",
              "  color: #f1f1f1;\n",
              "}\n",
              "#T_7691c_row6_col1 {\n",
              "  background-color: #006227;\n",
              "  color: #f1f1f1;\n",
              "}\n",
              "#T_7691c_row6_col2 {\n",
              "  background-color: #016e2d;\n",
              "  color: #f1f1f1;\n",
              "}\n",
              "#T_7691c_row6_col3 {\n",
              "  background-color: #006d2c;\n",
              "  color: #f1f1f1;\n",
              "}\n",
              "#T_7691c_row6_col4, #T_7691c_row8_col3 {\n",
              "  background-color: #107a37;\n",
              "  color: #f1f1f1;\n",
              "}\n",
              "#T_7691c_row6_col5 {\n",
              "  background-color: #edf8ea;\n",
              "  color: #000000;\n",
              "}\n",
              "#T_7691c_row7_col4 {\n",
              "  background-color: #005f26;\n",
              "  color: #f1f1f1;\n",
              "}\n",
              "#T_7691c_row8_col0 {\n",
              "  background-color: #00682a;\n",
              "  color: #f1f1f1;\n",
              "}\n",
              "#T_7691c_row8_col1 {\n",
              "  background-color: #077331;\n",
              "  color: #f1f1f1;\n",
              "}\n",
              "#T_7691c_row8_col2 {\n",
              "  background-color: #117b38;\n",
              "  color: #f1f1f1;\n",
              "}\n",
              "#T_7691c_row8_col5 {\n",
              "  background-color: #e7f6e3;\n",
              "  color: #000000;\n",
              "}\n",
              "#T_7691c_row9_col0 {\n",
              "  background-color: #005522;\n",
              "  color: #f1f1f1;\n",
              "}\n",
              "#T_7691c_row9_col2 {\n",
              "  background-color: #03702e;\n",
              "  color: #f1f1f1;\n",
              "}\n",
              "#T_7691c_row9_col3 {\n",
              "  background-color: #026f2e;\n",
              "  color: #f1f1f1;\n",
              "}\n",
              "#T_7691c_row9_col4 {\n",
              "  background-color: #228a44;\n",
              "  color: #f1f1f1;\n",
              "}\n",
              "#T_7691c_row9_col5 {\n",
              "  background-color: #f0f9ec;\n",
              "  color: #000000;\n",
              "}\n",
              "</style>\n",
              "<table id=\"T_7691c_\" class=\"dataframe\">\n",
              "  <thead>\n",
              "    <tr>\n",
              "      <th class=\"blank level0\" >&nbsp;</th>\n",
              "      <th class=\"col_heading level0 col0\" >mse</th>\n",
              "      <th class=\"col_heading level0 col1\" >rmse</th>\n",
              "      <th class=\"col_heading level0 col2\" >mae</th>\n",
              "      <th class=\"col_heading level0 col3\" >nmae</th>\n",
              "      <th class=\"col_heading level0 col4\" >mape</th>\n",
              "      <th class=\"col_heading level0 col5\" >r2</th>\n",
              "    </tr>\n",
              "  </thead>\n",
              "  <tbody>\n",
              "    <tr>\n",
              "      <th id=\"T_7691c_level0_row0\" class=\"row_heading level0 row0\" >linear</th>\n",
              "      <td id=\"T_7691c_row0_col0\" class=\"data row0 col0\" >0.222000</td>\n",
              "      <td id=\"T_7691c_row0_col1\" class=\"data row0 col1\" >0.471000</td>\n",
              "      <td id=\"T_7691c_row0_col2\" class=\"data row0 col2\" >0.362000</td>\n",
              "      <td id=\"T_7691c_row0_col3\" class=\"data row0 col3\" >0.521000</td>\n",
              "      <td id=\"T_7691c_row0_col4\" class=\"data row0 col4\" >579.145000</td>\n",
              "      <td id=\"T_7691c_row0_col5\" class=\"data row0 col5\" >0.778000</td>\n",
              "    </tr>\n",
              "    <tr>\n",
              "      <th id=\"T_7691c_level0_row1\" class=\"row_heading level0 row1\" >ridge</th>\n",
              "      <td id=\"T_7691c_row1_col0\" class=\"data row1 col0\" >0.222000</td>\n",
              "      <td id=\"T_7691c_row1_col1\" class=\"data row1 col1\" >0.471000</td>\n",
              "      <td id=\"T_7691c_row1_col2\" class=\"data row1 col2\" >0.362000</td>\n",
              "      <td id=\"T_7691c_row1_col3\" class=\"data row1 col3\" >0.520000</td>\n",
              "      <td id=\"T_7691c_row1_col4\" class=\"data row1 col4\" >579.405000</td>\n",
              "      <td id=\"T_7691c_row1_col5\" class=\"data row1 col5\" >0.778000</td>\n",
              "    </tr>\n",
              "    <tr>\n",
              "      <th id=\"T_7691c_level0_row2\" class=\"row_heading level0 row2\" >lasso</th>\n",
              "      <td id=\"T_7691c_row2_col0\" class=\"data row2 col0\" >0.315000</td>\n",
              "      <td id=\"T_7691c_row2_col1\" class=\"data row2 col1\" >0.561000</td>\n",
              "      <td id=\"T_7691c_row2_col2\" class=\"data row2 col2\" >0.421000</td>\n",
              "      <td id=\"T_7691c_row2_col3\" class=\"data row2 col3\" >0.606000</td>\n",
              "      <td id=\"T_7691c_row2_col4\" class=\"data row2 col4\" >549.237000</td>\n",
              "      <td id=\"T_7691c_row2_col5\" class=\"data row2 col5\" >0.685000</td>\n",
              "    </tr>\n",
              "    <tr>\n",
              "      <th id=\"T_7691c_level0_row3\" class=\"row_heading level0 row3\" >elastic</th>\n",
              "      <td id=\"T_7691c_row3_col0\" class=\"data row3 col0\" >0.280000</td>\n",
              "      <td id=\"T_7691c_row3_col1\" class=\"data row3 col1\" >0.529000</td>\n",
              "      <td id=\"T_7691c_row3_col2\" class=\"data row3 col2\" >0.399000</td>\n",
              "      <td id=\"T_7691c_row3_col3\" class=\"data row3 col3\" >0.573000</td>\n",
              "      <td id=\"T_7691c_row3_col4\" class=\"data row3 col4\" >583.659000</td>\n",
              "      <td id=\"T_7691c_row3_col5\" class=\"data row3 col5\" >0.720000</td>\n",
              "    </tr>\n",
              "    <tr>\n",
              "      <th id=\"T_7691c_level0_row4\" class=\"row_heading level0 row4\" >bayes_ridge</th>\n",
              "      <td id=\"T_7691c_row4_col0\" class=\"data row4 col0\" >0.220000</td>\n",
              "      <td id=\"T_7691c_row4_col1\" class=\"data row4 col1\" >0.469000</td>\n",
              "      <td id=\"T_7691c_row4_col2\" class=\"data row4 col2\" >0.359000</td>\n",
              "      <td id=\"T_7691c_row4_col3\" class=\"data row4 col3\" >0.516000</td>\n",
              "      <td id=\"T_7691c_row4_col4\" class=\"data row4 col4\" >590.402000</td>\n",
              "      <td id=\"T_7691c_row4_col5\" class=\"data row4 col5\" >0.780000</td>\n",
              "    </tr>\n",
              "    <tr>\n",
              "      <th id=\"T_7691c_level0_row5\" class=\"row_heading level0 row5\" >tree</th>\n",
              "      <td id=\"T_7691c_row5_col0\" class=\"data row5 col0\" >0.218000</td>\n",
              "      <td id=\"T_7691c_row5_col1\" class=\"data row5 col1\" >0.467000</td>\n",
              "      <td id=\"T_7691c_row5_col2\" class=\"data row5 col2\" >0.378000</td>\n",
              "      <td id=\"T_7691c_row5_col3\" class=\"data row5 col3\" >0.543000</td>\n",
              "      <td id=\"T_7691c_row5_col4\" class=\"data row5 col4\" >658.168000</td>\n",
              "      <td id=\"T_7691c_row5_col5\" class=\"data row5 col5\" >0.782000</td>\n",
              "    </tr>\n",
              "    <tr>\n",
              "      <th id=\"T_7691c_level0_row6\" class=\"row_heading level0 row6\" >forest</th>\n",
              "      <td id=\"T_7691c_row6_col0\" class=\"data row6 col0\" >0.095000</td>\n",
              "      <td id=\"T_7691c_row6_col1\" class=\"data row6 col1\" >0.308000</td>\n",
              "      <td id=\"T_7691c_row6_col2\" class=\"data row6 col2\" >0.234000</td>\n",
              "      <td id=\"T_7691c_row6_col3\" class=\"data row6 col3\" >0.336000</td>\n",
              "      <td id=\"T_7691c_row6_col4\" class=\"data row6 col4\" >283.617000</td>\n",
              "      <td id=\"T_7691c_row6_col5\" class=\"data row6 col5\" >0.905000</td>\n",
              "    </tr>\n",
              "    <tr>\n",
              "      <th id=\"T_7691c_level0_row7\" class=\"row_heading level0 row7\" >et</th>\n",
              "      <td id=\"T_7691c_row7_col0\" class=\"data row7 col0\" >0.079000</td>\n",
              "      <td id=\"T_7691c_row7_col1\" class=\"data row7 col1\" >0.282000</td>\n",
              "      <td id=\"T_7691c_row7_col2\" class=\"data row7 col2\" >0.206000</td>\n",
              "      <td id=\"T_7691c_row7_col3\" class=\"data row7 col3\" >0.297000</td>\n",
              "      <td id=\"T_7691c_row7_col4\" class=\"data row7 col4\" >238.864000</td>\n",
              "      <td id=\"T_7691c_row7_col5\" class=\"data row7 col5\" >0.921000</td>\n",
              "    </tr>\n",
              "    <tr>\n",
              "      <th id=\"T_7691c_level0_row8\" class=\"row_heading level0 row8\" >gb</th>\n",
              "      <td id=\"T_7691c_row8_col0\" class=\"data row8 col0\" >0.105000</td>\n",
              "      <td id=\"T_7691c_row8_col1\" class=\"data row8 col1\" >0.324000</td>\n",
              "      <td id=\"T_7691c_row8_col2\" class=\"data row8 col2\" >0.246000</td>\n",
              "      <td id=\"T_7691c_row8_col3\" class=\"data row8 col3\" >0.353000</td>\n",
              "      <td id=\"T_7691c_row8_col4\" class=\"data row8 col4\" >201.166000</td>\n",
              "      <td id=\"T_7691c_row8_col5\" class=\"data row8 col5\" >0.895000</td>\n",
              "    </tr>\n",
              "    <tr>\n",
              "      <th id=\"T_7691c_level0_row9\" class=\"row_heading level0 row9\" >xgb</th>\n",
              "      <td id=\"T_7691c_row9_col0\" class=\"data row9 col0\" >0.091000</td>\n",
              "      <td id=\"T_7691c_row9_col1\" class=\"data row9 col1\" >0.301000</td>\n",
              "      <td id=\"T_7691c_row9_col2\" class=\"data row9 col2\" >0.236000</td>\n",
              "      <td id=\"T_7691c_row9_col3\" class=\"data row9 col3\" >0.339000</td>\n",
              "      <td id=\"T_7691c_row9_col4\" class=\"data row9 col4\" >314.087000</td>\n",
              "      <td id=\"T_7691c_row9_col5\" class=\"data row9 col5\" >0.909000</td>\n",
              "    </tr>\n",
              "  </tbody>\n",
              "</table>\n"
            ]
          },
          "metadata": {},
          "execution_count": 72
        }
      ]
    },
    {
      "cell_type": "markdown",
      "source": [
        "## **과제2: 해외 축구 선수 이적료 예측 미션**\n",
        "---\n",
        "\n",
        "* https://dacon.io/competitions/open/235538/overview/description\n",
        "* 수업 시간에 배운 내용들을 적용하여 이적료 예측을 진행하고 리더보드에 결과를 제출합니다."
      ],
      "metadata": {
        "id": "ZFUD38WPFP4Y"
      }
    },
    {
      "cell_type": "code",
      "source": [
        ""
      ],
      "metadata": {
        "id": "KKEbLngkFdwk"
      },
      "execution_count": null,
      "outputs": []
    }
  ]
}