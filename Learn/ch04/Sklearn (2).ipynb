{
  "nbformat": 4,
  "nbformat_minor": 0,
  "metadata": {
    "colab": {
      "name": "ch05_01_기초수학-벡터와행렬.ipynb의 사본",
      "provenance": [],
      "collapsed_sections": [],
      "toc_visible": true,
      "include_colab_link": true
    },
    "kernelspec": {
      "name": "python3",
      "display_name": "Python 3"
    },
    "language_info": {
      "name": "python"
    }
  },
  "cells": [
    {
      "cell_type": "markdown",
      "metadata": {
        "id": "view-in-github",
        "colab_type": "text"
      },
      "source": [
        "<a href=\"https://colab.research.google.com/github/AlcoholWolf/PY-SAVE/blob/main/ch05_01_%EA%B8%B0%EC%B4%88%EC%88%98%ED%95%99_%EB%B2%A1%ED%84%B0%EC%99%80%ED%96%89%EB%A0%AC_ipynb%EC%9D%98_%EC%82%AC%EB%B3%B8.ipynb\" target=\"_parent\"><img src=\"https://colab.research.google.com/assets/colab-badge.svg\" alt=\"Open In Colab\"/></a>"
      ]
    },
    {
      "cell_type": "markdown",
      "source": [
        "# ch05.01. 기초수학 - 벡터와 행렬\n",
        "---\n",
        "* 날짜:\n",
        "* 이름:\n",
        "\n",
        "## 학습내용\n",
        "    - 스칼라, 벡터, 행렬에 대한 기본 개념을 배운다\n",
        "    - 벡터의 연산에 대해 이해한다\n",
        "    - 행렬의 연산에 대해 이해한다.\n",
        "\n",
        "\n",
        "**라이브러리 임포트**\n",
        "```\n",
        "import numpy as np\n",
        "import matplotlib.pyplot as plt\n",
        "```\n"
      ],
      "metadata": {
        "id": "wWpXZc2fi39U"
      }
    },
    {
      "cell_type": "code",
      "source": [
        "import numpy as np\n",
        "import matplotlib.pyplot as plt"
      ],
      "metadata": {
        "id": "Yy0fwqVsVbYr"
      },
      "execution_count": 1,
      "outputs": []
    },
    {
      "cell_type": "markdown",
      "source": [
        "## 스칼라\n",
        "---\n",
        "\n",
        "* Zeros-order Tensor Operations\n",
        "\n",
        "\n",
        "\\begin{split}\n",
        "\\begin{align}\n",
        "\\ \\ a, b ∈ℝ\n",
        "\\\\\n",
        "\\end{align}\n",
        "\\end{split}\n",
        "\n",
        "\\begin{align}\n",
        "\\\\\n",
        "\\end{align}\n",
        "### **| 스칼라 연산**\n",
        "\n",
        "\\begin{split}\n",
        "\\begin{align}\n",
        "\\\\ a+b ∈ℝ \n",
        "\\\\ a-b ∈ℝ\n",
        "\\\\ a×b ∈ℝ\n",
        "\\end{align}\n",
        "\\end{split}"
      ],
      "metadata": {
        "id": "ezw1TJA2kO_a"
      }
    },
    {
      "cell_type": "markdown",
      "source": [
        "## 벡터\n",
        "---\n",
        "* First-order Tensor Operation\n",
        "\n",
        "\n",
        "\\begin{split}\n",
        "\\begin{align}\n",
        "𝐱 =\n",
        "\\begin{bmatrix}\n",
        "x_1 \\\\\n",
        "x_2 \\\\\n",
        "... \\\\\n",
        "x_N \\\\\n",
        "\\end{bmatrix}\n",
        ", \\ \\ \\ \n",
        "𝐱^T =[ x_1, x_2, ..., x_N]\n",
        "\\ \\ \\, ∈ℝ^N \\ (ℝ^{N\\times 1})\n",
        "\\end{align}\n",
        "\\end{split}\n"
      ],
      "metadata": {
        "id": "UUCK0XLTkciq"
      }
    },
    {
      "cell_type": "markdown",
      "source": [
        "\n",
        "### **| 벡터와 벡터의 연산**\n",
        "\n",
        "\\begin{split}\n",
        "\\begin{align}\n",
        "𝐱 + 𝐲 =\n",
        "\\begin{bmatrix}\n",
        "x_1 \\\\\n",
        "x_2 \\\\\n",
        "... \\\\\n",
        "x_N \\\\\n",
        "\\end{bmatrix}\n",
        "+\n",
        "\\begin{bmatrix}\n",
        "y_1 \\\\\n",
        "y_2 \\\\\n",
        "... \\\\\n",
        "y_N \\\\\n",
        "\\end{bmatrix}\n",
        "=\n",
        "\\begin{bmatrix}\n",
        "x_1 + y_1 \\\\\n",
        "x_2 + y_2  \\\\\n",
        "... \\\\\n",
        "x_N + y_N \\\\\n",
        "\\end{bmatrix}\n",
        "\\end{align}\n",
        "\\end{split}\n",
        "\n",
        "\\\\\n",
        "\n",
        "\\begin{split}\n",
        "\\begin{align}\n",
        "𝐱 - 𝐲 =\n",
        "\\begin{bmatrix}\n",
        "x_1 \\\\\n",
        "x_2 \\\\\n",
        "... \\\\\n",
        "x_N \\\\\n",
        "\\end{bmatrix}\n",
        "-\n",
        "\\begin{bmatrix}\n",
        "y_1 \\\\\n",
        "y_2 \\\\\n",
        "... \\\\\n",
        "y_N \\\\\n",
        "\\end{bmatrix}\n",
        "=\n",
        "\\begin{bmatrix}\n",
        "x_1 - y_1 \\\\\n",
        "x_2 - y_2  \\\\\n",
        "... \\\\\n",
        "x_N - y_N \\\\\n",
        "\\end{bmatrix}\n",
        "\\end{align}\n",
        "\\end{split}\n",
        "\n",
        "\\\\\n",
        "\n",
        "\\begin{split}\n",
        "\\begin{align}\n",
        "𝐱^T𝐲 = 𝐱^T ⋅ 𝐲 = <𝐱,𝐲> = \n",
        "\\begin{bmatrix}\n",
        "x_{1} & x_{2} & \\cdots & x_{N} \n",
        "\\end{bmatrix}\n",
        "\\begin{bmatrix}\n",
        "y_{1} \\\\\n",
        "y_{2} \\\\\n",
        "\\vdots \\\\\n",
        "y_{N} \\\\\n",
        "\\end{bmatrix} \n",
        "= x_1 y_1 + \\cdots + x_N y_N \n",
        "=\\sum_{i=1}^N x_i y_i\n",
        "\\end{align}\n",
        "\\end{split}\n",
        "\\\\\n",
        "\n"
      ],
      "metadata": {
        "id": "AHjhQ01OpmpX"
      }
    },
    {
      "cell_type": "markdown",
      "source": [
        "#### **예제 01**\n",
        "\n",
        "\\begin{split}\n",
        "\\begin{align}\n",
        "𝐱=\n",
        "\\begin{bmatrix}\n",
        "2 \\\\\n",
        "1 \\\\\n",
        "2 \\\\\n",
        "0 \\\\\n",
        "\\end{bmatrix}\n",
        ",\\;\\;\n",
        "𝐲=\n",
        "\\begin{bmatrix}\n",
        "1 \\\\\n",
        "1 \\\\\n",
        "2 \\\\\n",
        "4 \\\\\n",
        "\\end{bmatrix}\n",
        "\\end{align}\n",
        "\\end{split}"
      ],
      "metadata": {
        "id": "QWNt0MEpeoqr"
      }
    },
    {
      "cell_type": "code",
      "source": [
        "# 정확한 표현\n",
        "# 스칼라 : list [연산기호] int or float\n",
        "# 벡터 : list [연산기호] list\n",
        "\n",
        "# 편의상 표현\n"
      ],
      "metadata": {
        "id": "1MBfp-kcehla"
      },
      "execution_count": null,
      "outputs": []
    },
    {
      "cell_type": "markdown",
      "source": [
        "#### **예제 02**\n",
        "\n",
        "**예제 01**의 𝐱, 𝐲 에 대해 다음 연산을 진행하세요.\n",
        "\n",
        "* 𝐱 + 𝐲\n",
        "* 𝐱 - 𝐲\n",
        "* 𝐱 ⋅ 𝐲\n",
        "* 𝐱𝐲 (넘파이 브로드 케스팅 연산)"
      ],
      "metadata": {
        "id": "PHx6e1fVhtDh"
      }
    },
    {
      "cell_type": "code",
      "source": [
        "x = np.array([2,1,2,0])\n",
        "y = np.array([1,1,2,4])\n",
        "print(x + y)\n",
        "print(x - y)\n",
        "print(sum(x*y))\n",
        "print(np.dot(x,y))\n",
        "print(x * y)\n"
      ],
      "metadata": {
        "id": "tBSVL92Jd1v7",
        "colab": {
          "base_uri": "https://localhost:8080/"
        },
        "outputId": "3d21a63f-3172-4a83-8b1b-28287e159e35"
      },
      "execution_count": 81,
      "outputs": [
        {
          "output_type": "stream",
          "name": "stdout",
          "text": [
            "[3 2 4 4]\n",
            "[ 1  0  0 -4]\n",
            "7\n",
            "7\n",
            "[2 1 4 0]\n"
          ]
        }
      ]
    },
    {
      "cell_type": "markdown",
      "source": [
        "\n",
        "### **| 벡터와 스칼라의 연산**\n",
        "\n",
        "\\begin{split}\n",
        "\\begin{align}\n",
        "c𝐱 =\n",
        "c\n",
        "\\begin{bmatrix}\n",
        "x_1 \\\\\n",
        "x_2 \\\\\n",
        "... \\\\\n",
        "x_N \\\\\n",
        "\\end{bmatrix}\n",
        "=\n",
        "\\begin{bmatrix}\n",
        "cx_1  \\\\\n",
        "cx_2  \\\\\n",
        "... \\\\\n",
        "cx_N  \\\\\n",
        "\\end{bmatrix}\n",
        "\\end{align}\n",
        "\\end{split}\n",
        "\n",
        "\n",
        "* 브로드 캐스팅\n",
        "\n",
        "원래 덧셈과 뺄셈은 크기가 같은 두 벡터에 대해서만 할 수 있지만 벡터와 스칼라의 경우에는 관례적으로 다음과 같이 스칼라 값을 벡터로 변환하여 연산을 수행합니다.  이를 브로드 캐스팅(broad casting) 이라고 합니다.\n",
        "\n",
        "\\begin{split}\n",
        "\\begin{align}\n",
        "c+𝐱 =\n",
        "\\begin{bmatrix}\n",
        "c \\\\\n",
        "c \\\\\n",
        "... \\\\\n",
        "c \\\\\n",
        "\\end{bmatrix}\n",
        "+\n",
        "\\begin{bmatrix}\n",
        "x_1 \\\\\n",
        "x_2 \\\\\n",
        "... \\\\\n",
        "x_N \\\\\n",
        "\\end{bmatrix}\n",
        "=\n",
        "\\begin{bmatrix}\n",
        "c+x_1  \\\\\n",
        "c+x_2  \\\\\n",
        "... \\\\\n",
        "c+x_N  \\\\\n",
        "\\end{bmatrix}\n",
        "\\end{align}\n",
        "\\end{split}\n",
        "\n",
        "\\\\\n",
        "\n",
        "\\begin{split}\n",
        "\\begin{align}\n",
        "c-𝐱 =\n",
        "\\begin{bmatrix}\n",
        "c \\\\\n",
        "c \\\\\n",
        "... \\\\\n",
        "c \\\\\n",
        "\\end{bmatrix}\n",
        "-\n",
        "\\begin{bmatrix}\n",
        "x_1 \\\\\n",
        "x_2 \\\\\n",
        "... \\\\\n",
        "x_N \\\\\n",
        "\\end{bmatrix}\n",
        "=\n",
        "\\begin{bmatrix}\n",
        "c-x_1  \\\\\n",
        "c-x_2  \\\\\n",
        "... \\\\\n",
        "c-x_N  \\\\\n",
        "\\end{bmatrix}\n",
        "\\end{align}\n",
        "\\end{split}"
      ],
      "metadata": {
        "id": "i7AO2yCypuOf"
      }
    },
    {
      "cell_type": "markdown",
      "source": [
        "#### **예제 03**\n",
        "\n",
        "\\begin{split}\n",
        "\\begin{align}\n",
        "𝐱=\n",
        "\\begin{bmatrix}\n",
        "10 \\\\\n",
        "11 \\\\\n",
        "12 \\\\\n",
        "\\end{bmatrix}\n",
        ",\\;\\;\n",
        "𝐲=\n",
        "\\begin{bmatrix}\n",
        "0 \\\\\n",
        "1 \\\\\n",
        "2 \\\\\n",
        "\\end{bmatrix}\n",
        ", \\; c = 2\n",
        "\\end{align}\n",
        "\\end{split}\n",
        "\n",
        "\n"
      ],
      "metadata": {
        "id": "gn41v88LmJZ6"
      }
    },
    {
      "cell_type": "markdown",
      "source": [
        "* 𝐱, 𝐲, c 정의하기"
      ],
      "metadata": {
        "id": "qHbUVtFiq-JG"
      }
    },
    {
      "cell_type": "code",
      "source": [
        "x = np.array([10,11,12])\n",
        "y = np.array([0,1,2])\n",
        "c = 2\n",
        "print(x, y, c)"
      ],
      "metadata": {
        "id": "3bzsd-1Jkciq",
        "colab": {
          "base_uri": "https://localhost:8080/"
        },
        "outputId": "95b3ef77-c3de-4667-f0f6-8388f00edb23"
      },
      "execution_count": 82,
      "outputs": [
        {
          "output_type": "stream",
          "name": "stdout",
          "text": [
            "[10 11 12] [0 1 2] 2\n"
          ]
        }
      ]
    },
    {
      "cell_type": "markdown",
      "source": [
        "* $c𝐱-𝐲$ "
      ],
      "metadata": {
        "id": "jJVfzPRFrDUu"
      }
    },
    {
      "cell_type": "code",
      "source": [
        "c * x - y"
      ],
      "metadata": {
        "id": "q9gQ6Ri8rFRO",
        "colab": {
          "base_uri": "https://localhost:8080/"
        },
        "outputId": "86f601a3-7d71-4ef3-d4fe-6ee013f4b866"
      },
      "execution_count": 83,
      "outputs": [
        {
          "output_type": "execute_result",
          "data": {
            "text/plain": [
              "array([20, 21, 22])"
            ]
          },
          "metadata": {},
          "execution_count": 83
        }
      ]
    },
    {
      "cell_type": "markdown",
      "source": [
        "* $𝐱^T𝐲$"
      ],
      "metadata": {
        "id": "J-446sswrFWZ"
      }
    },
    {
      "cell_type": "code",
      "source": [
        "sum(x*y)"
      ],
      "metadata": {
        "id": "IUGkyIhvrL_u",
        "colab": {
          "base_uri": "https://localhost:8080/"
        },
        "outputId": "9048000a-5c2d-4d53-f868-6abdd8e48407"
      },
      "execution_count": 84,
      "outputs": [
        {
          "output_type": "execute_result",
          "data": {
            "text/plain": [
              "35"
            ]
          },
          "metadata": {},
          "execution_count": 84
        }
      ]
    },
    {
      "cell_type": "markdown",
      "source": [
        "* $2c𝐱+𝐲$"
      ],
      "metadata": {
        "id": "oASdmAl5rd0Y"
      }
    },
    {
      "cell_type": "code",
      "source": [
        "2*c*x + y"
      ],
      "metadata": {
        "id": "1cXlopvwrlRm",
        "colab": {
          "base_uri": "https://localhost:8080/"
        },
        "outputId": "17b5cbf9-61bd-4152-f5b2-6d3280b41c75"
      },
      "execution_count": 85,
      "outputs": [
        {
          "output_type": "execute_result",
          "data": {
            "text/plain": [
              "array([40, 45, 50])"
            ]
          },
          "metadata": {},
          "execution_count": 85
        }
      ]
    },
    {
      "cell_type": "markdown",
      "source": [
        "#### **예제 04**\n",
        "\n",
        "도매로 A, B, C 세개의 물건을 사려 하는데 한 박스당 각각 10만원, 12만원, 20만원입니다. 각각 총 5박스, 8박스, 4박스를 사려고 합니다. \n",
        "\n",
        "(1) 박스가격과 구매 수량을 각각 p 벡터, n 벡터로 표시하고 넘파이로 코딩합니다.\n",
        "\n",
        "(2) 물건을 구입할 때 드는 총 비용을 계산하세요."
      ],
      "metadata": {
        "id": "kDj3EemGsDkA"
      }
    },
    {
      "cell_type": "code",
      "source": [
        "ps = [10, 12, 20]\n",
        "ns = [5, 8, 4]\n",
        "p = np.array(ps)\n",
        "n = np.array(ns)\n",
        "print(f'{sum(p*n)}만원')"
      ],
      "metadata": {
        "id": "R3NDw23HsDry",
        "colab": {
          "base_uri": "https://localhost:8080/"
        },
        "outputId": "adf07fcf-d0c9-4f76-afc8-ad961fc48f38"
      },
      "execution_count": 86,
      "outputs": [
        {
          "output_type": "stream",
          "name": "stdout",
          "text": [
            "226만원\n"
          ]
        }
      ]
    },
    {
      "cell_type": "markdown",
      "source": [
        "#### **예제 05**\n",
        "\n",
        "(1) 국어, 수학, 사회, 과학, 영어 의 시험 성적이 각각 70, 100, 90, 70, 50 입니다. 성적을 벡터 x 로 표시하고 넘파이로 코딩합니다.\n",
        "\n",
        "(2) 문과에서 과목별 가중치는 각각 0.25, 0.2, 0.2, 0.1, 0.25 입니다. 가중치를 벡터 w1 로 표시하고 넘파이로 코딩합니다.\n",
        "\n",
        "(3) 이과에서 과목별 가중치는 각각 0.15, 0.4, 0.1, 0.2, 0.15 입니다. 가중치를 벡터 w2 로 표시하고 넘파이로 코딩합니다.\n",
        "\n",
        "(4) 문과 가중치와 이과 가중치를 적용해서 성적의 총합을 계산하고 어떤 과를 가는게 유리한지 적으세요."
      ],
      "metadata": {
        "id": "xazFR86esvwl"
      }
    },
    {
      "cell_type": "code",
      "source": [
        "x = np.array([70, 100, 90, 70, 50])\n",
        "w1 = np.array([0.25, 0.2, 0.2, 0.1, 0.25])\n",
        "w2 = np.array([0.15, 0.4, 0.1, 0.2, 0.15])\n",
        "print(f'문과 : {int(sum(x*w1))} 평균 \"{int(sum(x*w1)/len(x))}\"\\n이과 : {int(sum(x*w2))} 평균 \"{int(sum(x*w2)/len(x))}\"\\n결론 : 이과가 더 유리함.')"
      ],
      "metadata": {
        "id": "w7qzzN3Hsvwr",
        "colab": {
          "base_uri": "https://localhost:8080/"
        },
        "outputId": "6d4abc67-c961-41ec-bb77-55d6e39c2d95"
      },
      "execution_count": 43,
      "outputs": [
        {
          "output_type": "stream",
          "name": "stdout",
          "text": [
            "문과 : 75 평균 \"15\"\n",
            "이과 : 81 평균 \"16\"\n",
            "결론 : 이과가 더 유리함.\n"
          ]
        }
      ]
    },
    {
      "cell_type": "markdown",
      "source": [
        "## 행렬\n",
        "---\n",
        "\n",
        "* Second-order Tensor Operation\n",
        "\n",
        "\\begin{split}\n",
        "\\begin{align}\n",
        "A=\n",
        "\\begin{bmatrix}\n",
        "a_{11} \\ \\ \\ a_{12} \\ \\ \\ ... \\ \\ \\ a_{1M} \\\\\n",
        "a_{21} \\ \\ \\ a_{22} \\ \\ \\ ... \\ \\ \\ a_{2M} \\\\\n",
        "... \\ \\ \\ ... \\ \\ \\ ... \\ \\ \\ ... \\\\\n",
        "... \\ \\ \\ ... \\ \\ \\ a_{ij} \\ \\ \\ ... \\\\\n",
        "... \\ \\ \\ ... \\ \\ \\ ... \\ \\ \\ ... \\\\\n",
        "a_{N1} \\ \\ \\ a_{N2} \\ \\ \\ ... \\ \\ \\ a_{NM} \\\\\n",
        "\\end{bmatrix}\n",
        "\\ \\ , \\ \\ A∈ℝ^{N\\times M}\n",
        "\\end{align}\n",
        "\\end{split}\n",
        "\n"
      ],
      "metadata": {
        "id": "mXAe-U8okcwj"
      }
    },
    {
      "cell_type": "markdown",
      "source": [
        "\n",
        "### **| 행렬과 행렬의 연산**\n",
        "\n",
        "\n",
        "* 덧셈, 뺄셈\n",
        "\n",
        "\\begin{align}\n",
        "A+(-)B=\n",
        "\\begin{bmatrix}\n",
        "a_{11} \\ \\ \\ a_{12} \\ \\ \\ ... \\ \\ \\ a_{1M} \\\\\n",
        "a_{21} \\ \\ \\ a_{22} \\ \\ \\ ... \\ \\ \\ a_{2M} \\\\\n",
        "... \\ \\ \\ ... \\ \\ \\ ... \\ \\ \\ ... \\\\\n",
        "... \\ \\ \\ ... \\ \\ \\ a_{ij} \\ \\ \\ ... \\\\\n",
        "... \\ \\ \\ ... \\ \\ \\ ... \\ \\ \\ ... \\\\\n",
        "a_{N1} \\ \\ \\ a_{N2} \\ \\ \\ ... \\ \\ \\ a_{NM} \\\\\n",
        "\\end{bmatrix}\n",
        "+(-)\n",
        "\\begin{bmatrix}\n",
        "b_{11} \\ \\ \\ b_{12} \\ \\ \\ ... \\ \\ \\ b_{1M} \\\\\n",
        "b_{21} \\ \\ \\ b_{22} \\ \\ \\ ... \\ \\ \\ b_{2M} \\\\\n",
        "... \\ \\ \\ ... \\ \\ \\ ... \\ \\ \\ ... \\\\\n",
        "... \\ \\ \\ ... \\ \\ \\ b_{ij} \\ \\ \\ ... \\\\\n",
        "... \\ \\ \\ ... \\ \\ \\ ... \\ \\ \\ ... \\\\\n",
        "b_{N1} \\ \\ \\ b_{N2} \\ \\ \\ ... \\ \\ \\ b_{NM} \\\\\n",
        "\\end{bmatrix}\n",
        "\\end{align}\n",
        "\\begin{align}\n",
        "\\\\\n",
        "\\\\\n",
        "A∈ℝ^{N\\times M} \\ \\ \\ \\ B∈ℝ^{N\\times M}\n",
        "\\\\\n",
        "\\\\\n",
        "\\end{align}\n",
        "\n",
        "\n",
        "\n",
        "\n",
        "* 곱셈\n",
        "\n",
        "\\begin{align}\n",
        "\\\\\n",
        "\\\\\n",
        "A \\ \\ \\ \\ \\ \\ \\times \\ \\ \\ \\ \\ \\ B \\ \\ \\ \\ \\ \\ =  \\ \\ \\ \\ \\ C \\\\\n",
        "\\\\\n",
        "ℝ^{N\\times M} \\ \\ \\ \\ \\ \\ \\ \\ \\ ℝ^{M\\times K} \\  \\ \\ \\ \\ \\ \\ \\ ℝ^{N\\times K}\n",
        "\\end{align}"
      ],
      "metadata": {
        "id": "0EBcIIAAxMdY"
      }
    },
    {
      "cell_type": "markdown",
      "source": [
        "\n",
        "\n",
        "\n",
        "### **| 행렬과 벡터의 연산**\n",
        "\n",
        "* 곱셈\n",
        "\n",
        "\\begin{align}\n",
        "\\\\\n",
        "\\\\\n",
        "A \\ \\ \\ \\ \\ \\ \\times \\ \\ \\ \\ \\ \\ 𝐱 \\ \\ \\ \\ \\ \\ =  \\ \\ \\ \\ \\ A𝐱 \\\\\n",
        "\\\\\n",
        "ℝ^{N\\times M} \\ \\ \\ \\ \\ \\ \\ \\ \\ ℝ^{M\\times 1} \\  \\ \\ \\ \\ \\ \\ \\ ℝ^{N\\times 1}\n",
        "\\end{align}\n"
      ],
      "metadata": {
        "id": "HZhNDpognJu2"
      }
    },
    {
      "cell_type": "markdown",
      "source": [
        "#### **예제 06**\n",
        "\n",
        "\\begin{split}\n",
        "\\begin{align}\n",
        "A=\n",
        "\\begin{bmatrix}\n",
        "1 \\ \\ \\ 1 \\ \\ \\ 0 \\ \\ \\ 0 \\\\\n",
        "2 \\ \\ \\ 0 \\ \\ \\ 0 \\ \\ \\ 1 \\\\\n",
        "0 \\ \\ \\ 1 \\ \\ \\ 0 \\ \\ \\ 1 \\\\\n",
        "\\end{bmatrix}\n",
        "\\end{align}\n",
        "\\end{split}"
      ],
      "metadata": {
        "id": "V2gm-pdInTRF"
      }
    },
    {
      "cell_type": "markdown",
      "source": [
        "* $A$를 정의하세요."
      ],
      "metadata": {
        "id": "x6YrqquVnwod"
      }
    },
    {
      "cell_type": "code",
      "source": [
        "A = [[1,1,0,0],[2,0,0,1],[0,1,0,1]]"
      ],
      "metadata": {
        "id": "rff6Ypwanwr1"
      },
      "execution_count": 56,
      "outputs": []
    },
    {
      "cell_type": "markdown",
      "source": [
        "* $A∈ℝ^{N\\times M}$ 에서 N과 M을 구하세요."
      ],
      "metadata": {
        "id": "oG7p3s9Hnrrl"
      }
    },
    {
      "cell_type": "code",
      "source": [
        "print(f'N = {len(A)} \\nM = {len(A[1])}')"
      ],
      "metadata": {
        "id": "0TxxpqptnUnv",
        "colab": {
          "base_uri": "https://localhost:8080/"
        },
        "outputId": "05e32e5a-2ce9-4c5c-d4ab-1489489016f7"
      },
      "execution_count": 59,
      "outputs": [
        {
          "output_type": "stream",
          "name": "stdout",
          "text": [
            "N = 3 \n",
            "M = 4\n"
          ]
        }
      ]
    },
    {
      "cell_type": "markdown",
      "source": [
        "#### **예제 07**\n",
        "\n",
        "\\begin{split}\n",
        "\\begin{align}\n",
        "A =\n",
        "\\begin{bmatrix}\n",
        "1 \\ \\ 2 \\ \\ 3 \\\\\n",
        "4 \\ \\ 5 \\ \\ 6 \\\\\n",
        "\\end{bmatrix}\n",
        "B =\n",
        "\\begin{bmatrix}\n",
        "1 \\ \\ 0 \\ \\ 0 \\\\\n",
        "0 \\ \\ 1 \\ \\ 0 \\\\\n",
        "0 \\ \\ 0 \\ \\ 1 \\\\\n",
        "\\end{bmatrix}\n",
        ",\\;\\;\n",
        "𝐱=\n",
        "\\begin{bmatrix}\n",
        "0 \\\\\n",
        "1 \\\\\n",
        "2 \\\\\n",
        "\\end{bmatrix}\n",
        ", \\; c = 2\n",
        "\\end{align}\n",
        "\\end{split}\n",
        "\n",
        "\n"
      ],
      "metadata": {
        "id": "9Y90HqUy4dvT"
      }
    },
    {
      "cell_type": "markdown",
      "source": [
        "* $A, B, 𝐱, c$ 정의하기"
      ],
      "metadata": {
        "id": "797vmDbR4dvZ"
      }
    },
    {
      "cell_type": "code",
      "source": [
        "BB = []\n",
        "for i in range(3):\n",
        "    Bset = [0, 0, 0]\n",
        "    Bset[i] = 1\n",
        "    BB.append(Bset)\n",
        "A = np.array([[1,2,3],[4,5,6]])\n",
        "B = np.array([BB[0],BB[1],BB[2]])\n",
        "x = np.array([[0],[1],[2]])\n",
        "c = np.array([2])\n",
        "A.shape, B.shape, x.shape, c.shape"
      ],
      "metadata": {
        "id": "RSNbZr6_4dvZ",
        "colab": {
          "base_uri": "https://localhost:8080/"
        },
        "outputId": "dcf56110-f2b4-438f-c409-73cfa8868eba"
      },
      "execution_count": 94,
      "outputs": [
        {
          "output_type": "execute_result",
          "data": {
            "text/plain": [
              "((2, 3), (3, 3), (3, 1), (1,))"
            ]
          },
          "metadata": {},
          "execution_count": 94
        }
      ]
    },
    {
      "cell_type": "markdown",
      "source": [
        "* $cAB$ 을 계산하고 ℝ 의 변화를 쓰세요."
      ],
      "metadata": {
        "id": "20HvJyEI4dvZ"
      }
    },
    {
      "cell_type": "code",
      "source": [
        "# 2 x 3 3 x 3 =  2 x 3\n",
        "\n",
        "c*(A@B)"
      ],
      "metadata": {
        "id": "5R7wMXjE4dvZ",
        "colab": {
          "base_uri": "https://localhost:8080/"
        },
        "outputId": "33c0ff7b-cb81-4e43-f13c-93c31bbb1e70"
      },
      "execution_count": 96,
      "outputs": [
        {
          "output_type": "execute_result",
          "data": {
            "text/plain": [
              "array([[ 2,  4,  6],\n",
              "       [ 8, 10, 12]])"
            ]
          },
          "metadata": {},
          "execution_count": 96
        }
      ]
    },
    {
      "cell_type": "markdown",
      "source": [
        "* $AB𝐱$"
      ],
      "metadata": {
        "id": "4r79slHG4dva"
      }
    },
    {
      "cell_type": "code",
      "source": [
        "A@B@x"
      ],
      "metadata": {
        "id": "OZZvs-7t4dva",
        "colab": {
          "base_uri": "https://localhost:8080/"
        },
        "outputId": "64f1a111-84c2-4ef7-c57c-0adf9821f2aa"
      },
      "execution_count": 99,
      "outputs": [
        {
          "output_type": "execute_result",
          "data": {
            "text/plain": [
              "array([[ 8],\n",
              "       [17]])"
            ]
          },
          "metadata": {},
          "execution_count": 99
        }
      ]
    },
    {
      "cell_type": "markdown",
      "source": [
        "* $𝐱^TBA^T$ 을 계산하고 ℝ 의 변화를 쓰세요."
      ],
      "metadata": {
        "id": "R7TcJH964dva"
      }
    },
    {
      "cell_type": "code",
      "source": [
        "x.T@B@A.T"
      ],
      "metadata": {
        "id": "BJQtGchi4dva",
        "colab": {
          "base_uri": "https://localhost:8080/"
        },
        "outputId": "824d5a23-933d-4b92-9e2a-34a680902742"
      },
      "execution_count": 110,
      "outputs": [
        {
          "output_type": "execute_result",
          "data": {
            "text/plain": [
              "array([[ 8, 17]])"
            ]
          },
          "metadata": {},
          "execution_count": 110
        }
      ]
    },
    {
      "cell_type": "markdown",
      "source": [
        "#### **예제 08**\n",
        "\n",
        "행렬 $A$가 다음과 같이 주어졌을 때 $AB$ 행렬이 각 shape를 만족하도록 $B$를 정의하세요. 단 $B$의 값은 1부터 5까지 랜덤 정수 입니다.\n",
        "\n",
        "\\begin{split}\n",
        "\\begin{align}\n",
        "A =\n",
        "\\begin{bmatrix}\n",
        "1 \\ \\ 1 \\ \\ 1 \\ \\ 1 \\\\\n",
        "2 \\ \\ 2 \\ \\ 2 \\ \\ 2 \\\\\n",
        "\\end{bmatrix}\n",
        "\\end{align}\n",
        "\\end{split}\n",
        "\n",
        "\n",
        "\n",
        "\n"
      ],
      "metadata": {
        "id": "flJGa8_N6b3c"
      }
    },
    {
      "cell_type": "markdown",
      "source": [
        "* $A$ 정의하기"
      ],
      "metadata": {
        "id": "9z6pk6Ks6b3c"
      }
    },
    {
      "cell_type": "code",
      "source": [
        "A = np.array([[i for _ in range(4)] for i in [1,2]])"
      ],
      "metadata": {
        "id": "Y1rLUk0W7K91"
      },
      "execution_count": 127,
      "outputs": []
    },
    {
      "cell_type": "markdown",
      "source": [
        "* $AB \\in ℝ^{2\\times5}$ 일 때 $B$를 정의하고 $AB$를 계산하세요."
      ],
      "metadata": {
        "id": "axa7c9zM7LBW"
      }
    },
    {
      "cell_type": "code",
      "source": [
        "B = np.array([[i for _ in range(5)] for i in [1,2,3,4]])\n",
        "A@B"
      ],
      "metadata": {
        "id": "MNLM4rsJ7SC3",
        "colab": {
          "base_uri": "https://localhost:8080/"
        },
        "outputId": "783620e1-b4d0-4e13-dc7f-45459fd068f2"
      },
      "execution_count": 132,
      "outputs": [
        {
          "output_type": "execute_result",
          "data": {
            "text/plain": [
              "array([[10, 10, 10, 10, 10],\n",
              "       [20, 20, 20, 20, 20]])"
            ]
          },
          "metadata": {},
          "execution_count": 132
        }
      ]
    },
    {
      "cell_type": "markdown",
      "source": [
        "* $AB \\in ℝ^{2\\times3}$ 일 때 $B$를 정의하고 $AB$를 계산하세요."
      ],
      "metadata": {
        "id": "K5lR-8Gq7Zbr"
      }
    },
    {
      "cell_type": "code",
      "source": [
        "B = np.array([[i for _ in range(3)] for i in [1,2,3,4]])\n",
        "A@B"
      ],
      "metadata": {
        "id": "kTv6QWNf7Zbs",
        "colab": {
          "base_uri": "https://localhost:8080/"
        },
        "outputId": "1d91a666-84a9-44c1-8312-c15be54b04f5"
      },
      "execution_count": 134,
      "outputs": [
        {
          "output_type": "execute_result",
          "data": {
            "text/plain": [
              "array([[10, 10, 10],\n",
              "       [20, 20, 20]])"
            ]
          },
          "metadata": {},
          "execution_count": 134
        }
      ]
    },
    {
      "cell_type": "markdown",
      "source": [
        "* $AB \\in ℝ^{2\\times1}$ 일 때 $B$를 정의하고 $AB$를 계산하세요."
      ],
      "metadata": {
        "id": "6T1Z7a2o7dtb"
      }
    },
    {
      "cell_type": "code",
      "source": [
        "LEN = 1\n",
        "IN = [1,2,3,4]\n",
        "B = np.array([[i for _ in range(LEN)] for i in IN])\n",
        "A@B"
      ],
      "metadata": {
        "id": "B8CfyOpY7dtc",
        "colab": {
          "base_uri": "https://localhost:8080/"
        },
        "outputId": "b14694da-614c-4221-ab20-caf130625a35"
      },
      "execution_count": 138,
      "outputs": [
        {
          "output_type": "execute_result",
          "data": {
            "text/plain": [
              "array([[10],\n",
              "       [20]])"
            ]
          },
          "metadata": {},
          "execution_count": 138
        }
      ]
    },
    {
      "cell_type": "markdown",
      "source": [
        "* $A$와 $M$ 두개의 값을 인풋으로 하면 $AB \\in ℝ^{N\\times M}$를 만족하는 랜덤행렬 $B$를 반환하도록 함수 `random_weights`를 생성하세요."
      ],
      "metadata": {
        "id": "VdV80fUjrbRi"
      }
    },
    {
      "cell_type": "code",
      "source": [
        "def RDVT(a, m):\n",
        "\n",
        "    Eqeal = [1,2,3,4,5,6,7,8,9]\n",
        "\n",
        "    Return_Shape = []\n",
        "\n",
        "    for i in range(len(a[0])):\n",
        "        Return_Shape.append([])\n",
        "        for j in range(m):\n",
        "            ChoiceRandomInt = np.random.choice(Eqeal)\n",
        "            Return_Shape[i].append(ChoiceRandomInt)\n",
        "    return np.array(Return_Shape)"
      ],
      "metadata": {
        "colab": {
          "base_uri": "https://localhost:8080/"
        },
        "id": "bSnxIPEoD886",
        "outputId": "978a01a1-fe90-4102-a2c4-fb6a84fb91a6"
      },
      "execution_count": 192,
      "outputs": [
        {
          "output_type": "stream",
          "name": "stdout",
          "text": [
            "(2, 4) (4, 4) (2, 4)\n"
          ]
        }
      ]
    },
    {
      "cell_type": "markdown",
      "source": [
        "* 함수 사용 예시"
      ],
      "metadata": {
        "id": "qsmTEg4vwabg"
      }
    },
    {
      "cell_type": "code",
      "source": [
        "B = random_weights(A, 5)\n",
        "print(A.shape, B.shape, (A@B).shape)"
      ],
      "metadata": {
        "colab": {
          "base_uri": "https://localhost:8080/"
        },
        "id": "7_HakKX_u41-",
        "outputId": "5cc7f1f7-12da-4d35-d0f5-3ae3df4089ed"
      },
      "execution_count": null,
      "outputs": [
        {
          "output_type": "stream",
          "name": "stdout",
          "text": [
            "(2, 4) (4, 5) (2, 5)\n"
          ]
        }
      ]
    }
  ]
}