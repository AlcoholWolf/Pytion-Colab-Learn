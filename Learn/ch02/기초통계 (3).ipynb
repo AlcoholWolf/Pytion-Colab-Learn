{
  "nbformat": 4,
  "nbformat_minor": 0,
  "metadata": {
    "colab": {
      "name": "ch03_04_기초통계-대표통계량.ipynb의 사본",
      "provenance": [],
      "collapsed_sections": [],
      "include_colab_link": true
    },
    "kernelspec": {
      "name": "python3",
      "display_name": "Python 3"
    },
    "language_info": {
      "name": "python"
    }
  },
  "cells": [
    {
      "cell_type": "markdown",
      "metadata": {
        "id": "view-in-github",
        "colab_type": "text"
      },
      "source": [
        "<a href=\"https://colab.research.google.com/github/AlcoholWolf/PY-SAVE/blob/main/ch03_04_%EA%B8%B0%EC%B4%88%ED%86%B5%EA%B3%84_%EB%8C%80%ED%91%9C%ED%86%B5%EA%B3%84%EB%9F%89_ipynb%EC%9D%98_%EC%82%AC%EB%B3%B8.ipynb\" target=\"_parent\"><img src=\"https://colab.research.google.com/assets/colab-badge.svg\" alt=\"Open In Colab\"/></a>"
      ]
    },
    {
      "cell_type": "markdown",
      "source": [
        "# ch03.04. 기초통계 - 대표통계량\n",
        "---\n",
        "* 날짜:\n",
        "* 이름:\n",
        "\n",
        "## 학습내용\n",
        "    - 최빈값\n",
        "    - 중앙값\n",
        "    - 산술 평균\n",
        "    - 조화 평균\n",
        "    - 절사 평균\n"
      ],
      "metadata": {
        "id": "wWpXZc2fi39U"
      }
    },
    {
      "cell_type": "code",
      "source": [
        "import numpy as np\n",
        "import pandas as pd\n",
        "import matplotlib.pyplot as plt\n",
        "import seaborn as sns\n",
        "import scipy as sp\n",
        "from scipy.stats import *\n",
        "plt.rcParams['figure.figsize'] = [12, 8]                 # 출력 크기 (x12 y8)\n",
        "plt.style.use('dark_background')                         # 메타포트 레이아웃 - 검은 바탕\n",
        "sns.set_style(sns.set(color_codes=True))                 # 시본 레이아웃 - 컬러코드"
      ],
      "metadata": {
        "id": "uYLRSgCqw4YZ"
      },
      "execution_count": 57,
      "outputs": []
    },
    {
      "cell_type": "markdown",
      "source": [
        "## 대표 통계 - 수치자료형\n",
        "---"
      ],
      "metadata": {
        "id": "HFfrNCQzwC8p"
      }
    },
    {
      "cell_type": "markdown",
      "source": [
        "### **| 데이터 생성**\n",
        "\n",
        "```\n",
        "# 아래 함수는 랜덤한 정수를 반환합니다.\n",
        "np.random.randint(low, hight, shape)\n",
        "# low = 최소값\n",
        "# hight = 최대값\n",
        "# shape = 추출할 데이터의 크기\n",
        "```"
      ],
      "metadata": {
        "id": "FyMW-z9A5Dym"
      }
    },
    {
      "cell_type": "markdown",
      "source": [
        "* 최소값 1, 최대값 100인 데이터 1000개 생성하기"
      ],
      "metadata": {
        "id": "C61Z7FkB5dhN"
      }
    },
    {
      "cell_type": "code",
      "source": [
        "# 넘파이 랜덤 시드 0으로 설정\n",
        "\n",
        "# 넘파이 배열 `a`로 바인딩\n",
        "\n",
        "# 판다스 시리즈 `s`로 바인딩\n",
        "\n",
        "a = np.random.randint(1, 100, 10)\n",
        "s = pd.Series(a)"
      ],
      "metadata": {
        "id": "QGUgicvFFpBp"
      },
      "execution_count": 58,
      "outputs": []
    },
    {
      "cell_type": "markdown",
      "source": [
        "* 데이터 분포 그리기"
      ],
      "metadata": {
        "id": "MNH_qxNE7ihh"
      }
    },
    {
      "cell_type": "code",
      "source": [
        "plt.hist(s)"
      ],
      "metadata": {
        "id": "gz9cjV1FwGQH",
        "colab": {
          "base_uri": "https://localhost:8080/",
          "height": 537
        },
        "outputId": "b096cc67-81b7-427b-ebdf-02c0152f6baf"
      },
      "execution_count": 60,
      "outputs": [
        {
          "output_type": "execute_result",
          "data": {
            "text/plain": [
              "(array([1., 2., 0., 2., 0., 1., 1., 0., 0., 3.]),\n",
              " array([ 9. , 15.2, 21.4, 27.6, 33.8, 40. , 46.2, 52.4, 58.6, 64.8, 71. ]),\n",
              " <a list of 10 Patch objects>)"
            ]
          },
          "metadata": {},
          "execution_count": 60
        },
        {
          "output_type": "display_data",
          "data": {
            "text/plain": [
              "<Figure size 864x576 with 1 Axes>"
            ],
            "image/png": "[encoded data removed]"
          },
          "metadata": {}
        }
      ]
    },
    {
      "cell_type": "markdown",
      "source": [
        "### **| 중앙값**\n",
        "```\n",
        "np.median(a)\n",
        "s.median()\n",
        "```"
      ],
      "metadata": {
        "id": "B7iX0zzqFl7P"
      }
    },
    {
      "cell_type": "markdown",
      "source": [
        "* 중앙값 계산"
      ],
      "metadata": {
        "id": "qp29xCkV72Xv"
      }
    },
    {
      "cell_type": "code",
      "source": [
        "print(np.median(a))\n",
        "print(s.median())"
      ],
      "metadata": {
        "id": "4axJO9zWFpEm",
        "colab": {
          "base_uri": "https://localhost:8080/"
        },
        "outputId": "a6522566-7c27-4fe4-d0fb-2c829b44e6f4"
      },
      "execution_count": 61,
      "outputs": [
        {
          "output_type": "stream",
          "name": "stdout",
          "text": [
            "36.0\n",
            "36.0\n"
          ]
        }
      ]
    },
    {
      "cell_type": "markdown",
      "source": [
        "### **| 산술평균**\n",
        "\n",
        "가장 보편적으로 사용되는 평균\n",
        "\n",
        "\\begin{align}\n",
        "\\mu = \\frac{\\sum^n_{i=1}x_i}{n}\n",
        "\\end{align}\n",
        "\n",
        "\\begin{align}\n",
        " & \\\\\n",
        " & x_i :? \\\\\n",
        " & n : ?\\\\ \n",
        "\\end{align}\n",
        "\n",
        "```\n",
        "np.mean(a)\n",
        "s.mean()\n",
        "```"
      ],
      "metadata": {
        "id": "DgEXAIV-Dezx"
      }
    },
    {
      "cell_type": "markdown",
      "source": [
        "* 평균 계산"
      ],
      "metadata": {
        "id": "Eyj9kkzd8Yve"
      }
    },
    {
      "cell_type": "code",
      "source": [
        "print(np.mean(a))\n",
        "print(s.mean())"
      ],
      "metadata": {
        "id": "JOkkVco_Dj7Q",
        "colab": {
          "base_uri": "https://localhost:8080/"
        },
        "outputId": "ec81f6f9-7953-43ec-b379-a2e71aeb64b7"
      },
      "execution_count": 62,
      "outputs": [
        {
          "output_type": "stream",
          "name": "stdout",
          "text": [
            "40.0\n",
            "40.0\n"
          ]
        }
      ]
    },
    {
      "cell_type": "markdown",
      "metadata": {
        "id": "3sVibZeXD7XB"
      },
      "source": [
        "### **| 조화 평균**\n",
        "\n",
        "비율 및 변화율에 등에 대한 평균을 계산할 때 사용\n",
        "\n",
        "\\begin{align}\n",
        "\\mu_{harmonic} = \\frac{n}{\\sum^n_{i=1}\\frac{1}{x_i}}\n",
        "\\end{align}\n",
        "\n",
        "\\begin{align}\n",
        " & \\\\\n",
        " & x_i :? \\\\\n",
        " & n : ?\\\\ \n",
        "\\end{align}"
      ]
    },
    {
      "cell_type": "markdown",
      "source": [
        "* 함수 `harmonic` 생성"
      ],
      "metadata": {
        "id": "I_bo0Xpn8lvJ"
      }
    },
    {
      "cell_type": "code",
      "execution_count": 63,
      "metadata": {
        "id": "bbvOee7xD7XB"
      },
      "outputs": [],
      "source": [
        "def harmonic( x ):\n",
        "    return len( x ) / (1/x)"
      ]
    },
    {
      "cell_type": "markdown",
      "source": [
        "* 조화 평균 계산"
      ],
      "metadata": {
        "id": "98ULxx_-8xJL"
      }
    },
    {
      "cell_type": "code",
      "source": [
        "print(harmonic(a))"
      ],
      "metadata": {
        "id": "e2eFFgrY8ylD",
        "colab": {
          "base_uri": "https://localhost:8080/"
        },
        "outputId": "bb731a5d-3150-4321-b004-8bade0f6f684"
      },
      "execution_count": 64,
      "outputs": [
        {
          "output_type": "stream",
          "name": "stdout",
          "text": [
            "[710. 670.  90. 480. 210. 670. 170. 310. 410. 280.]\n"
          ]
        }
      ]
    },
    {
      "cell_type": "markdown",
      "source": [
        "### **| 절사 평균**\n",
        "\n",
        "데이터에서 $\\alpha$ 개를 제거한 후 평균을 내는 방법\n",
        "\n",
        "\\begin{align}\n",
        "\\mu_{cut}=\\frac{\\sum^{|n(1-\\alpha)|}_{i=|n\\alpha|} x_i}{ |n(1-\\alpha)|-|n\\alpha| }\n",
        "\\end{align}\n",
        "\n",
        "\\begin{align}\n",
        " & \\\\\n",
        " & x_i :? \\\\\n",
        " & n : ?\\\\ \n",
        " & \\alpha : ?\n",
        "\\end{align}\n",
        "\n",
        "```\n",
        "from scipy.stats import trim_mean\n",
        "trim_mean(x, alpha) \n",
        "```\n"
      ],
      "metadata": {
        "id": "pfvnB5ljFiPP"
      }
    },
    {
      "cell_type": "markdown",
      "source": [
        "* alpha 비율 0.1일 때 절사 평균 계산"
      ],
      "metadata": {
        "id": "HJvDmFFs88l1"
      }
    },
    {
      "cell_type": "code",
      "source": [
        "print(trim_mean(a, 0.2))"
      ],
      "metadata": {
        "id": "byF7axwMyb1J",
        "colab": {
          "base_uri": "https://localhost:8080/"
        },
        "outputId": "228b4ce6-0c4a-4873-9e5b-9efcd4dd1eb1"
      },
      "execution_count": 65,
      "outputs": [
        {
          "output_type": "stream",
          "name": "stdout",
          "text": [
            "39.333333333333336\n"
          ]
        }
      ]
    },
    {
      "cell_type": "markdown",
      "source": [
        "## 대표 통계 - 범주자료형\n",
        "---"
      ],
      "metadata": {
        "id": "JPdOBwZwwkcF"
      }
    },
    {
      "cell_type": "markdown",
      "source": [
        "### **| 데이터 생성**\n",
        "\n",
        "```\n",
        "# 아래 함수는 리스트 안의 요소를 랜덤하게 반환합니다.\n",
        "np.random.choice(list, shape)\n",
        "# list = 카테고리가 들어있는 리스트\n",
        "# shape = 추출할 데이터의 크기\n",
        "```"
      ],
      "metadata": {
        "id": "ns3PTnjU9WXN"
      }
    },
    {
      "cell_type": "markdown",
      "source": [
        "* `A, B, C` 세개의 카테고리에서 데이터 1000개 생성하기"
      ],
      "metadata": {
        "id": "s-N5kc3F9WXT"
      }
    },
    {
      "cell_type": "code",
      "execution_count": 66,
      "metadata": {
        "id": "KmNsIamiD7XG"
      },
      "outputs": [],
      "source": [
        "# 넘파이 랜덤 시드 0으로 설정\n",
        "\n",
        "# 넘파이 배열 `a`로 바인딩\n",
        "\n",
        "# 판다스 시리즈 `s`로 바인딩\n",
        "k = np.arange(1, 10)\n",
        "a2 = np.random.choice(k, 20)\n",
        "s2 = pd.Series(a2)"
      ]
    },
    {
      "cell_type": "markdown",
      "source": [
        "* 데이터 분포 그리기"
      ],
      "metadata": {
        "id": "VNsc3MM0GTpR"
      }
    },
    {
      "cell_type": "code",
      "source": [
        "sns.histplot(s2)"
      ],
      "metadata": {
        "id": "ZKn5mFBdwPfr",
        "colab": {
          "base_uri": "https://localhost:8080/",
          "height": 502
        },
        "outputId": "bf9004e2-5fca-4b5e-9249-93f4b2cf2bf0"
      },
      "execution_count": 68,
      "outputs": [
        {
          "output_type": "execute_result",
          "data": {
            "text/plain": [
              "<matplotlib.axes._subplots.AxesSubplot at 0x7fa94e789f10>"
            ]
          },
          "metadata": {},
          "execution_count": 68
        },
        {
          "output_type": "display_data",
          "data": {
            "text/plain": [
              "<Figure size 864x576 with 1 Axes>"
            ],
            "image/png": "[encoded data removed]"
          },
          "metadata": {}
        }
      ]
    },
    {
      "cell_type": "markdown",
      "metadata": {
        "id": "6xsxy1RoD7XG"
      },
      "source": [
        "### **| 최빈값**\n",
        "\n",
        "```\n",
        "s.value_counts()\n",
        "\n",
        "from scipy.stats import mode\n",
        "mode(a)\n",
        "```"
      ]
    },
    {
      "cell_type": "markdown",
      "source": [
        "* `value_counts()` 사용하기"
      ],
      "metadata": {
        "id": "OV3eC4UtGl38"
      }
    },
    {
      "cell_type": "code",
      "execution_count": 69,
      "metadata": {
        "id": "Ilz_bakbD7XH",
        "colab": {
          "base_uri": "https://localhost:8080/"
        },
        "outputId": "8c6f1655-6232-490e-cf17-c549c7dd6116"
      },
      "outputs": [
        {
          "output_type": "execute_result",
          "data": {
            "text/plain": [
              "8    5\n",
              "7    4\n",
              "4    2\n",
              "3    2\n",
              "1    2\n",
              "9    2\n",
              "2    1\n",
              "6    1\n",
              "5    1\n",
              "dtype: int64"
            ]
          },
          "metadata": {},
          "execution_count": 69
        }
      ],
      "source": [
        "s2.value_counts()"
      ]
    },
    {
      "cell_type": "markdown",
      "source": [
        "* 사이파이 함수 `mode` 사용하기"
      ],
      "metadata": {
        "id": "nxipy7_cGqAn"
      }
    },
    {
      "cell_type": "code",
      "source": [
        "mode(a2)"
      ],
      "metadata": {
        "id": "F3JjvNqAtcUk",
        "colab": {
          "base_uri": "https://localhost:8080/"
        },
        "outputId": "cb6e9b18-38b4-4523-875a-4e875ebeca0e"
      },
      "execution_count": 70,
      "outputs": [
        {
          "output_type": "execute_result",
          "data": {
            "text/plain": [
              "ModeResult(mode=array([8]), count=array([5]))"
            ]
          },
          "metadata": {},
          "execution_count": 70
        }
      ]
    },
    {
      "cell_type": "markdown",
      "source": [
        "## 예제\n",
        "---"
      ],
      "metadata": {
        "id": "z6JYAMB_4Xq7"
      }
    },
    {
      "cell_type": "markdown",
      "source": [
        "#### **예제 01**\n",
        "\n",
        "1. 평균이 200만원이고 표준편차가 50만원인 정규분포를 따르는 데이터를 아래 넘파이 함수를 이용해 100개 생성하세요.\n",
        "```\n",
        "np.random.normal(mu, std, n)\n",
        "```\n",
        "\n",
        "2. 위에서 생성한 데이터의 히스토그램을 그리세요\n",
        "\n",
        "3. 10억원의 소득을 가지는 데이터 한개를 위 데이터에 추가하세요.\n",
        "\n",
        "4. 데이터의 히스토그램을 그리세요\n",
        "\n",
        "5. 10억원의 소득을 추가하기 전과 후의 데이터의 산술평균을 비교하세요.\n",
        "\n",
        "5. 10억원의 소득을 추가하기 전과 후의 데이터의 절사평균(alpha=0.1)을 비교하세요."
      ],
      "metadata": {
        "id": "S0gYqvK22tij"
      }
    },
    {
      "cell_type": "code",
      "execution_count": null,
      "metadata": {
        "id": "to3bS7CBD7XD"
      },
      "outputs": [],
      "source": [
        "nums = np.random.normal(200, 50, 100)\n",
        "n = list(nums)\n",
        "n"
      ]
    },
    {
      "cell_type": "code",
      "source": [
        "sns.histplot(nums)"
      ],
      "metadata": {
        "id": "kWJDx-9pSPcR"
      },
      "execution_count": null,
      "outputs": []
    },
    {
      "cell_type": "code",
      "source": [
        "nums = np.random.normal(200, 50, 100)\n",
        "nb = list(nums)\n",
        "n = list(nums)\n",
        "\n",
        "num10 = np.array([100000.])\n",
        "n.append(num10[0])\n",
        "lenp = np.arange(1, 102)\n",
        "numpd = pd.DataFrame({ 'INT' : n , 'LEN' : lenp })\n",
        "numpd = numpd #/ 100"
      ],
      "metadata": {
        "id": "wrPtjvegS9eR"
      },
      "execution_count": 228,
      "outputs": []
    },
    {
      "cell_type": "code",
      "source": [
        "_ = sns.barplot(numpd['INT'], numpd['LEN'])"
      ],
      "metadata": {
        "colab": {
          "base_uri": "https://localhost:8080/",
          "height": 557
        },
        "id": "3zvC5jMmWDzF",
        "outputId": "606ddbdb-258b-4770-b6bc-979084c8514c"
      },
      "execution_count": 232,
      "outputs": [
        {
          "output_type": "stream",
          "name": "stderr",
          "text": [
            "/usr/local/lib/python3.7/dist-packages/seaborn/_decorators.py:43: FutureWarning: Pass the following variables as keyword args: x, y. From version 0.12, the only valid positional argument will be `data`, and passing other arguments without an explicit keyword will result in an error or misinterpretation.\n",
            "  FutureWarning\n"
          ]
        },
        {
          "output_type": "display_data",
          "data": {
            "text/plain": [
              "<Figure size 864x576 with 1 Axes>"
            ],
            "image/png": "[encoded data removed]"
          },
          "metadata": {}
        }
      ]
    },
    {
      "cell_type": "code",
      "source": [
        "def san(x):\n",
        "    return sum(x) / len(x)\n",
        "\n",
        "def juel(x):\n",
        "    return trim_mean(x, 0.1)"
      ],
      "metadata": {
        "id": "fCOmEm9uarXq"
      },
      "execution_count": 193,
      "outputs": []
    },
    {
      "cell_type": "code",
      "source": [
        "print(f'추가 전 : {round(san(nb), 7)}, 추가 후 : {round(san(n), 7)} // 소수 7번째 자리에서 반올림')\n",
        "print(f'추가 전 : {round(juel(nb), 7)}, 추가 후 : {round(juel(n), 7)} // 소수 7번째 자리에서 반올림')"
      ],
      "metadata": {
        "colab": {
          "base_uri": "https://localhost:8080/"
        },
        "id": "PVD3qft_a3iy",
        "outputId": "5e63973d-d6b5-40b1-a94b-77d56beb7851"
      },
      "execution_count": 194,
      "outputs": [
        {
          "output_type": "stream",
          "name": "stdout",
          "text": [
            "추가 전 : 200.3627964, 추가 후 : 1188.4780162 // 소수 7번째 자리에서 반올림\n",
            "추가 전 : 202.7782856, 추가 후 : 203.3866513 // 소수 7번째 자리에서 반올림\n"
          ]
        }
      ]
    },
    {
      "cell_type": "markdown",
      "source": [
        "#### **예제 02**\n",
        "\n",
        "타이타닉 데이터셋을 가져오고, 각 변수들의 대표값을 정리하세요."
      ],
      "metadata": {
        "id": "vC9QE_7R5njn"
      }
    },
    {
      "cell_type": "code",
      "source": [
        "# 기본 지정\n",
        "import pandas as pd\n",
        "import numpy as np\n",
        "# .csv 파일 형식 불러오기\n",
        "train = pd.read_csv('/content/train.csv')\n",
        "\n",
        "# 곁측치, 빈 값을 호출, 0이라면 없음 상수면 있음.\n",
        "# isnull은 비어있는 값, 즉 null인 슬롯 하나당 1 반환, sum으로 각 개체 열합\n",
        "nulltrain = train.isnull().sum()\n",
        "\n",
        "# 최상단 5줄(분류자 포함) 로드\n",
        "# head는 맨 위(분류자 또한 1번 줄)부터 5번 줄까지 반환\n",
        "printtrain = train.head(5)\n",
        "\n",
        "# 최소 최대 평균 등의 분포도 로드\n",
        "# describe는 각 열의 측정값(최소 최대 총합 평균 등등)을 반환\n",
        "destrain = train.describe()\n",
        "\n",
        "# .dtypes 메소드를 사용하여 해당 열들의 객체 타입 로드\n",
        "# dtypes은 기준이 되는 열이나 행의 객체 타입 반환\n",
        "dtypetrain = train.dtypes\n",
        "\n",
        "# 객실의 칸 정보(단일값) 과, 승선한 항구의 정보(3종류 + 눌)\n",
        "# unique는 해당 열(기준값)의 겹치지 않은 데이터값(단일값)을 반환\n",
        "cabintrain = train.Cabin.unique()\n",
        "embarkedtrain = train.Embarked.unique()\n",
        "\n",
        "# 생존 인원, 비생존 인원, 총 인원\n",
        "# 생존은 1, 비생존은 0으로 저장되어있으므로, 생존 항목 모든 값을 더하면 생존 인원수 반환,\n",
        "#           총 행의 갯수 에서 생존 인원 수를 뺴면 비생존 인원 수 반환.\n",
        "survival = train.Survived.sum()\n",
        "n_survival = train.shape[0] - survival\n",
        "print(f'총 인원 {survival+n_survival}')\n",
        "print(f'생존자 {survival}\\n사망자 {n_survival}')\n",
        "\n",
        "# 변수 지정 슬롯(순서가 다른곳이어도 이곳에 변수 모으기)\n",
        "# 1 | 변수y에 학습할 목표변수인 Survived필드값을 담기.\n",
        "y = train.Survived\n",
        "\n",
        "# 1,2,3등급의 인원(신분) 분류\n",
        "# Pclass 열 중 1,2,3 의 value값에 해당하는 인원 을 counts로 세어서 반환 \n",
        "pclasstrain = train['Pclass'].value_counts()\n",
        "print(f'1등급 인원 {pclasstrain[1]}\\n2등급 인원 {pclasstrain[2]}\\n3등급 인원 {pclasstrain[3]}')\n",
        "\n",
        "# 남성/여성으로 분류\n",
        "# Sex의 male값과 female값을 counts해서 반환\n",
        "sextrain = train['Sex'].value_counts()\n",
        "print(f'남성 {sextrain[1]}\\n여성 {sextrain[0]}')\n",
        "\n",
        "# 2개의 곁측치는 Southampton로 변환\n",
        "# 비어있는 null값에 S 채워넣고(fillna), S, C, Q 값을 counts해서 반환\n",
        "train['Embarked'] = train['Embarked'].fillna('S')\n",
        "embartrain = train['Embarked'].value_counts()\n",
        "print(f'Southampton {embartrain[0]}\\nCherbourg {embartrain[1]}\\nQueenstown {embartrain[2]}')\n",
        "\n",
        "# median으로 Age의 중간값을 로드해서 fillna함수를 사용하여 곁측치(null)을 Age의 중간값으로 변환\n",
        "train['Age'] = train['Age'].fillna(train['Age'].median())\n",
        "\n",
        "# name에서 신분을 나타내는 단어를 title에 할당\n",
        "# extract메소드를 사용하여 정규 식을 넣으면 해당하는 문자열을 반환\n",
        "# replace메소드를 이용, 기준 리스트의 문자열을 2번 인자 문자열로 치환\n",
        "train['Title'] = train['Name'].str.extract('([A-Za-z]+)\\.', expand=False)\n",
        "train['Title'] = train['Title'].replace(['Capt', 'Col', 'Major', 'Dr', 'Rev'], 'Officer')\n",
        "train['Title'] = train['Title'].replace(['Jonkheer', 'Master'], 'Master')\n",
        "train['Title'] = train['Title'].replace(['Don', 'Sir', 'the Countess', 'Lady', 'Dona'], 'Royalty')\n",
        "train['Title'] = train['Title'].replace(['Mme', 'Ms', 'Mrs'], 'Mrs')\n",
        "train['Title'] = train['Title'].replace(['Mlle', 'Miss'], 'Miss')\n",
        "train['Title'] = train['Title'].replace(['Mr'], 'Mr')\n",
        "train['Title']\n",
        "\n",
        "\n",
        "# 나이형 변수 선언\n",
        "# 0~18,19~25,26~35,36~60,61~100 순으로 'Baby', 'Youth', 'YoungAdult', 'MiddleAged', 'Senior' 그룹에 각각 할당.\n",
        "# 할당한 그룹마다의 객체 수 카운트\n",
        "bin = [0, 18, 25, 35, 60, 100]\n",
        "group_names = ['Baby', 'Youth', 'YoungAdult', 'MiddleAged', 'Senior']\n",
        "train['AgeGroup'] = pd.cut(train['Age'], bins=bin, labels=group_names)\n",
        "agetrain = train['AgeGroup'].value_counts()\n",
        "print(agetrain)"
      ],
      "metadata": {
        "id": "mOw2b43-51ZF",
        "colab": {
          "base_uri": "https://localhost:8080/"
        },
        "outputId": "71bbf26c-2e39-43e3-8dd9-4ce7de24de9d"
      },
      "execution_count": 235,
      "outputs": [
        {
          "output_type": "stream",
          "name": "stdout",
          "text": [
            "총 인원 891\n",
            "생존자 342\n",
            "사망자 549\n",
            "1등급 인원 216\n",
            "2등급 인원 184\n",
            "3등급 인원 491\n",
            "남성 314\n",
            "여성 577\n",
            "Southampton 646\n",
            "Cherbourg 168\n",
            "Queenstown 77\n",
            "YoungAdult    373\n",
            "MiddleAged    195\n",
            "Youth         162\n",
            "Baby          139\n",
            "Senior         22\n",
            "Name: AgeGroup, dtype: int64\n"
          ]
        }
      ]
    },
    {
      "cell_type": "code",
      "source": [
        "21"
      ],
      "metadata": {
        "id": "c7g3yaSldGbY"
      },
      "execution_count": null,
      "outputs": []
    }
  ]
}