{
  "nbformat": 4,
  "nbformat_minor": 0,
  "metadata": {
    "colab": {
      "name": "ch03_03_NLP기초-순환신경망.ipynb의 사본",
      "provenance": [],
      "collapsed_sections": [],
      "machine_shape": "hm",
      "include_colab_link": true
    },
    "kernelspec": {
      "name": "python3",
      "display_name": "Python 3"
    },
    "language_info": {
      "name": "python"
    },
    "accelerator": "GPU",
    "gpuClass": "standard"
  },
  "cells": [
    {
      "cell_type": "markdown",
      "metadata": {
        "id": "view-in-github",
        "colab_type": "text"
      },
      "source": [
        "<a href=\"https://colab.research.google.com/github/AlcoholWolf/PY-SAVE/blob/main/ch03_03_NLP%EA%B8%B0%EC%B4%88_%EC%88%9C%ED%99%98%EC%8B%A0%EA%B2%BD%EB%A7%9D_ipynb%EC%9D%98_%EC%82%AC%EB%B3%B8.ipynb\" target=\"_parent\"><img src=\"https://colab.research.google.com/assets/colab-badge.svg\" alt=\"Open In Colab\"/></a>"
      ]
    },
    {
      "cell_type": "markdown",
      "source": [
        "# ch03.03 NLP기초 - 순환 신경망\n",
        "---\n",
        "\n",
        "* 날짜:\n",
        "* 이름:\n",
        "\n",
        "\n",
        "## 학습내용\n",
        "    - 순환 신경망에 대해 이해한다.\n",
        "    - RNN\n",
        "    - GRU\n",
        "    - LSTM"
      ],
      "metadata": {
        "id": "sWs2kEC1_b-P"
      }
    },
    {
      "cell_type": "markdown",
      "source": [
        "```\n",
        "! git clone https://github.com/yebiny/SkillTreePython-DeepLearning\n",
        "```"
      ],
      "metadata": {
        "id": "zml97VsFlWC1"
      }
    },
    {
      "cell_type": "code",
      "execution_count": null,
      "metadata": {
        "id": "lqjonRF6KbGY"
      },
      "outputs": [],
      "source": [
        "! git clone https://github.com/yebiny/SkillTreePython-DeepLearning"
      ]
    },
    {
      "cell_type": "markdown",
      "source": [
        "```\n",
        "import sys\n",
        "sys.path.append('/content/SkillTreePython-DeepLearning/scripts')\n",
        "from import_lib import *\n",
        "from plot_result import *\n",
        "```"
      ],
      "metadata": {
        "id": "iDliBVhLlYiY"
      }
    },
    {
      "cell_type": "code",
      "source": [
        "import sys\n",
        "sys.path.append('/content/SkillTreePython-DeepLearning/scripts')\n",
        "from import_lib import *\n",
        "from plot_result import *\n",
        "\n",
        "from plot_result import plot_lcurve"
      ],
      "metadata": {
        "id": "wl7j2ocNL1BQ"
      },
      "execution_count": 11,
      "outputs": []
    },
    {
      "cell_type": "markdown",
      "source": [
        "## imdb 베이스 모델\n",
        "---"
      ],
      "metadata": {
        "id": "E84qYH7ADC2R"
      }
    },
    {
      "cell_type": "markdown",
      "source": [
        "### **| imdb 데이터 처리**\n",
        "```\n",
        "MAX_LEN = 256\n",
        "MAX_FEATURES = 10000\n",
        "\n",
        "imdb = tf.keras.datasets.imdb\n",
        "(x_train, y_train), (x_test, y_test) = imdb.load_data(num_words=MAX_FEATURES)\n",
        "x_train = preprocessing.sequence.pad_sequences(x_train,\n",
        "                                               padding='post',\n",
        "                                               maxlen=MAX_LEN)\n",
        "\n",
        "x_test = preprocessing.sequence.pad_sequences(x_test,\n",
        "                                              padding='post',\n",
        "                                              maxlen=MAX_LEN)\n",
        "print(x_train.shape, x_test.shape)\n",
        "```"
      ],
      "metadata": {
        "id": "UiHqcR2ANSyg"
      }
    },
    {
      "cell_type": "code",
      "execution_count": null,
      "metadata": {
        "id": "VVsT77Gieb4m"
      },
      "outputs": [],
      "source": [
        "MAX_LEN = 256\n",
        "MAX_FEATURES = 10000\n",
        "\n",
        "imdb = tf.keras.datasets.imdb\n",
        "(x_train, y_train), (x_test, y_test) = imdb.load_data(num_words=MAX_FEATURES)\n",
        "x_train = preprocessing.sequence.pad_sequences(x_train,\n",
        "                                               padding='post',\n",
        "                                               maxlen=MAX_LEN)\n",
        "\n",
        "x_test = preprocessing.sequence.pad_sequences(x_test,\n",
        "                                              padding='post',\n",
        "                                              maxlen=MAX_LEN)\n",
        "print(x_train.shape, x_test.shape)"
      ]
    },
    {
      "cell_type": "markdown",
      "source": [
        "### **| FCN with GlobalAveragePooling1D**"
      ],
      "metadata": {
        "id": "b2U849gR-fyS"
      }
    },
    {
      "cell_type": "code",
      "source": [
        "EMB_DIMS = 32\n",
        "x = layers.Input(shape=MAX_LEN)\n",
        "y = layers.Embedding(MAX_FEATURES, EMB_DIMS)(x)\n",
        "y = layers.GlobalAveragePooling1D(data_format='channels_first')(y)\n",
        "y = layers.Dense(1, activation='sigmoid')(y)\n",
        "model = models.Model(x, y, name='FCN_GAP')\n",
        "model.summary()\n",
        "\n",
        "model.compile(optimizer='rmsprop', loss='binary_crossentropy', metrics=['acc'])\n",
        "history = model.fit(x_train, y_train, epochs=40, batch_size=128, validation_split=0.2)\n",
        "plot_lcurve([history], [''], ['dodgerblue'])"
      ],
      "metadata": {
        "id": "Jqqi7IGnNySI"
      },
      "execution_count": null,
      "outputs": []
    },
    {
      "cell_type": "markdown",
      "source": [
        "## RNN\n",
        "---"
      ],
      "metadata": {
        "id": "yvs_To8L25Uc"
      }
    },
    {
      "cell_type": "markdown",
      "source": [
        "<p align='center'>\n",
        "<img src=https://res.cloudinary.com/dyd911kmh/image/upload/v1647442110/image6_f6vds6.png width=800>\n",
        "</p>"
      ],
      "metadata": {
        "id": "VU3BLoJCGSlV"
      }
    },
    {
      "cell_type": "markdown",
      "source": [
        "### SimpleRNN \n",
        "* 𝙝𝑡-1 ▷ [𝞤𝑡 𝙝𝑡 𝒙𝑡] // 𝒙 ▷ RNN ( Loop ) ▷ 𝞤\n",
        "* * 𝞤𝑡 = 𝙒𝘩𝑡𝙝𝑡 + 𝙗𝚢\n",
        "* * 𝙝𝑡 = 𝒕𝒂𝒏𝒉(𝑾𝘩𝘩𝙝𝑡-1 + 𝑾𝑥𝘩𝒙𝑡 + 𝙗𝘩)\n",
        "* 장점\n",
        "* * 시계열 데이터 등의 연속된(순차적)데이터에 사용하기 좋음\n",
        "* * * 'TXT' 또한 '단어'가 나열된, 연속형 데이터\n",
        "* 단점\n",
        "* * 관련 정보와 그 정보의 사용 지점이 멀 경우, 역전파시 '그래디언트'의 감소로 인해 학습능력이 크게 떨어짐\n",
        "* 특징\n",
        "* * 주로 𝙝𝑡(하이퍼-탄젠트) 함수로 비선형 회귀를 하지만, 간혹 'ReLU'를 사용하기도 한다.\n",
        "* * 시퀸스의 길이에 상관 없이 유연한 구조를 가진다( 필요에 따라 다양하고 유연하게 대처가 가능함 )"
      ],
      "metadata": {
        "id": "PzdmIcEiw3Id"
      }
    },
    {
      "cell_type": "code",
      "source": [
        "EMB_DIMS = 32\n",
        "x = layers.Input(shape=MAX_LEN)\n",
        "y = layers.Embedding(MAX_FEATURES, EMB_DIMS)(x)\n",
        "y = layers.SimpleRNN(32)(y)\n",
        "y = layers.Dense(1, activation='sigmoid')(y)\n",
        "model = models.Model(x, y, name='SimpleRNN')\n",
        "model.summary()\n",
        "\n",
        "model.compile(optimizer='rmsprop', loss='binary_crossentropy', metrics=['acc'])\n",
        "history = model.fit(x_train, y_train, epochs=2, batch_size=128, validation_split=0.2)\n",
        "plot_lcurve([history], [''], ['dodgerblue'])"
      ],
      "metadata": {
        "id": "nL8_njwp660V"
      },
      "execution_count": null,
      "outputs": []
    },
    {
      "cell_type": "markdown",
      "source": [
        "## LSTM\n",
        "---\n",
        "\n",
        "<p align='center'>\n",
        "<img src=https://res.cloudinary.com/dyd911kmh/image/upload/v1647442110/image3_nsnxp3.png width=600>\n",
        "</p>\n",
        "\n"
      ],
      "metadata": {
        "id": "Di_qLRR528nq"
      }
    },
    {
      "cell_type": "code",
      "source": [
        "EMB_DIMS = 32\n",
        "x = layers.Input(shape=MAX_LEN)\n",
        "y = layers.Embedding(MAX_FEATURES, EMB_DIMS)(x)\n",
        "y = layers.LSTM(32)(y)\n",
        "y = layers.Dense(1, activation='sigmoid')(y)\n",
        "model = models.Model(x, y, name='LSTM_')\n",
        "model.summary()"
      ],
      "metadata": {
        "id": "um2JBBQK5RWL"
      },
      "execution_count": null,
      "outputs": []
    },
    {
      "cell_type": "code",
      "source": [
        "model.compile(optimizer='rmsprop', loss='binary_crossentropy', metrics=['acc'])\n",
        "history = model.fit(x_train, y_train, epochs=20, batch_size=128, validation_split=0.2)\n",
        "plot_lcurve([history], [''], ['dodgerblue'])"
      ],
      "metadata": {
        "id": "OgUymXM_VZlx"
      },
      "execution_count": null,
      "outputs": []
    },
    {
      "cell_type": "markdown",
      "source": [
        "### | **many-to-many**\n",
        "\n",
        "\n",
        "<p align='center'>\n",
        "<img src=https://res.cloudinary.com/dyd911kmh/image/upload/v1647442111/image9_e1gwba.png width=700>\n",
        "</p>\n"
      ],
      "metadata": {
        "id": "YNbew4frD8Sl"
      }
    },
    {
      "cell_type": "code",
      "source": [
        "EMB_DIMS = 32\n",
        "x = layers.Input(shape=MAX_LEN)\n",
        "y = layers.Embedding(MAX_FEATURES, EMB_DIMS)(x)\n",
        "y = layers.m(32)(y)\n",
        "y = layers.Dense(1, activation='sigmoid')(y)\n",
        "model = models.Model(x, y, name='LSTM_')\n",
        "model.summary()"
      ],
      "metadata": {
        "id": "7p8knOBV-8E-"
      },
      "execution_count": null,
      "outputs": []
    },
    {
      "cell_type": "markdown",
      "source": [
        "## GRU\n",
        "---\n",
        "\n",
        "\n",
        "<p align='center'>\n",
        "<img src=https://res.cloudinary.com/dyd911kmh/image/upload/v1647442111/image10_zgefie.png width=600>\n",
        "</p>\n",
        "\n"
      ],
      "metadata": {
        "id": "W92SnwQD9zRh"
      }
    },
    {
      "cell_type": "code",
      "source": [
        ""
      ],
      "metadata": {
        "id": "gNqbCFd7VLr4"
      },
      "execution_count": null,
      "outputs": []
    },
    {
      "cell_type": "markdown",
      "source": [
        "### | **many-to-many**\n",
        "\n",
        "\n",
        "<p align='center'>\n",
        "<img src=https://res.cloudinary.com/dyd911kmh/image/upload/v1647442111/image9_e1gwba.png width=700>\n",
        "</p>\n"
      ],
      "metadata": {
        "id": "-UNYM9lADuko"
      }
    },
    {
      "cell_type": "code",
      "source": [
        ""
      ],
      "metadata": {
        "id": "A4i-7ox5-v_9"
      },
      "execution_count": null,
      "outputs": []
    },
    {
      "cell_type": "code",
      "source": [
        ""
      ],
      "metadata": {
        "id": "zOWyrWXy_6pS"
      },
      "execution_count": null,
      "outputs": []
    }
  ]
}