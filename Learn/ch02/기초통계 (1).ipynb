{
  "nbformat": 4,
  "nbformat_minor": 0,
  "metadata": {
    "colab": {
      "name": "ch03_06_기초통계-분포통계량.ipynb의 사본",
      "provenance": [],
      "collapsed_sections": [],
      "include_colab_link": true
    },
    "kernelspec": {
      "name": "python3",
      "display_name": "Python 3"
    },
    "language_info": {
      "name": "python"
    }
  },
  "cells": [
    {
      "cell_type": "markdown",
      "metadata": {
        "id": "view-in-github",
        "colab_type": "text"
      },
      "source": [
        "<a href=\"https://colab.research.google.com/github/AlcoholWolf/PY-SAVE/blob/main/ch03_06_%EA%B8%B0%EC%B4%88%ED%86%B5%EA%B3%84_%EB%B6%84%ED%8F%AC%ED%86%B5%EA%B3%84%EB%9F%89_ipynb%EC%9D%98_%EC%82%AC%EB%B3%B8.ipynb\" target=\"_parent\"><img src=\"https://colab.research.google.com/assets/colab-badge.svg\" alt=\"Open In Colab\"/></a>"
      ]
    },
    {
      "cell_type": "markdown",
      "source": [
        "# ch03.06. 기초통계 - 분포통계량\n",
        "---\n",
        "* 날짜:\n",
        "* 이름:\n",
        "\n",
        "## 학습내용\n",
        "    - 백분위수, 사분위수\n",
        "    - 왜도\n",
        "    - 첨도"
      ],
      "metadata": {
        "id": "wWpXZc2fi39U"
      }
    },
    {
      "cell_type": "code",
      "source": [
        "import numpy as np\n",
        "import matplotlib.pyplot as plt\n",
        "import pandas as pd\n",
        "import seaborn as sns"
      ],
      "metadata": {
        "id": "uYLRSgCqw4YZ"
      },
      "execution_count": 1,
      "outputs": []
    },
    {
      "cell_type": "markdown",
      "source": [
        "##  분포 통계\n",
        "---\n",
        "\n",
        "* 분포통계는 데이터의 위치나 모양을 확인"
      ],
      "metadata": {
        "id": "rx3G1AI_nCTw"
      }
    },
    {
      "cell_type": "markdown",
      "source": [
        "### **| 데이터 생성**\n",
        "\n",
        "```\n",
        "# 아래의 함수는 정규분포를 따르는 랜덤한 실수를 반환합니다.\n",
        "np.random.normal(loc, scale, size)\n",
        "# loc = 평균\n",
        "# scale = 표준편차\n",
        "# size = 추출할 데이터(표본)의 크기\n",
        "```"
      ],
      "metadata": {
        "id": "Qamnn6ffuxFL"
      }
    },
    {
      "cell_type": "markdown",
      "source": [
        "* 평균 0, 표준편차 1인 정규분포 데이터 1000개를 생성하기"
      ],
      "metadata": {
        "id": "T8BAXON4vIxO"
      }
    },
    {
      "cell_type": "code",
      "source": [
        "# 넘파이 랜덤 시드 0으로 설정\n",
        "\n",
        "# 넘파이 배열 `a`로 바인딩\n",
        "\n",
        "a = np.random.normal(0, 1, 1000)"
      ],
      "metadata": {
        "id": "QGUgicvFFpBp"
      },
      "execution_count": 2,
      "outputs": []
    },
    {
      "cell_type": "markdown",
      "source": [
        "* `a` 분포 그리기"
      ],
      "metadata": {
        "id": "tiM7-w9kvR7W"
      }
    },
    {
      "cell_type": "code",
      "source": [
        "b = np.arange(0, len(a))\n",
        "plt.scatter(a, b)"
      ],
      "metadata": {
        "id": "gz9cjV1FwGQH",
        "colab": {
          "base_uri": "https://localhost:8080/",
          "height": 282
        },
        "outputId": "2b926c2d-05f8-4f2f-edae-34a895a639f0"
      },
      "execution_count": 6,
      "outputs": [
        {
          "output_type": "execute_result",
          "data": {
            "text/plain": [
              "<matplotlib.collections.PathCollection at 0x7fa29ca456d0>"
            ]
          },
          "metadata": {},
          "execution_count": 6
        },
        {
          "output_type": "display_data",
          "data": {
            "text/plain": [
              "<Figure size 432x288 with 1 Axes>"
            ],
            "image/png": "[encoded data removed]"
          },
          "metadata": {
            "needs_background": "light"
          }
        }
      ]
    },
    {
      "cell_type": "markdown",
      "source": [
        "### **| 백분위수와 사분위수**\n",
        "\n",
        "<p align='center'>\n",
        "<img src=https://github.com/yebiny/SkillTreePython-DataAnalysis/blob/main/imgs/ch0306-03.png?raw=true width=800>\n",
        "</p>\n",
        "\n",
        "```\n",
        "np.percentile(x,  percent)\n",
        "np.quantile(x, percent_ratio)\n",
        "```"
      ],
      "metadata": {
        "id": "WGyw7XqJF1x_"
      }
    },
    {
      "cell_type": "markdown",
      "source": [
        "* 하위 10% 에 위치한 값 확인"
      ],
      "metadata": {
        "id": "AG9r8NEgJrk6"
      }
    },
    {
      "cell_type": "code",
      "execution_count": 9,
      "metadata": {
        "id": "bfHNqDlAFtt3",
        "colab": {
          "base_uri": "https://localhost:8080/"
        },
        "outputId": "9a7fe2de-e564-4172-f88a-b58f039e77ff"
      },
      "outputs": [
        {
          "output_type": "execute_result",
          "data": {
            "text/plain": [
              "-0.2505002068825931"
            ]
          },
          "metadata": {},
          "execution_count": 9
        }
      ],
      "source": [
        "# percentile 사용\n",
        "\n",
        "# quantile 사용\n",
        "\n",
        "np.percentile(a,  0.2)\n",
        "np.quantile(a, 0.4)"
      ]
    },
    {
      "cell_type": "markdown",
      "source": [
        "* 하위 80% 에 위치한 값 확인"
      ],
      "metadata": {
        "id": "3L-oTyFpJzeV"
      }
    },
    {
      "cell_type": "code",
      "execution_count": 10,
      "metadata": {
        "id": "12js6oJuFtt4",
        "colab": {
          "base_uri": "https://localhost:8080/"
        },
        "outputId": "7bbaec69-70b1-4b70-83cd-cc52a269439a"
      },
      "outputs": [
        {
          "output_type": "execute_result",
          "data": {
            "text/plain": [
              "0.8167416473951628"
            ]
          },
          "metadata": {},
          "execution_count": 10
        }
      ],
      "source": [
        "# percentile 사용\n",
        "\n",
        "# quantile 사용\n",
        "\n",
        "np.percentile(a,  0.8)\n",
        "np.quantile(a, 0.8)"
      ]
    },
    {
      "cell_type": "markdown",
      "metadata": {
        "id": "nc2SspMDFtt5"
      },
      "source": [
        "### **| 왜도 (skew)**\n",
        "\n",
        "<p align='center'>\n",
        "<img src=https://github.com/yebiny/SkillTreePython-DataAnalysis/blob/main/imgs/ch0306-01.png?raw=true width=800>\n",
        "</p>\n",
        "\n",
        "\n",
        "\n",
        "\\begin{align}\n",
        "\\text{skew} = \n",
        "\\frac{\\tfrac{1}{N} \\sum_{i=1}^N (x_i-\\overline{x})^3}{ \\sqrt{\\tfrac{1}{N-1} \\sum_{i=1}^N (x_i-\\overline{x})^2}^{\\,3}}\n",
        "\\end{align}\n",
        "\n",
        "```\n",
        "from scipy.stats import skew\n",
        "skew(a)\n",
        "```"
      ]
    },
    {
      "cell_type": "code",
      "source": [
        "from scipy.stats import skew\n",
        "skew(a)"
      ],
      "metadata": {
        "colab": {
          "base_uri": "https://localhost:8080/"
        },
        "id": "APynyzSRb_bJ",
        "outputId": "6ad6ec2b-d0d5-43b8-936d-aa3cc72a7ab8"
      },
      "execution_count": 11,
      "outputs": [
        {
          "output_type": "execute_result",
          "data": {
            "text/plain": [
              "-0.11843645239506705"
            ]
          },
          "metadata": {},
          "execution_count": 11
        }
      ]
    },
    {
      "cell_type": "markdown",
      "source": [
        "* `a`의 왜도 구하기"
      ],
      "metadata": {
        "id": "JC81wNfOLdPz"
      }
    },
    {
      "cell_type": "code",
      "source": [
        "from scipy.stats import skew\n",
        "skew(a)"
      ],
      "metadata": {
        "id": "woGfKcmlLUAw",
        "colab": {
          "base_uri": "https://localhost:8080/"
        },
        "outputId": "d6745059-ea30-432e-91c9-b71367c3426f"
      },
      "execution_count": 12,
      "outputs": [
        {
          "output_type": "execute_result",
          "data": {
            "text/plain": [
              "-0.11843645239506705"
            ]
          },
          "metadata": {},
          "execution_count": 12
        }
      ]
    },
    {
      "cell_type": "markdown",
      "source": [
        "* 세개의 데이터의 분포를 그리고 각각의 왜도도 구해봅니다.\n",
        "\n",
        "```\n",
        "x1 = [1,2,3,4,5,2,3,4]\n",
        "x2 = [1,2,3,4,5,1,2]\n",
        "x3 = [1,2,3,4,5,4,5]\n",
        "```"
      ],
      "metadata": {
        "id": "y3fMGZC_WYJA"
      }
    },
    {
      "cell_type": "code",
      "source": [
        "x1 = [1,2,3,4,5,2,3,4]\n",
        "x2 = [1,2,3,4,5,1,2]\n",
        "x3 = [1,2,3,4,5,4,5]"
      ],
      "metadata": {
        "id": "7cM1_Zg-WaYi"
      },
      "execution_count": 13,
      "outputs": []
    },
    {
      "cell_type": "code",
      "source": [
        "skew(x1)\n",
        "skew(x2)\n",
        "skew(x3)"
      ],
      "metadata": {
        "colab": {
          "base_uri": "https://localhost:8080/"
        },
        "id": "r4sf6DUAcEax",
        "outputId": "024aec39-0059-4757-b430-e48737aa42f1"
      },
      "execution_count": 15,
      "outputs": [
        {
          "output_type": "execute_result",
          "data": {
            "text/plain": [
              "-0.4784159653873392"
            ]
          },
          "metadata": {},
          "execution_count": 15
        }
      ]
    },
    {
      "cell_type": "markdown",
      "metadata": {
        "id": "6hJXW79CFtt8"
      },
      "source": [
        "### **| 첨도(kurtosis)**\n",
        "\n",
        "\n",
        "<p align='center'>\n",
        "<img src=https://github.com/yebiny/SkillTreePython-DataAnalysis/blob/main/imgs/ch0306-02.png?raw=true width=300>\n",
        "</p>\n",
        "\n",
        "\n",
        "\\begin{align}\n",
        "\\text{kurtosis} = \n",
        "\\frac{\\tfrac{1}{N} \\sum_{i=1}^N (x_i - \\overline{x})^4}{\\left(\\tfrac{1}{N} \\sum_{i=1}^N (x_i - \\overline{x})^2\\right)^2} - 3\n",
        "\\end{align}\n",
        "\n",
        "```\n",
        "from scipy.stats import kurtosis\n",
        "kurtosis(a)\n",
        "```"
      ]
    },
    {
      "cell_type": "code",
      "source": [
        "from scipy.stats import kurtosis\n",
        "kurtosis(a)"
      ],
      "metadata": {
        "id": "Pod4__SoM3yd",
        "colab": {
          "base_uri": "https://localhost:8080/"
        },
        "outputId": "28c74d22-4eaa-4f6c-9122-0cda6c4f762f"
      },
      "execution_count": 16,
      "outputs": [
        {
          "output_type": "execute_result",
          "data": {
            "text/plain": [
              "-0.13182971732756332"
            ]
          },
          "metadata": {},
          "execution_count": 16
        }
      ]
    },
    {
      "cell_type": "markdown",
      "source": [
        "* 세개의 데이터의 분포를 그리고 각각의 첨도도 구해봅니다.\n",
        "\n",
        "```\n",
        "x1 = [1,2,3,4,5,]\n",
        "x2 = [1,2,3,4,5,1]\n",
        "x3 = [1,2,3,4,5,1,1,1]\n",
        "```"
      ],
      "metadata": {
        "id": "QtKwSOfDX3GI"
      }
    },
    {
      "cell_type": "code",
      "source": [
        "x1 = [1,2,3,4,5,]\n",
        "x2 = [1,2,3,4,5,1]\n",
        "x3 = [1,2,3,4,5,1,1,1]\n",
        "\n",
        "print(kurtosis(x1))\n",
        "print(kurtosis(x2))\n",
        "print(kurtosis(x3))"
      ],
      "metadata": {
        "id": "cvwL-aAQX3GN",
        "colab": {
          "base_uri": "https://localhost:8080/"
        },
        "outputId": "919d8505-784d-47f5-a32b-343b46026975"
      },
      "execution_count": 18,
      "outputs": [
        {
          "output_type": "stream",
          "name": "stdout",
          "text": [
            "-1.3\n",
            "-1.3650000000000002\n",
            "-0.9975510204081632\n"
          ]
        }
      ]
    },
    {
      "cell_type": "markdown",
      "source": [
        "## 예제\n",
        "---"
      ],
      "metadata": {
        "id": "z6JYAMB_4Xq7"
      }
    },
    {
      "cell_type": "markdown",
      "source": [
        "#### **예제 01**\n",
        "\n",
        "1. 지난 시간에 배운 scipy 라이브러리의 gamma 함수를 사용합니다. \n",
        "\n",
        "2. a값이 4인 감마함수로 부터 표본을 1000개 추출하고 `x3`로 바인딩합니다.\n",
        "\n",
        "4. a값이 12인 감마함수로 부터 표본을 1000개 추출하고 `x4`로 바인딩합니다.\n",
        "\n",
        "6. `x3`의 모든 요소에 -1을 곱한 후 `x2`로 바인딩합니다.\n",
        "\n",
        "6. `x4`의 모든 요소에 -1을 곱한 후 `x1`로 바인딩합니다.\n",
        "\n",
        "7. `x1, x2, x3, x4`의 분포를 각각 그립니다.\n",
        "\n",
        "7. `x1, x2, x3, x4`의 왜도를 각각 구합니다.\n",
        "\n",
        "7. `x1, x2, x3, x4`의 첨도를 각각 구합니다.\n"
      ],
      "metadata": {
        "id": "zrSXtss0NZZB"
      }
    },
    {
      "cell_type": "code",
      "source": [
        "from scipy.stats import gamma as ga"
      ],
      "metadata": {
        "id": "QoPSm3Y8Yhmk"
      },
      "execution_count": 19,
      "outputs": []
    },
    {
      "cell_type": "code",
      "source": [
        "ga.pdf(4, 10)"
      ],
      "metadata": {
        "id": "AnLfGPNqGDBt",
        "colab": {
          "base_uri": "https://localhost:8080/"
        },
        "outputId": "09b87384-eeac-452d-94ff-7341c217795c"
      },
      "execution_count": 22,
      "outputs": [
        {
          "output_type": "execute_result",
          "data": {
            "text/plain": [
              "0.013231191691050305"
            ]
          },
          "metadata": {},
          "execution_count": 22
        }
      ]
    },
    {
      "cell_type": "code",
      "source": [
        ""
      ],
      "metadata": {
        "id": "-4D8rxL9SbY0"
      },
      "execution_count": null,
      "outputs": []
    },
    {
      "cell_type": "markdown",
      "source": [
        "#### **예제 02**\n",
        "\n",
        "타이타닉 데이터셋을 가져오고, 수치자료형 변수들의 **산포통계**와 **분포통계**를 정리하세요."
      ],
      "metadata": {
        "id": "vC9QE_7R5njn"
      }
    },
    {
      "cell_type": "code",
      "source": [
        ""
      ],
      "metadata": {
        "id": "mOw2b43-51ZF"
      },
      "execution_count": null,
      "outputs": []
    }
  ]
}