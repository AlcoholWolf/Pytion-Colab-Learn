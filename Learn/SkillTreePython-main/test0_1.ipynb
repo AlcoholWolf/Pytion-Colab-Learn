{
  "nbformat": 4,
  "nbformat_minor": 0,
  "metadata": {
    "colab": {
      "name": "test0-1.ipynb",
      "provenance": [],
      "authorship_tag": "ABX9TyPqz8qwL2a0FrlaNBLvAkE3",
      "include_colab_link": true
    },
    "kernelspec": {
      "name": "python3",
      "display_name": "Python 3"
    },
    "language_info": {
      "name": "python"
    }
  },
  "cells": [
    {
      "cell_type": "markdown",
      "metadata": {
        "id": "view-in-github",
        "colab_type": "text"
      },
      "source": [
        "<a href=\"https://colab.research.google.com/github/AlcoholWolf/SkillTreePython/blob/main/test0_1.ipynb\" target=\"_parent\"><img src=\"https://colab.research.google.com/assets/colab-badge.svg\" alt=\"Open In Colab\"/></a>"
      ]
    },
    {
      "cell_type": "code",
      "source": [
        "a = input(\"이것은 무엇입니까?: \")\n",
        "print(a,'2')"
      ],
      "metadata": {
        "colab": {
          "base_uri": "https://localhost:8080/"
        },
        "id": "ipddJwbqi2ws",
        "outputId": "032f8403-f177-4214-8ade-2feb3934e19d"
      },
      "execution_count": 4,
      "outputs": [
        {
          "output_type": "stream",
          "name": "stdout",
          "text": [
            "이것은 무엇입니까?: asd\n",
            "asd 2\n"
          ]
        }
      ]
    },
    {
      "cell_type": "code",
      "source": [
        "#실험\n",
        "testin = input('testfor Number : ')\n",
        "testty = type(testin)\n",
        "if testty == int:\n",
        "  print(f'{testin}는 int입니다.')\n",
        "  testin = int(testin)\n",
        "  testot = testin%2\n",
        "  testot = int(testot)\n",
        "if testot ==0:\n",
        "      print(f'{testin}는 짝수입니다.')\n",
        "elif testot==1:\n",
        "      print(f'{testin}는 홀수입니다.')"
      ],
      "metadata": {
        "id": "cgMzULgSoHDb",
        "colab": {
          "base_uri": "https://localhost:8080/"
        },
        "outputId": "0a9ddeff-06db-4037-d2ee-dcdc5ba1cc43"
      },
      "execution_count": 49,
      "outputs": [
        {
          "output_type": "stream",
          "name": "stdout",
          "text": [
            "testfor Number : 12\n",
            "12는 짝수입니다.\n"
          ]
        }
      ]
    },
    {
      "cell_type": "code",
      "source": [
        "#실험 2\n",
        "true = input('true or false (y,n) : ')\n",
        "if true == 'n':\n",
        "  print('System Off')\n",
        "  #return\n",
        "elif true == 'y':\n",
        "  d = int(input('nice, good, happy 또는 1, 2, 3 을 입력하세요. : '))\n",
        "  a = 'nice'\n",
        "  b = 'good'\n",
        "  c = 'happy'\n",
        "  if d == 1:\n",
        "    d = a\n",
        "  elif d == 2:\n",
        "    d = b\n",
        "  elif d == 3:\n",
        "    d = c\n",
        "  print(f\"It's {d} day!\")"
      ],
      "metadata": {
        "colab": {
          "base_uri": "https://localhost:8080/"
        },
        "id": "Jl7Mk6AW6KK6",
        "outputId": "03582144-86b0-4537-cf2d-82603b379f69"
      },
      "execution_count": 100,
      "outputs": [
        {
          "output_type": "stream",
          "name": "stdout",
          "text": [
            "true or false (y,n) : y\n",
            "nice, good, happy 또는 1, 2, 3 을 입력하세요. : 2\n",
            "It's good day!\n"
          ]
        }
      ]
    },
    {
      "cell_type": "code",
      "source": [
        ""
      ],
      "metadata": {
        "id": "myIvRFr1KRyg"
      },
      "execution_count": 57,
      "outputs": []
    }
  ]
}