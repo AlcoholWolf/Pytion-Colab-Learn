{
  "nbformat": 4,
  "nbformat_minor": 0,
  "metadata": {
    "colab": {
      "name": "1-3.사용자 입출력.ipynb",
      "provenance": [],
      "collapsed_sections": []
    },
    "kernelspec": {
      "name": "python3",
      "display_name": "Python 3"
    },
    "language_info": {
      "name": "python"
    }
  },
  "cells": [
    {
      "cell_type": "markdown",
      "source": [
        "# 1-3. 변수 선언하기\n",
        "---\n",
        "* 날짜:\n",
        "* 이름:"
      ],
      "metadata": {
        "id": "kB5IciXEm6o4"
      }
    },
    {
      "cell_type": "markdown",
      "source": [
        "## 개념정리\n",
        "---\n",
        "\n",
        "\n",
        "사용자에게서 변수를 얻어서 그에 맞는 프로그램을 짜고 싶다면 입력기능이 필요합니다. 또한 원하는 기능을 실행 후 결과물을 확인하고 싶다면 출력기능이 필요합니다. 이번시간에서는 파이썬의 입출력기능을 알아보도록 합니다.\n",
        "\n"
      ],
      "metadata": {
        "id": "4iN8NFzHRJ2D"
      }
    },
    {
      "cell_type": "markdown",
      "source": [
        "### **(1) 입력**\n",
        "\n",
        "\n",
        "\n"
      ],
      "metadata": {
        "id": "UKlkHH0IRL5h"
      }
    },
    {
      "cell_type": "markdown",
      "source": [
        "사용자의 입력을 파이썬의 `input()` 함수를 이용해서 받을 수 있습니다. 아래 코드를 실행하면 사용자의 입력을 받는 창이 나타납니다.\n",
        "\n",
        "```\n",
        "input()\n",
        "```\n",
        "\n"
      ],
      "metadata": {
        "id": "opbfNksrAq4P"
      }
    },
    {
      "cell_type": "code",
      "source": [
        ""
      ],
      "metadata": {
        "id": "MMZ81oTLAsnC",
        "outputId": "b271b448-11a2-4191-f0da-e5eb2826cf92",
        "colab": {
          "base_uri": "https://localhost:8080/",
          "height": 54
        }
      },
      "execution_count": 1,
      "outputs": [
        {
          "name": "stdout",
          "output_type": "stream",
          "text": [
            "1\n"
          ]
        },
        {
          "output_type": "execute_result",
          "data": {
            "text/plain": [
              "'1'"
            ],
            "application/vnd.google.colaboratory.intrinsic+json": {
              "type": "string"
            }
          },
          "metadata": {},
          "execution_count": 1
        }
      ]
    },
    {
      "cell_type": "markdown",
      "source": [
        "#### **설명 추가**\n",
        "\n",
        "입력을 받을 때 설명을 추가해주고 싶다면 아래와 같이 함수의 괄호 안에 문자열을 삽입합니다.\n",
        "```\n",
        "input(\"이름을 입력하세요:\")\n",
        "```"
      ],
      "metadata": {
        "id": "W5qe6MfoAr0T"
      }
    },
    {
      "cell_type": "code",
      "source": [
        "input(\"이름을 입력하세요:\")"
      ],
      "metadata": {
        "id": "cZ-eUn5WAs-f",
        "outputId": "2ed6c7f1-816f-45bf-f7b8-b1db2e12b0ee",
        "colab": {
          "base_uri": "https://localhost:8080/",
          "height": 54
        }
      },
      "execution_count": 3,
      "outputs": [
        {
          "name": "stdout",
          "output_type": "stream",
          "text": [
            "이름을 입력하세요:AlcoholWolf\n"
          ]
        },
        {
          "output_type": "execute_result",
          "data": {
            "text/plain": [
              "'AlcoholWolf'"
            ],
            "application/vnd.google.colaboratory.intrinsic+json": {
              "type": "string"
            }
          },
          "metadata": {},
          "execution_count": 3
        }
      ]
    },
    {
      "cell_type": "markdown",
      "source": [
        "#### **바인딩**\n",
        "\n",
        "`input()` 함수로 받은 값을 바인딩 하여 저장할 수 있습니다.\n",
        "```\n",
        "my_name = input('이름을 입력하세요:')\n",
        "```\n"
      ],
      "metadata": {
        "id": "6e0WFOgKBIXo"
      }
    },
    {
      "cell_type": "code",
      "source": [
        "my_name = input('이름을 입력하세요:')"
      ],
      "metadata": {
        "id": "21s6EP4QFU6s",
        "outputId": "03995348-6a6c-43d1-c1fa-795033abf906",
        "colab": {
          "base_uri": "https://localhost:8080/"
        }
      },
      "execution_count": 4,
      "outputs": [
        {
          "name": "stdout",
          "output_type": "stream",
          "text": [
            "이름을 입력하세요:AlcoholWolf\n"
          ]
        }
      ]
    },
    {
      "cell_type": "markdown",
      "source": [
        "\n",
        "위에서 선언한 `my_name`을 확인해 봅시다.\n",
        "\n",
        "```\n",
        "my_name, type(my_name)\n",
        "```\n",
        "\n"
      ],
      "metadata": {
        "id": "Fi-eRFJ_Dbog"
      }
    },
    {
      "cell_type": "code",
      "source": [
        "my_name, type(my_name)"
      ],
      "metadata": {
        "id": "XYu0SS3pFd5V",
        "outputId": "4a0183df-cce6-4863-88bf-485f462fa235",
        "colab": {
          "base_uri": "https://localhost:8080/"
        }
      },
      "execution_count": 5,
      "outputs": [
        {
          "output_type": "execute_result",
          "data": {
            "text/plain": [
              "('AlcoholWolf', str)"
            ]
          },
          "metadata": {},
          "execution_count": 5
        }
      ]
    },
    {
      "cell_type": "markdown",
      "source": [
        "\n",
        "`input()` 함수로 바인딩한 값은 모두 `문자열(str)` 임을 주의합니다. \n",
        "```\n",
        "my_age = input(\"나이를 입력하세요: \")\n",
        "type(my_age)\n",
        "```"
      ],
      "metadata": {
        "id": "3Cr--Bt7DcZ3"
      }
    },
    {
      "cell_type": "code",
      "source": [
        "my_age = input(\"나이를 입력하세요: \")\n",
        "type(my_age)"
      ],
      "metadata": {
        "id": "ond0nWOBRNlE",
        "outputId": "3eb06ac7-aac5-40ba-849a-20dc3b6a6d16",
        "colab": {
          "base_uri": "https://localhost:8080/"
        }
      },
      "execution_count": 6,
      "outputs": [
        {
          "name": "stdout",
          "output_type": "stream",
          "text": [
            "나이를 입력하세요: 20\n"
          ]
        },
        {
          "output_type": "execute_result",
          "data": {
            "text/plain": [
              "str"
            ]
          },
          "metadata": {},
          "execution_count": 6
        }
      ]
    },
    {
      "cell_type": "markdown",
      "source": [
        "### **(2) 출력**\n",
        "---\n"
      ],
      "metadata": {
        "id": "sRuCgcK-JvNK"
      }
    },
    {
      "cell_type": "markdown",
      "source": [
        "* `print()` : 원하는 값을 출력 할 수 있습니다. \n",
        "\n",
        "```\n",
        "print(2)\n",
        "```\n"
      ],
      "metadata": {
        "id": "DTfxz37ERNu5"
      }
    },
    {
      "cell_type": "code",
      "source": [
        "print(2)"
      ],
      "metadata": {
        "id": "a7CnXb5sRf9R",
        "outputId": "87680050-94d4-44e1-9d43-5e76d61d114c",
        "colab": {
          "base_uri": "https://localhost:8080/"
        }
      },
      "execution_count": 7,
      "outputs": [
        {
          "output_type": "stream",
          "name": "stdout",
          "text": [
            "2\n"
          ]
        }
      ]
    },
    {
      "cell_type": "markdown",
      "source": [
        "문자 또한 출력 할 수 있습니다.\n",
        "\n",
        "```\n",
        "print(\"hello\")\n",
        "print('world')\n",
        "```\n"
      ],
      "metadata": {
        "id": "hP1Dg3r-RgFG"
      }
    },
    {
      "cell_type": "code",
      "source": [
        "print(\"hello\")\n",
        "print('world')"
      ],
      "metadata": {
        "id": "_ZNiNuDdROf4",
        "outputId": "0ac377fa-914b-4671-8106-29199cdaa79e",
        "colab": {
          "base_uri": "https://localhost:8080/"
        }
      },
      "execution_count": 8,
      "outputs": [
        {
          "output_type": "stream",
          "name": "stdout",
          "text": [
            "hello\n",
            "world\n"
          ]
        }
      ]
    },
    {
      "cell_type": "markdown",
      "source": [
        "여러개의 인풋을 함께 쉼표(  `,`  )를 이용해 출력할 수 있습니다.\n",
        "\n",
        "```\n",
        "print(5,  \"apples\")\n",
        "```"
      ],
      "metadata": {
        "id": "mZpdPQfzKCY-"
      }
    },
    {
      "cell_type": "code",
      "source": [
        "print(5,  \"apples\")"
      ],
      "metadata": {
        "id": "AIZD4839KB1R",
        "outputId": "34c95cba-a604-4a43-a602-b938dcdf9afd",
        "colab": {
          "base_uri": "https://localhost:8080/"
        }
      },
      "execution_count": 9,
      "outputs": [
        {
          "output_type": "stream",
          "name": "stdout",
          "text": [
            "5 apples\n"
          ]
        }
      ]
    },
    {
      "cell_type": "markdown",
      "source": [
        "#### **옵션**\n",
        "\n",
        "* `sep` : 출력하는 값들 사이를 어떤 값으로 채울지 지정할 수 있습니다. 디폴트 값은 스페이스(' ') 입니다.\n",
        "\n",
        "```\n",
        "print(\"Hello\", \"world\", 1, 2, 3, sep='*')\n",
        "```\n",
        "\n"
      ],
      "metadata": {
        "id": "NBoLmg06ROrn"
      }
    },
    {
      "cell_type": "code",
      "source": [
        "print(\"Hello\", \"world\", 1, 2, 3, sep='*')"
      ],
      "metadata": {
        "id": "W3O4k_RPKF7g",
        "outputId": "6dd22e36-4be4-477f-a24f-22d38ca30fb2",
        "colab": {
          "base_uri": "https://localhost:8080/"
        }
      },
      "execution_count": 10,
      "outputs": [
        {
          "output_type": "stream",
          "name": "stdout",
          "text": [
            "Hello*world*1*2*3\n"
          ]
        }
      ]
    },
    {
      "cell_type": "markdown",
      "source": [
        "* `end` : 문장이 끝날 때 어떤 문자로 끝날 지 지정해 줍니다. 기본값은 줄바꿈(`\\`) 입니다.\n",
        "\n",
        "```\n",
        "print(\"Hello\", \"world\", 1, 2, 3, end='*')\n",
        "```"
      ],
      "metadata": {
        "id": "-kjP5YIuKGMl"
      }
    },
    {
      "cell_type": "code",
      "source": [
        "print(\"Hello\", \"world\", 1, 2, 3, end='*')"
      ],
      "metadata": {
        "id": "FiKhVqs4RX1Q",
        "outputId": "1b84d661-71c3-428f-e8ef-7efec5d47db2",
        "colab": {
          "base_uri": "https://localhost:8080/"
        }
      },
      "execution_count": 11,
      "outputs": [
        {
          "output_type": "stream",
          "name": "stdout",
          "text": [
            "Hello world 1 2 3*"
          ]
        }
      ]
    },
    {
      "cell_type": "markdown",
      "source": [
        "## 문제풀이\n",
        "---"
      ],
      "metadata": {
        "id": "JPZeQrxgxJJF"
      }
    },
    {
      "cell_type": "markdown",
      "source": [
        "**예제 01**\n",
        "\n",
        "아래와 같이 직업을 입력하는 코드를 작성하세요\n",
        "\n",
        "```\n",
        ">> 직업을 입력하세요: \n",
        "```"
      ],
      "metadata": {
        "id": "4Hptj9hUxPr3"
      }
    },
    {
      "cell_type": "code",
      "source": [
        "il = input(\"직업을 입력하세요: \")"
      ],
      "metadata": {
        "id": "yvAcIx4L8Zwt",
        "outputId": "2dbebdae-1a3d-4687-e5d8-dc52752dc258",
        "colab": {
          "base_uri": "https://localhost:8080/"
        }
      },
      "execution_count": 13,
      "outputs": [
        {
          "name": "stdout",
          "output_type": "stream",
          "text": [
            "직업을 입력하세요: studiunt\n"
          ]
        }
      ]
    },
    {
      "cell_type": "markdown",
      "source": [
        "\n",
        "**예제 02**\n",
        "\n",
        "아래와 같이 직업을 입력하면 소개글을 출력하는 코드를 작성하세요\n",
        "\n",
        "\n",
        "```\n",
        ">> 직업을 입력하세요: \n",
        ">> 당신의 직업은 강사 입니다.\n",
        "```\n"
      ],
      "metadata": {
        "id": "S6NDuF_TxNsj"
      }
    },
    {
      "cell_type": "code",
      "source": [
        "il = input(\"직업을 입력하세요: \")\n",
        "print(\"당신의 직업은\" ,il, \"입니다.\")"
      ],
      "metadata": {
        "id": "IUQi5TpfxLwc",
        "outputId": "e980b98c-a8e3-4581-ff42-274cb95d2998",
        "colab": {
          "base_uri": "https://localhost:8080/"
        }
      },
      "execution_count": 34,
      "outputs": [
        {
          "output_type": "stream",
          "name": "stdout",
          "text": [
            "직업을 입력하세요: 강사\n",
            "당신의 직업은 강사 입니다.\n"
          ]
        }
      ]
    },
    {
      "cell_type": "markdown",
      "source": [
        "**예제 03**\n",
        "\n",
        "아래와 같이 직업을 입력하면 소개글을 출력하는 코드를 작성하세요\n",
        "\n",
        "```\n",
        ">> 직업을 입력하세요: \n",
        ">> 당신의 직업은 '강사' 입니다.\n",
        "```"
      ],
      "metadata": {
        "id": "stz9gemAxRNI"
      }
    },
    {
      "cell_type": "code",
      "source": [
        "il = input(\"직업을 입력하세요: \")\n",
        "print('당신의 직업은' ,il, '입니다', sep=\"'\", end='.')"
      ],
      "metadata": {
        "id": "pBWMoVPC8aJ8",
        "outputId": "ee8d56ec-69a8-454a-d8a3-1880b1bd86ff",
        "colab": {
          "base_uri": "https://localhost:8080/"
        }
      },
      "execution_count": 35,
      "outputs": [
        {
          "output_type": "stream",
          "name": "stdout",
          "text": [
            "직업을 입력하세요: 강사\n",
            "당신의 직업은'강사'입니다."
          ]
        }
      ]
    },
    {
      "cell_type": "markdown",
      "source": [
        "**예제 04**\n",
        "\n",
        "아래와 같이 좋아하는 숫자를 출력하는 코드를 작성하세요\n",
        "\n",
        "```\n",
        ">> 내가 좋아하는 숫자: 7 \n",
        ">> 내가 좋아하는 숫자는 7 이다.\n",
        "```"
      ],
      "metadata": {
        "id": "107E31VkzTfm"
      }
    },
    {
      "cell_type": "code",
      "source": [
        "num = input(\"내가 좋아하는 숫자: \")\n",
        "print('내가 좋아하는 숫자: ', num)\n",
        "print(\"내가 좋아하는 숫자는\" , num, \"이다.\")"
      ],
      "metadata": {
        "id": "Hx0Ag-aAzTfm",
        "outputId": "2778f5cd-9157-48bc-8fca-3918e18f6280",
        "colab": {
          "base_uri": "https://localhost:8080/"
        }
      },
      "execution_count": 37,
      "outputs": [
        {
          "output_type": "stream",
          "name": "stdout",
          "text": [
            "내가 좋아하는 숫자: 2222\n",
            "내가 좋아하는 숫자:  2222\n",
            "내가 좋아하는 숫자는 2222 이다.\n"
          ]
        }
      ]
    },
    {
      "cell_type": "markdown",
      "source": [
        "**예제 04**\n",
        "\n",
        "아래와 같이 코드를 작성하였는데 오류가 떴습니다. 이유를 설명하세요.\n",
        "\n",
        "```\n",
        "my_num = input(\"내가 좋아하는 숫자: \") \n",
        "print(my_num+10)\n",
        "```"
      ],
      "metadata": {
        "id": "optdPkAtzgjt"
      }
    },
    {
      "cell_type": "code",
      "source": [
        "#input 으로 가져온 데이터는 str, 10은 int이므로 호환 불가.\n",
        "#실행하려면, input으로 가져온 데이터의 타입을 변경해야함."
      ],
      "metadata": {
        "id": "4ioxaMK0zgjt"
      },
      "execution_count": 36,
      "outputs": []
    },
    {
      "cell_type": "markdown",
      "source": [
        "**예제 05**\n",
        "\n",
        "화면에 아래 문장을 출력하세요.\n",
        "\n",
        "```\n",
        "nice day!\n",
        "```"
      ],
      "metadata": {
        "id": "BKug_5lN7NAS"
      }
    },
    {
      "cell_type": "code",
      "source": [
        "print('nice day!')"
      ],
      "metadata": {
        "id": "4kuhxl6K8aiO",
        "outputId": "f3783182-0e0f-4c06-8d2e-d958010093a9",
        "colab": {
          "base_uri": "https://localhost:8080/"
        }
      },
      "execution_count": 38,
      "outputs": [
        {
          "output_type": "stream",
          "name": "stdout",
          "text": [
            "nice day!\n"
          ]
        }
      ]
    },
    {
      "cell_type": "markdown",
      "source": [
        "\n",
        "**예제 06**\n",
        "\n",
        "아래 출력이 나오도록 `#코드작성` 부분을 채워 넣으세요  (코드 한줄로 완성하세요) \n",
        "\n",
        "```\n",
        ">> w1 = \"hello\"\n",
        ">> w2 = \"python\"\n",
        ">> w3 = 2\n",
        ">> #코드작성\n",
        ">> hello! python 2\n",
        "```"
      ],
      "metadata": {
        "id": "gqns5it27OZk"
      }
    },
    {
      "cell_type": "code",
      "source": [
        "w1 = \"hello!\"\n",
        "w2 = \"python\"\n",
        "w3 = 2\n",
        "print(w1, w2, w3)"
      ],
      "metadata": {
        "id": "HdB-Ptk58jNc",
        "outputId": "4bfe10fb-234d-4ed6-d816-2e375a005d84",
        "colab": {
          "base_uri": "https://localhost:8080/"
        }
      },
      "execution_count": 54,
      "outputs": [
        {
          "output_type": "stream",
          "name": "stdout",
          "text": [
            "hello! python 2\n"
          ]
        }
      ]
    },
    {
      "cell_type": "markdown",
      "source": [
        "**예제 07**\n",
        "\n",
        "아래 출력이 나오도록 `#코드작성` 부분을 채워 넣으세요  (코드 한줄로 완성하세요) \n",
        "\n",
        "```\n",
        ">> w1 = '나의'\n",
        ">> w2 = '살던'\n",
        ">> w3 = '고향은'\n",
        ">> #코드작성\n",
        "나의~살던~고향은~\n",
        "```"
      ],
      "metadata": {
        "id": "ImHI8rZa7Ri2"
      }
    },
    {
      "cell_type": "code",
      "source": [
        "w1 = \"나의\"\n",
        "w2 = \"살던\"\n",
        "w3 = \"고향은\"\n",
        "print(w1, w2, w3, '', sep='~')"
      ],
      "metadata": {
        "id": "drP2EGod8jh3",
        "outputId": "c2a59184-9785-4b73-a8e4-2d592ac0126b",
        "colab": {
          "base_uri": "https://localhost:8080/"
        }
      },
      "execution_count": 52,
      "outputs": [
        {
          "output_type": "stream",
          "name": "stdout",
          "text": [
            "나의~살던~고향은~\n"
          ]
        }
      ]
    },
    {
      "cell_type": "markdown",
      "source": [
        "**예제 08**\n",
        "\n",
        "아래 출력이 나오도록 `#코드작성` 부분을 채워 넣으세요 \n",
        "\n",
        "```\n",
        ">> w1 = '나의'\n",
        ">> w2 = '살던'\n",
        ">> w3 = '고향은'\n",
        ">> print(w1, end=#코드작성)\n",
        ">> print(w2, end=#코드작성)\n",
        ">> print(w3, end=#코드작성)\n",
        "나의 살던 고향은~\n",
        "```"
      ],
      "metadata": {
        "id": "IrIAl7T67TuF"
      }
    },
    {
      "cell_type": "code",
      "source": [
        "w1 = '나의'\n",
        "w2 = '살던'\n",
        "w3 = '고향은'\n",
        "print(w1, end=' ')\n",
        "print(w2, end=' ')\n",
        "print(w3, end='~')"
      ],
      "metadata": {
        "id": "TeaQAuiM8j3T",
        "outputId": "ca0e62e8-98f4-4ee3-a83e-a73bbf5c9a6d",
        "colab": {
          "base_uri": "https://localhost:8080/"
        }
      },
      "execution_count": 55,
      "outputs": [
        {
          "output_type": "stream",
          "name": "stdout",
          "text": [
            "나의 살던 고향은~"
          ]
        }
      ]
    },
    {
      "cell_type": "markdown",
      "source": [
        "**예제 09**\n",
        "\n",
        "아래 출력이 나오도록 `#코드작성` 부분을 채워 넣으세요  (코드 한줄로 완성하세요) \n",
        "\n",
        "```\n",
        ">> w1 = '나의'\n",
        ">> w2 = '살던'\n",
        ">> w3 = '고향은'\n",
        ">> #코드작성\n",
        "나의**살던**고향은\n",
        "```\n"
      ],
      "metadata": {
        "id": "-Uw0J0yZ8WC8"
      }
    },
    {
      "cell_type": "code",
      "source": [
        "w1 = '나의'\n",
        "w2 = '살던'\n",
        "w3 = '고향은'\n",
        "print(w1, w2, w3, sep='**')"
      ],
      "metadata": {
        "id": "uxf3akTY8kOg",
        "outputId": "ebead71f-5d6a-4bc0-dd69-eedf0b538599",
        "colab": {
          "base_uri": "https://localhost:8080/"
        }
      },
      "execution_count": 57,
      "outputs": [
        {
          "output_type": "stream",
          "name": "stdout",
          "text": [
            "나의**살던**고향은\n"
          ]
        }
      ]
    },
    {
      "cell_type": "markdown",
      "source": [
        "**예제 10**\n",
        "\n",
        "아래 출력이 나오도록  `#코드작성` 부분을 채워 넣으세요 (코드 한줄로 완성하세요) \n",
        "\n",
        "```\n",
        ">> w1 = '나의'\n",
        ">> w2 = '살던'\n",
        ">> w3 = '고향은'\n",
        ">> #코드작성\n",
        "나의  \n",
        "살던    \n",
        "고향은  \n",
        "```"
      ],
      "metadata": {
        "id": "2mg9MMwq8W9Y"
      }
    },
    {
      "cell_type": "code",
      "source": [
        "w1 = '나의'\n",
        "w2 = '살던'\n",
        "w3 = '고향은'\n",
        "print(w1, w2, w3, sep='\\n')"
      ],
      "metadata": {
        "id": "AVd52M5n8kkS",
        "outputId": "a3b4c75c-d079-473f-9a97-850b769009f4",
        "colab": {
          "base_uri": "https://localhost:8080/"
        }
      },
      "execution_count": 60,
      "outputs": [
        {
          "output_type": "stream",
          "name": "stdout",
          "text": [
            "나의\n",
            "살던\n",
            "고향은\n"
          ]
        }
      ]
    },
    {
      "cell_type": "markdown",
      "source": [
        "**예제 11**\n",
        "\n",
        "아래 코드의 결과를 예측하고 그 이유를 해설하세요\n",
        "\n",
        "```\n",
        "print('hello python\")\n",
        "```\n"
      ],
      "metadata": {
        "id": "HtnfpWOF8YV_"
      }
    },
    {
      "cell_type": "code",
      "source": [
        "#출력 오류, 이유는 '와 \" 문장 끝맺음 에러\n",
        "print('123\")"
      ],
      "metadata": {
        "id": "FrRPaGaGj2qd",
        "outputId": "a885628a-444e-4ec6-fb08-9d6ac20d97b5",
        "colab": {
          "base_uri": "https://localhost:8080/",
          "height": 137
        }
      },
      "execution_count": 61,
      "outputs": [
        {
          "output_type": "error",
          "ename": "SyntaxError",
          "evalue": "ignored",
          "traceback": [
            "\u001b[0;36m  File \u001b[0;32m\"<ipython-input-61-cdfa0b15b716>\"\u001b[0;36m, line \u001b[0;32m2\u001b[0m\n\u001b[0;31m    print('123\")\u001b[0m\n\u001b[0m                ^\u001b[0m\n\u001b[0;31mSyntaxError\u001b[0m\u001b[0;31m:\u001b[0m EOL while scanning string literal\n"
          ]
        }
      ]
    },
    {
      "cell_type": "markdown",
      "source": [
        "**예제 12**\n",
        "\n",
        "아래와 같이 이름과 나이를 `input()`으로 받고 소개글을 출력하는 코드를 작성하세요\n",
        "\n",
        "```\n",
        ">> 이름 : 홍길동\n",
        ">> 나이: 20\n",
        "반갑습니다. 20살 홍길동 이라고 합니다. 잘 부탁드립니다!\n",
        "```"
      ],
      "metadata": {
        "id": "ZGtma_5Ej210"
      }
    },
    {
      "cell_type": "code",
      "source": [
        "name = input('Name : ')\n",
        "age = input('Age : ')\n",
        "print(f'반갑습니다. {age}살 {name} 이라고 합니다. 잘 부탁드립니다.')"
      ],
      "metadata": {
        "id": "qEfBFeNRj9ho",
        "outputId": "7e0105ce-2931-4c83-ea2d-8343414d0f7d",
        "colab": {
          "base_uri": "https://localhost:8080/"
        }
      },
      "execution_count": 63,
      "outputs": [
        {
          "output_type": "stream",
          "name": "stdout",
          "text": [
            "Name : AlcoholWolf\n",
            "Age : 20\n",
            "반갑습니다. 20살 AlcoholWolf 이라고 합니다. 잘 부탁드립니다.\n"
          ]
        }
      ]
    },
    {
      "cell_type": "markdown",
      "source": [
        "**예제 13**\n",
        "\n",
        "아래와 같이 특정 메뉴를 고르는 코드를 작성하세요\n",
        "\n",
        "```\n",
        ">> 아메리카노    라떼   에스프레소\n",
        ">> 메뉴를 선택하세요 : 라떼\n",
        "라떼를 선택하였습니다.\n",
        "```\n"
      ],
      "metadata": {
        "id": "jXwMlnnAj9uz"
      }
    },
    {
      "cell_type": "code",
      "source": [
        "print('아메리카노   라떼   에스프레소')\n",
        "copy = input('menu select:')\n",
        "print(f'{copy} select!')"
      ],
      "metadata": {
        "id": "nK_NWWQ8kAPZ",
        "outputId": "988173b3-6d6a-4779-b3e5-212a2bd024fa",
        "colab": {
          "base_uri": "https://localhost:8080/"
        }
      },
      "execution_count": 72,
      "outputs": [
        {
          "output_type": "stream",
          "name": "stdout",
          "text": [
            "아메리카노   라떼   에스프레소\n",
            "menu select:1\n",
            "1 select!\n"
          ]
        }
      ]
    },
    {
      "cell_type": "markdown",
      "source": [
        "\n",
        "**예제 14**\n",
        "\n",
        "아래와 같이 휴대폰 번호를 입력하면 전체 번호를 출력하는 코드를 작성하세요\n",
        "\n",
        "```\n",
        ">> 휴대폰 앞자리 : 010\n",
        ">> 휴대폰 중간자리: 1111\n",
        ">> 휴대폰 뒷자리: 1111\n",
        "제 번호는 010-1111-1111 입니다.\n",
        "```\n"
      ],
      "metadata": {
        "id": "QnVuK29mkBfo"
      }
    },
    {
      "cell_type": "code",
      "source": [
        ""
      ],
      "metadata": {
        "id": "MTF9BCKnkGFN"
      },
      "execution_count": null,
      "outputs": []
    },
    {
      "cell_type": "markdown",
      "source": [
        "**예제 15**\n",
        "\n",
        "아래와 같이 두개의 값을 받아서 더하고 뺀 값을 알려주는 코드를 작성하세요\n",
        "\n",
        "```\n",
        ">> 첫번째 숫자를 입력하세요: 2\n",
        ">> 두번째 숫자를 입력하세요: 3\n",
        "두개의 숫자를 더한 값은 5 이고 뺀값은 -1 입니다.\n",
        "```"
      ],
      "metadata": {
        "id": "2h4D1hI1kIn-"
      }
    },
    {
      "cell_type": "code",
      "source": [
        "num1 = int(input('첫번째 숫자를 입력하세요: '))\n",
        "num2 = int(input('두번째 숫자를 입력하세요: '))\n",
        "print(f'두개의 숫자를 더한 값은 {num1 + num2} 이고 뺀값은 {num1 - num2} 입니다.')"
      ],
      "metadata": {
        "id": "zeG6ZZfqnuSM",
        "outputId": "183d0831-bb1d-496f-95d5-91c01fc6fc34",
        "colab": {
          "base_uri": "https://localhost:8080/"
        }
      },
      "execution_count": 68,
      "outputs": [
        {
          "output_type": "stream",
          "name": "stdout",
          "text": [
            "첫번째 숫자를 입력하세요: 2\n",
            "두번째 숫자를 입력하세요: 3\n",
            "두개의 숫자를 더한 값은 5 이고 뺀값은 -1 입니다.\n"
          ]
        }
      ]
    },
    {
      "cell_type": "code",
      "source": [
        ""
      ],
      "metadata": {
        "id": "Bbgb1GxDb3D8"
      },
      "execution_count": null,
      "outputs": []
    }
  ]
}