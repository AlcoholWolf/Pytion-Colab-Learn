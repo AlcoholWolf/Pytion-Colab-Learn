{
  "nbformat": 4,
  "nbformat_minor": 0,
  "metadata": {
    "colab": {
      "name": "ch01_02_DNN기초-텐서플로우를이용한모델링.ipynb",
      "provenance": [],
      "collapsed_sections": [],
      "toc_visible": true,
      "include_colab_link": true
    },
    "kernelspec": {
      "name": "python3",
      "display_name": "Python 3"
    },
    "language_info": {
      "name": "python"
    }
  },
  "cells": [
    {
      "cell_type": "markdown",
      "metadata": {
        "id": "view-in-github",
        "colab_type": "text"
      },
      "source": [
        "<a href=\"https://colab.research.google.com/github/AlcoholWolf/PY-SAVE/blob/main/ch01_02_DNN%EA%B8%B0%EC%B4%88_%ED%85%90%EC%84%9C%ED%94%8C%EB%A1%9C%EC%9A%B0%EB%A5%BC%EC%9D%B4%EC%9A%A9%ED%95%9C%EB%AA%A8%EB%8D%B8%EB%A7%81.ipynb\" target=\"_parent\"><img src=\"https://colab.research.google.com/assets/colab-badge.svg\" alt=\"Open In Colab\"/></a>"
      ]
    },
    {
      "cell_type": "markdown",
      "source": [
        "# ch01_02_DNN기초-텐서플로우를 이용한 모델링\n",
        "\n",
        "---\n",
        "* 날짜:\n",
        "* 이름:\n",
        "\n",
        "## 학습내용\n",
        "    - 텐서플로우를 이용해 모델을 구현한다.\n",
        "    - 생성한 모델을 이용해 순전파 계산을 진행한다.\n",
        "    - 텐서플로우로 모델을 구현하는 여러 방법에 대핼 배워본다. \n",
        "\n",
        "## 학습자료\n",
        "\n",
        "\n",
        "- 케라스 창시자에게 배우는 딥러닝\n",
        "- 텐서플로우 케라스 : https://www.tensorflow.org/?hl=ko\n"
      ],
      "metadata": {
        "id": "ARxSsvgZFhdx"
      }
    },
    {
      "cell_type": "code",
      "source": [
        "import numpy as np\n",
        "import tensorflow as tf\n",
        "tf.__version__"
      ],
      "metadata": {
        "id": "FH_uBeAD1qZ1",
        "outputId": "fa8a0e6f-4279-4aa0-d171-ea8c49d54ced",
        "colab": {
          "base_uri": "https://localhost:8080/",
          "height": 34
        }
      },
      "execution_count": 1,
      "outputs": [
        {
          "output_type": "execute_result",
          "data": {
            "text/plain": [
              "'2.8.2'"
            ],
            "application/vnd.google.colaboratory.intrinsic+json": {
              "type": "string"
            }
          },
          "metadata": {},
          "execution_count": 1
        }
      ]
    },
    {
      "cell_type": "markdown",
      "source": [
        "## DNN 기본 이해\n",
        "---"
      ],
      "metadata": {
        "id": "MzqveLvV0dks"
      }
    },
    {
      "cell_type": "markdown",
      "source": [
        "\n",
        "### | 모델링 (1)\n",
        "\n",
        "\n",
        "<p align='center'>\n",
        "<img src=https://github.com/yebiny/SkillTreePython-DeepLearning/blob/main/imgs/ch0101-01.png?raw=true width=450>\n",
        "</p>\n"
      ],
      "metadata": {
        "id": "5f0taefIrVkW"
      }
    },
    {
      "cell_type": "markdown",
      "source": [
        "#### **모델 구현**"
      ],
      "metadata": {
        "id": "Spn6iy6TMZLE"
      }
    },
    {
      "cell_type": "code",
      "source": [
        "# 모든 레이어는 tensorflow.keras에 있다.\n",
        "from tensorflow.keras import layers, models\n",
        "\n",
        "x = layers.Input(shape=(3), name='input_layer') # X : (데이터개수,3)\n",
        "y = layers.Dense(1, name='output_layer')(x) # Linear : W, b  Dense(output_shape)\n",
        "\n",
        "model1 = models.Model(inputs=x, outputs=y, name='Model_1')"
      ],
      "metadata": {
        "id": "ol1G6zFpzzQy"
      },
      "execution_count": 2,
      "outputs": []
    },
    {
      "cell_type": "markdown",
      "source": [
        "* 모델 시각화\n",
        "  * `.summary()`\n",
        "  * `tensorflow.keras.utils.plot_model()`"
      ],
      "metadata": {
        "id": "buNi5cvx6s_f"
      }
    },
    {
      "cell_type": "code",
      "source": [
        "from tensorflow.keras import  utils\n",
        "\n",
        "# Output shape : 데이터 변환 과정\n",
        "# None: 데이터 개수\n",
        "# Param # : 파라미터 개수 \n",
        "model1.summary()\n",
        "utils.plot_model(model1, show_shapes=True)\n",
        "\n",
        "# Trainable param : 학습 가능한 파라미터 (역전파 통해서 업데이트)\n",
        "# Non-trainable param : 학습 하지 않는 파라미터"
      ],
      "metadata": {
        "id": "DALpoYDrmlGi",
        "outputId": "2b37de7f-e509-4c9d-8a7c-227d4fdd21f1",
        "colab": {
          "base_uri": "https://localhost:8080/",
          "height": 427
        }
      },
      "execution_count": 3,
      "outputs": [
        {
          "output_type": "stream",
          "name": "stdout",
          "text": [
            "Model: \"Model_1\"\n",
            "_________________________________________________________________\n",
            " Layer (type)                Output Shape              Param #   \n",
            "=================================================================\n",
            " input_layer (InputLayer)    [(None, 3)]               0         \n",
            "                                                                 \n",
            " output_layer (Dense)        (None, 1)                 4         \n",
            "                                                                 \n",
            "=================================================================\n",
            "Total params: 4\n",
            "Trainable params: 4\n",
            "Non-trainable params: 0\n",
            "_________________________________________________________________\n"
          ]
        },
        {
          "output_type": "execute_result",
          "data": {
            "text/plain": [
              "<IPython.core.display.Image object>"
            ],
            "image/png": "[encoded data removed]"
          },
          "metadata": {},
          "execution_count": 3
        }
      ]
    },
    {
      "cell_type": "markdown",
      "source": [
        "#### **파라미터** \n",
        "\n",
        "<p align='center'>\n",
        "<img src=https://github.com/yebiny/SkillTreePython-DeepLearning/blob/main/imgs/ch0101-04.png?raw=true width=900>\n",
        "</p>\n"
      ],
      "metadata": {
        "id": "NYFWTExFqYH_"
      }
    },
    {
      "cell_type": "markdown",
      "source": [
        "* 데이터 플로우 : 데이터의 변환 과정을 확인하세요.\n",
        "  * `model.layers.output`\n"
      ],
      "metadata": {
        "id": "wWF_aUpbklsa"
      }
    },
    {
      "cell_type": "code",
      "source": [
        "# output : 데이터의 변환 과정\n",
        "for layer in model1.layers:\n",
        "  print(layer.name) # 각 레이어의 이름\n",
        "  print(layer.output.shape) # 각 레이어의 아웃풋의 shape"
      ],
      "metadata": {
        "id": "DlBj87Rtklsa",
        "outputId": "585b13a0-76c9-42a1-8ac7-7876f2fbcceb",
        "colab": {
          "base_uri": "https://localhost:8080/"
        }
      },
      "execution_count": 4,
      "outputs": [
        {
          "output_type": "stream",
          "name": "stdout",
          "text": [
            "input_layer\n",
            "(None, 3)\n",
            "output_layer\n",
            "(None, 1)\n"
          ]
        }
      ]
    },
    {
      "cell_type": "markdown",
      "source": [
        "* 학습 파라미터 : 학습 파라미터의 shape를 확인하세요.\n",
        "  * `.get_weights()`"
      ],
      "metadata": {
        "id": "psYEdHG8rHT-"
      }
    },
    {
      "cell_type": "code",
      "source": [
        "'''\n",
        "W : (3, 1)\n",
        "B : (1, )\n",
        "'''\n",
        "for param in model1.get_weights():\n",
        "  print(param.shape)\n",
        "\n",
        "print(model1.get_weights())"
      ],
      "metadata": {
        "id": "LamoOVNRrLKe",
        "outputId": "0b7119cc-a075-4e9d-e03f-17f235867b7d",
        "colab": {
          "base_uri": "https://localhost:8080/"
        }
      },
      "execution_count": 5,
      "outputs": [
        {
          "output_type": "stream",
          "name": "stdout",
          "text": [
            "(3, 1)\n",
            "(1,)\n",
            "[array([[-0.47321367],\n",
            "       [ 0.8683027 ],\n",
            "       [ 0.96046674]], dtype=float32), array([0.], dtype=float32)]\n"
          ]
        }
      ]
    },
    {
      "cell_type": "markdown",
      "source": [
        "#### **순전파 계산**\n",
        "\n",
        "현재 초기화되어 있는 학습파라미터를 이용해 Y를 계산해 보세요.\n",
        "X는 랜덤한 숫자로 적용하세요.\n",
        "* `np.random.normal`"
      ],
      "metadata": {
        "id": "RE9XeArWBMoh"
      }
    },
    {
      "cell_type": "code",
      "source": [
        "X = np.random.normal(size=(1,3))\n",
        "print(X) \n",
        "Y_pred = model1.predict(X)\n",
        "print(Y_pred)"
      ],
      "metadata": {
        "id": "DC0otNklBMoh",
        "outputId": "3ce77739-ac87-43fc-8a85-e5474c77b59e",
        "colab": {
          "base_uri": "https://localhost:8080/"
        }
      },
      "execution_count": 6,
      "outputs": [
        {
          "output_type": "stream",
          "name": "stdout",
          "text": [
            "[[ 0.56052476  1.75934639 -0.05521461]]\n",
            "[[1.2093655]]\n"
          ]
        }
      ]
    },
    {
      "cell_type": "markdown",
      "source": [
        "### | 모델링 (2)\n",
        "\n",
        "<p align='center'>\n",
        "<img src=https://github.com/yebiny/SkillTreePython-DeepLearning/blob/main/imgs/ch0101-02.png?raw=true width=450>\n",
        "</p>\n"
      ],
      "metadata": {
        "id": "CLRoUfPKvQRp"
      }
    },
    {
      "cell_type": "markdown",
      "source": [
        "#### **모델 구현**"
      ],
      "metadata": {
        "id": "-Ae5REJwMaTd"
      }
    },
    {
      "cell_type": "code",
      "source": [
        "x = layers.Input(shape=(3), name='input_layer') # X : (데이터개수,3)\n",
        "y = layers.Dense(2, name='output_layer')(x) # Linear : W, b  Dense(output_shape)\n",
        "\n",
        "model2 = models.Model(inputs=x, outputs=y, name='Model_2')"
      ],
      "metadata": {
        "id": "ds6Y10NIDPX4"
      },
      "execution_count": 7,
      "outputs": []
    },
    {
      "cell_type": "markdown",
      "source": [
        "* 모델 시각화\n",
        "  * `.summary()`\n",
        "  * `tensorflow.keras.utils.plot_model()`"
      ],
      "metadata": {
        "id": "cqllNVUpDPX4"
      }
    },
    {
      "cell_type": "code",
      "source": [
        "model1.summary()\n",
        "utils.plot_model(model2, show_shapes=True)"
      ],
      "metadata": {
        "id": "JtYmoeGqDPX4",
        "outputId": "8449c62e-a280-4f49-a4b8-e8fec82de23d",
        "colab": {
          "base_uri": "https://localhost:8080/",
          "height": 427
        }
      },
      "execution_count": 13,
      "outputs": [
        {
          "output_type": "stream",
          "name": "stdout",
          "text": [
            "Model: \"Model_1\"\n",
            "_________________________________________________________________\n",
            " Layer (type)                Output Shape              Param #   \n",
            "=================================================================\n",
            " input_layer (InputLayer)    [(None, 3)]               0         \n",
            "                                                                 \n",
            " output_layer (Dense)        (None, 1)                 4         \n",
            "                                                                 \n",
            "=================================================================\n",
            "Total params: 4\n",
            "Trainable params: 4\n",
            "Non-trainable params: 0\n",
            "_________________________________________________________________\n"
          ]
        },
        {
          "output_type": "execute_result",
          "data": {
            "text/plain": [
              "<IPython.core.display.Image object>"
            ],
            "image/png": "[encoded data removed]"
          },
          "metadata": {},
          "execution_count": 13
        }
      ]
    },
    {
      "cell_type": "markdown",
      "source": [
        "#### **파라미터** \n",
        "\n",
        "<p align='center'>\n",
        "<img src=https://github.com/yebiny/SkillTreePython-DeepLearning/blob/main/imgs/ch0101-05.png?raw=true width=900>\n",
        "</p>\n"
      ],
      "metadata": {
        "id": "FiQBcveRvQRq"
      }
    },
    {
      "cell_type": "markdown",
      "source": [
        "* 데이터 플로우 : 데이터의 변환 과정을 확인하세요.\n",
        "  * `layer.output`\n"
      ],
      "metadata": {
        "id": "47Bi4i9LDPX5"
      }
    },
    {
      "cell_type": "code",
      "source": [
        "for layer in model2.layers:\n",
        "  print(layer.name)\n",
        "  print(layer.output.shape)"
      ],
      "metadata": {
        "id": "5NBk9svKDPX5",
        "outputId": "9201948f-1879-4009-86c1-12d4d55eb3b3",
        "colab": {
          "base_uri": "https://localhost:8080/"
        }
      },
      "execution_count": 8,
      "outputs": [
        {
          "output_type": "stream",
          "name": "stdout",
          "text": [
            "input_layer\n",
            "(None, 3)\n",
            "output_layer\n",
            "(None, 2)\n"
          ]
        }
      ]
    },
    {
      "cell_type": "markdown",
      "source": [
        "* 학습 파라미터 : 학습 파라미터의 shape를 확인하세요.\n",
        "  * `.get_weights()`"
      ],
      "metadata": {
        "id": "s5XkjLJMDPX5"
      }
    },
    {
      "cell_type": "code",
      "source": [
        "for param in model2.get_weights():\n",
        "  print(param.shape)\n",
        "\n",
        "print(model2.get_weights())"
      ],
      "metadata": {
        "id": "XHMP6-qxDPX5",
        "outputId": "1c734e17-129b-485f-ee17-b7745ea51d25",
        "colab": {
          "base_uri": "https://localhost:8080/"
        }
      },
      "execution_count": 10,
      "outputs": [
        {
          "output_type": "stream",
          "name": "stdout",
          "text": [
            "(3, 2)\n",
            "(2,)\n",
            "[array([[ 0.7967323 ,  0.6102799 ],\n",
            "       [-0.9364006 , -0.1725961 ],\n",
            "       [ 0.52837896,  0.63038695]], dtype=float32), array([0., 0.], dtype=float32)]\n"
          ]
        }
      ]
    },
    {
      "cell_type": "markdown",
      "source": [
        "#### **순전파 계산**\n",
        "\n",
        "현재 초기화되어 있는 학습파라미터를 이용해 Y를 계산해 보세요.\n",
        "X는 랜덤한 숫자로 적용하세요.\n",
        "* `np.random.normal`"
      ],
      "metadata": {
        "id": "PXaQ_U9hBKD4"
      }
    },
    {
      "cell_type": "code",
      "source": [
        "X = np.random.normal(size=(1,3))\n",
        "print(X) \n",
        "Y_pred = model2.predict(X)\n",
        "print(Y_pred)"
      ],
      "metadata": {
        "id": "f0PpJMe-BKD4",
        "outputId": "019c3bd2-81bb-45b1-dafe-6653be322879",
        "colab": {
          "base_uri": "https://localhost:8080/"
        }
      },
      "execution_count": 11,
      "outputs": [
        {
          "output_type": "stream",
          "name": "stdout",
          "text": [
            "[[-2.22319979  0.08888775 -0.27105306]]\n",
            "[[-1.9977485 -1.5429841]]\n"
          ]
        }
      ]
    },
    {
      "cell_type": "markdown",
      "source": [
        "### | 모델링 (3)\n",
        "\n",
        "<p align='center'>\n",
        "<img src=https://github.com/yebiny/SkillTreePython-DeepLearning/blob/main/imgs/ch0101-03.png?raw=true width=550>\n",
        "</p>\n"
      ],
      "metadata": {
        "id": "pdq32nZCwMiL"
      }
    },
    {
      "cell_type": "markdown",
      "source": [
        "#### **모델 구현**"
      ],
      "metadata": {
        "id": "MMR9-36eJQbl"
      }
    },
    {
      "cell_type": "code",
      "source": [
        "x = layers.Input(shape=(3), name='input_layer')\n",
        "y = layers.Dense(3, name='hidden_layer')(x)\n",
        "h = layers.Dense(2, name='output_layer')(y)\n",
        "\n",
        "model3 = models.Model(inputs=x ,outputs=h, name='Model_3')"
      ],
      "metadata": {
        "id": "Z2IuUrLswMiL"
      },
      "execution_count": 20,
      "outputs": []
    },
    {
      "cell_type": "markdown",
      "source": [
        "* 모델 시각화\n",
        "  * `.summary()`\n",
        "  * `tensorflow.keras.utils.plot_model()`"
      ],
      "metadata": {
        "id": "7O3UAyO1Fs9U"
      }
    },
    {
      "cell_type": "code",
      "source": [
        "model1.summary()\n",
        "utils.plot_model(model3, show_shapes=True)"
      ],
      "metadata": {
        "id": "fM20ihdrFs9U",
        "outputId": "559d3996-9be0-4fc3-b9fa-0ddec3cb8efa",
        "colab": {
          "base_uri": "https://localhost:8080/",
          "height": 538
        }
      },
      "execution_count": 21,
      "outputs": [
        {
          "output_type": "stream",
          "name": "stdout",
          "text": [
            "Model: \"Model_1\"\n",
            "_________________________________________________________________\n",
            " Layer (type)                Output Shape              Param #   \n",
            "=================================================================\n",
            " input_layer (InputLayer)    [(None, 3)]               0         \n",
            "                                                                 \n",
            " output_layer (Dense)        (None, 1)                 4         \n",
            "                                                                 \n",
            "=================================================================\n",
            "Total params: 4\n",
            "Trainable params: 4\n",
            "Non-trainable params: 0\n",
            "_________________________________________________________________\n"
          ]
        },
        {
          "output_type": "execute_result",
          "data": {
            "text/plain": [
              "<IPython.core.display.Image object>"
            ],
            "image/png": "[encoded data removed]"
          },
          "metadata": {},
          "execution_count": 21
        }
      ]
    },
    {
      "cell_type": "markdown",
      "source": [
        "#### **파라미터** \n",
        "\n",
        "<p align='center'>\n",
        "<img src=https://github.com/yebiny/SkillTreePython-DeepLearning/blob/main/imgs/ch0101-06.png?raw=true width=900>\n",
        "</p>\n"
      ],
      "metadata": {
        "id": "b6McWfzgwMiL"
      }
    },
    {
      "cell_type": "markdown",
      "source": [
        "* 데이터 플로우 : 데이터의 변환 과정을 확인하세요.\n",
        "  * `layer.output`\n",
        "\n"
      ],
      "metadata": {
        "id": "iJlWs5SPGPY1"
      }
    },
    {
      "cell_type": "code",
      "source": [
        "for layer in model3.layers:\n",
        "  print(layer.name)\n",
        "  print(layer.output.shape)"
      ],
      "metadata": {
        "id": "mCGGTr0vGPY2",
        "outputId": "56536c9c-9394-43a7-f807-d51bf87ba8fe",
        "colab": {
          "base_uri": "https://localhost:8080/"
        }
      },
      "execution_count": 24,
      "outputs": [
        {
          "output_type": "stream",
          "name": "stdout",
          "text": [
            "input_layer\n",
            "(None, 3)\n",
            "hidden_layer\n",
            "(None, 3)\n",
            "output_layer\n",
            "(None, 2)\n"
          ]
        }
      ]
    },
    {
      "cell_type": "markdown",
      "source": [
        "* 학습 파라미터 : 학습 파라미터의 shape를 확인하세요.\n",
        "  * `.get_weights()`"
      ],
      "metadata": {
        "id": "wcXGgS5wGPY2"
      }
    },
    {
      "cell_type": "code",
      "source": [
        "for param in model3.get_weights():\n",
        "  print(param.shape)\n",
        "\n",
        "print(model2.get_weights())"
      ],
      "metadata": {
        "id": "_dHFFVP9GPY2",
        "outputId": "5dbe03c5-290b-4a10-ed2f-eced37027215",
        "colab": {
          "base_uri": "https://localhost:8080/"
        }
      },
      "execution_count": 25,
      "outputs": [
        {
          "output_type": "stream",
          "name": "stdout",
          "text": [
            "(3, 3)\n",
            "(3,)\n",
            "(3, 2)\n",
            "(2,)\n",
            "[array([[ 0.7881639 , -0.26423144, -0.85431623],\n",
            "       [ 0.71987724,  0.8736496 , -0.98349667],\n",
            "       [ 0.8342421 ,  0.8439262 , -0.78760505]], dtype=float32), array([0., 0., 0.], dtype=float32)]\n"
          ]
        }
      ]
    },
    {
      "cell_type": "markdown",
      "source": [
        "#### **순전파 계산**\n",
        "\n",
        "현재 초기화되어 있는 학습파라미터를 이용해 Y를 계산해 보세요.\n",
        "X는 랜덤한 숫자로 적용하세요.\n",
        "* `np.random.normal`"
      ],
      "metadata": {
        "id": "QXBhbZTdBF_f"
      }
    },
    {
      "cell_type": "code",
      "source": [
        "X = np.random.normal(size=(1,3))\n",
        "print(X) \n",
        "Y_pred = model3.predict(X)\n",
        "print(Y_pred)"
      ],
      "metadata": {
        "id": "mFLI_U-BBF_g",
        "outputId": "1db45102-2d4b-4b99-a4c6-b3191ea80447",
        "colab": {
          "base_uri": "https://localhost:8080/"
        }
      },
      "execution_count": 26,
      "outputs": [
        {
          "output_type": "stream",
          "name": "stdout",
          "text": [
            "[[-0.19291981 -0.71382236  1.72484369]]\n",
            "[[0.9232777 1.316938 ]]\n"
          ]
        }
      ]
    },
    {
      "cell_type": "markdown",
      "source": [
        "### | 모델링 (4)\n",
        "\n",
        "<p align='center'>\n",
        "<img src=https://github.com/yebiny/SkillTreePython-DeepLearning/blob/main/imgs/ch0101-12.png?raw=true width=820>"
      ],
      "metadata": {
        "id": "iF1Pr3EaoAF7"
      }
    },
    {
      "cell_type": "markdown",
      "source": [
        "#### **모델 구현**"
      ],
      "metadata": {
        "id": "B5AjRa732e7p"
      }
    },
    {
      "cell_type": "code",
      "source": [
        "from tensorflow.keras import layers, models, utils\n",
        "\n",
        "x = layers.Input(shape=(4,))\n",
        "z1 = layers.Dense(8)(x)\n",
        "z2 = layers.Dense(8)(z1)\n",
        "y = layers.Dense(3)(z2)\n",
        "model4 = models.Model(inputs=x, outputs=y, name='Model_4')\n",
        "\n",
        "model4.summary()\n",
        "utils.plot_model(model4, show_shapes=True)"
      ],
      "metadata": {
        "id": "CgMWjNgu2e7y",
        "outputId": "a757d030-f55c-49de-f93e-32755e026ab6",
        "colab": {
          "base_uri": "https://localhost:8080/",
          "height": 717
        }
      },
      "execution_count": 27,
      "outputs": [
        {
          "output_type": "stream",
          "name": "stdout",
          "text": [
            "Model: \"Model_4\"\n",
            "_________________________________________________________________\n",
            " Layer (type)                Output Shape              Param #   \n",
            "=================================================================\n",
            " input_1 (InputLayer)        [(None, 4)]               0         \n",
            "                                                                 \n",
            " dense (Dense)               (None, 8)                 40        \n",
            "                                                                 \n",
            " dense_1 (Dense)             (None, 8)                 72        \n",
            "                                                                 \n",
            " dense_2 (Dense)             (None, 3)                 27        \n",
            "                                                                 \n",
            "=================================================================\n",
            "Total params: 139\n",
            "Trainable params: 139\n",
            "Non-trainable params: 0\n",
            "_________________________________________________________________\n"
          ]
        },
        {
          "output_type": "execute_result",
          "data": {
            "text/plain": [
              "<IPython.core.display.Image object>"
            ],
            "image/png": "[encoded data removed]"
          },
          "metadata": {},
          "execution_count": 27
        }
      ]
    },
    {
      "cell_type": "markdown",
      "source": [
        "#### **파라미터** \n",
        "\n"
      ],
      "metadata": {
        "id": "SANpL92z1-bd"
      }
    },
    {
      "cell_type": "markdown",
      "source": [
        "* 데이터 플로우 : 데이터의 변환 과정을 확인하세요.\n",
        "  * `layer.output`\n",
        "\n"
      ],
      "metadata": {
        "id": "pBcmDE8ZybwG"
      }
    },
    {
      "cell_type": "code",
      "source": [
        "'''\n",
        "X : (N,4) N은 데이터 개수\n",
        "Z1: (N,8)\n",
        "Z2: (N,8)\n",
        "Y : (N,3)\n",
        "'''\n",
        "\n",
        "for layer in model4.layers:\n",
        "  print(layer.output.shape)"
      ],
      "metadata": {
        "id": "lc2W98-amfyP",
        "outputId": "5712c888-0c45-49b9-c96f-9d2e0645d3a7",
        "colab": {
          "base_uri": "https://localhost:8080/"
        }
      },
      "execution_count": 28,
      "outputs": [
        {
          "output_type": "stream",
          "name": "stdout",
          "text": [
            "(None, 4)\n",
            "(None, 8)\n",
            "(None, 8)\n",
            "(None, 3)\n"
          ]
        }
      ]
    },
    {
      "cell_type": "markdown",
      "source": [
        "* 학습 파라미터 : 학습 파라미터의 shape를 확인하세요.\n",
        "  * `.get_weights()`"
      ],
      "metadata": {
        "id": "1f3wtqGoyz4n"
      }
    },
    {
      "cell_type": "code",
      "source": [
        "'''\n",
        "W1 : (4, 8)\n",
        "B1 : (8,)\n",
        "W2 : (8, 8)\n",
        "B2 : (8,)\n",
        "W3 : (8, 3)\n",
        "B3 : (3,)\n",
        "'''\n",
        "\n",
        "for param in model4.get_weights():\n",
        "  print(param.shape)\n",
        "\n",
        "print(model4.get_weights())"
      ],
      "metadata": {
        "id": "YGL2joIdyz4o",
        "outputId": "d1f2a4cb-be34-4946-936d-650c1ae3bb29",
        "colab": {
          "base_uri": "https://localhost:8080/"
        }
      },
      "execution_count": 29,
      "outputs": [
        {
          "output_type": "stream",
          "name": "stdout",
          "text": [
            "(4, 8)\n",
            "(8,)\n",
            "(8, 8)\n",
            "(8,)\n",
            "(8, 3)\n",
            "(3,)\n",
            "[array([[-0.46052697,  0.21455896,  0.58049446,  0.2551142 ,  0.6117924 ,\n",
            "         0.4642492 , -0.4569794 ,  0.64058214],\n",
            "       [-0.01351631,  0.05735004,  0.01204103, -0.30400252, -0.46308345,\n",
            "         0.1482721 , -0.64849234, -0.10536933],\n",
            "       [-0.2563631 , -0.24498749, -0.17679358, -0.4132446 , -0.04137975,\n",
            "        -0.18809885,  0.05402672, -0.33004504],\n",
            "       [-0.538795  ,  0.08471078,  0.6950477 , -0.40994266,  0.22984076,\n",
            "         0.5037276 , -0.52529895, -0.02329087]], dtype=float32), array([0., 0., 0., 0., 0., 0., 0., 0.], dtype=float32), array([[-0.04194683, -0.17994794, -0.03184587,  0.46332997, -0.2132096 ,\n",
            "        -0.5223985 ,  0.51008886,  0.2515087 ],\n",
            "       [-0.4668758 , -0.35399047, -0.44109857,  0.08812314,  0.3709466 ,\n",
            "         0.27755046,  0.05176497, -0.53859615],\n",
            "       [-0.45599258, -0.19026628,  0.5053279 ,  0.02729589, -0.23302749,\n",
            "        -0.20177552,  0.36574805, -0.01986331],\n",
            "       [-0.4266731 ,  0.6069779 , -0.17784041, -0.14892772,  0.33386916,\n",
            "         0.2694943 , -0.47720373, -0.19002405],\n",
            "       [-0.26518682,  0.17233503,  0.5763491 ,  0.5417592 ,  0.26793718,\n",
            "        -0.5687472 , -0.32059506, -0.07880461],\n",
            "       [ 0.54209477,  0.0840615 , -0.2271108 ,  0.5893685 ,  0.29224783,\n",
            "         0.36461496, -0.26056078,  0.58568877],\n",
            "       [-0.2975008 ,  0.29065073,  0.54213816, -0.3221916 , -0.450997  ,\n",
            "         0.22665834, -0.09987491,  0.5879802 ],\n",
            "       [ 0.3046472 , -0.05489302,  0.37758756,  0.43094593,  0.47264403,\n",
            "         0.36831826, -0.00518727, -0.2171506 ]], dtype=float32), array([0., 0., 0., 0., 0., 0., 0., 0.], dtype=float32), array([[ 0.3584252 ,  0.18288398,  0.6525095 ],\n",
            "       [-0.64533794, -0.19343084,  0.05782539],\n",
            "       [-0.41822982,  0.28828543,  0.5065064 ],\n",
            "       [-0.11946881,  0.38591403, -0.55208814],\n",
            "       [-0.64869934,  0.49823052, -0.4217934 ],\n",
            "       [-0.14784032,  0.6933752 ,  0.66216594],\n",
            "       [ 0.6925526 , -0.544836  , -0.6230982 ],\n",
            "       [-0.6276954 ,  0.13827527,  0.7192884 ]], dtype=float32), array([0., 0., 0.], dtype=float32)]\n"
          ]
        }
      ]
    },
    {
      "cell_type": "markdown",
      "source": [
        "#### **순전파 계산**\n",
        "\n",
        "현재 초기화되어 있는 학습파라미터를 이용해 Y를 계산해 보세요.\n",
        "X는 랜덤한 숫자로 적용하세요.\n",
        "* `np.random.normal`"
      ],
      "metadata": {
        "id": "EtkJfyepMfJk"
      }
    },
    {
      "cell_type": "code",
      "source": [
        "X = np.random.normal(size=(1,4))\n",
        "Y_pred = model4.predict(X)\n",
        "print('X:', X, X.shape)\n",
        "print('Y_pred:', Y_pred, Y_pred.shape)"
      ],
      "metadata": {
        "id": "al1XlzJuMf9-",
        "outputId": "32d727b2-8c2d-47aa-cc9d-00335cc740a2",
        "colab": {
          "base_uri": "https://localhost:8080/"
        }
      },
      "execution_count": 30,
      "outputs": [
        {
          "output_type": "stream",
          "name": "stdout",
          "text": [
            "X: [[ 0.83034489 -0.1954354   1.33161897 -0.37447761]] (1, 4)\n",
            "Y_pred: [[-0.54275715  0.32212198  0.30101907]] (1, 3)\n"
          ]
        }
      ]
    },
    {
      "cell_type": "markdown",
      "source": [
        "### | 병렬연산\n",
        "\n",
        "\n",
        "<p align='center'>\n",
        "<img src=https://github.com/yebiny/SkillTreePython-DeepLearning/blob/main/imgs/ch0101-13.png?raw=true width=820>\n",
        "\n"
      ],
      "metadata": {
        "id": "2B95PNoM0O9a"
      }
    },
    {
      "cell_type": "markdown",
      "source": [
        "#### **순전파 계산**\n",
        "\n",
        "Model4를 이용하여 Y를 계산해 보세요.\n",
        "X는 랜덤한 숫자로 적용하세요. X의 샘플 개수는 10개 입니다.\n",
        "* `np.random.normal`"
      ],
      "metadata": {
        "id": "LZoN8fo-PboK"
      }
    },
    {
      "cell_type": "code",
      "source": [
        "# 실제 데이터  (1000~100000 중에 배치 단위로 계산이 진행됨 ) 배치 사이즈 : 8, 16, 32, 64, ...\n",
        "X = np.random.normal(size=(10,4)) # 배치의 개수가 10개다\n",
        "Y_pred = model4.predict(X)\n",
        "print('X:', X, X.shape)\n",
        "print('Y_pred:', Y_pred, Y_pred.shape)"
      ],
      "metadata": {
        "id": "Vv1yq_uF4Vxu",
        "outputId": "e4fb01b4-d8bd-485b-9cb1-d33808c90c0c",
        "colab": {
          "base_uri": "https://localhost:8080/"
        }
      },
      "execution_count": 31,
      "outputs": [
        {
          "output_type": "stream",
          "name": "stdout",
          "text": [
            "X: [[-0.01101619  0.05106864 -0.07755594  1.10334025]\n",
            " [-0.70462443  1.79040298 -0.10763099  1.71406432]\n",
            " [ 1.45344581 -0.1688474  -1.6325097  -0.92949887]\n",
            " [ 0.12259926 -0.45802313  0.40840975 -0.72708129]\n",
            " [-0.69941169  1.44991776  0.31029247 -0.22253882]\n",
            " [ 2.54608618  1.10160523  0.38513987  0.11681232]\n",
            " [ 0.42077889  2.11436922  0.83892561 -0.70373048]\n",
            " [-0.87468593 -0.25797287 -0.44161846 -0.65366971]\n",
            " [ 0.03165795 -0.65235297 -0.24837108 -0.46093264]\n",
            " [ 0.27651446 -0.15071939  0.39920445 -1.14924235]] (10, 4)\n",
            "Y_pred: [[ 0.19498336  0.45516938 -0.39125907]\n",
            " [ 2.6852946  -0.30829793 -0.90625584]\n",
            " [-2.2267692   2.0231135  -1.2699573 ]\n",
            " [-0.5400256  -0.25802907  0.52987427]\n",
            " [ 2.200688   -1.208278    0.02354056]\n",
            " [-1.0643601   2.7839484  -1.8732774 ]\n",
            " [ 1.9664586  -0.36180794 -0.54802924]\n",
            " [ 0.28901303 -1.0924754   0.6411915 ]\n",
            " [-0.8501316   0.02658086  0.28525525]\n",
            " [-0.43283564 -0.27653438  0.43286186]] (10, 3)\n"
          ]
        }
      ]
    },
    {
      "cell_type": "markdown",
      "source": [
        "## 텐서플로우 - 모델을 만드는 세가지 방법\n",
        "---"
      ],
      "metadata": {
        "id": "cxfkYRgEl_CM"
      }
    },
    {
      "cell_type": "markdown",
      "metadata": {
        "id": "ek-Z53ZpxD7P"
      },
      "source": [
        "1. keras Sequential API\n",
        "2. Keras Functional API\n",
        "3. Model Class Subsclassing\n"
      ]
    },
    {
      "cell_type": "code",
      "source": [
        "import tensorflow as tf\n",
        "from tensorflow.keras import models, layers, utils\n",
        "import numpy as np\n",
        "tf.__version__"
      ],
      "metadata": {
        "id": "ynYVT_G104eR",
        "outputId": "e3942431-d4bc-4ba9-f71d-2f73b04ac50e",
        "colab": {
          "base_uri": "https://localhost:8080/",
          "height": 34
        }
      },
      "execution_count": 32,
      "outputs": [
        {
          "output_type": "execute_result",
          "data": {
            "text/plain": [
              "'2.8.2'"
            ],
            "application/vnd.google.colaboratory.intrinsic+json": {
              "type": "string"
            }
          },
          "metadata": {},
          "execution_count": 32
        }
      ]
    },
    {
      "cell_type": "markdown",
      "source": [
        "아래 그림과 같은 모델을 텐서플로우를 이용해서 만들어 봅시다.\n",
        "\n",
        "<p align='center'>\n",
        "<img src=https://github.com/yebiny/NCS-lecture-deeplearning/blob/main/imgs/01-testmodel1.PNG?raw=true width=600>"
      ],
      "metadata": {
        "id": "9KCc_ZoOlxBy"
      }
    },
    {
      "cell_type": "markdown",
      "metadata": {
        "id": "6fB29iRAxyP_"
      },
      "source": [
        "### | Keras Functional API"
      ]
    },
    {
      "cell_type": "markdown",
      "source": [
        "* 모델 구현"
      ],
      "metadata": {
        "id": "_nHacE06bPwT"
      }
    },
    {
      "cell_type": "code",
      "metadata": {
        "id": "nzzxJsKfxwXS"
      },
      "source": [
        "def Build_Model(Model_Start_Number, Model_Index_List):\n",
        "    x = layers.Input(shape=(Model_Start_Number,))\n",
        "    y = layers.Dense(Model_Index_List[0])(x)\n",
        "    del Model_Index_List[0]\n",
        "    for Index_To_Model in Model_Index_List:\n",
        "        y = layers.Dense(Index_To_Model)(y)\n",
        "    Model = models.Model(x, y)\n",
        "    return Model"
      ],
      "execution_count": 35,
      "outputs": []
    },
    {
      "cell_type": "markdown",
      "source": [
        "* 시각화"
      ],
      "metadata": {
        "id": "fu5N77ex1uJH"
      }
    },
    {
      "cell_type": "code",
      "metadata": {
        "id": "KMP3U9hj1uJH",
        "outputId": "adc9a54f-5bf7-498b-e6a6-3c80a338d3b2",
        "colab": {
          "base_uri": "https://localhost:8080/",
          "height": 717
        }
      },
      "source": [
        "m1 = Build_Model(3, [6,6,1])\n",
        "m1.summary()\n",
        "utils.plot_model(m1, show_shapes=True)"
      ],
      "execution_count": 36,
      "outputs": [
        {
          "output_type": "stream",
          "name": "stdout",
          "text": [
            "Model: \"model_1\"\n",
            "_________________________________________________________________\n",
            " Layer (type)                Output Shape              Param #   \n",
            "=================================================================\n",
            " input_3 (InputLayer)        [(None, 3)]               0         \n",
            "                                                                 \n",
            " dense_6 (Dense)             (None, 6)                 24        \n",
            "                                                                 \n",
            " dense_7 (Dense)             (None, 6)                 42        \n",
            "                                                                 \n",
            " dense_8 (Dense)             (None, 1)                 7         \n",
            "                                                                 \n",
            "=================================================================\n",
            "Total params: 73\n",
            "Trainable params: 73\n",
            "Non-trainable params: 0\n",
            "_________________________________________________________________\n"
          ]
        },
        {
          "output_type": "execute_result",
          "data": {
            "text/plain": [
              "<IPython.core.display.Image object>"
            ],
            "image/png": "[encoded data removed]"
          },
          "metadata": {},
          "execution_count": 36
        }
      ]
    },
    {
      "cell_type": "code",
      "source": [
        "X = np.random.normal(size=(1,3))\n",
        "print(X) \n",
        "Y_pred = m1.predict(X)\n",
        "print(Y_pred)"
      ],
      "metadata": {
        "id": "yjyhg9gAAF7c",
        "outputId": "d65e72df-5eea-4a36-c29c-37dd9ec4e7c8",
        "colab": {
          "base_uri": "https://localhost:8080/"
        }
      },
      "execution_count": 57,
      "outputs": [
        {
          "output_type": "stream",
          "name": "stdout",
          "text": [
            "[[-0.48413394  0.97830823 -0.73049802]]\n",
            "WARNING:tensorflow:5 out of the last 6 calls to <function Model.make_predict_function.<locals>.predict_function at 0x7fd00a11fb90> triggered tf.function retracing. Tracing is expensive and the excessive number of tracings could be due to (1) creating @tf.function repeatedly in a loop, (2) passing tensors with different shapes, (3) passing Python objects instead of tensors. For (1), please define your @tf.function outside of the loop. For (2), @tf.function has experimental_relax_shapes=True option that relaxes argument shapes that can avoid unnecessary retracing. For (3), please refer to https://www.tensorflow.org/guide/function#controlling_retracing and https://www.tensorflow.org/api_docs/python/tf/function for  more details.\n",
            "[[0.80830663]]\n"
          ]
        }
      ]
    },
    {
      "cell_type": "markdown",
      "metadata": {
        "id": "8aFljiFtxGUP"
      },
      "source": [
        "### | Keras Sequential API\n",
        "\n"
      ]
    },
    {
      "cell_type": "markdown",
      "source": [
        "* 모델 구현: `Sequential()`"
      ],
      "metadata": {
        "id": "j5xvJ7e01rbx"
      }
    },
    {
      "cell_type": "code",
      "metadata": {
        "id": "8Id8VOEiw-nT"
      },
      "source": [
        "def build_model2():\n",
        "  model = tf.keras.Sequential() # 빈 껍질을 만들어 놓은것\n",
        "  model.add( layers.Input(shape=(3,)) )\n",
        "  model.add( layers.Dense(6))\n",
        "  model.add( layers.Dense(6))\n",
        "  model.add( layers.Dense(1))\n",
        "  return model"
      ],
      "execution_count": 37,
      "outputs": []
    },
    {
      "cell_type": "code",
      "source": [
        "def Build_Model(Model_Start_Number, Model_Index_List, Model_Mode='Basic'):\n",
        "    if Model_Mode == 'Basic':\n",
        "        print('None Selact Mode')\n",
        "\n",
        "    elif Model_Mode == 'KFA':\n",
        "        x = layers.Input(shape=(Model_Start_Number,))\n",
        "        y = layers.Dense(Model_Index_List[0])(x)\n",
        "        del Model_Index_List[0]\n",
        "        for Index_To_Model in Model_Index_List:\n",
        "            y = layers.Dense(Index_To_Model)(y)\n",
        "        Model = models.Model(x, y)\n",
        "        return Model\n",
        "    \n",
        "    elif Model_Mode == 'KSA':\n",
        "        model = tf.keras.Sequential()\n",
        "        model.add( layers.Input(shape=(Model_Index_List[0],)) )\n",
        "        del Model_Index_List[0]\n",
        "        for Index_To_Model in Model_Index_List:\n",
        "            model.add( layers.Dense(Index_To_Model))\n",
        "\n",
        "        return model"
      ],
      "metadata": {
        "id": "PrgFhE1g8IeJ"
      },
      "execution_count": 51,
      "outputs": []
    },
    {
      "cell_type": "markdown",
      "source": [
        "* 모델 시각화"
      ],
      "metadata": {
        "id": "Xzmbgxa31oew"
      }
    },
    {
      "cell_type": "code",
      "metadata": {
        "id": "fc-0GKtqxopy",
        "outputId": "9cfe0cbe-d9ac-485b-a6e9-6836e9afb2c0",
        "colab": {
          "base_uri": "https://localhost:8080/",
          "height": 538
        }
      },
      "source": [
        "m2 = Build_Model(3, [6,6,1], 'KSA')\n",
        "m2.summary()\n",
        "utils.plot_model(m2, show_shapes=True)"
      ],
      "execution_count": 42,
      "outputs": [
        {
          "output_type": "stream",
          "name": "stdout",
          "text": [
            "Model: \"sequential_1\"\n",
            "_________________________________________________________________\n",
            " Layer (type)                Output Shape              Param #   \n",
            "=================================================================\n",
            " dense_12 (Dense)            (None, 6)                 42        \n",
            "                                                                 \n",
            " dense_13 (Dense)            (None, 1)                 7         \n",
            "                                                                 \n",
            "=================================================================\n",
            "Total params: 49\n",
            "Trainable params: 49\n",
            "Non-trainable params: 0\n",
            "_________________________________________________________________\n"
          ]
        },
        {
          "output_type": "execute_result",
          "data": {
            "text/plain": [
              "<IPython.core.display.Image object>"
            ],
            "image/png": "[encoded data removed]"
          },
          "metadata": {},
          "execution_count": 42
        }
      ]
    },
    {
      "cell_type": "markdown",
      "metadata": {
        "id": "J3weqVyOymnn"
      },
      "source": [
        "### | Model Class Subclassing"
      ]
    },
    {
      "cell_type": "markdown",
      "source": [
        "* 모델 구현"
      ],
      "metadata": {
        "id": "k8A4RhsPbbnS"
      }
    },
    {
      "cell_type": "code",
      "metadata": {
        "id": "Y8pq4dLnykdS"
      },
      "source": [
        "class Model3(tf.keras.Model): # 이미 존재하는 클래스를 불러올때\n",
        "  def __init__(self):\n",
        "    super(Model3, self).__init__() # tf.keras.Model에 이미 정의되어 있는 (init)파라미터 불러오기\n",
        "    self._name = 'Model3'\n",
        "    self._input_shape=(3)\n",
        "    self.dense1 = layers.Dense(6, name='dense1')\n",
        "    self.dense2 = layers.Dense(6, name='dense2')\n",
        "    self.dense3 = layers.Dense(3, name='dense3')\n",
        "  \n",
        "  def call(self, x):\n",
        "    y = self.dense1(x)\n",
        "    y = self.dense2(y)\n",
        "    y = self.dense3(y)\n",
        "    return y"
      ],
      "execution_count": 43,
      "outputs": []
    },
    {
      "cell_type": "markdown",
      "source": [
        "* 모델 시각화"
      ],
      "metadata": {
        "id": "zgTALE5H17_3"
      }
    },
    {
      "cell_type": "code",
      "metadata": {
        "id": "HK0_O6i117_4",
        "outputId": "bb91d249-a7f0-44ea-8e4d-ba146ca6b51f",
        "colab": {
          "base_uri": "https://localhost:8080/",
          "height": 337
        }
      },
      "source": [
        "m3 = Model3()\n",
        "m3(np.array([[1,2,1]]))\n",
        "m3.summary()\n",
        "utils.plot_model(m3)"
      ],
      "execution_count": 44,
      "outputs": [
        {
          "output_type": "stream",
          "name": "stdout",
          "text": [
            "Model: \"Model3\"\n",
            "_________________________________________________________________\n",
            " Layer (type)                Output Shape              Param #   \n",
            "=================================================================\n",
            " dense1 (Dense)              multiple                  24        \n",
            "                                                                 \n",
            " dense2 (Dense)              multiple                  42        \n",
            "                                                                 \n",
            " dense3 (Dense)              multiple                  21        \n",
            "                                                                 \n",
            "=================================================================\n",
            "Total params: 87\n",
            "Trainable params: 87\n",
            "Non-trainable params: 0\n",
            "_________________________________________________________________\n"
          ]
        },
        {
          "output_type": "execute_result",
          "data": {
            "text/plain": [
              "<IPython.core.display.Image object>"
            ],
            "image/png": "[encoded data removed]"
          },
          "metadata": {},
          "execution_count": 44
        }
      ]
    },
    {
      "cell_type": "markdown",
      "source": [
        "### | 예제\n",
        "\n",
        "세가지 방법을 이용해 아래 모델을 구현하세요."
      ],
      "metadata": {
        "id": "gpBnK0J7cbpK"
      }
    },
    {
      "cell_type": "markdown",
      "source": [
        "#### **예제 01**\n",
        "\n",
        "<p align='center'>\n",
        "<img src=https://github.com/yebiny/NCS-lecture-deeplearning/blob/main/imgs/01-testmodel2.PNG?raw=true width=500>\n"
      ],
      "metadata": {
        "id": "e7DmmlbplmAa"
      }
    },
    {
      "cell_type": "markdown",
      "source": [
        "* Keras Functional API\n"
      ],
      "metadata": {
        "id": "5mnW29R1qK5u"
      }
    },
    {
      "cell_type": "code",
      "source": [
        "M1 = Build_Model(4, [8,8,3], 'KFA')\n",
        "M1.summary()\n",
        "utils.plot_model(M1, show_shapes=True)"
      ],
      "metadata": {
        "id": "BgLyz6HXqK5v",
        "outputId": "eb00a943-2480-4cf0-b713-48bb20521891",
        "colab": {
          "base_uri": "https://localhost:8080/",
          "height": 717
        }
      },
      "execution_count": 52,
      "outputs": [
        {
          "output_type": "stream",
          "name": "stdout",
          "text": [
            "Model: \"model_4\"\n",
            "_________________________________________________________________\n",
            " Layer (type)                Output Shape              Param #   \n",
            "=================================================================\n",
            " input_9 (InputLayer)        [(None, 4)]               0         \n",
            "                                                                 \n",
            " dense_22 (Dense)            (None, 8)                 40        \n",
            "                                                                 \n",
            " dense_23 (Dense)            (None, 8)                 72        \n",
            "                                                                 \n",
            " dense_24 (Dense)            (None, 3)                 27        \n",
            "                                                                 \n",
            "=================================================================\n",
            "Total params: 139\n",
            "Trainable params: 139\n",
            "Non-trainable params: 0\n",
            "_________________________________________________________________\n"
          ]
        },
        {
          "output_type": "execute_result",
          "data": {
            "text/plain": [
              "<IPython.core.display.Image object>"
            ],
            "image/png": "[encoded data removed]"
          },
          "metadata": {},
          "execution_count": 52
        }
      ]
    },
    {
      "cell_type": "markdown",
      "source": [
        "* keras Sequential API\n"
      ],
      "metadata": {
        "id": "q5ygabc2qI1P"
      }
    },
    {
      "cell_type": "code",
      "source": [
        "M1 = Build_Model(4, [8,8,3], 'KSA')\n",
        "M1.summary()\n",
        "utils.plot_model(M1, show_shapes=True)"
      ],
      "metadata": {
        "id": "I6qwU4_zlnN_",
        "outputId": "2dad8088-3956-4580-ee9c-a0dd51a9b888",
        "colab": {
          "base_uri": "https://localhost:8080/",
          "height": 538
        }
      },
      "execution_count": 46,
      "outputs": [
        {
          "output_type": "stream",
          "name": "stdout",
          "text": [
            "Model: \"sequential_2\"\n",
            "_________________________________________________________________\n",
            " Layer (type)                Output Shape              Param #   \n",
            "=================================================================\n",
            " dense_17 (Dense)            (None, 8)                 72        \n",
            "                                                                 \n",
            " dense_18 (Dense)            (None, 3)                 27        \n",
            "                                                                 \n",
            "=================================================================\n",
            "Total params: 99\n",
            "Trainable params: 99\n",
            "Non-trainable params: 0\n",
            "_________________________________________________________________\n"
          ]
        },
        {
          "output_type": "execute_result",
          "data": {
            "text/plain": [
              "<IPython.core.display.Image object>"
            ],
            "image/png": "[encoded data removed]"
          },
          "metadata": {},
          "execution_count": 46
        }
      ]
    },
    {
      "cell_type": "markdown",
      "source": [
        "* Model Class Subsclassing\n",
        "\n",
        "\n"
      ],
      "metadata": {
        "id": "k9crENLAqLEW"
      }
    },
    {
      "cell_type": "code",
      "source": [
        "class Model3(tf.keras.Model): # 이미 존재하는 클래스를 불러올때\n",
        "  def __init__(self):\n",
        "    super(Model3, self).__init__() # tf.keras.Model에 이미 정의되어 있는 (init)파라미터 불러오기\n",
        "    self._name = 'Model3'\n",
        "    self._input_shape=(4)\n",
        "    self.dense1 = layers.Dense(8, name='dense1')\n",
        "    self.dense2 = layers.Dense(8, name='dense2')\n",
        "    self.dense3 = layers.Dense(3, name='dense3')\n",
        "  \n",
        "  def call(self, x):\n",
        "    y = self.dense1(x)\n",
        "    y = self.dense2(y)\n",
        "    y = self.dense3(y)\n",
        "    return y"
      ],
      "metadata": {
        "id": "hP3yZKS0qLEW"
      },
      "execution_count": 47,
      "outputs": []
    },
    {
      "cell_type": "code",
      "source": [
        "m3 = Model3()\n",
        "m3(np.array([[1,2,1]]))\n",
        "m3.summary()\n",
        "utils.plot_model(m3)"
      ],
      "metadata": {
        "id": "tSw8_cdZ-MBS",
        "outputId": "d9529923-bbea-44d8-dc3d-1bfc6d0e76af",
        "colab": {
          "base_uri": "https://localhost:8080/",
          "height": 337
        }
      },
      "execution_count": 48,
      "outputs": [
        {
          "output_type": "stream",
          "name": "stdout",
          "text": [
            "Model: \"Model3\"\n",
            "_________________________________________________________________\n",
            " Layer (type)                Output Shape              Param #   \n",
            "=================================================================\n",
            " dense1 (Dense)              multiple                  32        \n",
            "                                                                 \n",
            " dense2 (Dense)              multiple                  72        \n",
            "                                                                 \n",
            " dense3 (Dense)              multiple                  27        \n",
            "                                                                 \n",
            "=================================================================\n",
            "Total params: 131\n",
            "Trainable params: 131\n",
            "Non-trainable params: 0\n",
            "_________________________________________________________________\n"
          ]
        },
        {
          "output_type": "execute_result",
          "data": {
            "text/plain": [
              "<IPython.core.display.Image object>"
            ],
            "image/png": "[encoded data removed]"
          },
          "metadata": {},
          "execution_count": 48
        }
      ]
    },
    {
      "cell_type": "markdown",
      "source": [
        "#### **예제 02**\n",
        "\n",
        "\n",
        "\n",
        "\n",
        "<p align='center'>\n",
        "<img src=https://github.com/yebiny/NCS-lecture-deeplearning/blob/main/imgs/01-testmodel3.PNG?raw=true width=700>\n"
      ],
      "metadata": {
        "id": "ZCd50-faAZg9"
      }
    },
    {
      "cell_type": "markdown",
      "source": [
        "* Keras Functional API\n"
      ],
      "metadata": {
        "id": "-TXHCeHZqZjF"
      }
    },
    {
      "cell_type": "code",
      "source": [
        "M1 = Build_Model(3, [4,8,4,1], 'KFA')\n",
        "M1.summary()\n",
        "utils.plot_model(M1, show_shapes=True)"
      ],
      "metadata": {
        "id": "Zekozc0QqZjG",
        "outputId": "56511653-fbb6-478c-8e0e-c3073a930b8f",
        "colab": {
          "base_uri": "https://localhost:8080/",
          "height": 863
        }
      },
      "execution_count": 53,
      "outputs": [
        {
          "output_type": "stream",
          "name": "stdout",
          "text": [
            "Model: \"model_5\"\n",
            "_________________________________________________________________\n",
            " Layer (type)                Output Shape              Param #   \n",
            "=================================================================\n",
            " input_10 (InputLayer)       [(None, 3)]               0         \n",
            "                                                                 \n",
            " dense_25 (Dense)            (None, 4)                 16        \n",
            "                                                                 \n",
            " dense_26 (Dense)            (None, 8)                 40        \n",
            "                                                                 \n",
            " dense_27 (Dense)            (None, 4)                 36        \n",
            "                                                                 \n",
            " dense_28 (Dense)            (None, 1)                 5         \n",
            "                                                                 \n",
            "=================================================================\n",
            "Total params: 97\n",
            "Trainable params: 97\n",
            "Non-trainable params: 0\n",
            "_________________________________________________________________\n"
          ]
        },
        {
          "output_type": "execute_result",
          "data": {
            "text/plain": [
              "<IPython.core.display.Image object>"
            ],
            "image/png": "[encoded data removed]"
          },
          "metadata": {},
          "execution_count": 53
        }
      ]
    },
    {
      "cell_type": "markdown",
      "source": [
        "* keras Sequential API\n"
      ],
      "metadata": {
        "id": "LQPscC7sqZjA"
      }
    },
    {
      "cell_type": "code",
      "source": [
        "M1 = Build_Model(3, [4,8,4,1], 'KSA')\n",
        "M1.summary()\n",
        "utils.plot_model(M1, show_shapes=True)"
      ],
      "metadata": {
        "id": "IO0chB0pqZjF",
        "outputId": "78ce0111-4d12-4d42-cf13-492f9c39b54e",
        "colab": {
          "base_uri": "https://localhost:8080/",
          "height": 682
        }
      },
      "execution_count": 54,
      "outputs": [
        {
          "output_type": "stream",
          "name": "stdout",
          "text": [
            "Model: \"sequential_3\"\n",
            "_________________________________________________________________\n",
            " Layer (type)                Output Shape              Param #   \n",
            "=================================================================\n",
            " dense_29 (Dense)            (None, 8)                 40        \n",
            "                                                                 \n",
            " dense_30 (Dense)            (None, 4)                 36        \n",
            "                                                                 \n",
            " dense_31 (Dense)            (None, 1)                 5         \n",
            "                                                                 \n",
            "=================================================================\n",
            "Total params: 81\n",
            "Trainable params: 81\n",
            "Non-trainable params: 0\n",
            "_________________________________________________________________\n"
          ]
        },
        {
          "output_type": "execute_result",
          "data": {
            "text/plain": [
              "<IPython.core.display.Image object>"
            ],
            "image/png": "[encoded data removed]"
          },
          "metadata": {},
          "execution_count": 54
        }
      ]
    },
    {
      "cell_type": "markdown",
      "source": [
        "* Model Class Subsclassing\n",
        "\n"
      ],
      "metadata": {
        "id": "LKm8DvxSqZjG"
      }
    },
    {
      "cell_type": "code",
      "source": [
        "class Model3(tf.keras.Model): # 이미 존재하는 클래스를 불러올때\n",
        "  def __init__(self):\n",
        "    super(Model3, self).__init__() # tf.keras.Model에 이미 정의되어 있는 (init)파라미터 불러오기\n",
        "    self._name = 'Model3'\n",
        "    self._input_shape=(3)\n",
        "    self.dense1 = layers.Dense(4, name='dense1')\n",
        "    self.dense2 = layers.Dense(8, name='dense2')\n",
        "    self.dense3 = layers.Dense(4, name='dense3')\n",
        "    self.dense4 = layers.Dense(1, name='dense4')\n",
        "  \n",
        "  def call(self, x):\n",
        "    y = self.dense1(x)\n",
        "    y = self.dense2(y)\n",
        "    y = self.dense3(y)\n",
        "    y = self.dense4(y)\n",
        "    return y"
      ],
      "metadata": {
        "id": "fEOkBDe2qZjG"
      },
      "execution_count": 55,
      "outputs": []
    },
    {
      "cell_type": "code",
      "source": [
        "m3 = Model3()\n",
        "m3(np.array([[1,2,1]]))\n",
        "m3.summary()\n",
        "utils.plot_model(m3)"
      ],
      "metadata": {
        "id": "H84hRhRw_nQP",
        "outputId": "30b0b499-ab86-435a-a038-22dfe52ec743",
        "colab": {
          "base_uri": "https://localhost:8080/",
          "height": 372
        }
      },
      "execution_count": 56,
      "outputs": [
        {
          "output_type": "stream",
          "name": "stdout",
          "text": [
            "Model: \"Model3\"\n",
            "_________________________________________________________________\n",
            " Layer (type)                Output Shape              Param #   \n",
            "=================================================================\n",
            " dense1 (Dense)              multiple                  16        \n",
            "                                                                 \n",
            " dense2 (Dense)              multiple                  40        \n",
            "                                                                 \n",
            " dense3 (Dense)              multiple                  36        \n",
            "                                                                 \n",
            " dense4 (Dense)              multiple                  5         \n",
            "                                                                 \n",
            "=================================================================\n",
            "Total params: 97\n",
            "Trainable params: 97\n",
            "Non-trainable params: 0\n",
            "_________________________________________________________________\n"
          ]
        },
        {
          "output_type": "execute_result",
          "data": {
            "text/plain": [
              "<IPython.core.display.Image object>"
            ],
            "image/png": "[encoded data removed]"
          },
          "metadata": {},
          "execution_count": 56
        }
      ]
    },
    {
      "cell_type": "markdown",
      "source": [
        ""
      ],
      "metadata": {
        "id": "MuG2ULgv_m-_"
      }
    }
  ]
}