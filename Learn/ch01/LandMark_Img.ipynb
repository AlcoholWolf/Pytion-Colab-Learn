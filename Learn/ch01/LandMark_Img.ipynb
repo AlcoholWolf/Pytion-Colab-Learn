{
  "nbformat": 4,
  "nbformat_minor": 0,
  "metadata": {
    "colab": {
      "name": "ch01_11_CNN실전-랜드마크이미지",
      "provenance": [],
      "collapsed_sections": [],
      "include_colab_link": true
    },
    "kernelspec": {
      "name": "python3",
      "display_name": "Python 3"
    },
    "language_info": {
      "name": "python"
    },
    "gpuClass": "standard",
    "accelerator": "GPU"
  },
  "cells": [
    {
      "cell_type": "markdown",
      "metadata": {
        "id": "view-in-github",
        "colab_type": "text"
      },
      "source": [
        "<a href=\"https://colab.research.google.com/github/AlcoholWolf/PY-SAVE/blob/main/CNN/ch01_11_CNN%EC%8B%A4%EC%A0%84_%EB%9E%9C%EB%93%9C%EB%A7%88%ED%81%AC%EC%9D%B4%EB%AF%B8%EC%A7%80.ipynb\" target=\"_parent\"><img src=\"https://colab.research.google.com/assets/colab-badge.svg\" alt=\"Open In Colab\"/></a>"
      ]
    },
    {
      "cell_type": "markdown",
      "source": [
        "# ch01.11 CNN실전 - 랜드마크 이미지\n",
        "\n",
        "* 날짜:\n",
        "* 이름:\n",
        "\n",
        "## 학습내용\n",
        "    - 랜드마크 데이터를 이용한 적절한 모델을 구축 및 학습한다.\n",
        "\n",
        "### 소개\n",
        "\n",
        "인공지능 기반의 컴퓨터 비전 기술 및 서비스 개발에 활용하기 위해 국내 특성(지리 공간적, 기능적)이 반영된 국내 도심 민간건물, 공공기관, 관광명소, 편의시설 등 국내 도시별 주요 랜드마크 이미지 데이터 구축\n",
        "\n",
        "### 구축목적\n",
        "AI 기술 및 응용서비스 개발에 활용가치가 높은 인공지능 학습용 데이터 구축 및 개방, AI응용 서비스 개발\n",
        "국내 특성(지리 공간적, 기능적)이 반영된 국내 도심 민간건물, 공공기관, 관광명소, 편의시설 등 국내 도시별 주요 랜드마크 이미지 데이터 구축\n",
        "\n",
        "### AI허브 링크\n",
        "https://aihub.or.kr/aihubdata/data/view.do?currMenu=115&topMenu=100&aihubDataSe=realm&dataSetSn=56"
      ],
      "metadata": {
        "id": "sWs2kEC1_b-P"
      }
    },
    {
      "cell_type": "markdown",
      "source": [
        "## 실습\n",
        "---"
      ],
      "metadata": {
        "id": "IZH_UYRO1giG"
      }
    },
    {
      "cell_type": "markdown",
      "source": [
        "#### **데이터로드**\n",
        "```\n",
        "! gdown https://drive.google.com/u/0/uc?id=19vsxVITy277RfMTmnY3qE6mH_DOZK7pt&export=download\n",
        "\n",
        "! gdawn https://drive.google.com/u/1/uc?id=1W8a1FpXSqIQqzLKq39Tl943ykBY8OpEE&export=download\n",
        "```"
      ],
      "metadata": {
        "id": "MLzNGNAn8joT"
      }
    },
    {
      "cell_type": "code",
      "source": [
        "# EL-Suv : 820GB / 16Core CPU / Compect-L GPU / 32RAM / Linux17 / Inf W (300$ Limit) / 24H Space\n",
        "# Colab : 80GB / None CPU / Persistence-M GPU / 12(11.24)RAM / 70W (Inf Limit) / In Space\n",
        "\n",
        "# 모델을 .bat화 또는 Linux화 할 수 있다는 가정 하에 3배 속도, 성능"
      ],
      "metadata": {
        "id": "-4Jt9LbRPrFp"
      },
      "execution_count": 25,
      "outputs": []
    },
    {
      "cell_type": "code",
      "source": [
        "! nvidia-smi"
      ],
      "metadata": {
        "id": "wjw3YlOIPB0B"
      },
      "execution_count": null,
      "outputs": []
    },
    {
      "cell_type": "code",
      "source": [
        "! gdown https://drive.google.com/u/1/uc?id=1W8a1FpXSqIQqzLKq39Tl943ykBY8OpEE&export=download"
      ],
      "metadata": {
        "id": "CLLytGfqtCSI"
      },
      "execution_count": null,
      "outputs": []
    },
    {
      "cell_type": "code",
      "execution_count": null,
      "metadata": {
        "id": "jZ9MoSJPs1Z8"
      },
      "outputs": [],
      "source": [
        "! unzip /content/jejudo.zip"
      ]
    },
    {
      "cell_type": "code",
      "source": [
        "import tensorflow as tf\n",
        "from tensorflow.keras.preprocessing.image import ImageDataGenerator"
      ],
      "metadata": {
        "id": "G7sDoX6ptQN8"
      },
      "execution_count": 8,
      "outputs": []
    },
    {
      "cell_type": "code",
      "source": [
        "train_gen = ImageDataGenerator(rescale=1.0/255.0,\n",
        "                               validation_split=0.2,\n",
        "                               width_shift_range=0.25,\n",
        "                               height_shift_range=0.25,\n",
        "                               rotation_range=180,\n",
        "                               shear_range=0.2,\n",
        "                               zoom_range=0.2,\n",
        "                               horizontal_flip=True,\n",
        "                               vertical_flip=True,\n",
        "                               brightness_range=[0.6, 1.4])\n",
        "\n",
        "valid_gen = ImageDataGenerator(rescale=1.0/255.0,\n",
        "                               validation_split=0.2)"
      ],
      "metadata": {
        "id": "WPgybecfxoYY"
      },
      "execution_count": 9,
      "outputs": []
    },
    {
      "cell_type": "code",
      "source": [
        "IMG_SHAPE = (180, 180)\n",
        "BATCH_SIZE = 8\n",
        "SEED = 123\n",
        "dir_path = '/content/dataset'\n",
        "train_ds = train_gen.flow_from_directory(dir_path, target_size=IMG_SHAPE, batch_size=BATCH_SIZE, class_mode='categorical', seed=SEED, subset='training')\n",
        "valid_ds = valid_gen.flow_from_directory(dir_path, target_size=IMG_SHAPE, batch_size=BATCH_SIZE, class_mode='categorical', seed=SEED, subset='validation')"
      ],
      "metadata": {
        "id": "xNu-J0U6wIIn",
        "outputId": "be30b3f4-7063-43da-d428-5a988be3312d",
        "colab": {
          "base_uri": "https://localhost:8080/"
        }
      },
      "execution_count": 18,
      "outputs": [
        {
          "output_type": "stream",
          "name": "stdout",
          "text": [
            "Found 1065 images belonging to 8 classes.\n",
            "Found 263 images belonging to 8 classes.\n"
          ]
        }
      ]
    },
    {
      "cell_type": "code",
      "source": [
        "# import matplotlib as plt\n",
        "import matplotlib.pyplot as plt"
      ],
      "metadata": {
        "id": "RjbgMAnavvFf"
      },
      "execution_count": 11,
      "outputs": []
    },
    {
      "cell_type": "code",
      "source": [
        "# IMG : (batch_size, img_shape)\n",
        "# labels : one-hot incoding useded\n",
        "\n",
        "plt.figure(figsize=(12,8))\n",
        "for imgs, labels in train_ds:\n",
        "  print(imgs.shape, labels)\n",
        "  for i in range(BATCH_SIZE):\n",
        "    plt.subplot(2,4,i+1)\n",
        "    plt.xticks([]);plt.yticks([])\n",
        "    plt.imshow(imgs[i])\n",
        "  break"
      ],
      "metadata": {
        "id": "0ldzmoXY0rnl"
      },
      "execution_count": null,
      "outputs": []
    },
    {
      "cell_type": "code",
      "source": [
        "base_model = tf.keras.applications.EfficientNetB7(weights='imagenet', include_top=False, input_shape=IMG_SHAPE+(3,))"
      ],
      "metadata": {
        "id": "2YE02iB-1d-F"
      },
      "execution_count": 20,
      "outputs": []
    },
    {
      "cell_type": "code",
      "source": [
        "from tensorflow.keras import layers, models, optimizers"
      ],
      "metadata": {
        "id": "tXAbNdCCAMy4"
      },
      "execution_count": 14,
      "outputs": []
    },
    {
      "cell_type": "code",
      "source": [
        "def create_model(base_model):\n",
        "  x = layers.Input(shape=IMG_SHAPE+(3,))\n",
        "  y = base_model(x)\n",
        "  y = layers.GlobalAveragePooling2D()(y)\n",
        "  y = layers.Dropout(0.5)(y)\n",
        "  y = layers.Dense(8, activation='softmax')(y)\n",
        "  return models.Model(x, y)\n",
        "\n",
        "model = create_model(base_model)\n",
        "base_model.trainable = True\n",
        "model.compile(loss='categorical_crossentropy', optimizer=optimizers.RMSprop(learning_rate=0.0002), metrics=['acc'])\n",
        "model.summary()"
      ],
      "metadata": {
        "id": "2e66b7CZ2OPM"
      },
      "execution_count": null,
      "outputs": []
    },
    {
      "cell_type": "code",
      "source": [
        "from tensorflow.keras import callbacks"
      ],
      "metadata": {
        "id": "8XrwQ-SQCFah"
      },
      "execution_count": 16,
      "outputs": []
    },
    {
      "cell_type": "code",
      "source": [
        "from google.colab import drive\n",
        "drive.mount('/content/drive')"
      ],
      "metadata": {
        "id": "O7ifq244C-Oa"
      },
      "execution_count": null,
      "outputs": []
    },
    {
      "cell_type": "code",
      "source": [
        "save_path = '/content/drive/MyDrive/eff_landmark'\n",
        "TRAIN_STEP = train_ds.n//BATCH_SIZE\n",
        "VALID_STEP = valid_ds.n//BATCH_SIZE\n",
        "tb = callbacks.TensorBoard(log_dir=f'{save_path}/tb_log')\n",
        "ckb = callbacks.ModelCheckpoint(filepath=f'{save_path}/model.h5', save_best_only=True, monitor='val_acc')\n",
        "history = model.fit(train_ds, shuffle=True, epochs=5, callbacks=[tb, ckb], validation_data=valid_ds, \n",
        "                    # calq\n",
        "                    steps_per_epoch=TRAIN_STEP, validation_steps=VALID_STEP)"
      ],
      "metadata": {
        "id": "tF0c98ayCx-X",
        "colab": {
          "base_uri": "https://localhost:8080/"
        },
        "outputId": "015f219b-da8b-4723-82d1-65b425324617"
      },
      "execution_count": 22,
      "outputs": [
        {
          "output_type": "stream",
          "name": "stdout",
          "text": [
            "Epoch 1/5\n",
            "133/133 [==============================] - 334s 2s/step - loss: 0.4829 - acc: 0.8562 - val_loss: 2.2043 - val_acc: 0.1211\n",
            "Epoch 2/5\n",
            "133/133 [==============================] - 313s 2s/step - loss: 0.1318 - acc: 0.9612 - val_loss: 3.3484 - val_acc: 0.1250\n",
            "Epoch 3/5\n",
            "133/133 [==============================] - 299s 2s/step - loss: 0.0672 - acc: 0.9773 - val_loss: 2.1744 - val_acc: 0.2617\n",
            "Epoch 4/5\n",
            "133/133 [==============================] - 248s 2s/step - loss: 0.0708 - acc: 0.9801 - val_loss: 2.2119 - val_acc: 0.6250\n",
            "Epoch 5/5\n",
            "133/133 [==============================] - 288s 2s/step - loss: 0.0473 - acc: 0.9839 - val_loss: 0.5887 - val_acc: 0.7695\n"
          ]
        }
      ]
    }
  ]
}