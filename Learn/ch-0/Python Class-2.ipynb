{
  "nbformat": 4,
  "nbformat_minor": 0,
  "metadata": {
    "colab": {
      "name": "5-2.클래스_클래스더다루기.ipynb",
      "provenance": [],
      "collapsed_sections": [],
      "include_colab_link": true
    },
    "kernelspec": {
      "name": "python3",
      "display_name": "Python 3"
    },
    "language_info": {
      "name": "python"
    }
  },
  "cells": [
    {
      "cell_type": "markdown",
      "metadata": {
        "id": "view-in-github",
        "colab_type": "text"
      },
      "source": [
        "<a href=\"https://colab.research.google.com/github/AlcoholWolf/py-play/blob/main/5_2_%ED%81%B4%EB%9E%98%EC%8A%A4_%ED%81%B4%EB%9E%98%EC%8A%A4%EB%8D%94%EB%8B%A4%EB%A3%A8%EA%B8%B0.ipynb\" target=\"_parent\"><img src=\"https://colab.research.google.com/assets/colab-badge.svg\" alt=\"Open In Colab\"/></a>"
      ]
    },
    {
      "cell_type": "markdown",
      "metadata": {
        "id": "jgFAOz-Tw1VI"
      },
      "source": [
        "# 5-2.클래스: 클래스 더 다루기\n",
        "---\n",
        "* 날짜:\n",
        "* 이름:\n"
      ]
    },
    {
      "cell_type": "markdown",
      "metadata": {
        "id": "roC8A6Ro6THT"
      },
      "source": [
        "## 개념정리\n",
        "---\n",
        "\n"
      ]
    },
    {
      "cell_type": "markdown",
      "source": [
        "저번 시간까지 배운 클래스 내용만으로도 충분히 클래스를 만들고 코드를 읽을 수 있습니다. 하지만 클래스에는 더 많은 유용한 기능들이 있습니다. 이를 이해하면 더 쉽고 유용하게 파이썬 코드를 작성할 수 있을 겁니다. \n",
        "\n",
        "\n"
      ],
      "metadata": {
        "id": "Ee54frgJYOr8"
      }
    },
    {
      "cell_type": "markdown",
      "metadata": {
        "id": "4azv1P74n23k"
      },
      "source": [
        "###**(1) 매직 메소드**\n",
        "\n",
        "매직 메소드는 파이썬에서 미리 정의해 놓은 메소드입니다. 이 메소드들은 각각이 지니는 고유 기능들이 있습니다.\n",
        "\n",
        "지난 시간에 배운 `__init__`이라는 메소드 또한 매직 메소드의 일종입니다. \n",
        "\n",
        "매직메소드 개수는 꽤 많고 각각 복잡한 일들을 하기 때문에 이번시간에 다 다루지는 않겠습니다. 다만 자주 쓰이는 몇가지 메소드를 함께 보도록 합니다.\n",
        "\n",
        "\n"
      ]
    },
    {
      "cell_type": "markdown",
      "source": [
        "#### **클래스의 덧셈**\n",
        "\n",
        "특정 숫자를 소개하는 클래스 `Mynumber()`를 아래와 같이 정의해 봅시다. \n",
        "\n",
        "```\n",
        "class MyNumber():\n",
        "  def __init__(self, num):\n",
        "    self.num = num\n",
        "  def intro(self):\n",
        "    print(f\"my num is {self.num}\")\n",
        "```"
      ],
      "metadata": {
        "id": "6E02cLotHrTX"
      }
    },
    {
      "cell_type": "code",
      "metadata": {
        "id": "myVCV-mSn23l"
      },
      "source": [
        "class MyNumber():\n",
        "  def __init__(self, num):\n",
        "    self.num = num\n",
        "  def intro(self):\n",
        "    print(f\"my num is {self.num}\")"
      ],
      "execution_count": null,
      "outputs": []
    },
    {
      "cell_type": "markdown",
      "source": [
        "* `num` 값이 2인 인스턴스 생성\n",
        "\n",
        "```\n",
        "a = MyNumber(2)\n",
        "a.intro()\n",
        "```"
      ],
      "metadata": {
        "id": "kvX7555uKvoQ"
      }
    },
    {
      "cell_type": "code",
      "source": [
        "a = MyNumber(2)\n",
        "a.intro()"
      ],
      "metadata": {
        "id": "CyOsSyDPJv16",
        "colab": {
          "base_uri": "https://localhost:8080/"
        },
        "outputId": "a508494c-b85b-440a-f08d-0070cb6b55f5"
      },
      "execution_count": null,
      "outputs": [
        {
          "output_type": "stream",
          "name": "stdout",
          "text": [
            "my num is 2\n"
          ]
        }
      ]
    },
    {
      "cell_type": "markdown",
      "source": [
        "* `num` 값이 5인 인스턴스 생성\n",
        "\n",
        "```\n",
        "b = MyNumber(5)\n",
        "b.intro()\n",
        "```"
      ],
      "metadata": {
        "id": "h3yKSEr5K10L"
      }
    },
    {
      "cell_type": "code",
      "source": [
        "b = MyNumber(5)\n",
        "b.intro()"
      ],
      "metadata": {
        "id": "DYyS2zFnKcKx",
        "colab": {
          "base_uri": "https://localhost:8080/"
        },
        "outputId": "7dbfc8a1-8afa-4f96-fb33-4fa3eb11f516"
      },
      "execution_count": null,
      "outputs": [
        {
          "output_type": "stream",
          "name": "stdout",
          "text": [
            "my num is 5\n"
          ]
        }
      ]
    },
    {
      "cell_type": "markdown",
      "source": [
        "* 인스턴스끼리 더하기\n",
        "\n",
        "인스턴스 `a`와 `b`를 더하고 싶습니다. 더해서 7이란 값이 나오면 좋겠네요. 한번 덧셈을 해봅시다.\n",
        "\n",
        "```\n",
        "a+b\n",
        "```"
      ],
      "metadata": {
        "id": "MDKJ6tSXK5xS"
      }
    },
    {
      "cell_type": "code",
      "source": [
        "a+b"
      ],
      "metadata": {
        "id": "zuz-qtaaKgrY",
        "colab": {
          "base_uri": "https://localhost:8080/",
          "height": 174
        },
        "outputId": "0f4adcc0-b3f6-4f7f-ac03-0c343302afca"
      },
      "execution_count": null,
      "outputs": [
        {
          "output_type": "error",
          "ename": "TypeError",
          "evalue": "ignored",
          "traceback": [
            "\u001b[0;31m---------------------------------------------------------------------------\u001b[0m",
            "\u001b[0;31mTypeError\u001b[0m                                 Traceback (most recent call last)",
            "\u001b[0;32m<ipython-input-4-ca730b97bf8a>\u001b[0m in \u001b[0;36m<module>\u001b[0;34m()\u001b[0m\n\u001b[0;32m----> 1\u001b[0;31m \u001b[0ma\u001b[0m\u001b[0;34m+\u001b[0m\u001b[0mb\u001b[0m\u001b[0;34m\u001b[0m\u001b[0;34m\u001b[0m\u001b[0m\n\u001b[0m",
            "\u001b[0;31mTypeError\u001b[0m: unsupported operand type(s) for +: 'MyNumber' and 'MyNumber'"
          ]
        }
      ]
    },
    {
      "cell_type": "markdown",
      "source": [
        "에러가 뜹니다. 인스턴스가 덧셈이 가능하게 하도록 하려면 `__add__` 메소드를 이용해야 합니다.\n",
        "\n",
        "`+`으로 연결된 다른 인스턴스는 `other`로 자동 연결됩니다. `+`를 함으로써 우리는 인스턴스의 `num`값을 더하고 싶으니 이를 `return`해 주면 됩니다.\n",
        "\n",
        "```\n",
        "class MyNumber():\n",
        "  def __init__(self, num):\n",
        "    self.num = num\n",
        "  def intro(self):\n",
        "    print(f\"my num is {self.num}\")\n",
        "\n",
        "  def __add__(self, other):\n",
        "    return self.num+other.num\n",
        "```"
      ],
      "metadata": {
        "id": "R6tJPDUtRYlh"
      }
    },
    {
      "cell_type": "code",
      "source": [
        "class MyNumber():\n",
        "  def __init__(self, num):\n",
        "    self.num = num\n",
        "  def intro(self):\n",
        "    print(f\"my num is {self.num}\")\n",
        "\n",
        "  def __add__(self, other):\n",
        "    return self.num+other.num"
      ],
      "metadata": {
        "id": "S7RADkiJR8Fq"
      },
      "execution_count": null,
      "outputs": []
    },
    {
      "cell_type": "markdown",
      "source": [
        "* `num` 값이 2인 인스턴스 생성\n",
        "\n",
        "```\n",
        "a = MyNumber(2)\n",
        "a.intro()\n",
        "```"
      ],
      "metadata": {
        "id": "VyJS6zDGR6MB"
      }
    },
    {
      "cell_type": "code",
      "source": [
        "a = MyNumber(2)\n",
        "a.intro()"
      ],
      "metadata": {
        "id": "7eE4VTaOR6MH",
        "colab": {
          "base_uri": "https://localhost:8080/"
        },
        "outputId": "4316190c-5b1b-4bcd-8d54-39d217bade36"
      },
      "execution_count": null,
      "outputs": [
        {
          "output_type": "stream",
          "name": "stdout",
          "text": [
            "my num is 2\n"
          ]
        }
      ]
    },
    {
      "cell_type": "markdown",
      "source": [
        "* `num` 값이 5인 인스턴스 생성\n",
        "\n",
        "```\n",
        "b = MyNumber(5)\n",
        "b.intro()\n",
        "```"
      ],
      "metadata": {
        "id": "_muaH3NjR6MI"
      }
    },
    {
      "cell_type": "code",
      "source": [
        "b = MyNumber(5)\n",
        "b.intro()"
      ],
      "metadata": {
        "id": "l1Fnt2kKR6MI",
        "colab": {
          "base_uri": "https://localhost:8080/"
        },
        "outputId": "1d4fd10e-cabb-49ab-f8a9-bafba4d788d0"
      },
      "execution_count": null,
      "outputs": [
        {
          "output_type": "stream",
          "name": "stdout",
          "text": [
            "my num is 5\n"
          ]
        }
      ]
    },
    {
      "cell_type": "markdown",
      "source": [
        "* 인스턴스끼리 더하기\n",
        "\n",
        "인스턴스 `a`와 `b`를 더하고 싶습니다. 더해서 7이란 값이 나오면 좋겠네요. 한번 덧셈을 해봅시다.\n",
        "\n",
        "```\n",
        "a+b\n",
        "```"
      ],
      "metadata": {
        "id": "BvicrsTIR6MJ"
      }
    },
    {
      "cell_type": "code",
      "source": [
        "a+b"
      ],
      "metadata": {
        "id": "hi269E7OKhZf",
        "colab": {
          "base_uri": "https://localhost:8080/"
        },
        "outputId": "e16f3a5b-b5a6-4af2-e7e2-7b4f56e5801f"
      },
      "execution_count": null,
      "outputs": [
        {
          "output_type": "execute_result",
          "data": {
            "text/plain": [
              "7"
            ]
          },
          "metadata": {},
          "execution_count": 8
        }
      ]
    },
    {
      "cell_type": "markdown",
      "source": [
        "이제 7이란 값이 제대로 나오는 것을 볼 수 있습니다."
      ],
      "metadata": {
        "id": "vOybiF3iSArm"
      }
    },
    {
      "cell_type": "markdown",
      "source": [
        "#### **클래스의 문자**\n",
        "\n",
        "* `__str__`\n",
        "\n",
        "이 메소드는 인스턴스의 출력을 지정해 줍니다. 위에서 정의한 인스턴스 a 를 출력해보겠습니다. \n",
        "\n",
        "```\n",
        "print(a)\n",
        "```"
      ],
      "metadata": {
        "id": "TGIlr0BvYLFL"
      }
    },
    {
      "cell_type": "code",
      "source": [
        "print(a)"
      ],
      "metadata": {
        "id": "wJUbSZsoYmBN",
        "colab": {
          "base_uri": "https://localhost:8080/"
        },
        "outputId": "56379905-c929-438a-ed70-f2929db7a675"
      },
      "execution_count": null,
      "outputs": [
        {
          "output_type": "stream",
          "name": "stdout",
          "text": [
            "<__main__.MyNumber object at 0x7f466bed51d0>\n"
          ]
        }
      ]
    },
    {
      "cell_type": "markdown",
      "source": [
        "이번에는 클래스 안에 `__str__` 메서드를 추가해 보겠습니다. 현재 `intro` 메서드가 출력을 수행하고 있어서 기능이 겹치네요. 이를 바꾸도록 하겠습니다.\n",
        "\n",
        "```\n",
        "class MyNumber():\n",
        "  def __init__(self, num):\n",
        "    self.num = num\n",
        "  def __str__(self):\n",
        "    return f\"my num is {self.num}\"\n",
        "  def __add__(self, other):\n",
        "    return self.num+other.num\n",
        "```"
      ],
      "metadata": {
        "id": "rxH649t1Ync_"
      }
    },
    {
      "cell_type": "code",
      "metadata": {
        "id": "Tw9XzO4cYLFM"
      },
      "source": [
        "class MyNumber():\n",
        "  def __init__(self, num):\n",
        "    self.num = num\n",
        "  def __str__(self):\n",
        "    return f\"my num is {self.num}\"\n",
        "  def __add__(self, other):\n",
        "    return self.num+other.num\n",
        "  def __vec__(self, other):\n",
        "    return self.num/other.num\n",
        "  def __poc__(self, other):\n",
        "    return self.num//other.num\n",
        "  def __jgb__(self, other):\n",
        "    return self.num**other.num\n",
        "  def __mox__(self, other):\n",
        "    return self.num%other.num"
      ],
      "execution_count": 11,
      "outputs": []
    },
    {
      "cell_type": "markdown",
      "source": [
        "* `num` 값이 2인 인스턴스 생성하고 출력하기\n",
        "\n",
        "```\n",
        "a = MyNumber(2)\n",
        "a.intro()\n",
        "```"
      ],
      "metadata": {
        "id": "Tk6qcTE4bAxi"
      }
    },
    {
      "cell_type": "code",
      "source": [
        "a = MyNumber(2)\n",
        "a.intro()"
      ],
      "metadata": {
        "id": "2GSARmo1bAxj",
        "colab": {
          "base_uri": "https://localhost:8080/"
        },
        "outputId": "7de17b8b-43b6-4e48-c1ae-bc96e7f5e07e"
      },
      "execution_count": null,
      "outputs": [
        {
          "output_type": "stream",
          "name": "stdout",
          "text": [
            "my num is 2\n"
          ]
        }
      ]
    },
    {
      "cell_type": "markdown",
      "source": [
        "### **(2) 상속**\n"
      ],
      "metadata": {
        "id": "NS4BrQpbl3mZ"
      }
    },
    {
      "cell_type": "markdown",
      "metadata": {
        "id": "O0tIcH3xcfDB"
      },
      "source": [
        "\n",
        "\n",
        "#### **상속이란**\n",
        "\n",
        "상속이란 이미 만들어진 클래스를 그대로 받아와 사용할 수 있을 뿐 아니 세부적으로 변경할 수도 있게 하는 것입니다. \n",
        "\n",
        "이 때 상속받아온 상위 클래스를 부모 클래스, 하위클래스를 자식 클래스라 합니다. \n",
        "\n",
        "위에서 만든 `MyNumber`클래스를 상속받아 봅시다. 상속 받기 위해서는 클래스 이름을 정의할 때 상속받을 클래스를 작성해 줍니다. \n",
        "\n",
        "```\n",
        "  \n",
        "class EvenNumber(MyNumber): # 상속받아오기\n",
        "  def __str__(self): # __str__ 메서드는 변경하기\n",
        "    return f\"my num is {self.num}. and it is even.\"\n",
        "\n",
        "class OddNumber(MyNumber):\n",
        "  def __str__(self): # __str__ 메서드는 변경하기\n",
        "    return f\"my num is {self.num}. and it is odd.\"\n",
        "\n",
        "```"
      ]
    },
    {
      "cell_type": "code",
      "source": [
        "class EvenNumber(MyNumber): # 상속받아오기\n",
        "  def __str__(self): # __str__ 메서드는 변경하기\n",
        "    return f\"my num is {self.num}. and it is even.\"\n",
        "\n",
        "class OddNumber(MyNumber):\n",
        "  def __str__(self): # __str__ 메서드는 변경하기\n",
        "    return f\"my num is {self.num}. and it is odd.\""
      ],
      "metadata": {
        "id": "FFtnwVYijGET"
      },
      "execution_count": 4,
      "outputs": []
    },
    {
      "cell_type": "markdown",
      "source": [
        "* 인스턴스 생성"
      ],
      "metadata": {
        "id": "Ax6wEj3fllRF"
      }
    },
    {
      "cell_type": "code",
      "source": [
        "class EvenNumber(MyNumber): # 상속받아오기\n",
        "  def int1(self): # __str__ 메서드는 변경하기\n",
        "    return f\"my num is {self.num}. and it is even.\"\n",
        "\n",
        "class OddNumber(MyNumber):\n",
        "  def int2(self): # __str__ 메서드는 변경하기\n",
        "    return f\"my num is {self.num}. and it is odd.\""
      ],
      "metadata": {
        "id": "C62myMS4jHLk"
      },
      "execution_count": 5,
      "outputs": []
    },
    {
      "cell_type": "markdown",
      "source": [
        "* 인스턴스  출력하기\n",
        "\n",
        "같은 부모에게서 상속 받아 왔지만 `__str__`의 반환값이 다르기 때문에 출력이 다른 것을 확인할 수 있습니다.\n",
        "\n",
        "```\n",
        "print(even)\n",
        "print(odd)\n",
        "```"
      ],
      "metadata": {
        "id": "ETWxonLJlWlx"
      }
    },
    {
      "cell_type": "code",
      "source": [
        "b = EvenNumber(2)\n",
        "a = OddNumber(2)\n",
        "b.int1()\n",
        "a.int2()"
      ],
      "metadata": {
        "id": "yLu5y61VlkVW",
        "colab": {
          "base_uri": "https://localhost:8080/",
          "height": 35
        },
        "outputId": "7707ab38-fedf-450d-a62d-7742f90f354c"
      },
      "execution_count": 12,
      "outputs": [
        {
          "output_type": "execute_result",
          "data": {
            "text/plain": [
              "'my num is 2. and it is odd.'"
            ],
            "application/vnd.google.colaboratory.intrinsic+json": {
              "type": "string"
            }
          },
          "metadata": {},
          "execution_count": 12
        }
      ]
    },
    {
      "cell_type": "markdown",
      "source": [
        "* 또한 부모클래스에 있던 `__add__` 메소드도 사용할 수 있습니다. \n",
        "\n",
        "```\n",
        "even+odd\n",
        "```"
      ],
      "metadata": {
        "id": "CKWB-D8plrqs"
      }
    },
    {
      "cell_type": "code",
      "source": [
        "b+a"
      ],
      "metadata": {
        "id": "LpZwhHi8jMPq",
        "colab": {
          "base_uri": "https://localhost:8080/"
        },
        "outputId": "bb9f5367-2513-4600-91ce-52b530a576f0"
      },
      "execution_count": 9,
      "outputs": [
        {
          "output_type": "execute_result",
          "data": {
            "text/plain": [
              "4"
            ]
          },
          "metadata": {},
          "execution_count": 9
        }
      ]
    },
    {
      "cell_type": "code",
      "source": [
        "class MyNumber():\n",
        "  def __init__(self, num):\n",
        "    self.num = num\n",
        "  def __str__(self):\n",
        "    return f\"my num is {self.num}\"\n",
        "\n",
        "  def __add__(self, other): #plus\n",
        "    return self.num+other.num\n",
        "\n",
        "  def __sub__(self, other): #miner\n",
        "    return self.num-other.num\n",
        "\n",
        "  def __mul__(self, other): #gobsam\n",
        "    return self.num*other.num\n",
        "\n",
        "  def __pow__(self, other): #^^\n",
        "    return self.num**other.num\n",
        "\n",
        "  def __floordiv__(self, other): #//\n",
        "    return self.num//other.num\n",
        "\n",
        "  def __truediv__(self, other): # /?\n",
        "    return self.num/other.num\n",
        "\n",
        "  def __mod__(self, other): #%\n",
        "    return self.num%other.num\n",
        "\n",
        "class Vecter(MyNumber):\n",
        "  def __init__(self, num):\n",
        "    self.num = num\n",
        "  def __str__(self):\n",
        "    return f\"Vecter({self.num})\""
      ],
      "metadata": {
        "id": "h11UjWa2jN_i"
      },
      "execution_count": 75,
      "outputs": []
    },
    {
      "cell_type": "code",
      "source": [
        ""
      ],
      "metadata": {
        "id": "hoW1VkPvjPiw"
      },
      "execution_count": 34,
      "outputs": []
    },
    {
      "cell_type": "code",
      "source": [
        "b = MyNumber(22)\n",
        "a = MyNumber(40)\n",
        "c = Vecter([1,2,4,3])\n",
        "print(a/b)\n",
        "print(a//b)\n",
        "print(a%b)\n",
        "print(a*b)\n",
        "print(a**b)\n",
        "print(a+b)\n",
        "print(a-b)\n",
        "print(c)"
      ],
      "metadata": {
        "colab": {
          "base_uri": "https://localhost:8080/"
        },
        "id": "SQZLLD7LpFIx",
        "outputId": "0567f56a-f256-4ff6-a9c2-a320faa3072e"
      },
      "execution_count": 83,
      "outputs": [
        {
          "output_type": "stream",
          "name": "stdout",
          "text": [
            "1.8181818181818181\n",
            "1\n",
            "18\n",
            "880\n",
            "175921860444160000000000000000000000\n",
            "62\n",
            "18\n",
            "Vecter([1, 2, 4, 3])\n"
          ]
        }
      ]
    },
    {
      "cell_type": "code",
      "source": [
        ""
      ],
      "metadata": {
        "colab": {
          "base_uri": "https://localhost:8080/",
          "height": 35
        },
        "id": "Js03dgeepLMY",
        "outputId": "e39c69e5-b28d-48d1-9c5f-600148bf0aed"
      },
      "execution_count": 29,
      "outputs": [
        {
          "output_type": "execute_result",
          "data": {
            "text/plain": [
              "'my num is 4. and it is even.'"
            ],
            "application/vnd.google.colaboratory.intrinsic+json": {
              "type": "string"
            }
          },
          "metadata": {},
          "execution_count": 29
        }
      ]
    },
    {
      "cell_type": "code",
      "source": [
        "a.int2()"
      ],
      "metadata": {
        "colab": {
          "base_uri": "https://localhost:8080/",
          "height": 35
        },
        "id": "REepPhPopjDY",
        "outputId": "2766b9c4-ceaa-4b51-9bb2-09f49b83c172"
      },
      "execution_count": 28,
      "outputs": [
        {
          "output_type": "execute_result",
          "data": {
            "text/plain": [
              "'my num is 2. and it is odd.'"
            ],
            "application/vnd.google.colaboratory.intrinsic+json": {
              "type": "string"
            }
          },
          "metadata": {},
          "execution_count": 28
        }
      ]
    },
    {
      "cell_type": "code",
      "source": [
        "class Add:\n",
        "    def __init__(self):\n",
        "        self.value=0\n",
        "\n",
        "    def __add__(self,v):\n",
        "        self.value +=v\n",
        "\n",
        "    def printValue(self):\n",
        "        print(self.value)\n",
        "\n"
      ],
      "metadata": {
        "id": "sb2lnMYNp0tY"
      },
      "execution_count": null,
      "outputs": []
    },
    {
      "cell_type": "code",
      "source": [
        "a = Vectpr([1,2,3])\n",
        "print(a)\n",
        "```\n",
        "vector([1,2,3])\n",
        "```"
      ],
      "metadata": {
        "id": "q5HjWmApwWgw"
      },
      "execution_count": null,
      "outputs": []
    },
    {
      "cell_type": "code",
      "source": [
        "class Vecter():\n",
        "  def __init__(self, num):\n",
        "    self.num = num\n",
        "  def __str__(self):\n",
        "    return f\"Vecter({self.num})\"\n",
        "a = Vecter([1,2,4,3])\n",
        "print(a)"
      ],
      "metadata": {
        "colab": {
          "base_uri": "https://localhost:8080/"
        },
        "id": "WP0KT_0dwSOg",
        "outputId": "7137cc53-e70d-411c-d0f5-dc1c2cd2cbad"
      },
      "execution_count": 68,
      "outputs": [
        {
          "output_type": "stream",
          "name": "stdout",
          "text": [
            "Vecter([1, 2, 4, 3])\n"
          ]
        }
      ]
    },
    {
      "cell_type": "code",
      "source": [
        ""
      ],
      "metadata": {
        "id": "v6hz4WFdwv42"
      },
      "execution_count": null,
      "outputs": []
    }
  ]
}