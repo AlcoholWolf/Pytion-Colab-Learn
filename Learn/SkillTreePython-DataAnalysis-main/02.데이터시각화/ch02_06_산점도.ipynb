{
  "nbformat": 4,
  "nbformat_minor": 0,
  "metadata": {
    "colab": {
      "name": "ch02_06_산점도.ipynb",
      "provenance": [],
      "collapsed_sections": [],
      "toc_visible": true,
      "authorship_tag": "ABX9TyOavP9gEGjJITuHSA9mQZus",
      "include_colab_link": true
    },
    "kernelspec": {
      "name": "python3",
      "display_name": "Python 3"
    },
    "language_info": {
      "name": "python"
    }
  },
  "cells": [
    {
      "cell_type": "markdown",
      "metadata": {
        "id": "view-in-github",
        "colab_type": "text"
      },
      "source": [
        "<a href=\"https://colab.research.google.com/github/yebiny/SkillTreePython-DataAnalysis/blob/main/02.%EB%8D%B0%EC%9D%B4%ED%84%B0%EC%8B%9C%EA%B0%81%ED%99%94/ch02_06_%EC%82%B0%EC%A0%90%EB%8F%84.ipynb\" target=\"_parent\"><img src=\"https://colab.research.google.com/assets/colab-badge.svg\" alt=\"Open In Colab\"/></a>"
      ]
    },
    {
      "cell_type": "markdown",
      "source": [
        "# Ch02.06. 산점도\n",
        "\n",
        "---\n",
        "* 날짜:\n",
        "* 이름:\n",
        "\n",
        "\n",
        "```\n",
        "import numpy as np\n",
        "import pandas as pd\n",
        "import matplotlib.pyplot as plt\n",
        "import seaborn as sns\n",
        "\n",
        "plt.rcParams['figure.figsize'] = [6, 4]\n",
        "plt.style.use('seaborn-white')\n",
        "sns.set_style('white')\n",
        "\n",
        "```\n"
      ],
      "metadata": {
        "id": "ylXjSLUxXHxm"
      }
    },
    {
      "cell_type": "code",
      "execution_count": null,
      "metadata": {
        "id": "TyVLPbux1Yu7"
      },
      "outputs": [],
      "source": [
        ""
      ]
    },
    {
      "cell_type": "markdown",
      "source": [
        "\n",
        "## **개념정리**\n",
        "---\n",
        "\n",
        "\n"
      ],
      "metadata": {
        "id": "CfIEbA8ZWulm"
      }
    },
    {
      "cell_type": "markdown",
      "source": [
        "### (1) Matplotlib 으로 그리기\n"
      ],
      "metadata": {
        "id": "QzMXKYm0F-CE"
      }
    },
    {
      "cell_type": "markdown",
      "source": [
        "#### | 기본사용\n",
        "\n",
        "```\n",
        "x = [1,2,3]\n",
        "y = [2,4,6]\n",
        "plt.scatter(x, y)\n",
        "plt.show()\n",
        "```"
      ],
      "metadata": {
        "id": "etnS7PCoF-CE"
      }
    },
    {
      "cell_type": "code",
      "source": [
        ""
      ],
      "metadata": {
        "id": "a89f32h6kFBX"
      },
      "execution_count": null,
      "outputs": []
    },
    {
      "cell_type": "markdown",
      "source": [
        "#### | 옵션\n",
        "\n",
        "```\n",
        "plt.scatter(x, y, \n",
        "            s=None, # 마커 크기 - x, y 길이와 동일\n",
        "            c=None, # 색깔 - x, y의 길이와 동일 \n",
        "            marker=None # 마커 종류\n",
        "            cmap=None, # 컬러맵\n",
        "            norm=None, # 정규화 여부\n",
        "            alpha=None, # 투명도\n",
        "            linewidths=None, # 테두리 두께\n",
        "            edgecolors=None) # 테두리 색깔 - 기본 'face'\n",
        "```"
      ],
      "metadata": {
        "id": "2i7oEW-_k-CH"
      }
    },
    {
      "cell_type": "code",
      "source": [
        ""
      ],
      "metadata": {
        "id": "QCBSmdiukOZM"
      },
      "execution_count": null,
      "outputs": []
    },
    {
      "cell_type": "markdown",
      "source": [
        "### (2) Seaborn 으로 그리기\n",
        "---\n",
        "\n"
      ],
      "metadata": {
        "id": "ggjMd8im8gJx"
      }
    },
    {
      "cell_type": "markdown",
      "source": [
        "#### | 기본사용\n",
        "\n",
        "```\n",
        "sns.scatterplot(x=x,y=y)\n",
        "```"
      ],
      "metadata": {
        "id": "WCVykkIPXTmq"
      }
    },
    {
      "cell_type": "code",
      "source": [
        ""
      ],
      "metadata": {
        "id": "XaJETT3ijkxh"
      },
      "execution_count": null,
      "outputs": []
    },
    {
      "cell_type": "markdown",
      "source": [
        "#### | 옵션\n",
        "\n",
        "```\n",
        "seaborn.scatterplot(x=None, y=None, \n",
        "                    style=None, # 마커 스타일 리스트\n",
        "                    palette=None, # 컬러맵\n",
        "                    alpha=None, # 투명도 \n",
        "                    legend='auto' # 각주위치 {auto, brief, full, False}) \n",
        "                    \n",
        "```"
      ],
      "metadata": {
        "id": "TP2JTc1NJChB"
      }
    },
    {
      "cell_type": "code",
      "source": [
        ""
      ],
      "metadata": {
        "id": "K8htQ6kwJyIJ"
      },
      "execution_count": null,
      "outputs": []
    },
    {
      "cell_type": "markdown",
      "source": [
        "#### | DataFrame 사용\n",
        "---\n",
        "\n"
      ],
      "metadata": {
        "id": "GCPmXaIIyLcr"
      }
    },
    {
      "cell_type": "markdown",
      "source": [
        "* 데이터 프레임을 만들어 줍니다.\n",
        "\n"
      ],
      "metadata": {
        "id": "3cKlgwTJOzBJ"
      }
    },
    {
      "cell_type": "code",
      "source": [
        ""
      ],
      "metadata": {
        "id": "so1ANfnzO4Jh"
      },
      "execution_count": null,
      "outputs": []
    },
    {
      "cell_type": "markdown",
      "source": [
        "* 데이터프레임에서 기본적으로 플롯을 제공합니다.\n",
        "\n",
        "\n",
        "```\n",
        "df.plot.scatter(x=x, y=y)\n",
        "```\n",
        "\n",
        "\n"
      ],
      "metadata": {
        "id": "j5x-0qTTgqK2"
      }
    },
    {
      "cell_type": "code",
      "source": [
        ""
      ],
      "metadata": {
        "id": "v4RUwYz5yPRs"
      },
      "execution_count": null,
      "outputs": []
    },
    {
      "cell_type": "markdown",
      "source": [
        "* 데이터프레임 기반으로 seaborn을 사용합니다.\n",
        "\n",
        "\n",
        "```\n",
        "sns.scatterplot(data=df, x=x, y=y)\n",
        "```\n"
      ],
      "metadata": {
        "id": "ycx-4x4Ag94u"
      }
    },
    {
      "cell_type": "code",
      "source": [
        ""
      ],
      "metadata": {
        "id": "B8MgiEHyyjUt"
      },
      "execution_count": null,
      "outputs": []
    },
    {
      "cell_type": "markdown",
      "source": [
        "\n",
        "##  **실습** \n",
        "---\n",
        "\n"
      ],
      "metadata": {
        "id": "DW6ysJjQpzlH"
      }
    },
    {
      "cell_type": "markdown",
      "source": [
        "### (1) 데이터에 따른 크기 및 색깔 지정\n",
        "\n",
        "```\n",
        "n = 50\n",
        "np.random.seed(42)\n",
        "x = np.random.rand(n)\n",
        "y = np.random.rand(n)\n",
        "```"
      ],
      "metadata": {
        "id": "yBIU5OT2owwY"
      }
    },
    {
      "cell_type": "code",
      "source": [
        ""
      ],
      "metadata": {
        "id": "fjkWi3cgo6WP"
      },
      "execution_count": null,
      "outputs": []
    },
    {
      "cell_type": "markdown",
      "source": [
        "### (2) 산점도를 이용한 아이리스 데이터 시각화\n",
        "\n",
        "\n",
        "\n",
        "```\n",
        "           꽃받침 길이   꽃받침 너비   꽃의 길이  꽃의 너비\n",
        " 샘플1      \n",
        " 샘플2 \n",
        " ...\n",
        " 샘플150\n",
        "```\n",
        "\n",
        "\n",
        "```\n",
        "from sklearn.datasets import load_iris\n",
        "iris = load_iris()\n",
        "```\n",
        "\n",
        "\n",
        "* `.feature_names` : 변수 이름\n",
        "* `.target_names` : 타겟 이름\n",
        "* `.data` : 데이터 \n",
        "* `.target` : 타겟\n"
      ],
      "metadata": {
        "id": "yC_WoKqD0n1H"
      }
    },
    {
      "cell_type": "code",
      "source": [
        ""
      ],
      "metadata": {
        "id": "ZwtnCaTZhEQz"
      },
      "execution_count": null,
      "outputs": []
    },
    {
      "cell_type": "markdown",
      "source": [
        "\n",
        "##  **과제** \n",
        "---\n"
      ],
      "metadata": {
        "id": "l-oYQdjZxNDI"
      }
    },
    {
      "cell_type": "markdown",
      "source": [
        "### (1) 산점도를 이용한 캘리포니아 집값 시각화\n",
        "\n",
        "* 아래와 같은 산점도를 그리세요.\n",
        "  * `/content/sample_data/california_housing_test.csv`을 불러오세요.\n",
        "  * `x`축은 `latitude` 입니다.\n",
        "  * `y`축은 `longitude` 입니다.\n",
        "  * 점의 크기는 `population`에 비례합니다.\n",
        "  * `median_house_value`로 색깔을 나타내고 `colorbar`를 추가합니다.\n",
        "* 색과 마커, 비례 정도 등 세세한 부분은 각자의 스타일로 그리세요.\n",
        "\n",
        "![](https://github.com/yebiny/SkillTreePython-DataAnalysis/blob/main/imgs/ch0205-01.png?raw=true)"
      ],
      "metadata": {
        "id": "FTViT7zPzCfv"
      }
    },
    {
      "cell_type": "code",
      "source": [
        ""
      ],
      "metadata": {
        "id": "Klg5jkKDsxcm"
      },
      "execution_count": null,
      "outputs": []
    }
  ]
}