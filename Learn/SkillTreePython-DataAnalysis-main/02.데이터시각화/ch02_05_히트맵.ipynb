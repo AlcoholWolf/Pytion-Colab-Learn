{
  "nbformat": 4,
  "nbformat_minor": 0,
  "metadata": {
    "colab": {
      "name": "ch02_05_히트맵.ipynb",
      "provenance": [],
      "collapsed_sections": [],
      "toc_visible": true,
      "authorship_tag": "ABX9TyNgO4OUGV91KpCVKQoMNBCx",
      "include_colab_link": true
    },
    "kernelspec": {
      "name": "python3",
      "display_name": "Python 3"
    },
    "language_info": {
      "name": "python"
    }
  },
  "cells": [
    {
      "cell_type": "markdown",
      "metadata": {
        "id": "view-in-github",
        "colab_type": "text"
      },
      "source": [
        "<a href=\"https://colab.research.google.com/github/yebiny/SkillTreePython-DataAnalysis/blob/main/02.%EB%8D%B0%EC%9D%B4%ED%84%B0%EC%8B%9C%EA%B0%81%ED%99%94/ch02_05_%ED%9E%88%ED%8A%B8%EB%A7%B5.ipynb\" target=\"_parent\"><img src=\"https://colab.research.google.com/assets/colab-badge.svg\" alt=\"Open In Colab\"/></a>"
      ]
    },
    {
      "cell_type": "markdown",
      "source": [
        "# Ch02.05. 히트맵\n",
        "\n",
        "---\n",
        "* 날짜:\n",
        "* 이름:\n",
        "\n",
        "```\n",
        "import numpy as np\n",
        "import pandas as pd\n",
        "import matplotlib.pyplot as plt\n",
        "import seaborn as sns\n",
        "\n",
        "plt.rcParams['figure.figsize'] = [6, 4]\n",
        "plt.style.use('seaborn-white')\n",
        "sns.set_style('white')\n",
        "\n",
        "```"
      ],
      "metadata": {
        "id": "ylXjSLUxXHxm"
      }
    },
    {
      "cell_type": "code",
      "execution_count": null,
      "metadata": {
        "id": "TyVLPbux1Yu7"
      },
      "outputs": [],
      "source": [
        ""
      ]
    },
    {
      "cell_type": "markdown",
      "source": [
        "\n",
        "## **개념정리**\n",
        "---\n",
        "\n",
        "\n"
      ],
      "metadata": {
        "id": "PZjdmAqMd7KW"
      }
    },
    {
      "cell_type": "markdown",
      "source": [
        "### (1) Matplotlib 으로 그리기\n"
      ],
      "metadata": {
        "id": "QzMXKYm0F-CE"
      }
    },
    {
      "cell_type": "markdown",
      "source": [
        "#### | 기본사용\n",
        "\n",
        "```\n",
        "x = [[1,2,3],\n",
        "     [4,1,6],\n",
        "     [7,8,1]]\n",
        "plt.matshow(x, cmap='rainbow')\n",
        "plt.show()\n",
        "```"
      ],
      "metadata": {
        "id": "vgyHZoxzzMUd"
      }
    },
    {
      "cell_type": "code",
      "source": [
        ""
      ],
      "metadata": {
        "id": "mpzm43NH5XOw"
      },
      "execution_count": null,
      "outputs": []
    },
    {
      "cell_type": "markdown",
      "source": [
        "#### | 컬러바\n",
        "\n",
        "```\n",
        "plt.colorbar(ax, \n",
        "             cmap=None, # 컬러맵\n",
        "             alpha=None, # 투명도\n",
        "             orientation='vertical', # 위치 {'vertical', 'horizontal'}\n",
        "             extend=None,  # 초과값 {'neither', 'both', 'min', 'max'}\n",
        "             shrink = None # 길이 축소\n",
        "             aspect = None # 세로, 가로 비\n",
        "             label=''# 라벨)\n",
        "```"
      ],
      "metadata": {
        "id": "yBIU5OT2owwY"
      }
    },
    {
      "cell_type": "code",
      "source": [
        ""
      ],
      "metadata": {
        "id": "fjkWi3cgo6WP"
      },
      "execution_count": null,
      "outputs": []
    },
    {
      "cell_type": "markdown",
      "source": [
        "### (2) Seaborn 으로 그리기\n",
        "---\n",
        "\n"
      ],
      "metadata": {
        "id": "ijsJi_WpeCK4"
      }
    },
    {
      "cell_type": "markdown",
      "source": [
        "#### | 기본사용\n",
        "\n",
        "```\n",
        "sns.heatmap(x)\n",
        "```"
      ],
      "metadata": {
        "id": "du0MMPK9zp5J"
      }
    },
    {
      "cell_type": "code",
      "source": [
        ""
      ],
      "metadata": {
        "id": "9bzyhc4x8gJ4"
      },
      "execution_count": null,
      "outputs": []
    },
    {
      "cell_type": "markdown",
      "source": [
        "#### | 옵션\n",
        "\n",
        "```\n",
        "seaborn.heatmap(data,\n",
        "                cmap=None, # 컬러맵\n",
        "                annot=None, # 값 표기\n",
        "                fmt='.2g', # 데이터 타입\n",
        "                linewidths=0, # 선 굵기\n",
        "                linecolor='white', # 선 색\n",
        "                cbar=True, # 컬러맵 표기\n",
        "                square=False, # 사이즈 정사각\n",
        "                xticklabels='auto', # x 눈금 라벨 \n",
        "                yticklabels='auto', # y 눈금 라벨\n",
        "                vmin = # 최소값\n",
        "                vmax = # 최대값\n",
        "                ax=None, **kwargs)\n",
        "```"
      ],
      "metadata": {
        "id": "SworMcXl83Uw"
      }
    },
    {
      "cell_type": "code",
      "source": [
        ""
      ],
      "metadata": {
        "id": "4hBKbxFC832o"
      },
      "execution_count": null,
      "outputs": []
    },
    {
      "cell_type": "markdown",
      "source": [
        "#### | DataFrame 사용\n",
        "---\n",
        "\n"
      ],
      "metadata": {
        "id": "GCPmXaIIyLcr"
      }
    },
    {
      "cell_type": "markdown",
      "source": [
        "* 데이터 프레임을 만들어 줍니다.\n"
      ],
      "metadata": {
        "id": "3cKlgwTJOzBJ"
      }
    },
    {
      "cell_type": "code",
      "source": [
        ""
      ],
      "metadata": {
        "id": "lsCVYrrx-k2G"
      },
      "execution_count": null,
      "outputs": []
    },
    {
      "cell_type": "markdown",
      "source": [
        "\n",
        "* 데이터프레임에서 기본적으로 플롯을 제공합니다.\n",
        "\n",
        "```\n",
        "df.style.background_gradient()\n",
        "```\n"
      ],
      "metadata": {
        "id": "vbYPvUDd1cee"
      }
    },
    {
      "cell_type": "code",
      "source": [
        ""
      ],
      "metadata": {
        "id": "g04BF7mq-9xQ"
      },
      "execution_count": null,
      "outputs": []
    },
    {
      "cell_type": "markdown",
      "source": [
        "* 데이터프레임 기반으로 seaborn을 사용합니다.\n",
        "\n",
        "\n",
        "```\n",
        "sns.heatmap(data=df)\n",
        "```\n"
      ],
      "metadata": {
        "id": "ycx-4x4Ag94u"
      }
    },
    {
      "cell_type": "code",
      "source": [
        ""
      ],
      "metadata": {
        "id": "B8MgiEHyyjUt"
      },
      "execution_count": null,
      "outputs": []
    },
    {
      "cell_type": "markdown",
      "source": [
        "\n",
        "##  **실습** \n",
        "---\n",
        "\n"
      ],
      "metadata": {
        "id": "qZ8F_TdAeIRB"
      }
    },
    {
      "cell_type": "markdown",
      "source": [
        "### (1) pivot 테이블 이용한 시계열 데이터 시각화\n",
        "\n",
        "\n",
        "```\n",
        "np.random.seed(42)\n",
        "t = ['오전','오후','저녁']*5\n",
        "day=[f'2020/01/0{i+1}' for i in range(5) for j in range(3)]\n",
        "vals = np.random.randint(100,500, len(t))\n",
        "\n",
        "```"
      ],
      "metadata": {
        "id": "YFCwKN6HLieQ"
      }
    },
    {
      "cell_type": "code",
      "source": [
        ""
      ],
      "metadata": {
        "id": "04EGKFOoF2cK"
      },
      "execution_count": null,
      "outputs": []
    },
    {
      "cell_type": "markdown",
      "source": [
        "### (2) Iris 데이터 변수별 상관관계 분석\n",
        "\n",
        "\n",
        "```\n",
        "           꽃받침 길이   꽃받침 너비   꽃의 길이  꽃의 너비\n",
        " 샘플1      \n",
        " 샘플2 \n",
        " ...\n",
        " 샘플150\n",
        "```\n",
        "\n",
        "\n",
        "```\n",
        "from sklearn.datasets import load_iris\n",
        "iris = load_iris()\n",
        "```\n",
        "\n",
        "\n",
        "* `.feature_names` : 변수 이름\n",
        "* `.target_names` : 타겟 이름\n",
        "* `.data` : 데이터 \n",
        "* `.target` : 타겟\n"
      ],
      "metadata": {
        "id": "QGviht0yPmHr"
      }
    },
    {
      "cell_type": "code",
      "source": [
        ""
      ],
      "metadata": {
        "id": "dNLpcUxfgzyZ"
      },
      "execution_count": null,
      "outputs": []
    },
    {
      "cell_type": "markdown",
      "source": [
        "### (3) Iris 데이터 종류별 크기 분석\n",
        "\n"
      ],
      "metadata": {
        "id": "yC_WoKqD0n1H"
      }
    },
    {
      "cell_type": "code",
      "source": [
        ""
      ],
      "metadata": {
        "id": "3bhK6Y9Wg0at"
      },
      "execution_count": null,
      "outputs": []
    },
    {
      "cell_type": "markdown",
      "source": [
        "\n",
        "##  **과제** \n",
        "---\n"
      ],
      "metadata": {
        "id": "l-oYQdjZxNDI"
      }
    },
    {
      "cell_type": "markdown",
      "source": [
        "\n",
        "### (1) 히트맵을 이용한 flight 데이터 시각화\n",
        "\n",
        "\n",
        "```\n",
        "df=sns.load_dataset('flights')\n",
        "```\n",
        "\n",
        "* `seaborn`의 `load_dataset`을 이용해 `flights` 데이터를 불러오세요.\n",
        "* `year`를 세로축, `month`를 가로축으로 하는 피벗 테이블을 그리고 히트맵으로 시각화 하세요.\n",
        "\n"
      ],
      "metadata": {
        "id": "l0C63YdjQIhk"
      }
    },
    {
      "cell_type": "code",
      "source": [
        ""
      ],
      "metadata": {
        "id": "PNj5NT9Ng2by"
      },
      "execution_count": null,
      "outputs": []
    },
    {
      "cell_type": "markdown",
      "source": [
        "\n",
        "### (2) 캘리포니아 집값 데이터 변수별 상관관계 분석\n",
        "\n",
        "* /content/sample_data/california_housing_test.csv을 불러오세요.\n",
        "* 변수별 상관관계를 나타내는 히트맵을 `seaborn`을 이용해  그리세요.\n",
        "* 변수들 중 상관관계가 높은 변수 쌍을 각각 x축, y축으로 하는 산점도를 그리세요. (2개이상)\n",
        "* 변수들 중 `median_house_value`와 가장 상관관계가 높은 변수를 찾고 둘을 각각 x축, y축으로 하는 산점도를 그리세요."
      ],
      "metadata": {
        "id": "LDMD8SaczBGQ"
      }
    },
    {
      "cell_type": "code",
      "source": [
        ""
      ],
      "metadata": {
        "id": "q6J1sL1QM4DP"
      },
      "execution_count": null,
      "outputs": []
    }
  ]
}