{
  "nbformat": 4,
  "nbformat_minor": 0,
  "metadata": {
    "colab": {
      "name": "ch02_01_Matplotib기본.ipynb",
      "provenance": [],
      "collapsed_sections": [],
      "authorship_tag": "ABX9TyMgVZyL8M9eLzQ3bcxa4Lwz",
      "include_colab_link": true
    },
    "kernelspec": {
      "name": "python3",
      "display_name": "Python 3"
    },
    "language_info": {
      "name": "python"
    }
  },
  "cells": [
    {
      "cell_type": "markdown",
      "metadata": {
        "id": "view-in-github",
        "colab_type": "text"
      },
      "source": [
        "<a href=\"https://colab.research.google.com/github/yebiny/SkillTreePython-DataAnalysis/blob/main/02.%EB%8D%B0%EC%9D%B4%ED%84%B0%EC%8B%9C%EA%B0%81%ED%99%94/ch02_01_Matplotib%EA%B8%B0%EB%B3%B8.ipynb\" target=\"_parent\"><img src=\"https://colab.research.google.com/assets/colab-badge.svg\" alt=\"Open In Colab\"/></a>"
      ]
    },
    {
      "cell_type": "markdown",
      "source": [
        "# **Ch02.01. Matplotlib 기본**\n",
        "\n",
        "```\n",
        "이 노트는 `Matplotlib Tutorial: 파이썬으로 데이터 시각화하기` 책을 바탕으로 공부하고 정리한 것임을 밝힙니다.\n",
        "```\n",
        "\n",
        "* 책 소개\n",
        ">  [Matplotlib Tutorial: 파이썬으로 데이터 시각화하기](https://wikidocs.net/book/5011)\n",
        "> \n",
        "\n",
        "\n",
        "* 라이브러리 소개\n",
        "  > matplotlib\n",
        "\n"
      ],
      "metadata": {
        "id": "lEVB_S0mSo4R"
      }
    },
    {
      "cell_type": "code",
      "source": [
        ""
      ],
      "metadata": {
        "id": "BKQUQTUuXsVu"
      },
      "execution_count": null,
      "outputs": []
    },
    {
      "cell_type": "markdown",
      "metadata": {
        "id": "HjPXsM8C5ULZ"
      },
      "source": [
        "## **01. 기본 사용**\n",
        "---\n",
        "\n",
        "<p align='center'>\n",
        "<img src=https://wikidocs.net/images/page/92071/basics_00.png width=500>\n",
        "</p>\n",
        "\n",
        "\n",
        "\n"
      ]
    },
    {
      "cell_type": "markdown",
      "source": [
        "### **| 기본 그래프 그리기**\n",
        "\n",
        "\n",
        "```\n",
        "import matplotlib.pyplot as plt\n",
        "\n",
        "plt.plot([1, 2, 3, 4])\n",
        "plt.show()\n",
        "```"
      ],
      "metadata": {
        "id": "0h13N5vqh3Pi"
      }
    },
    {
      "cell_type": "code",
      "metadata": {
        "id": "4rSKk_O_Oq20"
      },
      "source": [
        ""
      ],
      "execution_count": null,
      "outputs": []
    },
    {
      "cell_type": "markdown",
      "source": [
        "\n",
        "```\n",
        "plt.plot([1, 2, 3, 4], [1, 4, 9, 16])\n",
        "plt.show()\n",
        "```"
      ],
      "metadata": {
        "id": "PU4SBkVuiaSC"
      }
    },
    {
      "cell_type": "code",
      "source": [
        ""
      ],
      "metadata": {
        "id": "U0o0PFTDidLh"
      },
      "execution_count": null,
      "outputs": []
    },
    {
      "cell_type": "markdown",
      "source": [
        "### **| 스타일 지정하기**\n",
        "\n",
        "\n",
        "```\n",
        "plt.plot([1, 2, 3, 4], [1, 4, 9, 16], 'ro')\n",
        "plt.axis([0, 6, 0, 20])\n",
        "plt.show()\n",
        "```"
      ],
      "metadata": {
        "id": "u9f71hPSigE-"
      }
    },
    {
      "cell_type": "code",
      "metadata": {
        "id": "FRZicz9bigFA"
      },
      "source": [
        ""
      ],
      "execution_count": null,
      "outputs": []
    },
    {
      "cell_type": "markdown",
      "source": [
        "### **| 여러 개의 그래프 그리기**\n",
        "\n",
        "\n",
        "```\n",
        "# 200ms 간격으로 균일하게 샘플된 시간\n",
        "t = np.arange(0., 5., 0.2)\n",
        "\n",
        "# 빨간 대쉬, 파란 사각형, 녹색 삼각형\n",
        "plt.plot(t, t, 'r--', t, t**2, 'bs', t, t**3, 'g^')\n",
        "plt.show()\n",
        "```"
      ],
      "metadata": {
        "id": "adz0RjCzi3zt"
      }
    },
    {
      "cell_type": "code",
      "metadata": {
        "id": "xCXgcFdNi3zu"
      },
      "source": [
        ""
      ],
      "execution_count": null,
      "outputs": []
    },
    {
      "cell_type": "markdown",
      "metadata": {
        "id": "MijcJFA8jf4R"
      },
      "source": [
        "## **02. 숫자 입력하기**\n",
        "\n",
        "---\n",
        "\n",
        "<p align='center'>\n",
        "<img src=https://wikidocs.net/images/page/137321/basic_plot_00.png width=500>\n",
        "</p>\n",
        "\n"
      ]
    },
    {
      "cell_type": "markdown",
      "source": [
        "### **| 기본 사용**\n",
        "\n",
        "\n",
        "```\n",
        "import matplotlib.pyplot as plt\n",
        "\n",
        "plt.plot([2, 3, 5, 10])\n",
        "plt.show()\n",
        "```"
      ],
      "metadata": {
        "id": "u88fN3JJjf4R"
      }
    },
    {
      "cell_type": "code",
      "metadata": {
        "id": "PYVkzRRXjf4S"
      },
      "source": [
        ""
      ],
      "execution_count": null,
      "outputs": []
    },
    {
      "cell_type": "markdown",
      "source": [
        "### **| x, y 값 입력**\n",
        "\n",
        "\n",
        "```\n",
        "plt.plot([1, 2, 3, 4], [2, 3, 5, 10])\n",
        "plt.show()\n",
        "```"
      ],
      "metadata": {
        "id": "5W8_kQBoj9C0"
      }
    },
    {
      "cell_type": "code",
      "metadata": {
        "id": "fDBfFG9xj9C2"
      },
      "source": [
        ""
      ],
      "execution_count": null,
      "outputs": []
    },
    {
      "cell_type": "markdown",
      "source": [
        "### **| 레이블이 있는 데이터 사용하기**\n",
        "\n",
        "\n",
        "\n",
        "\n",
        "```\n",
        "data_dict = {'data_x': [1, 2, 3, 4, 5], 'data_y': [2, 3, 5, 10, 8]}\n",
        "\n",
        "plt.plot('data_x', 'data_y', data=data_dict)\n",
        "plt.show()\n",
        "```"
      ],
      "metadata": {
        "id": "2lThZRALkJdk"
      }
    },
    {
      "cell_type": "code",
      "metadata": {
        "id": "NRV4plhhkJdl"
      },
      "source": [
        ""
      ],
      "execution_count": null,
      "outputs": []
    },
    {
      "cell_type": "markdown",
      "metadata": {
        "id": "_ilCtKbjYZzk"
      },
      "source": [
        "\n",
        "## **03. 축 레이블 설정하기**\n",
        "---\n",
        "\n",
        "<p align='center'>\n",
        "<img src=https://wikidocs.net/images/page/92081/set_label_00.png width=500>\n",
        "</p>\n",
        "\n"
      ]
    },
    {
      "cell_type": "markdown",
      "source": [
        "### **| 기본 사용**\n",
        "\n",
        "\n",
        "```\n",
        "import matplotlib.pyplot as plt\n",
        "\n",
        "plt.plot([1, 2, 3, 4], [1, 4, 9, 16])\n",
        "plt.xlabel('X-Label')\n",
        "plt.ylabel('Y-Label')\n",
        "plt.show()\n",
        "```"
      ],
      "metadata": {
        "id": "gSTQ6fHylP8l"
      }
    },
    {
      "cell_type": "code",
      "metadata": {
        "id": "q4Sc0FtHlP8m"
      },
      "source": [
        ""
      ],
      "execution_count": null,
      "outputs": []
    },
    {
      "cell_type": "markdown",
      "source": [
        "### **| 여백 지정**\n",
        "\n",
        "```\n",
        "plt.plot([1, 2, 3, 4], [2, 3, 5, 10])\n",
        "plt.xlabel('X-Axis', labelpad=15)\n",
        "plt.ylabel('Y-Axis', labelpad=20)\n",
        "plt.show()\n",
        "```"
      ],
      "metadata": {
        "id": "qmI-VXn6lWHW"
      }
    },
    {
      "cell_type": "code",
      "metadata": {
        "id": "R1OzP_A-lWHW"
      },
      "source": [
        ""
      ],
      "execution_count": null,
      "outputs": []
    },
    {
      "cell_type": "markdown",
      "source": [
        "### **| 폰트 설정하기**\n",
        "\n",
        "\n",
        "```\n",
        "plt.plot([1, 2, 3, 4], [2, 3, 5, 10])\n",
        "plt.xlabel('X-Axis', labelpad=15, fontdict={'family': 'serif', 'color': 'b', 'weight': 'bold', 'size': 14})\n",
        "plt.ylabel('Y-Axis', labelpad=20, fontdict={'family': 'fantasy', 'color': 'deeppink', 'weight': 'normal', 'size': 'xx-large'})\n",
        "plt.show()\n",
        "```"
      ],
      "metadata": {
        "id": "jUIrnGHnlgpg"
      }
    },
    {
      "cell_type": "code",
      "metadata": {
        "id": "ShXV0_BBlgpg"
      },
      "source": [
        ""
      ],
      "execution_count": null,
      "outputs": []
    },
    {
      "cell_type": "markdown",
      "source": [
        "\n",
        "\n",
        "```\n",
        "font1 = {'family': 'serif',\n",
        "         'color': 'b',\n",
        "         'weight': 'bold',\n",
        "         'size': 14\n",
        "         }\n",
        "\n",
        "font2 = {'family': 'fantasy',\n",
        "         'color': 'deeppink',\n",
        "         'weight': 'normal',\n",
        "         'size': 'xx-large'\n",
        "         }\n",
        "\n",
        "plt.plot([1, 2, 3, 4], [2, 3, 5, 10])\n",
        "plt.xlabel('X-Axis', labelpad=15, fontdict=font1)\n",
        "plt.ylabel('Y-Axis', labelpad=20, fontdict=font2)\n",
        "plt.show()\n",
        "```"
      ],
      "metadata": {
        "id": "AyT8Pm1wl36o"
      }
    },
    {
      "cell_type": "code",
      "source": [
        ""
      ],
      "metadata": {
        "id": "tFlZJTZql4ZY"
      },
      "execution_count": null,
      "outputs": []
    },
    {
      "cell_type": "markdown",
      "source": [
        "### **| 위치 지정하기**\n",
        "\n",
        "\n",
        "`xlabel()` 함수의 `loc` 파라미터는 X축 레이블의 위치를 지정합니다. `({‘left’, ‘center’, ‘right’})`\n",
        "\n",
        "`ylabel()` 함수의 `loc` 파라미터는 Y축 레이블의 위치를 지정합니다. `({‘bottom’, ‘center’, ‘top’})`\n",
        "\n",
        "\n",
        "```\n",
        "plt.plot([1, 2, 3, 4], [2, 3, 5, 10])\n",
        "plt.xlabel('X-Axis', loc='right')\n",
        "plt.ylabel('Y-Axis', loc='top')\n",
        "plt.show()\n",
        "```"
      ],
      "metadata": {
        "id": "HHLKk4vXl-YQ"
      }
    },
    {
      "cell_type": "code",
      "metadata": {
        "id": "nhi2lbNAl-YQ"
      },
      "source": [
        ""
      ],
      "execution_count": null,
      "outputs": []
    },
    {
      "cell_type": "markdown",
      "metadata": {
        "id": "WZ_N1M2KpZxO"
      },
      "source": [
        "## **04. 범례 표시하기**\n",
        "---\n",
        "\n",
        "<p align='center'>\n",
        "<img src=https://wikidocs.net/images/page/137778/set_legend_00.png width=500>\n",
        "</p>\n",
        "\n",
        "\n"
      ]
    },
    {
      "cell_type": "markdown",
      "source": [
        "### **| 기본 사용**\n",
        "\n",
        "```\n",
        "import matplotlib.pyplot as plt\n",
        "\n",
        "plt.plot([1, 2, 3, 4], [2, 3, 5, 10], label='Price ($)')\n",
        "plt.xlabel('X-Axis')\n",
        "plt.ylabel('Y-Axis')\n",
        "plt.legend()\n",
        "\n",
        "plt.show()\n",
        "```"
      ],
      "metadata": {
        "id": "CP83mMPapZxU"
      }
    },
    {
      "cell_type": "code",
      "metadata": {
        "id": "BERZkCrrpZxU"
      },
      "source": [
        ""
      ],
      "execution_count": null,
      "outputs": []
    },
    {
      "cell_type": "markdown",
      "source": [
        "### **| 위치 지정하기**\n",
        "\n",
        "\n",
        "\n",
        "```\n",
        "plt.plot([1, 2, 3, 4], [2, 3, 5, 10], label='Price ($)')\n",
        "plt.xlabel('X-Axis')\n",
        "plt.ylabel('Y-Axis')\n",
        "# plt.legend(loc=(0.0, 0.0))\n",
        "# plt.legend(loc=(0.5, 0.5))\n",
        "plt.legend(loc=(1.0, 1.0))\n",
        "\n",
        "plt.show()\n",
        "```"
      ],
      "metadata": {
        "id": "ZLC3nozUqmMZ"
      }
    },
    {
      "cell_type": "code",
      "metadata": {
        "id": "VEFBWUNOqmMZ"
      },
      "source": [
        ""
      ],
      "execution_count": null,
      "outputs": []
    },
    {
      "cell_type": "markdown",
      "source": [
        "\n",
        "\n",
        "```\n",
        "plt.plot([1, 2, 3, 4], [2, 3, 5, 10], label='Price ($)')\n",
        "plt.xlabel('X-Axis')\n",
        "plt.ylabel('Y-Axis')\n",
        "plt.legend(loc='lower right')\n",
        "\n",
        "plt.show()\n",
        "```\n",
        "\n"
      ],
      "metadata": {
        "id": "aAcnGGKgq8ZZ"
      }
    },
    {
      "cell_type": "code",
      "metadata": {
        "id": "w2XWL96xnCcn"
      },
      "source": [
        ""
      ],
      "execution_count": null,
      "outputs": []
    },
    {
      "cell_type": "markdown",
      "source": [
        "### **| 열 개수 지정하기**\n",
        "\n",
        "\n",
        "```\n",
        "plt.plot([1, 2, 3, 4], [2, 3, 5, 10], label='Price ($)')\n",
        "plt.plot([1, 2, 3, 4], [3, 5, 9, 7], label='Demand (#)')\n",
        "plt.xlabel('X-Axis')\n",
        "plt.ylabel('Y-Axis')\n",
        "# plt.legend(loc='best')          # ncol = 1\n",
        "plt.legend(loc='best', ncol=2)    # ncol = 2\n",
        "\n",
        "plt.show()\n",
        "```"
      ],
      "metadata": {
        "id": "KTihXvK2rLO9"
      }
    },
    {
      "cell_type": "code",
      "metadata": {
        "id": "U6mlt6CvrLO-"
      },
      "source": [
        ""
      ],
      "execution_count": null,
      "outputs": []
    },
    {
      "cell_type": "markdown",
      "source": [
        "### **| 폰트 크기 지정하기**\n",
        "\n",
        "\n",
        "\n",
        "```\n",
        "plt.plot([1, 2, 3, 4], [2, 3, 5, 10], label='Price ($)')\n",
        "plt.plot([1, 2, 3, 4], [3, 5, 9, 7], label='Demand (#)')\n",
        "plt.xlabel('X-Axis')\n",
        "plt.ylabel('Y-Axis')\n",
        "# plt.legend(loc='best')\n",
        "plt.legend(loc='best', ncol=2, fontsize=14)\n",
        "\n",
        "plt.show()\n",
        "```"
      ],
      "metadata": {
        "id": "Nk0QrxwTrgZj"
      }
    },
    {
      "cell_type": "code",
      "metadata": {
        "id": "Gn8g4PE9rgZk"
      },
      "source": [
        ""
      ],
      "execution_count": null,
      "outputs": []
    },
    {
      "cell_type": "markdown",
      "source": [
        "### **| 범례 테두리 꾸미기**\n",
        "\n",
        "\n",
        "\n",
        "```\n",
        "plt.plot([1, 2, 3, 4], [2, 3, 5, 10], label='Price ($)')\n",
        "plt.plot([1, 2, 3, 4], [3, 5, 9, 7], label='Demand (#)')\n",
        "plt.xlabel('X-Axis')\n",
        "plt.ylabel('Y-Axis')\n",
        "# plt.legend(loc='best')\n",
        "plt.legend(loc='best', ncol=2, fontsize=14, frameon=True, shadow=True)\n",
        "\n",
        "plt.show()\n",
        "```"
      ],
      "metadata": {
        "id": "hEWiUKmzrtcO"
      }
    },
    {
      "cell_type": "code",
      "metadata": {
        "id": "wS_ppgv0rtcO"
      },
      "source": [
        ""
      ],
      "execution_count": null,
      "outputs": []
    },
    {
      "cell_type": "markdown",
      "metadata": {
        "id": "fMrmU1IBmulL"
      },
      "source": [
        "## **05. 축 범위 지정하기**\n",
        "---\n",
        "\n",
        "<p align='center'>\n",
        "<img src=https://wikidocs.net/images/page/92082/axis_range_00.png width=500>\n",
        "</p>\n"
      ]
    },
    {
      "cell_type": "markdown",
      "source": [
        "### **| 기본 사용 - `xlim(), ylim()`**\n",
        "\n",
        "\n",
        "\n",
        "```\n",
        "import matplotlib.pyplot as plt\n",
        "\n",
        "plt.plot([1, 2, 3, 4], [2, 3, 5, 10])\n",
        "plt.xlabel('X-Axis')\n",
        "plt.ylabel('Y-Axis')\n",
        "plt.xlim([0, 5])      # X축의 범위: [xmin, xmax]\n",
        "plt.ylim([0, 20])     # Y축의 범위: [ymin, ymax]\n",
        "\n",
        "plt.show()\n",
        "```\n",
        "\n"
      ],
      "metadata": {
        "id": "5ccnV4gYnCch"
      }
    },
    {
      "cell_type": "code",
      "metadata": {
        "id": "1HmuyO2ImulM"
      },
      "source": [
        ""
      ],
      "execution_count": null,
      "outputs": []
    },
    {
      "cell_type": "markdown",
      "source": [
        "### **| 기본 사용: `axis()`**\n",
        "\n",
        "\n",
        "\n",
        "\n",
        "```\n",
        "plt.plot([1, 2, 3, 4], [2, 3, 5, 10])\n",
        "plt.xlabel('X-Axis')\n",
        "plt.ylabel('Y-Axis')\n",
        "plt.axis([0, 5, 0, 20])  # X, Y축의 범위: [xmin, xmax, ymin, ymax]\n",
        "\n",
        "plt.show()\n",
        "```"
      ],
      "metadata": {
        "id": "qew9VRIOnmi3"
      }
    },
    {
      "cell_type": "code",
      "source": [
        ""
      ],
      "metadata": {
        "id": "pfbIyssGl-gG"
      },
      "execution_count": null,
      "outputs": []
    },
    {
      "cell_type": "markdown",
      "source": [
        "### **| 옵션 지정하기**\n",
        "\n",
        "```\n",
        "'on' | 'off' | 'equal' | 'scaled' | 'tight' | 'auto' | 'normal' | 'image' | 'square'\n",
        "```\n",
        "```\n",
        "plt.plot([1, 2, 3, 4], [2, 3, 5, 10])\n",
        "plt.xlabel('X-Axis')\n",
        "plt.ylabel('Y-Axis')\n",
        "# plt.axis('square')\n",
        "plt.axis('scaled')\n",
        "\n",
        "plt.show()\n",
        "```"
      ],
      "metadata": {
        "id": "Od74RCvjn60C"
      }
    },
    {
      "cell_type": "code",
      "metadata": {
        "id": "Saw-ni8Rn60C"
      },
      "source": [
        ""
      ],
      "execution_count": null,
      "outputs": []
    },
    {
      "cell_type": "markdown",
      "source": [
        "### **| 축 범위 얻기**\n",
        "\n",
        "\n",
        "```\n",
        "plt.plot([1, 2, 3, 4], [2, 3, 5, 10])\n",
        "plt.xlabel('X-Axis')\n",
        "plt.ylabel('Y-Axis')\n",
        "\n",
        "x_range, y_range = plt.xlim(), plt.ylim()\n",
        "print(x_range, y_range)\n",
        "\n",
        "axis_range = plt.axis('scaled')\n",
        "print(axis_range)\n",
        "\n",
        "plt.show()\n",
        "```"
      ],
      "metadata": {
        "id": "f5c7BCyUoNDy"
      }
    },
    {
      "cell_type": "code",
      "metadata": {
        "id": "vcjwrBiToNDz"
      },
      "source": [
        ""
      ],
      "execution_count": null,
      "outputs": []
    },
    {
      "cell_type": "markdown",
      "metadata": {
        "id": "v7KYvAhxr-bH"
      },
      "source": [
        "## **06. 선 종류 지정하기**\n",
        "---\n",
        "\n",
        "<p align='center'>\n",
        "<img src=https://wikidocs.net/images/page/137791/set_linestyle_00.png width=500>\n",
        "</p>\n",
        "\n"
      ]
    },
    {
      "cell_type": "markdown",
      "source": [
        "### **| 기본 사용**\n",
        "\n",
        "\n",
        "| 표현 | 종류 |\n",
        "|--|--|\n",
        "|`-`  | Solid |\n",
        "| `--` |Dashed|\n",
        "|`:`|Dotted|\n",
        "|`-.` |Dash-dot|\n",
        "\n",
        "```\n",
        "import matplotlib.pyplot as plt\n",
        "\n",
        "plt.plot([1, 2, 3], [4, 4, 4], '-', color='C0', label='Solid')\n",
        "plt.plot([1, 2, 3], [3, 3, 3], '--', color='C0', label='Dashed')\n",
        "plt.plot([1, 2, 3], [2, 2, 2], ':', color='C0', label='Dotted')\n",
        "plt.plot([1, 2, 3], [1, 1, 1], '-.', color='C0', label='Dash-dot')\n",
        "plt.xlabel('X-Axis')\n",
        "plt.ylabel('Y-Axis')\n",
        "plt.axis([0.8, 3.2, 0.5, 5.0])\n",
        "plt.legend(loc='upper right', ncol=4)\n",
        "plt.show()\n",
        "```"
      ],
      "metadata": {
        "id": "yWKHuqu9r-bH"
      }
    },
    {
      "cell_type": "code",
      "metadata": {
        "id": "t5uJctMFr-bH"
      },
      "source": [
        ""
      ],
      "execution_count": null,
      "outputs": []
    },
    {
      "cell_type": "markdown",
      "source": [
        "### **| linestyle 지정하기**\n",
        "\n",
        "\n",
        "| 표현 | 종류 |\n",
        "|--|--|\n",
        "|`solid`  | Solid |\n",
        "| `dashed` |Dashed|\n",
        "|`dotted`|Dotted|\n",
        "|`dashdot` | Dash-dot|\n",
        "\n",
        "```\n",
        "plt.plot([1, 2, 3], [4, 4, 4], linestyle='solid', color='C0', label=\"'solid'\")\n",
        "plt.plot([1, 2, 3], [3, 3, 3], linestyle='dashed', color='C0', label=\"'dashed'\")\n",
        "plt.plot([1, 2, 3], [2, 2, 2], linestyle='dotted', color='C0', label=\"'dotted'\")\n",
        "plt.plot([1, 2, 3], [1, 1, 1], linestyle='dashdot', color='C0', label=\"'dashdot'\")\n",
        "plt.xlabel('X-Axis')\n",
        "plt.ylabel('Y-Axis')\n",
        "plt.axis([0.8, 3.2, 0.5, 5.0])\n",
        "plt.legend(loc='upper right', ncol=4)\n",
        "plt.tight_layout()\n",
        "plt.show()\n",
        "```"
      ],
      "metadata": {
        "id": "q4G883TCtpfz"
      }
    },
    {
      "cell_type": "code",
      "metadata": {
        "id": "QKW1NXe8tpgM"
      },
      "source": [
        ""
      ],
      "execution_count": null,
      "outputs": []
    },
    {
      "cell_type": "markdown",
      "source": [
        "### **| 튜플 사용하기**\n",
        "\n",
        "\n",
        "```\n",
        "plt.plot([1, 2, 3], [4, 4, 4], linestyle=(0, (1, 1)), color='C0', label='(0, (1, 1))')\n",
        "plt.plot([1, 2, 3], [3, 3, 3], linestyle=(0, (1, 5)), color='C0', label='(0, (1, 5))')\n",
        "plt.plot([1, 2, 3], [2, 2, 2], linestyle=(0, (5, 1)), color='C0', label='(0, (5, 1))')\n",
        "plt.plot([1, 2, 3], [1, 1, 1], linestyle=(0, (3, 5, 1, 5)), color='C0', label='(0, (3, 5, 1, 5))')\n",
        "plt.xlabel('X-Axis')\n",
        "plt.ylabel('Y-Axis')\n",
        "plt.axis([0.8, 3.2, 0.5, 5.0])\n",
        "plt.legend(loc='upper right', ncol=2)\n",
        "plt.tight_layout()\n",
        "plt.show()\n",
        "```"
      ],
      "metadata": {
        "id": "VXOEAFUvuRo4"
      }
    },
    {
      "cell_type": "code",
      "metadata": {
        "id": "8ojPt2EBuRo4"
      },
      "source": [
        ""
      ],
      "execution_count": null,
      "outputs": []
    },
    {
      "cell_type": "markdown",
      "source": [
        "### **| 선 끝 모양 지정하기**\n",
        "\n",
        "\n",
        "\n",
        " \n",
        "\n",
        "```\n",
        "import matplotlib.pyplot as plt\n",
        "\n",
        "plt.plot([1, 2, 3], [4, 4, 4], linestyle='solid', linewidth=10,\n",
        "      solid_capstyle='butt', color='C0', label='solid+butt')\n",
        "plt.plot([1, 2, 3], [3, 3, 3], linestyle='solid', linewidth=10,\n",
        "      solid_capstyle='round', color='C0', label='solid+round')\n",
        "\n",
        "plt.plot([1, 2, 3], [2, 2, 2], linestyle='dashed', linewidth=10,\n",
        "      dash_capstyle='butt', color='C1', label='dashed+butt')\n",
        "plt.plot([1, 2, 3], [1, 1, 1], linestyle='dashed', linewidth=10,\n",
        "      dash_capstyle='round', color='C1', label='dashed+round')\n",
        "\n",
        "\n",
        "plt.xlabel('X-Axis')\n",
        "plt.ylabel('Y-Axis')\n",
        "plt.axis([0.8, 3.2, 0.5, 5.0])\n",
        "plt.legend(loc='upper right', ncol=2)\n",
        "plt.tight_layout()\n",
        "plt.show()\n",
        "```"
      ],
      "metadata": {
        "id": "oauiEQCouglm"
      }
    },
    {
      "cell_type": "code",
      "metadata": {
        "id": "3YDbphbIuglm"
      },
      "source": [
        ""
      ],
      "execution_count": null,
      "outputs": []
    },
    {
      "cell_type": "markdown",
      "metadata": {
        "id": "CvpHkB8r1mzc"
      },
      "source": [
        "\n",
        "## **07. 마커 지정하기**\n",
        "---\n",
        "\n",
        "<p align='center'>\n",
        "<img src=https://wikidocs.net/images/page/92083/set_marker_00.png width=500>\n",
        "</p>\n",
        "\n"
      ]
    },
    {
      "cell_type": "markdown",
      "source": [
        "### **| 기본 사용**\n",
        "\n",
        "\n",
        "```\n",
        "import matplotlib.pyplot as plt\n",
        "\n",
        "plt.plot([1, 2, 3, 4], [2, 3, 5, 10], 'bo')\n",
        "plt.xlabel('X-Axis')\n",
        "plt.ylabel('Y-Axis')\n",
        "plt.show()\n",
        "```"
      ],
      "metadata": {
        "id": "ssZZOs_T1mzl"
      }
    },
    {
      "cell_type": "code",
      "metadata": {
        "id": "Ct8Hr6_T1mzl"
      },
      "source": [
        ""
      ],
      "execution_count": null,
      "outputs": []
    },
    {
      "cell_type": "markdown",
      "source": [
        "### **| 선/마커 동시에 나타내기**\n",
        "\n",
        "\n",
        "```\n",
        "# plt.plot([1, 2, 3, 4], [2, 3, 5, 10], 'bo-')    # 파란색 + 마커 + 실선\n",
        "plt.plot([1, 2, 3, 4], [2, 3, 5, 10], 'bo--')     # 파란색 + 마커 + 점선\n",
        "plt.xlabel('X-Axis')\n",
        "plt.ylabel('Y-Axis')\n",
        "plt.show()\n",
        "```"
      ],
      "metadata": {
        "id": "vEteREWl5NAQ"
      }
    },
    {
      "cell_type": "code",
      "metadata": {
        "id": "7_fKULZU5NAQ"
      },
      "source": [
        ""
      ],
      "execution_count": null,
      "outputs": []
    },
    {
      "cell_type": "markdown",
      "source": [
        "### **| 선/마커 표시 형식**\n",
        "\n",
        "| 표현 | 종류 |\n",
        "|--|--|\n",
        "|`b`  | blue markers with default shape |\n",
        "| `ro` |red circles|\n",
        "|`g-`|green solid line|\n",
        "|`k^` | balck triangle_up markers connected by a dotted line|\n",
        "\n",
        "\n",
        "```\n",
        "# plt.plot([1, 2, 3, 4], [2, 3, 5, 10], 'bo-')    # 파란색 + 마커 + 실선\n",
        "plt.plot([1, 2, 3, 4], [2, 3, 5, 10], 'bo--')     # 파란색 + 마커 + 점선\n",
        "plt.xlabel('X-Axis')\n",
        "plt.ylabel('Y-Axis')\n",
        "plt.show()\n",
        "```"
      ],
      "metadata": {
        "id": "YNqkyMmGEWmp"
      }
    },
    {
      "cell_type": "code",
      "metadata": {
        "id": "G-BDUuXcEWmv"
      },
      "source": [
        ""
      ],
      "execution_count": null,
      "outputs": []
    },
    {
      "cell_type": "markdown",
      "source": [
        "### **| marker 파라미터 사용하기**\n",
        "\n",
        "```\n",
        "plt.plot([4, 5, 6], marker=\"H\")\n",
        "plt.plot([3, 4, 5], marker=\"d\")\n",
        "plt.plot([2, 3, 4], marker=\"x\")\n",
        "plt.plot([1, 2, 3], marker=11)\n",
        "plt.plot([0, 1, 2], marker='$Z$')\n",
        "plt.show()\n",
        "```"
      ],
      "metadata": {
        "id": "Ju_GdHblF2rX"
      }
    },
    {
      "cell_type": "code",
      "metadata": {
        "id": "gMYaWBEyF2rf"
      },
      "source": [
        ""
      ],
      "execution_count": null,
      "outputs": []
    },
    {
      "cell_type": "markdown",
      "metadata": {
        "id": "BFF96WYQdsuS"
      },
      "source": [
        "---\n",
        "## **08. 색상 지정하기**\n",
        "---\n",
        "\n",
        "<p align='center'>\n",
        "<img src=https://wikidocs.net/images/page/92085/set_color_00.png width=500>\n",
        "</p>\n",
        "\n"
      ]
    },
    {
      "cell_type": "markdown",
      "source": [
        "### **| 포맷 문자열 사용하기**\n",
        "\n",
        "\n",
        "```\n",
        "import matplotlib.pyplot as plt\n",
        "\n",
        "plt.plot([1, 2, 3, 4], [2.0, 3.0, 5.0, 10.0], 'r')\n",
        "plt.plot([1, 2, 3, 4], [2.0, 2.8, 4.3, 6.5], 'g')\n",
        "plt.plot([1, 2, 3, 4], [2.0, 2.5, 3.3, 4.5], 'b')\n",
        "plt.xlabel('X-Axis')\n",
        "plt.ylabel('Y-Axis')\n",
        "\n",
        "plt.show()\n",
        "```"
      ],
      "metadata": {
        "id": "6tSMiGnVdsul"
      }
    },
    {
      "cell_type": "code",
      "metadata": {
        "id": "0KGnp0mvdsul"
      },
      "source": [
        ""
      ],
      "execution_count": null,
      "outputs": []
    },
    {
      "cell_type": "markdown",
      "source": [
        "### **| `color` 키워드 인자 사용하기**\n",
        "\n",
        "\n",
        "```\n",
        "plt.plot([1, 2, 3, 4], [2.0, 3.0, 5.0, 10.0], color='limegreen')\n",
        "plt.plot([1, 2, 3, 4], [2.0, 2.8, 4.3, 6.5], color='violet')\n",
        "plt.plot([1, 2, 3, 4], [2.0, 2.5, 3.3, 4.5], color='dodgerblue')\n",
        "plt.xlabel('X-Axis')\n",
        "plt.ylabel('Y-Axis')\n",
        "\n",
        "plt.show()\n",
        "```"
      ],
      "metadata": {
        "id": "X8ORsaCueBcg"
      }
    },
    {
      "cell_type": "code",
      "metadata": {
        "id": "PIChVG9leBci"
      },
      "source": [
        ""
      ],
      "execution_count": null,
      "outputs": []
    },
    {
      "cell_type": "markdown",
      "source": [
        "### **| Hex code 사용하기**\n",
        "\n",
        "\n",
        "\n",
        "\n",
        "```\n",
        "plt.plot([1, 2, 3, 4], [2, 3, 5, 10], color='#e35f62',\n",
        "         marker='o', linestyle='--')\n",
        "plt.xlabel('X-Axis')\n",
        "plt.ylabel('Y-Axis')\n",
        "\n",
        "plt.show()\n",
        "```"
      ],
      "metadata": {
        "id": "h7ieXAKYeRoG"
      }
    },
    {
      "cell_type": "code",
      "metadata": {
        "id": "qmJb_gXleRoI"
      },
      "source": [
        ""
      ],
      "execution_count": null,
      "outputs": []
    },
    {
      "cell_type": "markdown",
      "source": [
        "### **| Matplotlib 색상들**\n",
        "\n"
      ],
      "metadata": {
        "id": "rmQHjD3legoR"
      }
    },
    {
      "cell_type": "markdown",
      "source": [
        "* **Cycler 색상**\n",
        "\n",
        "\n",
        "<p align='center'>\n",
        "<img src=https://wikidocs.net/images/page/92085/set_color_06.png width=300>\n",
        "</p>"
      ],
      "metadata": {
        "id": "Bk1s9Sb8g2PG"
      }
    },
    {
      "cell_type": "markdown",
      "source": [
        "* **기본 색상**\n",
        "\n",
        "\n",
        "<p align='center'>\n",
        "<img src=https://wikidocs.net/images/page/92085/set_color_04.PNG width=500>\n",
        "</p>"
      ],
      "metadata": {
        "id": "Fyq0mWt6hCz4"
      }
    },
    {
      "cell_type": "markdown",
      "source": [
        "* **Tableau 색상**\n",
        "\n",
        "\n",
        "<p align='center'>\n",
        "<img src=https://wikidocs.net/images/page/92085/set_color_07.PNG width=450>\n",
        "</p>"
      ],
      "metadata": {
        "id": "YL1htv_9hfTY"
      }
    },
    {
      "cell_type": "markdown",
      "source": [
        "* **CSS 색상**\n",
        "<p align='center'>\n",
        "<img src=https://wikidocs.net/images/page/92085/set_color_05.PNG width=550>\n",
        "</p>"
      ],
      "metadata": {
        "id": "GWbnk1gthtY4"
      }
    },
    {
      "cell_type": "markdown",
      "metadata": {
        "id": "i_BVr7cgiFPy"
      },
      "source": [
        "\n",
        "## **09. 그래프 영역 채우기**\n",
        "---\n",
        "\n",
        "<p align='center'>\n",
        "<img src=https://wikidocs.net/images/page/92086/fill_region_00.png width=500>\n",
        "</p>\n",
        "\n",
        "\n"
      ]
    },
    {
      "cell_type": "markdown",
      "source": [
        "### **| 기본 사용 - fill_between()**\n",
        "\n",
        "\n",
        "```\n",
        "import matplotlib.pyplot as plt\n",
        "\n",
        "x = [1, 2, 3, 4]\n",
        "y = [2, 3, 5, 10]\n",
        "\n",
        "plt.plot(x, y)\n",
        "plt.xlabel('X-Axis')\n",
        "plt.ylabel('Y-Axis')\n",
        "plt.fill_between(x[1:3], y[1:3], alpha=0.5)\n",
        "\n",
        "plt.show()\n",
        "```"
      ],
      "metadata": {
        "id": "BtHg_WchiFPz"
      }
    },
    {
      "cell_type": "code",
      "source": [
        ""
      ],
      "metadata": {
        "id": "c_6DZlaii_f9"
      },
      "execution_count": null,
      "outputs": []
    },
    {
      "cell_type": "markdown",
      "source": [
        "### **| 기본 사용 - fill_betweenx()**\n",
        "\n",
        "\n",
        "\n",
        "```\n",
        "x = [1, 2, 3, 4]\n",
        "y = [2, 3, 5, 10]\n",
        "\n",
        "plt.plot(x, y)\n",
        "plt.xlabel('X-Axis')\n",
        "plt.ylabel('Y-Axis')\n",
        "plt.fill_betweenx(y[2:4], x[2:4], alpha=0.5)\n",
        "\n",
        "plt.show()\n",
        "```"
      ],
      "metadata": {
        "id": "g3YDGPRLjCHj"
      }
    },
    {
      "cell_type": "code",
      "source": [
        ""
      ],
      "metadata": {
        "id": "Apm8W7t5jCHl"
      },
      "execution_count": null,
      "outputs": []
    },
    {
      "cell_type": "markdown",
      "source": [
        "### **| 두 그래프 사이 영역 채우기**\n",
        "\n",
        "\n",
        "```\n",
        "x = [1, 2, 3, 4]\n",
        "y1 = [2, 3, 5, 10]\n",
        "y2 = [1, 2, 4, 8]\n",
        "\n",
        "plt.plot(x, y1)\n",
        "plt.plot(x, y2)\n",
        "plt.xlabel('X-Axis')\n",
        "plt.ylabel('Y-Axis')\n",
        "plt.fill_between(x[1:3], y1[1:3], y2[1:3], color='lightgray', alpha=0.5)\n",
        "\n",
        "plt.show()\n",
        "```"
      ],
      "metadata": {
        "id": "wO0tVQtejR2P"
      }
    },
    {
      "cell_type": "code",
      "source": [
        ""
      ],
      "metadata": {
        "id": "lcoD3pJZjR2R"
      },
      "execution_count": null,
      "outputs": []
    },
    {
      "cell_type": "markdown",
      "source": [
        "### **| 다각형 영역 채우기 - fill()**\n",
        "\n",
        "```\n",
        "x = [1, 2, 3, 4]\n",
        "y1 = [2, 3, 5, 10]\n",
        "y2 = [1, 2, 4, 8]\n",
        "\n",
        "plt.plot(x, y1)\n",
        "plt.plot(x, y2)\n",
        "plt.xlabel('X-Axis')\n",
        "plt.ylabel('Y-Axis')\n",
        "plt.fill([1.9, 1.9, 3.1, 3.1], [1.0, 4.0, 6.0, 3.0], color='lightgray', alpha=0.5)\n",
        "\n",
        "plt.show()\n",
        "```"
      ],
      "metadata": {
        "id": "i4yLwy0ljcQV"
      }
    },
    {
      "cell_type": "code",
      "source": [
        ""
      ],
      "metadata": {
        "id": "DhENLtMijcQW"
      },
      "execution_count": null,
      "outputs": []
    },
    {
      "cell_type": "markdown",
      "metadata": {
        "id": "F1sTkwiXjsgO"
      },
      "source": [
        "## **10. 축 스케일 지정하기**\n",
        "---\n",
        "\n",
        "<p align='center'>\n",
        "<img src=https://wikidocs.net/images/page/137913/axis_scale_00.png width=500>\n",
        "</p>\n",
        "\n"
      ]
    },
    {
      "cell_type": "markdown",
      "source": [
        "### **| X축 스케일 지정하기**\n",
        "\n",
        "\n",
        "```\n",
        "import matplotlib.pyplot as plt\n",
        "import numpy as np\n",
        "\n",
        "x = np.linspace(-10, 10, 100)\n",
        "y = x ** 3\n",
        "\n",
        "plt.plot(x, y)\n",
        "plt.xscale('symlog')\n",
        "\n",
        "plt.show()\n",
        "```"
      ],
      "metadata": {
        "id": "S_ASTuHJjsgO"
      }
    },
    {
      "cell_type": "code",
      "source": [
        ""
      ],
      "metadata": {
        "id": "5XoyhaFVjsgO"
      },
      "execution_count": null,
      "outputs": []
    },
    {
      "cell_type": "markdown",
      "source": [
        "### **| Y축 스케일 지정하기**\n",
        "\n",
        "```\n",
        "x = np.linspace(0, 5, 100)\n",
        "y = np.exp(x)\n",
        "\n",
        "plt.plot(x, y)\n",
        "# plt.yscale('linear')\n",
        "plt.yscale('log')\n",
        "\n",
        "plt.show()\n",
        "```"
      ],
      "metadata": {
        "id": "G3oRF9qolMWk"
      }
    },
    {
      "cell_type": "code",
      "source": [
        ""
      ],
      "metadata": {
        "id": "AyhlxG_RlMWl"
      },
      "execution_count": null,
      "outputs": []
    },
    {
      "cell_type": "markdown",
      "metadata": {
        "id": "FN_sGW8vlnIL"
      },
      "source": [
        "## **11. 여러 곡선 그리기**\n",
        "\n",
        "---\n",
        "\n",
        "<p align='center'>\n",
        "<img src=https://wikidocs.net/images/page/92087/multiple_curves_00.png width=500>\n",
        "</p>\n"
      ]
    },
    {
      "cell_type": "markdown",
      "source": [
        "### **| 기본사용**\n",
        "\n",
        "\n",
        "\n",
        "```\n",
        "import matplotlib.pyplot as plt\n",
        "import numpy as np\n",
        "\n",
        "x = np.arange(0, 2, 0.2)\n",
        "\n",
        "plt.plot(x, x, 'r--', x, x**2, 'bo', x, x**3, 'g-.')\n",
        "plt.show()\n",
        "```"
      ],
      "metadata": {
        "id": "mcnAhLUBlnIM"
      }
    },
    {
      "cell_type": "code",
      "source": [
        ""
      ],
      "metadata": {
        "id": "U_CfW0XQlnIM"
      },
      "execution_count": null,
      "outputs": []
    },
    {
      "cell_type": "markdown",
      "source": [
        "### **| 스타일 지정하기**\n",
        "\n",
        "\n",
        "```\n",
        "x = np.arange(0, 2, 0.2)\n",
        "\n",
        "plt.plot(x, x, 'bo')\n",
        "plt.plot(x, x**2, color='#e35f62', marker='*', linewidth=2)\n",
        "plt.plot(x, x**3, color='forestgreen', marker='^', markersize=9)\n",
        "plt.show()\n",
        "```"
      ],
      "metadata": {
        "id": "bffsnIIVmDPv"
      }
    },
    {
      "cell_type": "code",
      "source": [
        ""
      ],
      "metadata": {
        "id": "1T3XmZnZmDPx"
      },
      "execution_count": null,
      "outputs": []
    },
    {
      "cell_type": "markdown",
      "metadata": {
        "id": "Fer4bYZymQ64"
      },
      "source": [
        "## **12. 그리드 설정하기**\n",
        "---\n",
        "\n",
        "<p align='center'>\n",
        "<img src=https://wikidocs.net/images/page/92088/set_grid_00.png width=500>\n",
        "</p>\n",
        "\n",
        "\n"
      ]
    },
    {
      "cell_type": "markdown",
      "source": [
        "### **| 기본사용**\n",
        "\n",
        "```\n",
        "import matplotlib.pyplot as plt\n",
        "import numpy as np\n",
        "\n",
        "x = np.arange(0, 2, 0.2)\n",
        "\n",
        "plt.plot(x, x, 'bo')\n",
        "plt.plot(x, x**2, color='#e35f62', marker='*', linewidth=2)\n",
        "plt.plot(x, x**3, color='springgreen', marker='^', markersize=9)\n",
        "plt.grid(True)\n",
        "\n",
        "plt.show()\n",
        "```"
      ],
      "metadata": {
        "id": "3pVWSKyqmQ65"
      }
    },
    {
      "cell_type": "code",
      "source": [
        ""
      ],
      "metadata": {
        "id": "-GS_2Ae5mQ65"
      },
      "execution_count": null,
      "outputs": []
    },
    {
      "cell_type": "markdown",
      "source": [
        "### **| 축 지정하기**\n",
        "\n",
        "\n",
        "\n",
        "\n",
        "```\n",
        "x = np.arange(0, 2, 0.2)\n",
        "\n",
        "plt.plot(x, x, 'bo')\n",
        "plt.plot(x, x**2, color='#e35f62', marker='*', linewidth=2)\n",
        "plt.plot(x, x**3, color='forestgreen', marker='^', markersize=9)\n",
        "plt.grid(True, axis='y')\n",
        "\n",
        "plt.show()\n",
        "```"
      ],
      "metadata": {
        "id": "jnzU996amih-"
      }
    },
    {
      "cell_type": "code",
      "source": [
        ""
      ],
      "metadata": {
        "id": "AlAllO0ymih_"
      },
      "execution_count": null,
      "outputs": []
    },
    {
      "cell_type": "markdown",
      "source": [
        "### **| 스타일 설정하기**\n",
        "\n",
        "\n",
        "```\n",
        "x = np.arange(0, 2, 0.2)\n",
        "\n",
        "plt.plot(x, x, 'bo')\n",
        "plt.plot(x, x**2, color='#e35f62', marker='*', linewidth=2)\n",
        "plt.plot(x, x**3, color='springgreen', marker='^', markersize=9)\n",
        "plt.grid(True, axis='y', color='red', alpha=0.5, linestyle='--')\n",
        "\n",
        "plt.show()\n",
        "```"
      ],
      "metadata": {
        "id": "w-0DE2Xcmw0z"
      }
    },
    {
      "cell_type": "code",
      "source": [
        ""
      ],
      "metadata": {
        "id": "4uqA7t6Mmw0z"
      },
      "execution_count": null,
      "outputs": []
    },
    {
      "cell_type": "markdown",
      "metadata": {
        "id": "jMcusf6FnKux"
      },
      "source": [
        "\n",
        "## **13. 눈금 표시하기**\n",
        "---\n",
        "\n",
        "<p align='center'>\n",
        "<img src=https://wikidocs.net/images/page/92089/set_ticks_00.png width=500>\n",
        "</p>\n",
        "\n"
      ]
    },
    {
      "cell_type": "markdown",
      "source": [
        "### **| 기본사용**\n",
        "\n",
        "\n",
        "```\n",
        "import numpy as np\n",
        "\n",
        "x = np.arange(0, 2, 0.2)\n",
        "\n",
        "plt.plot(x, x, 'bo')\n",
        "plt.plot(x, x**2, color='#e35f62', marker='*', linewidth=2)\n",
        "plt.plot(x, x**3, color='forestgreen', marker='^', markersize=9)\n",
        "plt.xticks([0, 1, 2])\n",
        "plt.yticks(np.arange(1, 6))\n",
        "\n",
        "plt.show()\n",
        "```"
      ],
      "metadata": {
        "id": "ZZXAX6mUnKuz"
      }
    },
    {
      "cell_type": "code",
      "source": [
        ""
      ],
      "metadata": {
        "id": "GPAjQLoZnKuz"
      },
      "execution_count": null,
      "outputs": []
    },
    {
      "cell_type": "markdown",
      "source": [
        "### **| 눈금 레이블 지정하기**\n",
        "\n",
        "\n",
        "```\n",
        "x = np.arange(0, 2, 0.2)\n",
        "\n",
        "plt.plot(x, x, 'bo')\n",
        "plt.plot(x, x**2, color='#e35f62', marker='*', linewidth=2)\n",
        "plt.plot(x, x**3, color='springgreen', marker='^', markersize=9)\n",
        "plt.xticks(np.arange(0, 2, 0.2), labels=['Jan', '', 'Feb', '', 'Mar', '', 'May', '', 'June', '', 'July'])\n",
        "plt.yticks(np.arange(0, 7), ('0', '1GB', '2GB', '3GB', '4GB', '5GB', '6GB'))\n",
        "\n",
        "plt.show()\n",
        "```"
      ],
      "metadata": {
        "id": "YvNF2Kz7zDdP"
      }
    },
    {
      "cell_type": "code",
      "source": [
        ""
      ],
      "metadata": {
        "id": "IAYMP4x2zDdQ"
      },
      "execution_count": null,
      "outputs": []
    },
    {
      "cell_type": "markdown",
      "source": [
        "### **| 눈금 스타일 설정하기**\n",
        "\n",
        "\n",
        "\n",
        "```\n",
        "x = np.arange(0, 2, 0.2)\n",
        "\n",
        "plt.plot(x, x, 'bo')\n",
        "plt.plot(x, x**2, color='#e35f62', marker='*', linewidth=2)\n",
        "plt.plot(x, x**3, color='springgreen', marker='^', markersize=9)\n",
        "plt.xticks(np.arange(0, 2, 0.2), labels=['Jan', '', 'Feb', '', 'Mar', '', 'May', '', 'June', '', 'July'])\n",
        "plt.yticks(np.arange(0, 7), ('0', '1GB', '2GB', '3GB', '4GB', '5GB', '6GB'))\n",
        "\n",
        "plt.tick_params(axis='x', direction='in', length=3, pad=6, labelsize=14, labelcolor='green', top=True)\n",
        "plt.tick_params(axis='y', direction='inout', length=10, pad=15, labelsize=12, width=2, color='r')\n",
        "\n",
        "plt.show()\n",
        "```"
      ],
      "metadata": {
        "id": "OJ8yU5L3zL5O"
      }
    },
    {
      "cell_type": "code",
      "source": [
        ""
      ],
      "metadata": {
        "id": "3jnRO8DRzL5O"
      },
      "execution_count": null,
      "outputs": []
    },
    {
      "cell_type": "markdown",
      "metadata": {
        "id": "lYq_yIAIzh0D"
      },
      "source": [
        "## **14. 타이틀 설정하기**\n",
        "---\n",
        "\n",
        "<p align='center'>\n",
        "<img src=https://wikidocs.net/images/page/92090/set_title_00.png width=450>\n",
        "</p>\n",
        "\n"
      ]
    },
    {
      "cell_type": "markdown",
      "source": [
        "### **| 기본사용**\n",
        "\n",
        "\n",
        "\n",
        "```\n",
        "import matplotlib.pyplot as plt\n",
        "import numpy as np\n",
        "\n",
        "x = np.arange(0, 2, 0.2)\n",
        "\n",
        "plt.plot(x, x, 'bo')\n",
        "plt.plot(x, x**2, color='#e35f62', marker='*', linewidth=2)\n",
        "plt.plot(x, x**3, color='forestgreen', marker='^', markersize=9)\n",
        "\n",
        "plt.tick_params(axis='both', direction='in', length=3, pad=6, labelsize=14)\n",
        "plt.title('Graph Title')\n",
        "\n",
        "plt.show()\n",
        "```"
      ],
      "metadata": {
        "id": "pNb53maczh0I"
      }
    },
    {
      "cell_type": "code",
      "source": [
        ""
      ],
      "metadata": {
        "id": "K9GM6cAozh0I"
      },
      "execution_count": null,
      "outputs": []
    },
    {
      "cell_type": "markdown",
      "source": [
        "### **| 위치와 오프셋 지정하기**\n",
        "\n",
        "\n",
        "```\n",
        "x = np.arange(0, 2, 0.2)\n",
        "\n",
        "plt.plot(x, x, 'bo')\n",
        "plt.plot(x, x**2, color='#e35f62', marker='*', linewidth=2)\n",
        "plt.plot(x, x**3, color='forestgreen', marker='^', markersize=9)\n",
        "\n",
        "plt.tick_params(axis='both', direction='in', length=3, pad=6, labelsize=14)\n",
        "plt.title('Graph Title', loc='right', pad=20)\n",
        "\n",
        "plt.show()\n",
        "```"
      ],
      "metadata": {
        "id": "7lV3_ADAz2v4"
      }
    },
    {
      "cell_type": "code",
      "source": [
        ""
      ],
      "metadata": {
        "id": "U-fNFjNKz2v5"
      },
      "execution_count": null,
      "outputs": []
    },
    {
      "cell_type": "markdown",
      "source": [
        "### **| 폰트 지정하기**\n",
        "\n",
        "\n",
        "\n",
        "\n",
        "\n",
        "\n",
        "```\n",
        "x = np.arange(0, 2, 0.2)\n",
        "\n",
        "plt.plot(x, x, 'bo')\n",
        "plt.plot(x, x**2, color='#e35f62', marker='*', linewidth=2)\n",
        "plt.plot(x, x**3, color='forestgreen', marker='^', markersize=9)\n",
        "\n",
        "plt.tick_params(axis='both', direction='in', length=3, pad=6, labelsize=14)\n",
        "plt.title('Graph Title', loc='right', pad=20)\n",
        "\n",
        "title_font = {\n",
        "    'fontsize': 16,\n",
        "    'fontweight': 'bold'\n",
        "}\n",
        "plt.title('Graph Title', fontdict=title_font, loc='left', pad=20)\n",
        "\n",
        "plt.show()\n",
        "```"
      ],
      "metadata": {
        "id": "-mLvbCPr0D8l"
      }
    },
    {
      "cell_type": "code",
      "source": [
        ""
      ],
      "metadata": {
        "id": "YemC2Cby0D8l"
      },
      "execution_count": null,
      "outputs": []
    },
    {
      "cell_type": "markdown",
      "source": [
        "### **| 타이틀 얻기**\n",
        "\n",
        "\n",
        "\n",
        "```\n",
        "x = np.arange(0, 2, 0.2)\n",
        "\n",
        "plt.plot(x, x, 'bo')\n",
        "plt.plot(x, x**2, color='#e35f62', marker='*', linewidth=2)\n",
        "plt.plot(x, x**3, color='forestgreen', marker='^', markersize=9)\n",
        "\n",
        "plt.tick_params(axis='both', direction='in', length=3, pad=6, labelsize=14)\n",
        "title_right = plt.title('Graph Title', loc='right', pad=20)\n",
        "\n",
        "title_font = {\n",
        "    'fontsize': 16,\n",
        "    'fontweight': 'bold'\n",
        "}\n",
        "title_left = plt.title('Graph Title', fontdict=title_font, loc='left', pad=20)\n",
        "\n",
        "print(title_left.get_position())\n",
        "print(title_left.get_text())\n",
        "\n",
        "print(title_right.get_position())\n",
        "print(title_right.get_text())\n",
        "\n",
        "plt.show()\n",
        "```"
      ],
      "metadata": {
        "id": "Vw2Y2P6I0RoC"
      }
    },
    {
      "cell_type": "code",
      "source": [
        ""
      ],
      "metadata": {
        "id": "IsP4gkGX0RoD"
      },
      "execution_count": null,
      "outputs": []
    },
    {
      "cell_type": "markdown",
      "metadata": {
        "id": "8Re6_tCGxrGw"
      },
      "source": [
        "## **29. 이미지 저장하기**\n",
        "---\n",
        "\n",
        "<p align='center'>\n",
        "<img src=https://wikidocs.net/images/page/92090/set_title_00.png width=450>\n",
        "</p>\n",
        "\n"
      ]
    },
    {
      "cell_type": "markdown",
      "source": [
        "### **| 기본사용**\n",
        "\n",
        "\n",
        "\n",
        "```\n",
        "import numpy as np\n",
        "import matplotlib.pyplot as plt\n",
        "\n",
        "x1 = np.linspace(0.0, 5.0)\n",
        "x2 = np.linspace(0.0, 2.0)\n",
        "\n",
        "y1 = np.cos(2 * np.pi * x1) * np.exp(-x1)\n",
        "y2 = np.cos(2 * np.pi * x2)\n",
        "\n",
        "plt.subplot(2, 1, 1)                # nrows=2, ncols=1, index=1\n",
        "plt.plot(x1, y1, 'o-')\n",
        "plt.title('1st Graph')\n",
        "plt.ylabel('Damped oscillation')\n",
        "\n",
        "plt.subplot(2, 1, 2)                # nrows=2, ncols=1, index=2\n",
        "plt.plot(x2, y2, '.-')\n",
        "plt.title('2nd Graph')\n",
        "plt.xlabel('time (s)')\n",
        "plt.ylabel('Undamped')\n",
        "\n",
        "plt.tight_layout()\n",
        "# plt.show()\n",
        "plt.savefig('savefig_default.png')\n",
        "```"
      ],
      "metadata": {
        "id": "vBMOJRU5xrGw"
      }
    },
    {
      "cell_type": "code",
      "source": [
        ""
      ],
      "metadata": {
        "id": "4xedBsgAxxVH"
      },
      "execution_count": null,
      "outputs": []
    },
    {
      "cell_type": "markdown",
      "metadata": {
        "id": "Iflmv_G4M7Qs"
      },
      "source": [
        "## 문제풀이\n",
        "---"
      ]
    },
    {
      "cell_type": "markdown",
      "metadata": {
        "id": "d9o7kBXoNlE3"
      },
      "source": [
        "####**예제 01**\n",
        "\n",
        "아래의 플롯과 최대한 비슷하게 그리고 `ch0201_01`로 저장하세요\n",
        "\n",
        "\n",
        "<p align='left'>\n",
        "<img src=https://github.com/yebiny/Lecture-EDA-basic/blob/main/imgs/07-1.PNG?raw=true width=400>\n",
        "</p>\n",
        "\n"
      ]
    },
    {
      "cell_type": "code",
      "source": [
        ""
      ],
      "metadata": {
        "id": "AlcAUhkG4n4S"
      },
      "execution_count": null,
      "outputs": []
    },
    {
      "cell_type": "markdown",
      "source": [
        "####**예제 02**\n",
        "\n",
        "아래의 플롯과 최대한 비슷하게 그리고 `ch0201_02`로 저장하세요\n",
        "\n",
        "<p align='left'>\n",
        "<img src=https://github.com/yebiny/Lecture-EDA-basic/blob/main/imgs/07-2.PNG?raw=true width=400>\n",
        "</p>"
      ],
      "metadata": {
        "id": "ZMLwfLXPmJSx"
      }
    },
    {
      "cell_type": "code",
      "source": [
        ""
      ],
      "metadata": {
        "id": "QK3W9CBQaPs7"
      },
      "execution_count": null,
      "outputs": []
    },
    {
      "cell_type": "markdown",
      "source": [
        "####**예제 03**\n",
        "\n",
        "아래의 플롯과 최대한 비슷하게 그리고 `ch0201_03`로 저장하세요\n",
        "\n",
        "\n",
        "<p align='left'>\n",
        "<img src=https://github.com/yebiny/Lecture-EDA-basic/blob/main/imgs/07-3.PNG?raw=true width=400>\n",
        "</p>"
      ],
      "metadata": {
        "id": "daScVR1CmKqw"
      }
    },
    {
      "cell_type": "code",
      "source": [
        ""
      ],
      "metadata": {
        "id": "xThNqHD8b32T"
      },
      "execution_count": null,
      "outputs": []
    },
    {
      "cell_type": "markdown",
      "source": [
        "####**예제 04**\n",
        "\n",
        "아래의 플롯과 최대한 비슷하게 그리고 `ch0201_04`로 저장하세요\n",
        "\n",
        "<p align='left'>\n",
        "<img src=https://github.com/yebiny/Lecture-EDA-basic/blob/main/imgs/07-4.PNG?raw=true width=400>\n",
        "</p>"
      ],
      "metadata": {
        "id": "WJ8aXARhmMjY"
      }
    },
    {
      "cell_type": "code",
      "metadata": {
        "id": "Gwir0bafNlE9"
      },
      "source": [
        ""
      ],
      "execution_count": null,
      "outputs": []
    },
    {
      "cell_type": "markdown",
      "source": [
        "####**예제 05**\n",
        "\n",
        "아래의 플롯과 최대한 비슷하게 그리고 `ch0201_05`로 저장하세요\n",
        "\n",
        "\n",
        "<p align='left'>\n",
        "<img src=https://github.com/yebiny/Lecture-EDA-basic/blob/main/imgs/07-5.PNG?raw=true width=400>\n",
        "</p>"
      ],
      "metadata": {
        "id": "-4k9fvesmORJ"
      }
    },
    {
      "cell_type": "code",
      "source": [
        ""
      ],
      "metadata": {
        "id": "I9DlwULhyIIQ"
      },
      "execution_count": null,
      "outputs": []
    },
    {
      "cell_type": "markdown",
      "source": [
        "####**예제 06**\n",
        "\n",
        "본인 스타일 대로 데이터를 잘 나타내도록 그림을 그리고 `ch0201_06`으로 저장하세요.\n"
      ],
      "metadata": {
        "id": "p78iZkiax-y3"
      }
    },
    {
      "cell_type": "code",
      "source": [
        ""
      ],
      "metadata": {
        "id": "5opESXY5x-y3"
      },
      "execution_count": null,
      "outputs": []
    }
  ]
}