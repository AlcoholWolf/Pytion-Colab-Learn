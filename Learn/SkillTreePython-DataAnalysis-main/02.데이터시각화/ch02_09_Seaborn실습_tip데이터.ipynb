{
  "nbformat": 4,
  "nbformat_minor": 0,
  "metadata": {
    "colab": {
      "name": "ch02_09_Seaborn실습-tip데이터.ipynb",
      "provenance": [],
      "collapsed_sections": [],
      "authorship_tag": "ABX9TyO2bIDYRxYlhZzbtNtz4fTW",
      "include_colab_link": true
    },
    "kernelspec": {
      "name": "python3",
      "display_name": "Python 3"
    },
    "language_info": {
      "name": "python"
    }
  },
  "cells": [
    {
      "cell_type": "markdown",
      "metadata": {
        "id": "view-in-github",
        "colab_type": "text"
      },
      "source": [
        "<a href=\"https://colab.research.google.com/github/yebiny/SkillTreePython-DataAnalysis/blob/main/02.%EB%8D%B0%EC%9D%B4%ED%84%B0%EC%8B%9C%EA%B0%81%ED%99%94/ch02_09_Seaborn%EC%8B%A4%EC%8A%B5_tip%EB%8D%B0%EC%9D%B4%ED%84%B0.ipynb\" target=\"_parent\"><img src=\"https://colab.research.google.com/assets/colab-badge.svg\" alt=\"Open In Colab\"/></a>"
      ]
    },
    {
      "cell_type": "markdown",
      "source": [
        "# Ch02.09. Seborn 실습 - tip 데이터\n",
        "\n",
        "\n",
        "---\n",
        "\n",
        "* 날짜:\n",
        "* 이름:\n",
        "\n",
        "\n",
        "## 학습내용\n",
        "\n",
        "    - Catplot을 이용해 범주별 데이터의 분포를 시각화 한다.\n",
        "    - Catplot의 다양한 시각화 종류를 알아본다.\n",
        "\n",
        "```\n",
        "import numpy as np\n",
        "import pandas as pd\n",
        "import matplotlib.pyplot as plt\n",
        "import seaborn as sns\n",
        "\n",
        "sns.set(font_scale=1.2, style='white', palette='Set2')\n",
        "```\n"
      ],
      "metadata": {
        "id": "ylXjSLUxXHxm"
      }
    },
    {
      "cell_type": "code",
      "source": [
        ""
      ],
      "metadata": {
        "id": "d4QmSADpiRss"
      },
      "execution_count": null,
      "outputs": []
    },
    {
      "cell_type": "markdown",
      "source": [
        "\n",
        "## **실습**\n",
        "---\n",
        "\n"
      ],
      "metadata": {
        "id": "CfIEbA8ZWulm"
      }
    },
    {
      "cell_type": "markdown",
      "source": [
        "### (1) 데이터 기본 탐색"
      ],
      "metadata": {
        "id": "y00gZpKMajr-"
      }
    },
    {
      "cell_type": "markdown",
      "source": [
        "#### | 데이터 준비\n",
        "\n",
        "```\n",
        "tips = sns.load_dataset('tips')\n",
        "tips.head()\n",
        "```"
      ],
      "metadata": {
        "id": "t4dDxvduaHiq"
      }
    },
    {
      "cell_type": "code",
      "source": [
        ""
      ],
      "metadata": {
        "id": "GjyFUe9ViS52"
      },
      "execution_count": null,
      "outputs": []
    },
    {
      "cell_type": "markdown",
      "source": [
        "#### | 데이터 기본 탐색\n"
      ],
      "metadata": {
        "id": "z9wjMCRwv12-"
      }
    },
    {
      "cell_type": "code",
      "source": [
        ""
      ],
      "metadata": {
        "id": "kK1RPLobiTqu"
      },
      "execution_count": null,
      "outputs": []
    },
    {
      "cell_type": "code",
      "source": [
        ""
      ],
      "metadata": {
        "id": "JUJkZ2bFiTwV"
      },
      "execution_count": null,
      "outputs": []
    },
    {
      "cell_type": "markdown",
      "source": [
        "### (2) Categorical plot\n",
        "\n",
        "![](https://seaborn.pydata.org/_images/function_overview_8_0.png)\n",
        "\n",
        "```\n",
        "seaborn.catplot(x=None, y=None, \n",
        "                hue=None, data=None,\n",
        "                kind = 'strip' # {swarm, box, violin, boxen, point, bar, count} \n",
        "                row=None, col=None, \n",
        "                col_wrap=None, \n",
        "                units=None, seed=None, order=None,\n",
        "                hue_order=None, row_order=None, \n",
        "                col_order=None, height=5, \n",
        "                aspect=1, orient=None, color=None, \n",
        "                palette=None, legend=True, \n",
        "                legend_out=True, \n",
        "                sharex=True, sharey=True, \n",
        "                margin_titles=False,\n",
        "                facet_kws=None,\n",
        "                jitter=True)\n",
        "\n",
        "```"
      ],
      "metadata": {
        "id": "G-M0tV1OTQ4S"
      }
    },
    {
      "cell_type": "code",
      "source": [
        ""
      ],
      "metadata": {
        "id": "h9soi0c2iVrx"
      },
      "execution_count": null,
      "outputs": []
    },
    {
      "cell_type": "code",
      "source": [
        ""
      ],
      "metadata": {
        "id": "whyPVaSRiVyA"
      },
      "execution_count": null,
      "outputs": []
    },
    {
      "cell_type": "markdown",
      "source": [
        "#### | 플롯 분할\n",
        "\n"
      ],
      "metadata": {
        "id": "3qOsNI_qPNNu"
      }
    },
    {
      "cell_type": "code",
      "source": [
        ""
      ],
      "metadata": {
        "id": "EV9fzMYpiXAM"
      },
      "execution_count": null,
      "outputs": []
    },
    {
      "cell_type": "code",
      "source": [
        ""
      ],
      "metadata": {
        "id": "dyImivCYiYnD"
      },
      "execution_count": null,
      "outputs": []
    },
    {
      "cell_type": "markdown",
      "source": [
        "### (3) 범주별 통계 시각화\n",
        "\n"
      ],
      "metadata": {
        "id": "iIZ_VnGNM9Pv"
      }
    },
    {
      "cell_type": "markdown",
      "source": [
        "#### | Bar plots\n"
      ],
      "metadata": {
        "id": "zc7N5O_6M9Pw"
      }
    },
    {
      "cell_type": "code",
      "source": [
        ""
      ],
      "metadata": {
        "id": "80ROqteEiZSJ"
      },
      "execution_count": null,
      "outputs": []
    },
    {
      "cell_type": "markdown",
      "source": [
        "#### | Point plots\n",
        "\n"
      ],
      "metadata": {
        "id": "lAp1A53yOS9A"
      }
    },
    {
      "cell_type": "code",
      "source": [
        ""
      ],
      "metadata": {
        "id": "-EL8xjFfiaeu"
      },
      "execution_count": null,
      "outputs": []
    },
    {
      "cell_type": "markdown",
      "source": [
        "### (4) 범주별 분포 시각화\n"
      ],
      "metadata": {
        "id": "cLvPgd6xLLLB"
      }
    },
    {
      "cell_type": "markdown",
      "source": [
        "#### | Box plots\n"
      ],
      "metadata": {
        "id": "Oj3tfN-VMwln"
      }
    },
    {
      "cell_type": "code",
      "source": [
        ""
      ],
      "metadata": {
        "id": "bUMhn2Gnieij"
      },
      "execution_count": null,
      "outputs": []
    },
    {
      "cell_type": "code",
      "source": [
        ""
      ],
      "metadata": {
        "id": "iUTnmACxibvZ"
      },
      "execution_count": null,
      "outputs": []
    },
    {
      "cell_type": "markdown",
      "source": [
        "#### | Violin plots"
      ],
      "metadata": {
        "id": "Ap0xS_nHM11a"
      }
    },
    {
      "cell_type": "code",
      "source": [
        ""
      ],
      "metadata": {
        "id": "mK2UBCueieL-"
      },
      "execution_count": null,
      "outputs": []
    },
    {
      "cell_type": "code",
      "source": [
        ""
      ],
      "metadata": {
        "id": "DQ0NH5FTieO-"
      },
      "execution_count": null,
      "outputs": []
    },
    {
      "cell_type": "markdown",
      "source": [
        "\n",
        "## **과제: [Titanic - Machine Learning from Disaster](https://www.kaggle.com/code/parulpandey/penguin-dataset-the-new-iris/notebook)**\n",
        "\n",
        "---\n",
        "\n",
        "![](https://storage.googleapis.com/kaggle-media/welcome/video_thumbnail.jpg)\n",
        "\n"
      ],
      "metadata": {
        "id": "D-B_gLcbunES"
      }
    },
    {
      "cell_type": "markdown",
      "source": [
        "### (1) 데이터 기본 탐색\n"
      ],
      "metadata": {
        "id": "LhjAm12Rz3e5"
      }
    },
    {
      "cell_type": "markdown",
      "source": [
        "#### | 데이터 준비\n",
        "\n",
        "```\n",
        "df = sns.load_dataset('titanic')\n",
        "df.head()\n",
        "```"
      ],
      "metadata": {
        "id": "lJKlQhYQz3e_"
      }
    },
    {
      "cell_type": "code",
      "source": [
        ""
      ],
      "metadata": {
        "id": "2sEegKW71Lj1"
      },
      "execution_count": null,
      "outputs": []
    },
    {
      "cell_type": "markdown",
      "source": [
        "#### | 데이터 기본 탐색\n"
      ],
      "metadata": {
        "id": "U8_Uvipaz3fA"
      }
    },
    {
      "cell_type": "code",
      "source": [
        ""
      ],
      "metadata": {
        "id": "ojtXwYqvz3fA"
      },
      "execution_count": null,
      "outputs": []
    },
    {
      "cell_type": "markdown",
      "source": [
        "### (2) Categorical plot\n"
      ],
      "metadata": {
        "id": "l5fsfI2vz-nZ"
      }
    },
    {
      "cell_type": "code",
      "source": [
        ""
      ],
      "metadata": {
        "id": "PmUJwj4zz-6L"
      },
      "execution_count": null,
      "outputs": []
    },
    {
      "cell_type": "markdown",
      "source": [
        "#### | 플롯 분할\n"
      ],
      "metadata": {
        "id": "ZWmHTJ8DSn4u"
      }
    },
    {
      "cell_type": "code",
      "source": [
        ""
      ],
      "metadata": {
        "id": "86jV-aFVSn4v"
      },
      "execution_count": null,
      "outputs": []
    },
    {
      "cell_type": "markdown",
      "source": [
        "### (3) 범주별 통계 시각화\n"
      ],
      "metadata": {
        "id": "22Znvi5az-9N"
      }
    },
    {
      "cell_type": "markdown",
      "source": [
        "#### | Bar plots"
      ],
      "metadata": {
        "id": "2zPZcjpgSvLW"
      }
    },
    {
      "cell_type": "code",
      "source": [
        ""
      ],
      "metadata": {
        "id": "jEduYwYjuo7e"
      },
      "execution_count": null,
      "outputs": []
    },
    {
      "cell_type": "markdown",
      "source": [
        "#### | Point plots\n",
        "\n"
      ],
      "metadata": {
        "id": "F5GrUaycSxFN"
      }
    },
    {
      "cell_type": "code",
      "source": [
        ""
      ],
      "metadata": {
        "id": "xla8seiKSxFO"
      },
      "execution_count": null,
      "outputs": []
    },
    {
      "cell_type": "markdown",
      "source": [
        "### (4) 범주별 분포 시각화\n"
      ],
      "metadata": {
        "id": "vfK6ifapS0rg"
      }
    },
    {
      "cell_type": "markdown",
      "source": [
        "#### | Box plots\n"
      ],
      "metadata": {
        "id": "yFTzKNYaS0rh"
      }
    },
    {
      "cell_type": "code",
      "source": [
        ""
      ],
      "metadata": {
        "id": "dL9v-IavR2Nf"
      },
      "execution_count": null,
      "outputs": []
    },
    {
      "cell_type": "markdown",
      "source": [
        "#### | Violin plots"
      ],
      "metadata": {
        "id": "yTmw3NrbS2h2"
      }
    },
    {
      "cell_type": "code",
      "source": [
        ""
      ],
      "metadata": {
        "id": "RoAfUTg5S2h2"
      },
      "execution_count": null,
      "outputs": []
    }
  ]
}