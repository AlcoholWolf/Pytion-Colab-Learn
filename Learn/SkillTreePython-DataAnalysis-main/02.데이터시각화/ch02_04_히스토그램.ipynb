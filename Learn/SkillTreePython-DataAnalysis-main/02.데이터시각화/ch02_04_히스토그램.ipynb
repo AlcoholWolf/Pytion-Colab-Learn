{
  "nbformat": 4,
  "nbformat_minor": 0,
  "metadata": {
    "colab": {
      "name": "ch02_04_히스토그램.ipynb",
      "provenance": [],
      "collapsed_sections": [],
      "toc_visible": true,
      "authorship_tag": "ABX9TyNaoVE8/k3wN0rPFZEXEQqw",
      "include_colab_link": true
    },
    "kernelspec": {
      "name": "python3",
      "display_name": "Python 3"
    },
    "language_info": {
      "name": "python"
    }
  },
  "cells": [
    {
      "cell_type": "markdown",
      "metadata": {
        "id": "view-in-github",
        "colab_type": "text"
      },
      "source": [
        "<a href=\"https://colab.research.google.com/github/yebiny/SkillTreePython-DataAnalysis/blob/main/02.%EB%8D%B0%EC%9D%B4%ED%84%B0%EC%8B%9C%EA%B0%81%ED%99%94/ch02_04_%ED%9E%88%EC%8A%A4%ED%86%A0%EA%B7%B8%EB%9E%A8.ipynb\" target=\"_parent\"><img src=\"https://colab.research.google.com/assets/colab-badge.svg\" alt=\"Open In Colab\"/></a>"
      ]
    },
    {
      "cell_type": "markdown",
      "source": [
        "# Ch02.04 히스토그램\n",
        "\n",
        "---\n",
        "* 날짜:\n",
        "* 이름:\n",
        "\n",
        "\n",
        "```\n",
        "import numpy as np\n",
        "import pandas as pd\n",
        "import matplotlib.pyplot as plt\n",
        "import seaborn as sns\n",
        "\n",
        "plt.rcParams['figure.figsize'] = [6, 4]\n",
        "plt.style.use('seaborn-white')\n",
        "sns.set_style('white')\n",
        "\n",
        "```"
      ],
      "metadata": {
        "id": "ylXjSLUxXHxm"
      }
    },
    {
      "cell_type": "code",
      "execution_count": null,
      "metadata": {
        "id": "TyVLPbux1Yu7"
      },
      "outputs": [],
      "source": [
        ""
      ]
    },
    {
      "cell_type": "markdown",
      "source": [
        "\n",
        "## **개념정리**\n",
        "---\n",
        "\n",
        "\n"
      ],
      "metadata": {
        "id": "UgGmlC8UejLN"
      }
    },
    {
      "cell_type": "markdown",
      "source": [
        "### (1) Matplotlib 으로 그리기\n"
      ],
      "metadata": {
        "id": "QzMXKYm0F-CE"
      }
    },
    {
      "cell_type": "markdown",
      "source": [
        "#### **| 기본사용**\n",
        "\n",
        "```\n",
        "x = np.random.randn(5000) # 표준정규분포\n",
        "plt.hist(x)\n",
        "plt.show()\n",
        "```"
      ],
      "metadata": {
        "id": "iTQGsPm68SBn"
      }
    },
    {
      "cell_type": "code",
      "source": [
        ""
      ],
      "metadata": {
        "id": "9VND05j315g8"
      },
      "execution_count": null,
      "outputs": []
    },
    {
      "cell_type": "markdown",
      "source": [
        "#### **| 옵션**\n",
        "\n",
        "```\n",
        "plt.hist(data, \n",
        "        bins = 구간개수,\n",
        "        color=색,\n",
        "        edgecolor=테두리 색, \n",
        "        alpha=투명도 (0~1),\n",
        "        density=정규화 여부 (True/False),\n",
        "        cumulative=누적여부 (True/Fasle),  \n",
        "        histtype = 플롯 형식 {'bar', 'barstacked', 'step', 'stepfilled' } default: 'bar'\n",
        "        label = 레이블,\n",
        "        align=눈금 위치 {'left', 'mid', 'right'}, default: 'mid'\n",
        "```"
      ],
      "metadata": {
        "id": "IKDL5iKI7yV2"
      }
    },
    {
      "cell_type": "code",
      "source": [
        ""
      ],
      "metadata": {
        "id": "c8372IBS2HvO"
      },
      "execution_count": null,
      "outputs": []
    },
    {
      "cell_type": "markdown",
      "source": [
        "#### **| 여러개의 히스토그램**\n",
        "\n",
        "```\n",
        "plt.hist([x1,x2, ..])\n",
        "```"
      ],
      "metadata": {
        "id": "pDDjq1gjA3R-"
      }
    },
    {
      "cell_type": "code",
      "source": [
        ""
      ],
      "metadata": {
        "id": "BefgeEDr5QdE"
      },
      "execution_count": null,
      "outputs": []
    },
    {
      "cell_type": "markdown",
      "source": [
        "### (2) Seaborn 으로 그리기\n",
        "\n"
      ],
      "metadata": {
        "id": "ggjMd8im8gJx"
      }
    },
    {
      "cell_type": "markdown",
      "source": [
        "#### **| 기본사용**\n",
        "\n",
        "```\n",
        "sns.histplot(x)\n",
        "```"
      ],
      "metadata": {
        "id": "WCVykkIPXTmq"
      }
    },
    {
      "cell_type": "code",
      "source": [
        ""
      ],
      "metadata": {
        "id": "caplckbRZt0Q"
      },
      "execution_count": null,
      "outputs": []
    },
    {
      "cell_type": "markdown",
      "source": [
        "#### **| 옵션**\n",
        "\n",
        "```\n",
        "seaborn.histplot(data=None, \n",
        "                 bins='auto', # 구간개수\n",
        "                 cumulative=False, # 누적여부\n",
        "                 element='bars', # 플롯형식 {“bars”, “step”, “poly”},\n",
        "                 multiple='layer' # 다중데이터 플롯형식{“layer”, “dodge”, “stack”, “fill”},\n",
        "                 fill=True, # 색칠 여부\n",
        "                 shrink=1, # 너비 감소\n",
        "                 kde=False, # kde선\n",
        "                 color=None, # 색깔\n",
        "                 log_scale=None # 로그스케일)\n",
        "```"
      ],
      "metadata": {
        "id": "TP2JTc1NJChB"
      }
    },
    {
      "cell_type": "code",
      "source": [
        ""
      ],
      "metadata": {
        "id": "egRiCOeWgXkd"
      },
      "execution_count": null,
      "outputs": []
    },
    {
      "cell_type": "markdown",
      "source": [
        "#### **| 여러개의 히스토그램**\n",
        "\n",
        "```\n",
        "sns.histplot([x1, x2, ...])\n",
        "```"
      ],
      "metadata": {
        "id": "bWRCEHGQCdzN"
      }
    },
    {
      "cell_type": "code",
      "source": [
        ""
      ],
      "metadata": {
        "id": "ufpGpPv2LpRA"
      },
      "execution_count": null,
      "outputs": []
    },
    {
      "cell_type": "markdown",
      "source": [
        "#### **| DataFrame 사용**\n",
        "\n",
        "\n"
      ],
      "metadata": {
        "id": "GCPmXaIIyLcr"
      }
    },
    {
      "cell_type": "markdown",
      "source": [
        "* 데이터 프레임을 만들어 줍니다.\n",
        "\n"
      ],
      "metadata": {
        "id": "3cKlgwTJOzBJ"
      }
    },
    {
      "cell_type": "code",
      "source": [
        ""
      ],
      "metadata": {
        "id": "so1ANfnzO4Jh"
      },
      "execution_count": null,
      "outputs": []
    },
    {
      "cell_type": "markdown",
      "source": [
        "* 데이터프레임에서 기본적으로 플롯을 제공합니다.\n",
        "\n",
        "\n",
        "```\n",
        "df.plot(kind='hist')\n",
        "```\n",
        "\n",
        "\n"
      ],
      "metadata": {
        "id": "j5x-0qTTgqK2"
      }
    },
    {
      "cell_type": "code",
      "source": [
        ""
      ],
      "metadata": {
        "id": "v4RUwYz5yPRs"
      },
      "execution_count": null,
      "outputs": []
    },
    {
      "cell_type": "markdown",
      "source": [
        "* 데이터프레임 기반으로 seaborn을 사용합니다.\n",
        "\n",
        "\n",
        "```\n",
        "sns.histplot(data=df, x=x_column)\n",
        "```\n"
      ],
      "metadata": {
        "id": "ycx-4x4Ag94u"
      }
    },
    {
      "cell_type": "code",
      "source": [
        ""
      ],
      "metadata": {
        "id": "B8MgiEHyyjUt"
      },
      "execution_count": null,
      "outputs": []
    },
    {
      "cell_type": "markdown",
      "source": [
        "\n",
        "## **실습**\n",
        "---\n"
      ],
      "metadata": {
        "id": "9BldG-nOgeoQ"
      }
    },
    {
      "cell_type": "markdown",
      "source": [
        "### (1) `plt.hist`의 `histtypes` 옵션비교\n",
        "\n",
        "```\n",
        "x1 = np.random.normal(0, 1, 5000)\n",
        "x2 = np.random.normal(0, 3, 5000)\n",
        "x3 = np.random.normal(10, 3, 5000)\n",
        "\n",
        "histtypes=['bar', 'barstacked', 'step', 'stepfilled']\n",
        "\n",
        "```"
      ],
      "metadata": {
        "id": "Sm_irK939Amm"
      }
    },
    {
      "cell_type": "code",
      "source": [
        ""
      ],
      "metadata": {
        "id": "JTw_B59906sA"
      },
      "execution_count": null,
      "outputs": []
    },
    {
      "cell_type": "markdown",
      "source": [
        "### (2) 객체지향 사용하기\n",
        "\n",
        "\n",
        "```\n",
        "fig, ax = plt.subplots(2,2, figsize=size)\n",
        "```"
      ],
      "metadata": {
        "id": "TvcoGSW3IO0w"
      }
    },
    {
      "cell_type": "code",
      "source": [
        ""
      ],
      "metadata": {
        "id": "9FGstFpUgcIN"
      },
      "execution_count": null,
      "outputs": []
    },
    {
      "cell_type": "markdown",
      "source": [
        "### (3) Iris 데이터 변수별 분포 그리기\n",
        "\n",
        "```\n",
        "           꽃받침 길이   꽃받침 너비   꽃의 길이  꽃의 너비\n",
        " 샘플1      \n",
        " 샘플2 \n",
        " ...\n",
        " 샘플150\n",
        "```\n",
        "\n",
        "\n",
        "```\n",
        "from sklearn.datasets import load_iris\n",
        "iris = load_iris()\n",
        "```\n",
        "\n",
        "\n",
        "* `.feature_names` : 변수 이름\n",
        "* `.target_names` : 타겟 이름\n",
        "* `.data` : 데이터 \n",
        "* `.target` : 타겟\n"
      ],
      "metadata": {
        "id": "QGviht0yPmHr"
      }
    },
    {
      "cell_type": "code",
      "source": [
        ""
      ],
      "metadata": {
        "id": "A2kQAsaLgdsg"
      },
      "execution_count": null,
      "outputs": []
    },
    {
      "cell_type": "markdown",
      "source": [
        "\n",
        "## **과제**\n",
        "---\n"
      ],
      "metadata": {
        "id": "P-ZNWdUxYGqn"
      }
    },
    {
      "cell_type": "markdown",
      "source": [
        "### (1)  지수분포(exponential distribution) 그리기\n",
        "\n",
        "\n"
      ],
      "metadata": {
        "id": "Enwz_K4DUqjW"
      }
    },
    {
      "cell_type": "markdown",
      "source": [
        "* 지수분포의 확률밀도 함수는 다음과 같습니다.\n",
        "\n",
        "\n",
        "![](https://wikimedia.org/api/rest_v1/media/math/render/svg/7ae26c8e2d08abfda4102c31e1f380e7fa9068b7)\n",
        "\n",
        "* 아래와 같이 넘파이 함수를 이용해 확률밀도 함수를 따르는 데이터셋을 얻을 수 있습니다.\n",
        "\n",
        "```\n",
        "np.random.exponential(scale=lambda, size=데이터개수)\n",
        "```\n",
        "\n",
        "* lambda 값이 각각 `0.5, 1, 2`일 때의 지수분포를 따르는 데이터를 `10000`개씩 뽑고 각 데이터셋의 밀도분포를 그리세요.\n",
        "\n",
        "\n",
        "\n",
        "* 3개의 데이터셋을 비교하고, lambda 값에 따라 데이터가 어떻게 샘플링 되는지 간단히 설명하세요."
      ],
      "metadata": {
        "id": "MIbBkbRNfAs8"
      }
    },
    {
      "cell_type": "code",
      "source": [
        ""
      ],
      "metadata": {
        "id": "cD9VpwIFggPn"
      },
      "execution_count": null,
      "outputs": []
    },
    {
      "cell_type": "markdown",
      "source": [
        "### (2) 캘리포니아 집값 데이터 변수별 분포 그리기\n",
        "\n"
      ],
      "metadata": {
        "id": "FGUSYEG-ETnb"
      }
    },
    {
      "cell_type": "markdown",
      "source": [
        "* `/content/sample_data/california_housing_test.csv`을 불러오세요.\n",
        "* 9개의 변수의 분포를 3 x 3 figure에 `seaborn`을 이용해 그려주세요.\n",
        "* `kde` 선을 (histplot 옵션 )추가해 주세요.\n",
        "\n",
        "```\n",
        "df=pd.read_csv('/content/sample_data/california_housing_test.csv')\n",
        "```"
      ],
      "metadata": {
        "id": "JHAzswnDfCRD"
      }
    },
    {
      "cell_type": "code",
      "source": [
        ""
      ],
      "metadata": {
        "id": "P7dp-QNshMN3"
      },
      "execution_count": null,
      "outputs": []
    }
  ]
}