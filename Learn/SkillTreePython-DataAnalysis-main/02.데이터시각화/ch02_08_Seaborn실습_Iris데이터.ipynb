{
  "nbformat": 4,
  "nbformat_minor": 0,
  "metadata": {
    "colab": {
      "name": "ch02_08_Seaborn실습-Iris데이터.ipynb",
      "provenance": [],
      "collapsed_sections": [],
      "toc_visible": true,
      "authorship_tag": "ABX9TyNqIQkefqt5Ps+OYJz0ITBA",
      "include_colab_link": true
    },
    "kernelspec": {
      "name": "python3",
      "display_name": "Python 3"
    },
    "language_info": {
      "name": "python"
    }
  },
  "cells": [
    {
      "cell_type": "markdown",
      "metadata": {
        "id": "view-in-github",
        "colab_type": "text"
      },
      "source": [
        "<a href=\"https://colab.research.google.com/github/yebiny/SkillTreePython-DataAnalysis/blob/main/02.%EB%8D%B0%EC%9D%B4%ED%84%B0%EC%8B%9C%EA%B0%81%ED%99%94/ch02_08_Seaborn%EC%8B%A4%EC%8A%B5_Iris%EB%8D%B0%EC%9D%B4%ED%84%B0.ipynb\" target=\"_parent\"><img src=\"https://colab.research.google.com/assets/colab-badge.svg\" alt=\"Open In Colab\"/></a>"
      ]
    },
    {
      "cell_type": "markdown",
      "source": [
        "# Ch02.08. Seborn 실습 - 아이리스 데이터\n",
        "\n",
        "\n",
        "---\n",
        "\n",
        "* 날짜:\n",
        "* 이름:\n",
        "\n",
        "\n",
        "## 학습내용\n",
        "\n",
        "    - distplot을 이용해 데이터 분포를 시각화 한다.\n",
        "    - jointplot을 이용해 두 변수의 분포를 시각화 한다.\n",
        "\n",
        "\n",
        "```\n",
        "import numpy as np\n",
        "import pandas as pd\n",
        "import matplotlib.pyplot as plt\n",
        "import seaborn as sns\n",
        "\n",
        "sns.set(font_scale=1.2, style='white', palette='Set2')\n",
        "```\n"
      ],
      "metadata": {
        "id": "ylXjSLUxXHxm"
      }
    },
    {
      "cell_type": "code",
      "execution_count": null,
      "metadata": {
        "id": "TyVLPbux1Yu7"
      },
      "outputs": [],
      "source": [
        ""
      ]
    },
    {
      "cell_type": "markdown",
      "source": [
        "\n",
        "## **실습**\n",
        "---\n",
        "\n"
      ],
      "metadata": {
        "id": "CfIEbA8ZWulm"
      }
    },
    {
      "cell_type": "markdown",
      "source": [
        "### (1) 데이터 기본 탐색\n"
      ],
      "metadata": {
        "id": "y00gZpKMajr-"
      }
    },
    {
      "cell_type": "markdown",
      "source": [
        "#### | 데이터 준비\n",
        "\n",
        "```\n",
        "from sklearn.datasets import load_iris\n",
        "iris = load_iris()\n",
        "\n",
        "x_names = iris.feature_names\n",
        "print(x_names)\n",
        "y_names = iris.target_names\n",
        "print(y_names)\n",
        "\n",
        "xs = iris.data\n",
        "print('x',xs.shape)\n",
        "y = iris.target\n",
        "print('y',y.shape)\n",
        "```"
      ],
      "metadata": {
        "id": "t4dDxvduaHiq"
      }
    },
    {
      "cell_type": "code",
      "source": [
        ""
      ],
      "metadata": {
        "id": "SJ_Wps5ph_cR"
      },
      "execution_count": null,
      "outputs": []
    },
    {
      "cell_type": "markdown",
      "source": [
        "#### | 데이터 기본 탐색\n"
      ],
      "metadata": {
        "id": "z9wjMCRwv12-"
      }
    },
    {
      "cell_type": "code",
      "source": [
        ""
      ],
      "metadata": {
        "id": "srHp_qVEiBJq"
      },
      "execution_count": null,
      "outputs": []
    },
    {
      "cell_type": "code",
      "source": [
        ""
      ],
      "metadata": {
        "id": "0xCrmFo5iBRS"
      },
      "execution_count": null,
      "outputs": []
    },
    {
      "cell_type": "markdown",
      "source": [
        "### (2) Distributions plot\n",
        "\n",
        "![](https://seaborn.pydata.org/_images/function_overview_8_0.png)\n",
        "\n",
        "```\n",
        "seaborn.displot(data=None, x=None, y=None, \n",
        "                hue=None, hue_order=None, hue_norm=None, \n",
        "                row=None, col=None, \n",
        "                row_order=None, col_order=None,\n",
        "                weights=None,\n",
        "                kind='hist', # {“hist”, “kde”, “ecdf”}\n",
        "                rug=False, rug_kws=None, \n",
        "                log_scale=None, \n",
        "                legend=True, \n",
        "                palette=None, color=None, col_wrap=None,  \n",
        "                height=5, aspect=1)\n",
        "\n",
        "```"
      ],
      "metadata": {
        "id": "G-M0tV1OTQ4S"
      }
    },
    {
      "cell_type": "code",
      "source": [
        ""
      ],
      "metadata": {
        "id": "7td7BQasiCdU"
      },
      "execution_count": null,
      "outputs": []
    },
    {
      "cell_type": "markdown",
      "source": [
        "### (3) Joint plot\n",
        "\n",
        "\n",
        "```\n",
        "seaborn.jointplot(x=None, y=None, data=None, \n",
        "                  hue=None,\n",
        "                  hue_order=None,\n",
        "                  color=None, \n",
        "                  palette=None,\n",
        "                  kind='scatter', # { “scatter” | “kde” | “hist” | “hex” | “reg” | “resid” }\n",
        "                  height=6, ratio=5, space=0.2, \n",
        "                  xlim=None, ylim=None, \n",
        "                  marginal_ticks=False)\n",
        "```"
      ],
      "metadata": {
        "id": "_4h55FfZaHis"
      }
    },
    {
      "cell_type": "code",
      "source": [
        ""
      ],
      "metadata": {
        "id": "ZsMjdAMmiDqL"
      },
      "execution_count": null,
      "outputs": []
    },
    {
      "cell_type": "markdown",
      "source": [
        "\n",
        "## **과제: [penguin dataset : The new Iris](https://www.kaggle.com/code/parulpandey/penguin-dataset-the-new-iris/notebook)**\n",
        "\n",
        "---\n",
        "\n",
        "![](https://imgur.com/orZWHly.png)\n",
        "\n"
      ],
      "metadata": {
        "id": "D-B_gLcbunES"
      }
    },
    {
      "cell_type": "markdown",
      "source": [
        "### (1) 데이터 기본 탐색\n"
      ],
      "metadata": {
        "id": "LhjAm12Rz3e5"
      }
    },
    {
      "cell_type": "markdown",
      "source": [
        "#### | 데이터 준비\n",
        "\n",
        "```\n",
        "df = sns.load_dataset('penguins')\n",
        "```"
      ],
      "metadata": {
        "id": "lJKlQhYQz3e_"
      }
    },
    {
      "cell_type": "code",
      "source": [
        ""
      ],
      "metadata": {
        "id": "2sEegKW71Lj1"
      },
      "execution_count": null,
      "outputs": []
    },
    {
      "cell_type": "markdown",
      "source": [
        "#### | 데이터 기본 탐색\n"
      ],
      "metadata": {
        "id": "U8_Uvipaz3fA"
      }
    },
    {
      "cell_type": "code",
      "source": [
        ""
      ],
      "metadata": {
        "id": "ojtXwYqvz3fA"
      },
      "execution_count": null,
      "outputs": []
    },
    {
      "cell_type": "markdown",
      "source": [
        "### (2) Distributions plot\n"
      ],
      "metadata": {
        "id": "l5fsfI2vz-nZ"
      }
    },
    {
      "cell_type": "code",
      "source": [
        ""
      ],
      "metadata": {
        "id": "PmUJwj4zz-6L"
      },
      "execution_count": null,
      "outputs": []
    },
    {
      "cell_type": "markdown",
      "source": [
        "### (3) Joint plot\n"
      ],
      "metadata": {
        "id": "22Znvi5az-9N"
      }
    },
    {
      "cell_type": "code",
      "source": [
        ""
      ],
      "metadata": {
        "id": "jEduYwYjuo7e"
      },
      "execution_count": null,
      "outputs": []
    }
  ]
}