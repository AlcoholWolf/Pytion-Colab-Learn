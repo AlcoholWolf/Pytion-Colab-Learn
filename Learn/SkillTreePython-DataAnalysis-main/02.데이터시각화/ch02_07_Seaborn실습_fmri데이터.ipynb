{
  "nbformat": 4,
  "nbformat_minor": 0,
  "metadata": {
    "colab": {
      "name": "ch02_07_Seaborn실습-fmri데이터.ipynb",
      "provenance": [],
      "collapsed_sections": [],
      "toc_visible": true,
      "authorship_tag": "ABX9TyN0ZkIiHR+eDJGVJKDHcgNx",
      "include_colab_link": true
    },
    "kernelspec": {
      "name": "python3",
      "display_name": "Python 3"
    },
    "language_info": {
      "name": "python"
    }
  },
  "cells": [
    {
      "cell_type": "markdown",
      "metadata": {
        "id": "view-in-github",
        "colab_type": "text"
      },
      "source": [
        "<a href=\"https://colab.research.google.com/github/yebiny/SkillTreePython-DataAnalysis/blob/main/02.%EB%8D%B0%EC%9D%B4%ED%84%B0%EC%8B%9C%EA%B0%81%ED%99%94/ch02_07_Seaborn%EC%8B%A4%EC%8A%B5_fmri%EB%8D%B0%EC%9D%B4%ED%84%B0.ipynb\" target=\"_parent\"><img src=\"https://colab.research.google.com/assets/colab-badge.svg\" alt=\"Open In Colab\"/></a>"
      ]
    },
    {
      "cell_type": "markdown",
      "source": [
        "# Ch02.07. Seborn 실습 - fmri 데이터\n",
        "\n",
        "\n",
        "---\n",
        "* 날짜:\n",
        "* 이름:\n",
        "\n",
        "## 학습내용\n",
        "\n",
        "    - pairplot을 이용해 모든 변수의 분포 및 관계를 시각화 한다.\n",
        "    - relplot을 이용해 두 변수의 관계를 시각화 한다.\n",
        "\n",
        "\n",
        "```\n",
        "import numpy as np\n",
        "import pandas as pd\n",
        "import matplotlib.pyplot as plt\n",
        "import seaborn as sns\n",
        "\n",
        "sns.set(font_scale=1.2, style='white', palette='Spectral')\n",
        "```\n"
      ],
      "metadata": {
        "id": "ylXjSLUxXHxm"
      }
    },
    {
      "cell_type": "code",
      "source": [
        ""
      ],
      "metadata": {
        "id": "FbSMULL23uWn"
      },
      "execution_count": null,
      "outputs": []
    },
    {
      "cell_type": "markdown",
      "source": [
        "\n",
        "## **실습**\n",
        "---\n",
        "\n"
      ],
      "metadata": {
        "id": "CfIEbA8ZWulm"
      }
    },
    {
      "cell_type": "markdown",
      "source": [
        "### (1) 데이터 기본 탐색"
      ],
      "metadata": {
        "id": "y00gZpKMajr-"
      }
    },
    {
      "cell_type": "code",
      "source": [
        ""
      ],
      "metadata": {
        "id": "VrTEuzEAhuGH"
      },
      "execution_count": null,
      "outputs": []
    },
    {
      "cell_type": "markdown",
      "source": [
        "#### | 데이터 준비\n",
        "\n",
        "```\n",
        "fmri = sns.load_dataset('fmri')\n",
        "fmri.head()\n",
        "```"
      ],
      "metadata": {
        "id": "t4dDxvduaHiq"
      }
    },
    {
      "cell_type": "code",
      "source": [
        ""
      ],
      "metadata": {
        "id": "6xcrBGogaHir"
      },
      "execution_count": null,
      "outputs": []
    },
    {
      "cell_type": "markdown",
      "source": [
        "#### | 데이터 기본 탐색"
      ],
      "metadata": {
        "id": "TF_hOuSgUMnW"
      }
    },
    {
      "cell_type": "code",
      "source": [
        ""
      ],
      "metadata": {
        "id": "r5EDDLNWhSLd"
      },
      "execution_count": null,
      "outputs": []
    },
    {
      "cell_type": "code",
      "source": [
        ""
      ],
      "metadata": {
        "id": "9LzpUIEyhTSc"
      },
      "execution_count": null,
      "outputs": []
    },
    {
      "cell_type": "markdown",
      "source": [
        "### (2) Pair plot\n",
        "\n",
        "```\n",
        "seaborn.pairplot(data, *, \n",
        "                hue=None, \n",
        "                hue_order=None, \n",
        "                palette=None, \n",
        "                vars=None, \n",
        "                x_vars=None, y_vars=None\n",
        "                kind='scatter', # {‘scatter’, ‘kde’, ‘hist’, ‘reg’}\n",
        "                diag_kind='auto', # {‘auto’, ‘hist’, ‘kde’, None}\n",
        "                markers=None, \n",
        "                height=2.5, aspect=1)¶\n",
        "```"
      ],
      "metadata": {
        "id": "9W8gD3RDUVr-"
      }
    },
    {
      "cell_type": "code",
      "source": [
        ""
      ],
      "metadata": {
        "id": "4kslDazThUHp"
      },
      "execution_count": null,
      "outputs": []
    },
    {
      "cell_type": "markdown",
      "source": [
        "### (3) Relational plot\n",
        "\n",
        "![](https://seaborn.pydata.org/_images/function_overview_8_0.png)\n",
        "\n",
        "```\n",
        "seaborn.relplot(x=None, y=None, \n",
        "                hue=None, \n",
        "                size=None, \n",
        "                style=None, \n",
        "                data=None, \n",
        "                row=None, col=None, \n",
        "                col_wrap=None,\n",
        "                row_order=None, col_order=None, \n",
        "                palette=None, \n",
        "                hue_order=None, hue_norm=None, \n",
        "                sizes=None, size_order=None, size_norm=None,\n",
        "                markers=None, dashes=None, style_order=None,\n",
        "                legend='auto', # “auto”, “brief”, “full”, or False\n",
        "                kind='scatter', # 'scatter', 'line'\n",
        "                height=5, aspect=1, \n",
        "                facet_kws=None, \n",
        "                units=None)\n",
        "```"
      ],
      "metadata": {
        "id": "G-M0tV1OTQ4S"
      }
    },
    {
      "cell_type": "code",
      "source": [
        ""
      ],
      "metadata": {
        "id": "iPHdpOBuhV0z"
      },
      "execution_count": null,
      "outputs": []
    },
    {
      "cell_type": "markdown",
      "source": [
        "\n",
        "## **과제: flights**\n",
        "---\n",
        "\n",
        "![](https://github.com/yebiny/SkillTreePython-DataAnalysis/blob/main/imgs/ch0207-03.png?raw=true)\n"
      ],
      "metadata": {
        "id": "aaOvBNoyYfh9"
      }
    },
    {
      "cell_type": "markdown",
      "source": [
        "### (1) 데이터 기본 탐색"
      ],
      "metadata": {
        "id": "xmkxFxoaYfiD"
      }
    },
    {
      "cell_type": "markdown",
      "source": [
        "#### | 데이터 준비\n",
        "\n",
        "```\n",
        "sns.load_dataset(\"flights\")\n",
        "```"
      ],
      "metadata": {
        "id": "J7Ow-q9UY4Ap"
      }
    },
    {
      "cell_type": "code",
      "source": [
        ""
      ],
      "metadata": {
        "id": "jq16JXzRhX6i"
      },
      "execution_count": null,
      "outputs": []
    },
    {
      "cell_type": "markdown",
      "source": [
        "### (2) Pair plot"
      ],
      "metadata": {
        "id": "kr800LtuY2E9"
      }
    },
    {
      "cell_type": "code",
      "source": [
        ""
      ],
      "metadata": {
        "id": "YFdda_qBhaPt"
      },
      "execution_count": null,
      "outputs": []
    },
    {
      "cell_type": "markdown",
      "source": [
        "### (3) Relational plot"
      ],
      "metadata": {
        "id": "tL-uxdFwY2E9"
      }
    },
    {
      "cell_type": "code",
      "source": [
        ""
      ],
      "metadata": {
        "id": "Jsm83s0rY2E9"
      },
      "execution_count": null,
      "outputs": []
    },
    {
      "cell_type": "markdown",
      "source": [
        "\n",
        "## **과제: [Response of neurons](https://shadlenlab.columbia.edu/resources/RoitmanDataCode.html)**\n",
        "---\n",
        "\n",
        "![](https://github.com/yebiny/SkillTreePython-DataAnalysis/blob/main/imgs/ch0207-02.png?raw=true)\n"
      ],
      "metadata": {
        "id": "D-B_gLcbunES"
      }
    },
    {
      "cell_type": "markdown",
      "source": [
        "### (1) 데이터 기본 탐색"
      ],
      "metadata": {
        "id": "LhjAm12Rz3e5"
      }
    },
    {
      "cell_type": "markdown",
      "source": [
        "#### | 데이터 준비\n",
        "\n",
        "```\n",
        "sns.load_dataset(\"dots\")\n",
        "```"
      ],
      "metadata": {
        "id": "lJKlQhYQz3e_"
      }
    },
    {
      "cell_type": "code",
      "source": [
        ""
      ],
      "metadata": {
        "id": "cWE0eExIhdrM"
      },
      "execution_count": null,
      "outputs": []
    },
    {
      "cell_type": "markdown",
      "source": [
        "#### | 데이터 기본 탐색\n"
      ],
      "metadata": {
        "id": "U8_Uvipaz3fA"
      }
    },
    {
      "cell_type": "code",
      "source": [
        ""
      ],
      "metadata": {
        "id": "c7n8Uq5ahgAR"
      },
      "execution_count": null,
      "outputs": []
    },
    {
      "cell_type": "markdown",
      "source": [
        "### (2) Pair plot"
      ],
      "metadata": {
        "id": "l5fsfI2vz-nZ"
      }
    },
    {
      "cell_type": "code",
      "source": [
        ""
      ],
      "metadata": {
        "id": "NcQk-H_bhhgp"
      },
      "execution_count": null,
      "outputs": []
    },
    {
      "cell_type": "markdown",
      "source": [
        "### (3) Relational plot"
      ],
      "metadata": {
        "id": "22Znvi5az-9N"
      }
    },
    {
      "cell_type": "code",
      "source": [
        ""
      ],
      "metadata": {
        "id": "z5U2z4vkD3a9"
      },
      "execution_count": null,
      "outputs": []
    }
  ]
}