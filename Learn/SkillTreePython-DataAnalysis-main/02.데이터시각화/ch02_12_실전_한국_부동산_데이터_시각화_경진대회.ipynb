{
  "nbformat": 4,
  "nbformat_minor": 0,
  "metadata": {
    "colab": {
      "name": "ch02_12_실전-한국_부동산_데이터_시각화_경진대회.ipynb",
      "provenance": [],
      "collapsed_sections": [],
      "authorship_tag": "ABX9TyOlvjgNuEPcMvrbJ3n0iE2p",
      "include_colab_link": true
    },
    "kernelspec": {
      "name": "python3",
      "display_name": "Python 3"
    },
    "language_info": {
      "name": "python"
    }
  },
  "cells": [
    {
      "cell_type": "markdown",
      "metadata": {
        "id": "view-in-github",
        "colab_type": "text"
      },
      "source": [
        "<a href=\"https://colab.research.google.com/github/yebiny/SkillTreePython-DataAnalysis/blob/main/ch02_12_%EC%8B%A4%EC%A0%84_%ED%95%9C%EA%B5%AD_%EB%B6%80%EB%8F%99%EC%82%B0_%EB%8D%B0%EC%9D%B4%ED%84%B0_%EC%8B%9C%EA%B0%81%ED%99%94_%EA%B2%BD%EC%A7%84%EB%8C%80%ED%9A%8C.ipynb\" target=\"_parent\"><img src=\"https://colab.research.google.com/assets/colab-badge.svg\" alt=\"Open In Colab\"/></a>"
      ]
    },
    {
      "cell_type": "markdown",
      "source": [
        "# Ch02.12. 실전-한국 부동산 데이터 시각화 경진대회\n",
        "\n",
        "---\n",
        "\n",
        "* 날짜:\n",
        "* 이름:\n",
        "\n",
        "[한국 부동산 데이터 시각화 경진대회](https://dacon.io/competitions/official/235724/overview/description)"
      ],
      "metadata": {
        "id": "WQDhQ-xkgZ5d"
      }
    },
    {
      "cell_type": "code",
      "source": [
        ""
      ],
      "metadata": {
        "id": "BxMXjj38gchf"
      },
      "execution_count": null,
      "outputs": []
    }
  ]
}
