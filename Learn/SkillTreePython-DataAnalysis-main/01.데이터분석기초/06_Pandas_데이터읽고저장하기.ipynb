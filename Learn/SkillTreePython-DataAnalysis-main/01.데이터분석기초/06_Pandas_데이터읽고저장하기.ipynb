{
  "nbformat": 4,
  "nbformat_minor": 0,
  "metadata": {
    "colab": {
      "name": "06_Pandas-데이터읽고저장하기.ipynb",
      "provenance": [],
      "collapsed_sections": [],
      "authorship_tag": "ABX9TyPOUmrlu2AxS940cWcrihxE",
      "include_colab_link": true
    },
    "kernelspec": {
      "name": "python3",
      "display_name": "Python 3"
    },
    "language_info": {
      "name": "python"
    }
  },
  "cells": [
    {
      "cell_type": "markdown",
      "metadata": {
        "id": "view-in-github",
        "colab_type": "text"
      },
      "source": [
        "<a href=\"https://colab.research.google.com/github/yebiny/SkillTreePython-DataAnalysis/blob/main/01.%EB%8D%B0%EC%9D%B4%ED%84%B0%EB%B6%84%EC%84%9D%EA%B8%B0%EC%B4%88/06_Pandas_%EB%8D%B0%EC%9D%B4%ED%84%B0%EC%9D%BD%EA%B3%A0%EC%A0%80%EC%9E%A5%ED%95%98%EA%B8%B0.ipynb\" target=\"_parent\"><img src=\"https://colab.research.google.com/assets/colab-badge.svg\" alt=\"Open In Colab\"/></a>"
      ]
    },
    {
      "cell_type": "markdown",
      "metadata": {
        "id": "jgFAOz-Tw1VI"
      },
      "source": [
        "# Ch06. Pandas - 데이터읽고 저장하기\n",
        "---\n",
        "* 날짜:\n",
        "* 이름:\n"
      ]
    },
    {
      "cell_type": "markdown",
      "metadata": {
        "id": "roC8A6Ro6THT"
      },
      "source": [
        "## 개념정리\n",
        "---"
      ]
    },
    {
      "cell_type": "markdown",
      "source": [
        "```\n",
        "import pandas as pd\n",
        "```"
      ],
      "metadata": {
        "id": "LQ2vXDdhaG3L"
      }
    },
    {
      "cell_type": "code",
      "execution_count": null,
      "metadata": {
        "id": "vnXknqzW52L_"
      },
      "outputs": [],
      "source": [
        ""
      ]
    },
    {
      "cell_type": "markdown",
      "metadata": {
        "id": "Dvo2jUk_52MD"
      },
      "source": [
        "---\n",
        "### **(1) 데이터 불러오기**\n",
        "---\n",
        "\n",
        "\n",
        "`read_csv` 함수는 테이블 형태의 데이터를 불러오는데 효과적으로 사용됩니다. \n",
        "\n",
        "* `pd.read_csv(filepath, sep, header, index_col, usecols, parse_dates, nrows)`\n",
        "  * `filepath`: 파일 경로 및 이름\n",
        "  * `sep`: 구분자 (디폴트 ',')\n",
        "  * `header`: 헤더의 위치, None일 경우 0, 1, 2, .. 자동 부여\n",
        "  * `index_col` : 인덱스의 위치 (디폴트 None)\n",
        "  * `usecols`: 사용할 컬럼 및 위치 목록\n",
        "  * `nrows`: 불러올 행의 개수"
      ]
    },
    {
      "cell_type": "markdown",
      "source": [
        "#### **| 텍스트 파일 불러오기**"
      ],
      "metadata": {
        "id": "Cpfv0yfnee1s"
      }
    },
    {
      "cell_type": "markdown",
      "source": [
        "우선 텍스트 파일을 하나 생성하겠습니다.\n",
        "\n",
        "\n",
        "```\n",
        "with open('test.txt', 'w') as f:\n",
        "  for i in range(5):\n",
        "    f.write(f'{i} , {i+1} , {i+2}\\n')\n",
        "```"
      ],
      "metadata": {
        "id": "tztcDOA3ynLO"
      }
    },
    {
      "cell_type": "code",
      "source": [
        ""
      ],
      "metadata": {
        "id": "s8we8YKcclso"
      },
      "execution_count": null,
      "outputs": []
    },
    {
      "cell_type": "markdown",
      "source": [
        "생성한 텍스트 파일을 `read_csv`를 이용해 불러옵니다.\n",
        "\n",
        "```\n",
        "df_test = pd.read_csv('test.txt')\n",
        "df_test\n",
        "```"
      ],
      "metadata": {
        "id": "BuDhpeZdyvW9"
      }
    },
    {
      "cell_type": "code",
      "source": [
        ""
      ],
      "metadata": {
        "id": "eiVPlL47c6p_"
      },
      "execution_count": null,
      "outputs": []
    },
    {
      "cell_type": "markdown",
      "source": [
        "이번엔 텍스트 파일의 구분을 탭(`\\t`)이용해 작성합니다.\n",
        "\n",
        "\n",
        "```\n",
        "with open('test.txt', 'w') as f:\n",
        "  for i in range(5):\n",
        "    f.write(f'{i} \\t {i+1} \\t {i+2}\\n')\n",
        "```"
      ],
      "metadata": {
        "id": "3fm3fB8Xy76n"
      }
    },
    {
      "cell_type": "code",
      "source": [
        ""
      ],
      "metadata": {
        "id": "6o_n91x8dD_P"
      },
      "execution_count": null,
      "outputs": []
    },
    {
      "cell_type": "markdown",
      "source": [
        "똑같이 텍스트 파일을 불러옵니다. \n",
        "\n",
        "```\n",
        "df_test = pd.read_csv('test.txt')\n",
        "df_test\n",
        "```"
      ],
      "metadata": {
        "id": "E6ejqZRAzMA-"
      }
    },
    {
      "cell_type": "code",
      "source": [
        ""
      ],
      "metadata": {
        "id": "oUZc8NAbdSQg"
      },
      "execution_count": null,
      "outputs": []
    },
    {
      "cell_type": "markdown",
      "source": [
        "`read_csv`는 데이터를 불러올 때 구분자 디폴트가 콤마(,) 입니다. \n",
        "\n",
        "따라서 탭을 이용한 경우는 옵션을 설정해 줍니다.\n",
        "\n",
        "```\n",
        "df_test = pd.read_csv('test.txt', sep='\\t')\n",
        "df_test\n",
        "```"
      ],
      "metadata": {
        "id": "bjrNJefazVBf"
      }
    },
    {
      "cell_type": "code",
      "source": [
        ""
      ],
      "metadata": {
        "id": "3rct2h2cdX0i"
      },
      "execution_count": null,
      "outputs": []
    },
    {
      "cell_type": "markdown",
      "source": [
        "이 때 각 열의 이름이 첫번 째 줄로 자동 저장 됩니다. 이를 방지하려면 `header`를 `None`으로 설정해야 합니다. \n",
        "\n",
        "```\n",
        "df_test = pd.read_csv('test.txt', sep='\\t', header=None)\n",
        "df_test\n",
        "```"
      ],
      "metadata": {
        "id": "Nf8t31hz0j1n"
      }
    },
    {
      "cell_type": "code",
      "source": [
        ""
      ],
      "metadata": {
        "id": "5R8u_hVWzkxW"
      },
      "execution_count": null,
      "outputs": []
    },
    {
      "cell_type": "markdown",
      "source": [
        "#### **| CSV 파일 불러오기**\n",
        "\n",
        "이번에는 `csv`파일을 불러옵니다.\n",
        "\n",
        "```\n",
        "f_path = '/content/sample_data/california_housing_test.csv'\n",
        "df = pd.read_csv(f_path)\n",
        "df\n",
        "```"
      ],
      "metadata": {
        "id": "1toa0w2oep-G"
      }
    },
    {
      "cell_type": "code",
      "source": [
        "f_path = '/content/sample_data/california_housing_test.csv'\n",
        "df = pd.read_csv(f_path)\n",
        "df.head()"
      ],
      "metadata": {
        "colab": {
          "base_uri": "https://localhost:8080/",
          "height": 206
        },
        "id": "WiptXctHfQev",
        "outputId": "a2a635aa-a462-4fd6-e003-5697b1979794"
      },
      "execution_count": null,
      "outputs": [
        {
          "output_type": "execute_result",
          "data": {
            "text/plain": [
              "   longitude  latitude  housing_median_age  total_rooms  total_bedrooms  \\\n",
              "0    -122.05     37.37                27.0       3885.0           661.0   \n",
              "1    -118.30     34.26                43.0       1510.0           310.0   \n",
              "2    -117.81     33.78                27.0       3589.0           507.0   \n",
              "3    -118.36     33.82                28.0         67.0            15.0   \n",
              "4    -119.67     36.33                19.0       1241.0           244.0   \n",
              "\n",
              "   population  households  median_income  median_house_value  \n",
              "0      1537.0       606.0         6.6085            344700.0  \n",
              "1       809.0       277.0         3.5990            176500.0  \n",
              "2      1484.0       495.0         5.7934            270500.0  \n",
              "3        49.0        11.0         6.1359            330000.0  \n",
              "4       850.0       237.0         2.9375             81700.0  "
            ],
            "text/html": [
              "\n",
              "  <div id=\"df-2f47bde4-78eb-4267-9a48-b89ad95d14c5\">\n",
              "    <div class=\"colab-df-container\">\n",
              "      <div>\n",
              "<style scoped>\n",
              "    .dataframe tbody tr th:only-of-type {\n",
              "        vertical-align: middle;\n",
              "    }\n",
              "\n",
              "    .dataframe tbody tr th {\n",
              "        vertical-align: top;\n",
              "    }\n",
              "\n",
              "    .dataframe thead th {\n",
              "        text-align: right;\n",
              "    }\n",
              "</style>\n",
              "<table border=\"1\" class=\"dataframe\">\n",
              "  <thead>\n",
              "    <tr style=\"text-align: right;\">\n",
              "      <th></th>\n",
              "      <th>longitude</th>\n",
              "      <th>latitude</th>\n",
              "      <th>housing_median_age</th>\n",
              "      <th>total_rooms</th>\n",
              "      <th>total_bedrooms</th>\n",
              "      <th>population</th>\n",
              "      <th>households</th>\n",
              "      <th>median_income</th>\n",
              "      <th>median_house_value</th>\n",
              "    </tr>\n",
              "  </thead>\n",
              "  <tbody>\n",
              "    <tr>\n",
              "      <th>0</th>\n",
              "      <td>-122.05</td>\n",
              "      <td>37.37</td>\n",
              "      <td>27.0</td>\n",
              "      <td>3885.0</td>\n",
              "      <td>661.0</td>\n",
              "      <td>1537.0</td>\n",
              "      <td>606.0</td>\n",
              "      <td>6.6085</td>\n",
              "      <td>344700.0</td>\n",
              "    </tr>\n",
              "    <tr>\n",
              "      <th>1</th>\n",
              "      <td>-118.30</td>\n",
              "      <td>34.26</td>\n",
              "      <td>43.0</td>\n",
              "      <td>1510.0</td>\n",
              "      <td>310.0</td>\n",
              "      <td>809.0</td>\n",
              "      <td>277.0</td>\n",
              "      <td>3.5990</td>\n",
              "      <td>176500.0</td>\n",
              "    </tr>\n",
              "    <tr>\n",
              "      <th>2</th>\n",
              "      <td>-117.81</td>\n",
              "      <td>33.78</td>\n",
              "      <td>27.0</td>\n",
              "      <td>3589.0</td>\n",
              "      <td>507.0</td>\n",
              "      <td>1484.0</td>\n",
              "      <td>495.0</td>\n",
              "      <td>5.7934</td>\n",
              "      <td>270500.0</td>\n",
              "    </tr>\n",
              "    <tr>\n",
              "      <th>3</th>\n",
              "      <td>-118.36</td>\n",
              "      <td>33.82</td>\n",
              "      <td>28.0</td>\n",
              "      <td>67.0</td>\n",
              "      <td>15.0</td>\n",
              "      <td>49.0</td>\n",
              "      <td>11.0</td>\n",
              "      <td>6.1359</td>\n",
              "      <td>330000.0</td>\n",
              "    </tr>\n",
              "    <tr>\n",
              "      <th>4</th>\n",
              "      <td>-119.67</td>\n",
              "      <td>36.33</td>\n",
              "      <td>19.0</td>\n",
              "      <td>1241.0</td>\n",
              "      <td>244.0</td>\n",
              "      <td>850.0</td>\n",
              "      <td>237.0</td>\n",
              "      <td>2.9375</td>\n",
              "      <td>81700.0</td>\n",
              "    </tr>\n",
              "  </tbody>\n",
              "</table>\n",
              "</div>\n",
              "      <button class=\"colab-df-convert\" onclick=\"convertToInteractive('df-2f47bde4-78eb-4267-9a48-b89ad95d14c5')\"\n",
              "              title=\"Convert this dataframe to an interactive table.\"\n",
              "              style=\"display:none;\">\n",
              "        \n",
              "  <svg xmlns=\"http://www.w3.org/2000/svg\" height=\"24px\"viewBox=\"0 0 24 24\"\n",
              "       width=\"24px\">\n",
              "    <path d=\"M0 0h24v24H0V0z\" fill=\"none\"/>\n",
              "    <path d=\"M18.56 5.44l.94 2.06.94-2.06 2.06-.94-2.06-.94-.94-2.06-.94 2.06-2.06.94zm-11 1L8.5 8.5l.94-2.06 2.06-.94-2.06-.94L8.5 2.5l-.94 2.06-2.06.94zm10 10l.94 2.06.94-2.06 2.06-.94-2.06-.94-.94-2.06-.94 2.06-2.06.94z\"/><path d=\"M17.41 7.96l-1.37-1.37c-.4-.4-.92-.59-1.43-.59-.52 0-1.04.2-1.43.59L10.3 9.45l-7.72 7.72c-.78.78-.78 2.05 0 2.83L4 21.41c.39.39.9.59 1.41.59.51 0 1.02-.2 1.41-.59l7.78-7.78 2.81-2.81c.8-.78.8-2.07 0-2.86zM5.41 20L4 18.59l7.72-7.72 1.47 1.35L5.41 20z\"/>\n",
              "  </svg>\n",
              "      </button>\n",
              "      \n",
              "  <style>\n",
              "    .colab-df-container {\n",
              "      display:flex;\n",
              "      flex-wrap:wrap;\n",
              "      gap: 12px;\n",
              "    }\n",
              "\n",
              "    .colab-df-convert {\n",
              "      background-color: #E8F0FE;\n",
              "      border: none;\n",
              "      border-radius: 50%;\n",
              "      cursor: pointer;\n",
              "      display: none;\n",
              "      fill: #1967D2;\n",
              "      height: 32px;\n",
              "      padding: 0 0 0 0;\n",
              "      width: 32px;\n",
              "    }\n",
              "\n",
              "    .colab-df-convert:hover {\n",
              "      background-color: #E2EBFA;\n",
              "      box-shadow: 0px 1px 2px rgba(60, 64, 67, 0.3), 0px 1px 3px 1px rgba(60, 64, 67, 0.15);\n",
              "      fill: #174EA6;\n",
              "    }\n",
              "\n",
              "    [theme=dark] .colab-df-convert {\n",
              "      background-color: #3B4455;\n",
              "      fill: #D2E3FC;\n",
              "    }\n",
              "\n",
              "    [theme=dark] .colab-df-convert:hover {\n",
              "      background-color: #434B5C;\n",
              "      box-shadow: 0px 1px 3px 1px rgba(0, 0, 0, 0.15);\n",
              "      filter: drop-shadow(0px 1px 2px rgba(0, 0, 0, 0.3));\n",
              "      fill: #FFFFFF;\n",
              "    }\n",
              "  </style>\n",
              "\n",
              "      <script>\n",
              "        const buttonEl =\n",
              "          document.querySelector('#df-2f47bde4-78eb-4267-9a48-b89ad95d14c5 button.colab-df-convert');\n",
              "        buttonEl.style.display =\n",
              "          google.colab.kernel.accessAllowed ? 'block' : 'none';\n",
              "\n",
              "        async function convertToInteractive(key) {\n",
              "          const element = document.querySelector('#df-2f47bde4-78eb-4267-9a48-b89ad95d14c5');\n",
              "          const dataTable =\n",
              "            await google.colab.kernel.invokeFunction('convertToInteractive',\n",
              "                                                     [key], {});\n",
              "          if (!dataTable) return;\n",
              "\n",
              "          const docLinkHtml = 'Like what you see? Visit the ' +\n",
              "            '<a target=\"_blank\" href=https://colab.research.google.com/notebooks/data_table.ipynb>data table notebook</a>'\n",
              "            + ' to learn more about interactive tables.';\n",
              "          element.innerHTML = '';\n",
              "          dataTable['output_type'] = 'display_data';\n",
              "          await google.colab.output.renderOutput(dataTable, element);\n",
              "          const docLink = document.createElement('div');\n",
              "          docLink.innerHTML = docLinkHtml;\n",
              "          element.appendChild(docLink);\n",
              "        }\n",
              "      </script>\n",
              "    </div>\n",
              "  </div>\n",
              "  "
            ]
          },
          "metadata": {},
          "execution_count": 60
        }
      ]
    },
    {
      "cell_type": "markdown",
      "source": [
        "#### **| 제한적으로 불러오기**\n",
        "\n",
        "```\n",
        "df_short = pd.read_csv(f_path,\n",
        "                 usecols = [2, 3, 5], \n",
        "                 nrows = 1000)\n",
        "\n",
        "df_short\n",
        "```"
      ],
      "metadata": {
        "id": "e4Qp09ZygSTw"
      }
    },
    {
      "cell_type": "code",
      "source": [
        ""
      ],
      "metadata": {
        "id": "lgH0eUMqgUmg"
      },
      "execution_count": null,
      "outputs": []
    },
    {
      "cell_type": "markdown",
      "source": [
        "---\n",
        "### **(2) 데이터 출력**\n",
        "---"
      ],
      "metadata": {
        "id": "jHND8b3Ch-Wv"
      }
    },
    {
      "cell_type": "markdown",
      "source": [
        "option을 이용해서 최대 행의 개수와 최소 열의 개수를 조정할 수 있습니다. \n",
        "\n",
        "```\n",
        "pd.set_option('display.max_rows', None)\n",
        "pd.set_option('display.max_columns', None)\n",
        "```"
      ],
      "metadata": {
        "id": "q6GrBfgeDt--"
      }
    },
    {
      "cell_type": "code",
      "execution_count": null,
      "metadata": {
        "id": "BsVzrgyl6PDa"
      },
      "outputs": [],
      "source": [
        ""
      ]
    },
    {
      "cell_type": "code",
      "source": [
        ""
      ],
      "metadata": {
        "id": "5RjY5DBecYZi"
      },
      "execution_count": null,
      "outputs": []
    },
    {
      "cell_type": "markdown",
      "source": [
        "#### **| 출력 함수**"
      ],
      "metadata": {
        "id": "5Y6J3ySei8ef"
      }
    },
    {
      "cell_type": "markdown",
      "source": [
        "* `.head(n)` 가장 처음 데이터 n줄만 보여줍니다. (n을 정의하지 않으면 n=5) "
      ],
      "metadata": {
        "id": "pVJN5ELSD6ky"
      }
    },
    {
      "cell_type": "code",
      "execution_count": null,
      "metadata": {
        "id": "_03OBD3j6PDb"
      },
      "outputs": [],
      "source": [
        ""
      ]
    },
    {
      "cell_type": "markdown",
      "source": [
        "* `.tail(n)` 가장 마지막 데이터 n줄만 보여줍니다. (n을 정의하지 않으면 n=5)"
      ],
      "metadata": {
        "id": "cDOZSQqBEBHV"
      }
    },
    {
      "cell_type": "code",
      "execution_count": null,
      "metadata": {
        "scrolled": false,
        "id": "vCcwmQFE6PDb"
      },
      "outputs": [],
      "source": [
        ""
      ]
    },
    {
      "cell_type": "markdown",
      "source": [
        "* `.columns` : 열의 인덱스를 반환합니다."
      ],
      "metadata": {
        "id": "CXlJrrEcqS4_"
      }
    },
    {
      "cell_type": "code",
      "execution_count": null,
      "metadata": {
        "scrolled": false,
        "id": "JcPiULTMqS5H"
      },
      "outputs": [],
      "source": [
        ""
      ]
    },
    {
      "cell_type": "markdown",
      "source": [
        "#### **| 기본 정보**\n",
        "\n",
        "* `.shape` : 데이터의 shape 를 출력합니다.\n",
        "* `.dtypes` : 데이터의 타입을 확인합니다.\n",
        "* `.info()` : 데이터에 대한 개략적인 정보를 표시합니다.\n",
        "* `.describe()` : 각 column 들의 기술 통계량을 출력합니다.\n",
        "  * `count`: 해당 column에서 비어 있지 않은 값의 개수\n",
        "  * `mean`: 평균\n",
        "  * `std`: 표준편차\n",
        "  * `min`: 최솟값 (이상치 포함)\n",
        "  * `25%` (Q1): 전체 데이터를 순서대로 정렬했을 때, 아래에서 부터 1/4번째 지점에 있는 값\n",
        "  * `50%` (Q2): 중앙값 (전체 데이터를 순서대로 정렬했을 때, 아래에서 부터 2/4번째 지점에 있는 값)\n",
        "  * `75%` (Q3): 전체 데이터를 순서대로 정렬했을 때, 아래에서 부터 3/4번째 지점에 있는 값\n",
        "  * `max`: 최댓값 (이상치 포함)\n",
        "\n",
        "* `.corr()`: 변수들 간 상관관계를 출력합니다.\n",
        "* `.isnull()` : 결측치가 있는지를 출력합니다.\n"
      ],
      "metadata": {
        "id": "eOhK4EMiHy3t"
      }
    },
    {
      "cell_type": "code",
      "source": [
        ""
      ],
      "metadata": {
        "id": "FrAdMa8iWb3i"
      },
      "execution_count": null,
      "outputs": []
    },
    {
      "cell_type": "code",
      "metadata": {
        "id": "SPsOvHwBNG7X"
      },
      "source": [
        ""
      ],
      "execution_count": null,
      "outputs": []
    },
    {
      "cell_type": "code",
      "source": [
        ""
      ],
      "metadata": {
        "id": "GfFy4v2eWgsb"
      },
      "execution_count": null,
      "outputs": []
    },
    {
      "cell_type": "markdown",
      "source": [
        "#### **|  값 카운팅**\n",
        "\n",
        "데이터의 카운팅은 보통 연속형 자료가 아닌 범주형 자료에 사용됨을 참고하세요. \n",
        "\n",
        "데이터 전체에 대해 카운팅을 할 수 있지만 보통 범주형 자료형에 대해서만 카운팅을 하기 때문에 특정 열에만 접근 할 필요가 있습니다.\n",
        "\n",
        "특정 열에 접근하는 방법은 몇가지가 있지만 이번시간에는 간단히 `df.열이름`을 이용해 보겠습니다.\n",
        "\n",
        "```\n",
        "df.total_bedrooms\n",
        "```"
      ],
      "metadata": {
        "id": "QRe4mdmD4QtG"
      }
    },
    {
      "cell_type": "code",
      "source": [
        ""
      ],
      "metadata": {
        "id": "WQyfeybyQM1n"
      },
      "execution_count": null,
      "outputs": []
    },
    {
      "cell_type": "markdown",
      "source": [
        "* `.value_counts()` : 데이터의 개수를 카운트 합니다.\n",
        "\n",
        "```\n",
        "df.total_bedrooms.value_counts()\n",
        "```"
      ],
      "metadata": {
        "id": "2gH0SDtBH5_h"
      }
    },
    {
      "cell_type": "code",
      "source": [
        ""
      ],
      "metadata": {
        "id": "2Okjwly_pTgr"
      },
      "execution_count": null,
      "outputs": []
    },
    {
      "cell_type": "markdown",
      "source": [
        "* `.unique()` : 데이터의 모든 값을 (중복제거하여) 출력합니다.\n",
        "\n",
        "```\n",
        "df.total_bedrooms.unique()\n",
        "```"
      ],
      "metadata": {
        "id": "rhpI34zNICNn"
      }
    },
    {
      "cell_type": "code",
      "source": [
        ""
      ],
      "metadata": {
        "id": "qQUWzxZOyty8"
      },
      "execution_count": null,
      "outputs": []
    },
    {
      "cell_type": "markdown",
      "source": [
        "#### **| 집계함수**\n",
        "\n",
        "\n",
        "|함수 | 내용|\n",
        "|--|--|\n",
        "|sum | 합계|\n",
        "|mean|평균|\n",
        "|std|표준편차|\n",
        "|var|분산|\n",
        "|quantile|백분위수|\n",
        "|min|최소값|\n",
        "|max|최대값|\n"
      ],
      "metadata": {
        "id": "RxTOy-U0uwx7"
      }
    },
    {
      "cell_type": "code",
      "execution_count": null,
      "metadata": {
        "id": "8oYoMqvpsZEU"
      },
      "outputs": [],
      "source": [
        ""
      ]
    },
    {
      "cell_type": "markdown",
      "source": [
        "* `quantile(n)`: 상위 `n`프로의 값을 얻습니다\n",
        "\n",
        "```\n",
        "print(df.total_rooms.quantile(0.1)) # 상위 10%\n",
        "print(df.total_rooms.quantile(0.5)) # 중앙값\n",
        "print(df.total_rooms.median()) # 중앙값\n",
        "```"
      ],
      "metadata": {
        "id": "0ojg4wez_aGK"
      }
    },
    {
      "cell_type": "code",
      "execution_count": null,
      "metadata": {
        "id": "vTpkJeidsZEV"
      },
      "outputs": [],
      "source": [
        ""
      ]
    },
    {
      "cell_type": "markdown",
      "metadata": {
        "id": "aWbburSBq9__"
      },
      "source": [
        "---\n",
        "### **(3) 데이터 통합**\n",
        "---\n",
        "\n"
      ]
    },
    {
      "cell_type": "markdown",
      "source": [
        "#### **| `concat` 이용하기**\n",
        "\n",
        "* `pandas.concat([])`\n",
        "  * 둘 이상의 데이터 프레임을 이어 붙이는데 사용\n",
        "  * 주요입력\n",
        "    * `objs`: DataFrame을 요소로 하는 리스트로 입력 순서대로 병합됨.\n",
        "    * `ignore_index`: `True`면 기존 인덱스 무시하고 새로운 인덱스 부여, `False`면 기존 인덱스를 사용\n",
        "    * 보통 행단위는 `ignore_index`를 `True`, 열단위는 `False`\n",
        "    * `axis` : 0이면 행 단위로 병합 수행, 1이면 열단위로 병합 수행"
      ],
      "metadata": {
        "id": "IncxoYOF1JT7"
      }
    },
    {
      "cell_type": "markdown",
      "source": [
        "전체 데이터에서 `longitude`, `latitude`열만 불러옵니다.\n",
        "\n",
        "```\n",
        "df1 = pd.read_csv(f_path,\n",
        "                 usecols = [0, 1], \n",
        "                 nrows = 5)\n",
        "\n",
        "df1\n",
        "```"
      ],
      "metadata": {
        "id": "QNmcOfOoqnBS"
      }
    },
    {
      "cell_type": "code",
      "source": [
        ""
      ],
      "metadata": {
        "id": "sPkGrXSO1mio"
      },
      "execution_count": null,
      "outputs": []
    },
    {
      "cell_type": "markdown",
      "source": [
        "전체 데이터에서 `total_rooms`, `total_bedrooms`열만 불러옵니다.\n",
        "\n",
        "```\n",
        "df2 = pd.read_csv(f_path,\n",
        "                 usecols = [3, 4], \n",
        "                 nrows = 5)\n",
        "\n",
        "df2\n",
        "```"
      ],
      "metadata": {
        "id": "Rd87oU0iqzDo"
      }
    },
    {
      "cell_type": "code",
      "source": [
        ""
      ],
      "metadata": {
        "id": "_cshHdTj3QwP"
      },
      "execution_count": null,
      "outputs": []
    },
    {
      "cell_type": "markdown",
      "source": [
        "`.concat` 을 이용해 상하(axis=0)로 결합합니다.\n",
        "\n",
        "```\n",
        "df_concat = pd.concat([df1, df1], axis=0, ignore_index=True)\n",
        "df_concat\n",
        "```"
      ],
      "metadata": {
        "id": "JzEUb5wLrunc"
      }
    },
    {
      "cell_type": "code",
      "source": [
        ""
      ],
      "metadata": {
        "id": "y_u3ZSiMrunh"
      },
      "execution_count": null,
      "outputs": []
    },
    {
      "cell_type": "markdown",
      "source": [
        "`.concat` 을 이용해 좌우(axis=1)로 결합합니다.\n",
        "\n",
        "```\n",
        "df_concat = pd.concat([df1, df2], axis=1)\n",
        "df_concat\n",
        "```"
      ],
      "metadata": {
        "id": "pQvh6-GJsB6U"
      }
    },
    {
      "cell_type": "code",
      "source": [
        ""
      ],
      "metadata": {
        "id": "TcdEfNgVsB6V"
      },
      "execution_count": null,
      "outputs": []
    },
    {
      "cell_type": "markdown",
      "source": [
        "#### **| `merge` 이용하기**\n",
        "\n",
        "\n",
        "* `pandas.merge`\n",
        "  * key 변수를 기준으로 두개의 데이터 프레임을 병합(join)하는 함수.\n",
        "  * 주요 입력\n",
        "    * `left`: 통합 대상 데이터 프레임1\n",
        "    * `right`: 통합\n",
        "    * `on` : 통합기준 key 변수 및 변수 리스트 (입력을 하지 않으면 이름이 같은 변수를 key로 식별)\n",
        "    * `left_on` : 데이터프레임1의 key 변수 및 변수 리스트\n",
        "    * `right_on`: 데이터프레임2의 key 변수 및 변수 리스트\n",
        "    * `left_index`: 데이터프레임1의 인덱스를 key 변수로 사용할 것인지 여부\n",
        "    * `left_index`: 데이터프레임1의 인덱스를 key 변수로 사용할 것인지 여부\n"
      ],
      "metadata": {
        "id": "QZQO9Rm-3yO1"
      }
    },
    {
      "cell_type": "markdown",
      "source": [
        "전체 데이터에서 `longitude`, `total_rooms`, `total_bedrooms`열만 불러옵니다.\n",
        "\n",
        "```\n",
        "df3 = pd.read_csv(f_path,\n",
        "                 usecols = [0, 3, 4], \n",
        "                 nrows = 5)\n",
        "\n",
        "df3\n",
        "```"
      ],
      "metadata": {
        "id": "Lvs4gZFesYoG"
      }
    },
    {
      "cell_type": "code",
      "source": [
        ""
      ],
      "metadata": {
        "id": "GxYseBxt4Ymt"
      },
      "execution_count": null,
      "outputs": []
    },
    {
      "cell_type": "markdown",
      "source": [
        "두 데이터를 `merge` 합니다.\n",
        "```\n",
        "df_merge = pd.merge(df1, df3)\n",
        "df_merge\n",
        "```"
      ],
      "metadata": {
        "id": "MG_LQcDdWxVD"
      }
    },
    {
      "cell_type": "code",
      "source": [
        ""
      ],
      "metadata": {
        "id": "1DDmBV1Q34Yt"
      },
      "execution_count": null,
      "outputs": []
    },
    {
      "cell_type": "markdown",
      "metadata": {
        "id": "ZuRiOlEDg6CS"
      },
      "source": [
        "---\n",
        "### **(4) 데이터 저장하기**\n",
        "---\n",
        "\n",
        "\n",
        "* `.to_csv(savepath, index)`\n",
        "  * `filepath` : 파일 경로 및 이름\n",
        "  * `index` : 인덱스 저장여부 (bool)\n",
        "\n",
        "\n",
        "```\n",
        "df_merge.to_csv(\"ch06_merged.csv\", index = True)\n",
        "```"
      ]
    },
    {
      "cell_type": "markdown",
      "source": [
        "## 문제풀이\n",
        "---"
      ],
      "metadata": {
        "id": "wqMzwwRDGSXR"
      }
    },
    {
      "cell_type": "markdown",
      "source": [
        "**예제 01**\n",
        "\n",
        "`sample_data/california_housing_test.csv` 에서 열 `population`   `households`    `median_income` 만 위에서 500줄 불러오고 `df01`로 바인딩 하세요."
      ],
      "metadata": {
        "id": "zBTQxIkVdpGA"
      }
    },
    {
      "cell_type": "code",
      "source": [
        ""
      ],
      "metadata": {
        "id": "f0unqNbTdpGB"
      },
      "execution_count": null,
      "outputs": []
    },
    {
      "cell_type": "markdown",
      "source": [
        "**예제 02**\n",
        "\n",
        "`sample_data/california_housing_test.csv` 에서 열 `median_incom`   `median_house_value` 만 위에서 500줄 불러오고 `df02`로 바인딩 하세요."
      ],
      "metadata": {
        "id": "mQiqxxHuanfS"
      }
    },
    {
      "cell_type": "code",
      "source": [
        ""
      ],
      "metadata": {
        "id": "xl_9e6LWanfT"
      },
      "execution_count": null,
      "outputs": []
    },
    {
      "cell_type": "markdown",
      "source": [
        "**예제 03**\n",
        "\n",
        "`df02`의 `.describe`를 실행하고 이를 통해 알 수 있는 정보를 정리하세요."
      ],
      "metadata": {
        "id": "9qfyJWGZa5IB"
      }
    },
    {
      "cell_type": "code",
      "source": [
        ""
      ],
      "metadata": {
        "id": "z4cpShA-a5IC"
      },
      "execution_count": null,
      "outputs": []
    },
    {
      "cell_type": "markdown",
      "source": [
        "**예제 04**\n",
        "\n",
        "`df01`과 `df02`를 `concat`을 이용해 좌우로 연결하세요. 데이터가 어떻게 합쳐지는지 간단히 설명하세요."
      ],
      "metadata": {
        "id": "BgUjNeHAbCPh"
      }
    },
    {
      "cell_type": "code",
      "source": [
        ""
      ],
      "metadata": {
        "id": "FPLdK1sdbCPi"
      },
      "execution_count": null,
      "outputs": []
    },
    {
      "cell_type": "markdown",
      "source": [
        "**예제 05**\n",
        "\n",
        "`df01`과 `df02`를 `merge`을 이용해 좌우로 연결하세요. 데이터가 어떻게 합쳐지는지 간단히 설명하세요."
      ],
      "metadata": {
        "id": "-brlXnkWbYHh"
      }
    },
    {
      "cell_type": "code",
      "source": [
        ""
      ],
      "metadata": {
        "id": "mZ59lL3IbYHh"
      },
      "execution_count": null,
      "outputs": []
    }
  ]
}