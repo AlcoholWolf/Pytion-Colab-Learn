{
  "nbformat": 4,
  "nbformat_minor": 0,
  "metadata": {
    "colab": {
      "name": "07_Pandas-자료형다루기.ipynb",
      "provenance": [],
      "collapsed_sections": [],
      "toc_visible": true,
      "authorship_tag": "ABX9TyOddLmjY5RxY8VVXRBx4A8W",
      "include_colab_link": true
    },
    "kernelspec": {
      "name": "python3",
      "display_name": "Python 3"
    },
    "language_info": {
      "name": "python"
    }
  },
  "cells": [
    {
      "cell_type": "markdown",
      "metadata": {
        "id": "view-in-github",
        "colab_type": "text"
      },
      "source": [
        "<a href=\"https://colab.research.google.com/github/yebiny/SkillTreePython-DataAnalysis/blob/main/01.%EB%8D%B0%EC%9D%B4%ED%84%B0%EB%B6%84%EC%84%9D%EA%B8%B0%EC%B4%88/07_Pandas_%EC%9E%90%EB%A3%8C%ED%98%95%EB%8B%A4%EB%A3%A8%EA%B8%B0.ipynb\" target=\"_parent\"><img src=\"https://colab.research.google.com/assets/colab-badge.svg\" alt=\"Open In Colab\"/></a>"
      ]
    },
    {
      "cell_type": "markdown",
      "metadata": {
        "id": "jgFAOz-Tw1VI"
      },
      "source": [
        "# Ch07. Pandas - 자료형 다루기\n",
        "\n",
        "---\n",
        "* 날짜:\n",
        "* 이름:\n"
      ]
    },
    {
      "cell_type": "markdown",
      "source": [
        "## 개념정리\n",
        "---"
      ],
      "metadata": {
        "id": "i1Rco0Orob6Z"
      }
    },
    {
      "cell_type": "markdown",
      "source": [
        "\n",
        "```\n",
        "import pandas as pd\n",
        "```\n",
        "\n"
      ],
      "metadata": {
        "id": "_3uSBF40BdCd"
      }
    },
    {
      "cell_type": "code",
      "source": [
        ""
      ],
      "metadata": {
        "id": "u7VD5dy9BeVa"
      },
      "execution_count": null,
      "outputs": []
    },
    {
      "cell_type": "markdown",
      "metadata": {
        "id": "mYhgpGCW6PDM"
      },
      "source": [
        "---\n",
        "### **(1) 판다스 자료형 : Series**\n",
        "---\n",
        "\n",
        "Series 는 1차원 배열 자료형으로 인덱스와 값의 쌍으로 구성되어 있습니다. \n",
        "\n",
        "| index | data |\n",
        "|--|--|\n",
        "|a|1|\n",
        "|b|2|\n",
        "|c|3|"
      ]
    },
    {
      "cell_type": "markdown",
      "source": [
        "#### **| 딕셔너리를 이용해 생성하기**\n",
        "\n",
        "*  `pd.Series(dictionary)` : `dictionary` 자료형을 이용해 데이터를 생성합니다. \n",
        "\n",
        "```\n",
        "s = pd.Series({\"a\": 1, \"b\": 2, \"c\":3})\n",
        "s\n",
        "```"
      ],
      "metadata": {
        "id": "M9UiL_9hCveI"
      }
    },
    {
      "cell_type": "code",
      "source": [
        ""
      ],
      "metadata": {
        "id": "Wx1BuGfVDIaB"
      },
      "execution_count": null,
      "outputs": []
    },
    {
      "cell_type": "markdown",
      "source": [
        "#### **| 리스트를 이용해 생성하기**\n",
        "\n",
        "*  `pd.Series(list)` : `list` 자료형을 이용해 데이터를 생성합니다. (튜플, 넘파이어레이 도 가능합니다)\n",
        "\n",
        "```\n",
        "s = pd.Series([1, 2, 3])\n",
        "s\n",
        "```"
      ],
      "metadata": {
        "id": "TakAPn677Wfo"
      }
    },
    {
      "cell_type": "code",
      "execution_count": null,
      "metadata": {
        "id": "W5VzcSCf6PDP"
      },
      "outputs": [],
      "source": [
        ""
      ]
    },
    {
      "cell_type": "markdown",
      "source": [
        "\n",
        "위에서와 같이 `index` 없이 `list`만 작성하면 index 값은 자동적으로 0,1,2, .... 값으로 적용됩니다. \n",
        "\n",
        "원하는 `index`를 주려면 아래와 같이 작성합니다. \n",
        "\n",
        "* `pad.Series(list, index)` : `list` 자료형을 이용해 데이터 생성 시 `index`를 부여합니다. \n",
        "\n",
        "\n",
        "\n",
        "```\n",
        "s = pd.Series([1,2,3], index=['a','b','c'])\n",
        "```"
      ],
      "metadata": {
        "id": "pYljh3mc7eir"
      }
    },
    {
      "cell_type": "code",
      "execution_count": null,
      "metadata": {
        "id": "RKykLF4M6PDQ"
      },
      "outputs": [],
      "source": [
        ""
      ]
    },
    {
      "cell_type": "markdown",
      "source": [
        "#### **| 값 확인**\n",
        "\n",
        "\n",
        "* `.values` : `series`의 `data` 값을 반환 합니다. \n",
        "* `.index`: `series`의 `index` 값을 반환합니다. \n",
        "\n",
        "`values`와 `index` 값을 출력하고 두 값의 데이터 타입을 확인해 봅시다. \n",
        "\n",
        "```\n",
        "print(s.values, type(s.values))\n",
        "print(s.index, type(s.index))\n",
        "```"
      ],
      "metadata": {
        "id": "Ma36Ihj0EgTS"
      }
    },
    {
      "cell_type": "code",
      "source": [
        ""
      ],
      "metadata": {
        "id": "iXA8uA_5EPIv"
      },
      "execution_count": null,
      "outputs": []
    },
    {
      "cell_type": "markdown",
      "source": [
        "#### | **브로드 캐스팅**\n",
        "\n",
        "`values` 값은 `ndarray` 타입임을 확인할 수 있습니다. \n",
        "\n",
        "이는 우리가 앞서 넘파이 어레이에서 사용한 것처럼 브로드 캐스팅이 가능함을 뜻합니다.\n",
        "\n",
        "```\n",
        "s ** 2\n",
        "```"
      ],
      "metadata": {
        "id": "gElIOmyZFW-c"
      }
    },
    {
      "cell_type": "code",
      "source": [
        ""
      ],
      "metadata": {
        "id": "0fkWQuk-E-Ie"
      },
      "execution_count": null,
      "outputs": []
    },
    {
      "cell_type": "markdown",
      "metadata": {
        "id": "VvFdaeT86PDT"
      },
      "source": [
        "---\n",
        "### **(2) 판다스 자료형 : DataFrame**\n",
        "---\n",
        "\n",
        "`DataFrame`은 2차원 배열 자료형으로 앞서 배운 `Series`의 두가지 요소, 값(`value`) 행 인덱스(`index`) 에 추가로  열(`column`) 이 추가됩니다. \n",
        "\n",
        "| index | c1 | c2 |\n",
        "|--|--|--|\n",
        "|0|1|4|\n",
        "|1|2|5|\n",
        "|2|3|6|"
      ]
    },
    {
      "cell_type": "markdown",
      "source": [
        "#### **| 딕셔너리를 이용해 생성하기**\n",
        "\n",
        "*  `pd.DataFrame(dictionary, index=0,1,..)` : `dictionary` 자료형을 이용해 데이터를 생성합니다.\n",
        "\n",
        "```\n",
        "df = pd.DataFrame({\"c1\": [1, 2, 3],\n",
        "                  \"c2\": [4, 5, 6]}, \n",
        "                  )\n",
        "df\n",
        "```"
      ],
      "metadata": {
        "id": "43Qh3JSu9Xjr"
      }
    },
    {
      "cell_type": "code",
      "execution_count": null,
      "metadata": {
        "id": "LTqvhAfF9Xjx"
      },
      "outputs": [],
      "source": [
        ""
      ]
    },
    {
      "cell_type": "markdown",
      "source": [
        "#### **| 리스트를 이용해 생성하기**\n",
        "\n",
        "\n",
        "*  `pd.DataFrame(list, index=[0,1,..], columns=[0,1,...])` : `list` 자료형을 이용해 데이터를 생성합니다.\n",
        "\n",
        "이번에는 넘파이 배열을 활용해서 생성해 보겠습니다. \n",
        "\n",
        "```\n",
        "import numpy as np\n",
        "\n",
        "d = np.array([[1,2,3],\n",
        "              [4,5,6]])\n",
        "df = pd.DataFrame(d)\n",
        "df\n",
        "```"
      ],
      "metadata": {
        "id": "pbpeFCBrGvi0"
      }
    },
    {
      "cell_type": "code",
      "execution_count": null,
      "metadata": {
        "id": "ONn1cu3BGvi7"
      },
      "outputs": [],
      "source": [
        ""
      ]
    },
    {
      "cell_type": "markdown",
      "source": [
        "이 경우 데이터프레임을 만들 경우 넘파이 배열과 같은 차원개념으로 생성됩니다. \n",
        "\n",
        "따라서 위에서 만든 것과 같은 데이터프레임를 만들기 위해선 아래와 같이 작성해야 합니다. \n",
        "\n",
        "또한 열 인덱스를 부여하기 위해서는 `columns`를 추가로 적어줍니다.\n",
        "\n",
        "```\n",
        "import numpy as np\n",
        "\n",
        "d = np.array([[1,2],\n",
        "              [3,4],\n",
        "              [5,6]])\n",
        "df = pd.DataFrame(d, columns=['c1', 'c2'])\n",
        "df\n",
        "```"
      ],
      "metadata": {
        "id": "kFjmNHF8IxSn"
      }
    },
    {
      "cell_type": "code",
      "source": [
        ""
      ],
      "metadata": {
        "id": "QjJdHtHeFvx-"
      },
      "execution_count": null,
      "outputs": []
    },
    {
      "cell_type": "markdown",
      "source": [
        "#### **| 값 확인**\n",
        "\n",
        "\n",
        "* `.values` : `DataFrame`의 `data` 값을 반환 합니다. \n",
        "* `.index`: `DataFrame`의 `index` 값을 반환합니다. \n",
        "* `.columns`: `DataFrame`의 `columns` 값을 반환합니다.\n",
        "\n",
        "`values`, `index`, `columns` 값을 출력하고 데이터 타입을 확인해 봅시다. \n",
        "\n",
        "```\n",
        "print(df.values, type(df.values))\n",
        "print(df.index, type(df.index))\n",
        "print(df.columns, type(df.columns))\n",
        "```"
      ],
      "metadata": {
        "id": "zYlkz4U6JhRX"
      }
    },
    {
      "cell_type": "code",
      "source": [
        ""
      ],
      "metadata": {
        "id": "OgjmVuxDJZ3O"
      },
      "execution_count": null,
      "outputs": []
    },
    {
      "cell_type": "markdown",
      "source": [
        "#### | **브로드 캐스팅**\n",
        "\n",
        "`Series`와 마찬가지로 `DataFrame` 자료형도 브로드 캐스팅이 가능합니다. \n",
        "\n",
        "```\n",
        "df ** 2\n",
        "\n",
        "```"
      ],
      "metadata": {
        "id": "j-b8EYa1KcIY"
      }
    },
    {
      "cell_type": "code",
      "source": [
        ""
      ],
      "metadata": {
        "id": "YUYnlwpCKcIZ"
      },
      "execution_count": null,
      "outputs": []
    },
    {
      "cell_type": "markdown",
      "source": [
        "`DataFrame`과 리스트의 연산을 하면 `DataFrame`의 각 열(`column`) 별로 연산이 진행됩니다. \n",
        "\n",
        "```\n",
        "df ** [1,2]\n",
        "```"
      ],
      "metadata": {
        "id": "rBdAgxDEkVJn"
      }
    },
    {
      "cell_type": "code",
      "source": [
        ""
      ],
      "metadata": {
        "id": "QeK0CU9Ckh-c"
      },
      "execution_count": null,
      "outputs": []
    },
    {
      "cell_type": "markdown",
      "metadata": {
        "id": "sTuFV_uJ6PDW"
      },
      "source": [
        "---\n",
        "### **(3) 인덱싱**\n",
        "---\n",
        "\n",
        "\n",
        "\n",
        "아래와 같은 데이터프레임을 우선 생성해 봅시다. \n",
        "\n",
        "| index | c1 | c2 | c3|\n",
        "|--|--|--|--|\n",
        "|a|1|2|3|\n",
        "|b|4|5|6|\n",
        "|c|7|8|9|\n",
        "|d|10|11|12|\n",
        "\n",
        "```\n",
        "df = pd.DataFrame({'c1': [1,4,7,10],\n",
        "                   'c2': [2,5,8,11],\n",
        "                   'c3': [3,6,9,12]},\n",
        "                   index=['a','b','c','d']\n",
        "                   )\n",
        "df\n",
        "```\n"
      ]
    },
    {
      "cell_type": "code",
      "source": [
        ""
      ],
      "metadata": {
        "id": "U8z9IJj3MYkf"
      },
      "execution_count": null,
      "outputs": []
    },
    {
      "cell_type": "markdown",
      "source": [
        "기본적으로 데이터프레임에 아래와 같이 바로 인덱싱을 하면 열에 대한 인덱싱이 됩니다.\n",
        "\n",
        "```\n",
        "df['c1'], df['c1']['a']\n",
        "```"
      ],
      "metadata": {
        "id": "F2Eiv-uw14kC"
      }
    },
    {
      "cell_type": "code",
      "source": [
        ""
      ],
      "metadata": {
        "id": "bbS1A7R01egb"
      },
      "execution_count": null,
      "outputs": []
    },
    {
      "cell_type": "markdown",
      "source": [
        "이후 리스트처럼 행에 대한 인덱싱을 진행할 수 있습니다. \n",
        "\n",
        "```\n",
        "df['c1']['a']\n",
        "```"
      ],
      "metadata": {
        "id": "QdjRDV76GTaf"
      }
    },
    {
      "cell_type": "code",
      "source": [
        ""
      ],
      "metadata": {
        "id": "LwKqHxP6GLOB"
      },
      "execution_count": null,
      "outputs": []
    },
    {
      "cell_type": "markdown",
      "source": [
        "열에 대한 인덱싱을 할 때는 아래와 같이 여러개의 열을 인덱싱할 수 있습니다.\n",
        "\n",
        "```\n",
        "df[['c1', 'c2']]\n",
        "```"
      ],
      "metadata": {
        "id": "iP9Y7SQTFzWD"
      }
    },
    {
      "cell_type": "code",
      "source": [
        ""
      ],
      "metadata": {
        "id": "0qk-_oAiF7b2"
      },
      "execution_count": null,
      "outputs": []
    },
    {
      "cell_type": "markdown",
      "source": [
        "판다스에서는 더 효율적인 두가지 방법의 인덱싱 함수를 제공합니다. \n",
        "\n",
        "\n",
        "\n",
        "* `.loc[index,column]` : 명시적 인덱스\n",
        "* `.iloc[index,column]` : 암묵적 인덱스\n",
        "\n",
        "\n",
        "콤마(,) 기준 왼쪽은 행 인덱스(`index`)를 적고 오른쪽은 열 인덱스(`column`)를 입력합니다. \n",
        "\n",
        "\n"
      ],
      "metadata": {
        "id": "8qlUEwXDShtJ"
      }
    },
    {
      "cell_type": "markdown",
      "source": [
        "#### | **명시적 인덱스**\n",
        "\n",
        "* `.loc[index]` :  인덱스의 정확한 이름을 필요로 합니다. \n",
        "\n",
        "```\n",
        "s_loc = df.loc['a']\n",
        "```"
      ],
      "metadata": {
        "id": "UUhCmw0NP8QN"
      }
    },
    {
      "cell_type": "code",
      "source": [
        ""
      ],
      "metadata": {
        "id": "8vGZajZ4MW9M"
      },
      "execution_count": null,
      "outputs": []
    },
    {
      "cell_type": "markdown",
      "source": [
        "#### | **암묵적 인덱스**\n",
        "\n",
        "* `.iloc[index]` : 인덱스의 정확한 이름과 별개로 0부터 인덱스를 부여합니다. \n",
        "\n",
        "```\n",
        "s_iloc = df.iloc[0]\n",
        "```"
      ],
      "metadata": {
        "id": "hHLzqa2PQQdO"
      }
    },
    {
      "cell_type": "code",
      "source": [
        ""
      ],
      "metadata": {
        "id": "wPHAppmKQQdU"
      },
      "execution_count": null,
      "outputs": []
    },
    {
      "cell_type": "markdown",
      "source": [
        "#### | **행, 열 인덱싱**\n",
        "\n",
        "\n",
        "| index | c1 | c2 | c3|\n",
        "|--|--|--|--|\n",
        "|a|1|2|3|\n",
        "|b|4|5|6|\n",
        "|c|7|8|9|\n",
        "|d|10|11|12|\n",
        "\n",
        "현재 정의된 `df`에서 값 5를 출력해 봅시다.\n",
        "\n",
        "```\n",
        "print(df.loc['b','c2'])\n",
        "print(df.iloc[1,1])\n",
        "```\n",
        "\n"
      ],
      "metadata": {
        "id": "r3MTRML2MZHd"
      }
    },
    {
      "cell_type": "code",
      "source": [
        ""
      ],
      "metadata": {
        "id": "IOVl3ihIwdyP"
      },
      "execution_count": null,
      "outputs": []
    },
    {
      "cell_type": "markdown",
      "source": [
        "#### **| 연습문제**\n"
      ],
      "metadata": {
        "id": "hzWZ5G7mo2PR"
      }
    },
    {
      "cell_type": "markdown",
      "source": [
        "**연습 01**\n",
        "\n",
        "행 `b`을 출력해 봅시다.\n",
        "\n",
        "\n"
      ],
      "metadata": {
        "id": "j6e7q-qEUdJR"
      }
    },
    {
      "cell_type": "code",
      "source": [
        ""
      ],
      "metadata": {
        "id": "1nezJ5uuST-c"
      },
      "execution_count": null,
      "outputs": []
    },
    {
      "cell_type": "markdown",
      "source": [
        "**연습 02**\n",
        "\n",
        "열 `c3`을 출력해 봅시다.  \n"
      ],
      "metadata": {
        "id": "dYIrtAEjUvQQ"
      }
    },
    {
      "cell_type": "code",
      "source": [
        ""
      ],
      "metadata": {
        "id": "Fa6d0h-KUkhp"
      },
      "execution_count": null,
      "outputs": []
    },
    {
      "cell_type": "markdown",
      "source": [
        "**연습 03**\n",
        "\n",
        "행 `d`의 열 `c1`과 `c3`을 출력해 봅시다.\n"
      ],
      "metadata": {
        "id": "ey_R7ZgXnHdp"
      }
    },
    {
      "cell_type": "code",
      "source": [
        ""
      ],
      "metadata": {
        "id": "NpR4u4TgVeAO"
      },
      "execution_count": null,
      "outputs": []
    },
    {
      "cell_type": "markdown",
      "metadata": {
        "id": "2X4Hpzy7Vnni"
      },
      "source": [
        "---\n",
        "### **(4) 슬라이싱**\n",
        "---\n",
        "\n",
        "인덱스를 앞에서 배웠으니 이번엔 인덱스와 인덱스 까지의 값을 찾는 슬라이싱을 배워보도록 하겠습니다. \n",
        "\n",
        "시작하기전 `df`의 형태를 다시한번 확인해보겠습니다.\n",
        "\n",
        "```\n",
        "df\n",
        "```\n",
        "\n"
      ]
    },
    {
      "cell_type": "code",
      "source": [
        ""
      ],
      "metadata": {
        "id": "BT5ZuouxWHmJ"
      },
      "execution_count": null,
      "outputs": []
    },
    {
      "cell_type": "markdown",
      "source": [
        "#### | **명시적 인덱스 슬라이싱**\n",
        "\n",
        "* `.loc[index1:index1]` : `index1` 부터 `index2`까지 슬라이싱 합니다. \n",
        "인덱스의 정확한 이름을 필요로 합니다. \n",
        "\n",
        "\n",
        "\n",
        "|||||\n",
        "|--|--|--|--|\n",
        "|b|4|5|6|\n",
        "|c|7|8|9|\n",
        "\n",
        "`df` 에서 위에 해당하는 행만 출력해 봅시다. \n",
        "\n",
        "```\n",
        "df.loc['b':'c']\n",
        "```"
      ],
      "metadata": {
        "id": "SLHCQN8FWSDn"
      }
    },
    {
      "cell_type": "code",
      "source": [
        ""
      ],
      "metadata": {
        "id": "Glsnt1D4WSDo"
      },
      "execution_count": null,
      "outputs": []
    },
    {
      "cell_type": "markdown",
      "source": [
        "#### | **암묵적 인덱스 슬라이싱**\n",
        "\n",
        "* `.iloc[index1:index2]` : `index1` 부터 `index2` 전 까지 슬라이싱 합니다.  인덱스의 정확한 이름과 별개로 0부터 인덱스를 부여합니다. \n",
        "\n",
        "\n",
        "\n",
        "|||||\n",
        "|--|--|--|--|\n",
        "|b|4|5|6|\n",
        "|c|7|8|9|\n",
        "\n",
        "`df` 에서 위에 해당하는 행만 출력해 봅시다. \n",
        "\n",
        "```\n",
        "df.iloc[1:3]\n",
        "```\n",
        "`iloc`의 경우 기본적으로 슬라이싱 방법이 파이썬이나 넘파이의 슬라이싱 방법과 같습니다. 이에 유의하여 슬라이싱을 해야 합니다. "
      ],
      "metadata": {
        "id": "LxGQkxd8XJaf"
      }
    },
    {
      "cell_type": "code",
      "source": [
        ""
      ],
      "metadata": {
        "id": "ENURinyGXJag"
      },
      "execution_count": null,
      "outputs": []
    },
    {
      "cell_type": "markdown",
      "source": [
        "#### | **행, 열 슬라이싱**\n",
        "\n",
        "* `.loc[index1:index2 , column1:column2]`\n",
        "* `.iloc[index1:index2 , column1:column2]`\n",
        "\n",
        "콤마(,) 기준 왼쪽은 행 인덱스의 범위(`index1, index2`)를 적고 오른쪽은 열 인덱스의 범위 (`column1`, `column2`)를 입력합니다. \n",
        "\n",
        "\n",
        "\n",
        "| index | c1 | c2 | c3|\n",
        "|--|--|--|--|\n",
        "|a|1|2|3|\n",
        "|b|4|5|6|\n",
        "|c|7|8|9|\n",
        "|d|10|11|12|\n",
        "\n",
        "\n",
        "* 현재 정의된 `df`에서 다음을 출력해 봅시다.\n",
        "\n",
        "|||||\n",
        "|--|--|--|--|\n",
        "|b|4|5|\n",
        "|c|7|8|\n",
        "\n",
        "\n",
        "```\n",
        "print(df.loc['b':'c','c1':'c2'])\n",
        "print(df.iloc[1:3, :2])\n",
        "```\n"
      ],
      "metadata": {
        "id": "2tORg6IoXwq-"
      }
    },
    {
      "cell_type": "code",
      "source": [
        ""
      ],
      "metadata": {
        "id": "42Xgv5EhXwrF"
      },
      "execution_count": null,
      "outputs": []
    },
    {
      "cell_type": "markdown",
      "source": [
        "#### **| 연습문제**\n"
      ],
      "metadata": {
        "id": "NxnsNtm0cym5"
      }
    },
    {
      "cell_type": "markdown",
      "source": [
        "**연습 04**\n",
        "\n",
        "\n",
        "현재 정의된 `df`에서 다음을 출력해 봅시다.\n",
        "\n",
        "|||||\n",
        "|--|--|--|--|\n",
        "|a|2|3|\n",
        "|b|5|6|\n",
        "|c|8|9|\n",
        "\n",
        "\n",
        "\n"
      ],
      "metadata": {
        "id": "PTFUimyWcym5"
      }
    },
    {
      "cell_type": "code",
      "source": [
        ""
      ],
      "metadata": {
        "id": "cEZ0sQivYgiu"
      },
      "execution_count": null,
      "outputs": []
    },
    {
      "cell_type": "markdown",
      "source": [
        "## 문제풀이\n",
        "---"
      ],
      "metadata": {
        "id": "wqMzwwRDGSXR"
      }
    },
    {
      "cell_type": "markdown",
      "source": [
        "**예제 01**\n",
        "\n",
        "딕셔너리를 사용해 다음과 같은 데이터 프레임을 작성한 후 `df01`으로 정의하세요.\n",
        "\n",
        "| index | A | B | C | \n",
        "|--|--|--|--|\n",
        "|00|1|0|1|\n",
        "|01|2|2|1|\n",
        "|02|3|3|0|"
      ],
      "metadata": {
        "id": "zBTQxIkVdpGA"
      }
    },
    {
      "cell_type": "code",
      "source": [
        ""
      ],
      "metadata": {
        "id": "f0unqNbTdpGB"
      },
      "execution_count": null,
      "outputs": []
    },
    {
      "cell_type": "markdown",
      "source": [
        "**예제 02**\n",
        "\n",
        "딕셔너리를 사용하지 않고 다음과 같은 데이터 프레임을 작성한 후 `df02`으로 정의하세요.\n",
        "\n",
        "\n",
        "| index | A | B | C | \n",
        "|--|--|--|--|\n",
        "|00|1|0|1|\n",
        "|01|2|2|1|\n",
        "|02|3|3|0|"
      ],
      "metadata": {
        "id": "wqHmaCDwd6HR"
      }
    },
    {
      "cell_type": "code",
      "source": [
        ""
      ],
      "metadata": {
        "id": "X-2NYhKTd6HR"
      },
      "execution_count": null,
      "outputs": []
    },
    {
      "cell_type": "markdown",
      "source": [
        "**예제 03**\n",
        "\n",
        "`df01`의 행 인덱스(index)와 열 인덱스 (columns)을 출력하세요.\n",
        "\n"
      ],
      "metadata": {
        "id": "a5P6C-B7dpbI"
      }
    },
    {
      "cell_type": "code",
      "source": [
        ""
      ],
      "metadata": {
        "id": "F40VQ_SXdpbI"
      },
      "execution_count": null,
      "outputs": []
    },
    {
      "cell_type": "markdown",
      "source": [
        "**예제 04**\n",
        "\n",
        "`df01` 값에 모두 5를 더한것을 출력하세요 (바인딩 하지 마세요.)\n"
      ],
      "metadata": {
        "id": "iD7uO7OKZJDq"
      }
    },
    {
      "cell_type": "code",
      "source": [
        ""
      ],
      "metadata": {
        "id": "J21Jda37ZJDr"
      },
      "execution_count": null,
      "outputs": []
    },
    {
      "cell_type": "markdown",
      "source": [
        "**예제 05**\n",
        "\n",
        "`df01`에서 `0`에 해당하는 값둘을 명시적 인덱싱을 이용해서 하나씩 출력하세요. "
      ],
      "metadata": {
        "id": "RaDpWMUseyRB"
      }
    },
    {
      "cell_type": "code",
      "source": [
        ""
      ],
      "metadata": {
        "id": "Nu-iM3hAeyRB"
      },
      "execution_count": null,
      "outputs": []
    },
    {
      "cell_type": "markdown",
      "source": [
        "**예제 06**\n",
        "\n",
        "`df01`에서 `1`에 해당하는 값들을 암묵적 인덱싱을 이용해서 하나씩 출력하세요. "
      ],
      "metadata": {
        "id": "zrtfeefmiyIq"
      }
    },
    {
      "cell_type": "code",
      "source": [
        ""
      ],
      "metadata": {
        "id": "M_Di6_NmiyIw"
      },
      "execution_count": null,
      "outputs": []
    },
    {
      "cell_type": "markdown",
      "source": [
        "**예제 07**\n",
        "\n",
        "`df01`에서 아래 데이터를 명시적 인덱스를 사용한 슬라이싱을 이용해 출력하세요.\n",
        "\n",
        "| index | A | B | \n",
        "|--|--|--|\n",
        "|01|2|2|\n",
        "|02|3|3|\n",
        "\n"
      ],
      "metadata": {
        "id": "a0IKgkGxi_Rw"
      }
    },
    {
      "cell_type": "code",
      "source": [
        ""
      ],
      "metadata": {
        "id": "wLIyzcLhi_Rx"
      },
      "execution_count": null,
      "outputs": []
    },
    {
      "cell_type": "markdown",
      "source": [
        "**예제 08**\n",
        "\n",
        "`df01`에서 아래 데이터를 암묵적 인덱스를 사용한 슬라이싱을 이용해 출력하세요.\n",
        "\n",
        "| index | A | B | \n",
        "|--|--|--|\n",
        "|01|2|2|\n",
        "|02|3|3|\n",
        "\n"
      ],
      "metadata": {
        "id": "7xiy39f5ZfZ5"
      }
    },
    {
      "cell_type": "code",
      "source": [
        ""
      ],
      "metadata": {
        "id": "kCkQQvktZfZ6"
      },
      "execution_count": null,
      "outputs": []
    },
    {
      "cell_type": "markdown",
      "source": [
        "**예제 09**\n",
        "\n",
        "`df01`에서 아래 데이터를 암묵적 인덱스를 사용한 슬라이싱을 이용해 출력하세요.\n",
        "\n",
        "| index | B | C | \n",
        "|--|--|--|\n",
        "|00|0|1|\n",
        "|01|2|1|\n",
        "|02|3|0|\n",
        "\n"
      ],
      "metadata": {
        "id": "Dsq_Kls1jg-G"
      }
    },
    {
      "cell_type": "code",
      "source": [
        ""
      ],
      "metadata": {
        "id": "m5kYtmHRjg-G"
      },
      "execution_count": null,
      "outputs": []
    },
    {
      "cell_type": "markdown",
      "source": [
        "**예제 10**\n",
        "\n",
        "`df01`에서 아래 데이터를 암묵적 인덱스를 사용한 슬라이싱을 이용해 출력하세요.\n",
        "\n",
        "| index | B | C | \n",
        "|--|--|--|\n",
        "|00|0|1|\n",
        "|01|2|1|\n",
        "|02|3|0|\n",
        "\n"
      ],
      "metadata": {
        "id": "unUPBAMhZivZ"
      }
    },
    {
      "cell_type": "code",
      "source": [
        ""
      ],
      "metadata": {
        "id": "XRAaTIJIZivZ"
      },
      "execution_count": null,
      "outputs": []
    }
  ]
}