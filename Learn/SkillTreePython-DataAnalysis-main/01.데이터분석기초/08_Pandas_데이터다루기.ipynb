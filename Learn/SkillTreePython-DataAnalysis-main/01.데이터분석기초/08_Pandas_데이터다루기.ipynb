{
  "nbformat": 4,
  "nbformat_minor": 0,
  "metadata": {
    "colab": {
      "name": "08_Pandas-데이터다루기.ipynb",
      "provenance": [],
      "collapsed_sections": [],
      "toc_visible": true,
      "authorship_tag": "ABX9TyO4mzbRQjDYovsIaNTj7yg2",
      "include_colab_link": true
    },
    "kernelspec": {
      "name": "python3",
      "display_name": "Python 3"
    },
    "language_info": {
      "name": "python"
    }
  },
  "cells": [
    {
      "cell_type": "markdown",
      "metadata": {
        "id": "view-in-github",
        "colab_type": "text"
      },
      "source": [
        "<a href=\"https://colab.research.google.com/github/yebiny/SkillTreePython-DataAnalysis/blob/main/01.%EB%8D%B0%EC%9D%B4%ED%84%B0%EB%B6%84%EC%84%9D%EA%B8%B0%EC%B4%88/08_Pandas_%EB%8D%B0%EC%9D%B4%ED%84%B0%EB%8B%A4%EB%A3%A8%EA%B8%B0.ipynb\" target=\"_parent\"><img src=\"https://colab.research.google.com/assets/colab-badge.svg\" alt=\"Open In Colab\"/></a>"
      ]
    },
    {
      "cell_type": "markdown",
      "metadata": {
        "id": "BBRl6L-okK_G"
      },
      "source": [
        "# Ch.08 Pandas - 데이터 다루기\n",
        "---\n",
        "* 날짜:\n",
        "* 이름:\n"
      ]
    },
    {
      "cell_type": "markdown",
      "metadata": {
        "id": "0vXJRti-kK_H"
      },
      "source": [
        "## 개념정리\n",
        "---"
      ]
    },
    {
      "cell_type": "markdown",
      "source": [
        "```\n",
        "import pandas as pd\n",
        "import numpy as np\n",
        "```"
      ],
      "metadata": {
        "id": "Box1tt56YrIL"
      }
    },
    {
      "cell_type": "code",
      "source": [
        ""
      ],
      "metadata": {
        "id": "kzeQLUXXYpPh"
      },
      "execution_count": null,
      "outputs": []
    },
    {
      "cell_type": "markdown",
      "source": [
        "실습을 위해 캘리포니아 데이터셋을 불러옵니다.\n",
        "```\n",
        "df = pd.read_csv('/content/sample_data/california_housing_test.csv')\n",
        "df.head()\n",
        "```"
      ],
      "metadata": {
        "id": "wNwj-jtHx9mb"
      }
    },
    {
      "cell_type": "code",
      "source": [
        ""
      ],
      "metadata": {
        "id": "F9w29nYzzxUo"
      },
      "execution_count": null,
      "outputs": []
    },
    {
      "cell_type": "markdown",
      "source": [
        "---\n",
        "### **(1) 데이터 수정**\n",
        "---\n",
        "\n",
        "인덱싱과 슬라이싱을 이용해 원하는 값에 접근하고 변경할 수 있습니다.\n",
        "\n"
      ],
      "metadata": {
        "id": "cKqiJeZ7Esth"
      }
    },
    {
      "cell_type": "markdown",
      "source": [
        "\n",
        "#### **| 인덱싱, 슬라이싱 사용**\n",
        "\n",
        "\n",
        "\n"
      ],
      "metadata": {
        "id": "Pcuy9p0DtTC8"
      }
    },
    {
      "cell_type": "markdown",
      "source": [
        "( `0` 행, `logitude` 열) 의 값을 100으로 바꿔 봅시다.\n",
        "\n",
        "```\n",
        "df.loc[0, 'longitude'] = 100\n",
        "df.head()\n",
        "```"
      ],
      "metadata": {
        "id": "0NaEYXj6zCXE"
      }
    },
    {
      "cell_type": "code",
      "execution_count": null,
      "metadata": {
        "id": "DbaGDepI6PDc"
      },
      "outputs": [],
      "source": [
        ""
      ]
    },
    {
      "cell_type": "markdown",
      "source": [
        "( `0` 행~`2` 행, `logitude` ~ `latitude` 열) 의 값을 100으로 바꿔 봅시다.\n",
        "\n",
        "```\n",
        "df.loc[:2, 'longitude':'latitude'] = 100\n",
        "df.head()\n",
        "```"
      ],
      "metadata": {
        "id": "8lCAK60szDa5"
      }
    },
    {
      "cell_type": "code",
      "execution_count": null,
      "metadata": {
        "id": "VpukxFPJzDa5"
      },
      "outputs": [],
      "source": [
        ""
      ]
    },
    {
      "cell_type": "markdown",
      "source": [
        "#### **| 컬럼명 변경**\n",
        "\n"
      ],
      "metadata": {
        "id": "UUfLW-c5tTC9"
      }
    },
    {
      "cell_type": "markdown",
      "source": [
        "* `df.columns` : 열 네이밍을 바인딩으로 새로 지정할 수 있습니다.\n",
        "\n",
        "```\n",
        "df.columns = [ f'A{i}' for i in range(9)]\n",
        "df.head()\n",
        "```"
      ],
      "metadata": {
        "id": "-cQLOsLXiriz"
      }
    },
    {
      "cell_type": "code",
      "source": [
        ""
      ],
      "metadata": {
        "id": "3CyYuq_FfBcf"
      },
      "execution_count": null,
      "outputs": []
    },
    {
      "cell_type": "markdown",
      "source": [
        "* `.rename({before:after}, axis, inplace)`\n",
        "\n",
        "바꿀 목표와 바꿀 이름을 적어주고, 행인지 열인지 `axis`로 정해줍니다.\n",
        "\n",
        "```\n",
        "df.rename({\"A0\":\"B0\", \"A2\":\"B2\"}, axis = 1)\n",
        "df.head()\n",
        "```"
      ],
      "metadata": {
        "id": "pBPp1H_sfgZE"
      }
    },
    {
      "cell_type": "code",
      "execution_count": null,
      "metadata": {
        "id": "defiB4IkEt2g"
      },
      "outputs": [],
      "source": [
        ""
      ]
    },
    {
      "cell_type": "markdown",
      "source": [
        "#### **| 범주 나누기**\n",
        "\n",
        "* `pd.cut(열, bins, labels)` : `bins` 범위의 숫자를 `names`로 범주를 나눕니다.\n",
        "\n",
        "`A2`의 깂들을 범주화 하겠습니다.\n",
        "\n",
        "```\n",
        "bins = [0,10,20,30,40,100]\n",
        "names = ['a','b','c','d','e']\n",
        "df['A2']=pd.cut(df['A2'], bins=bins, labels=names)\n",
        "df.head()\n",
        "```"
      ],
      "metadata": {
        "id": "jYQGwRzLQov_"
      }
    },
    {
      "cell_type": "code",
      "source": [
        ""
      ],
      "metadata": {
        "id": "XP-aCDnQQxiB"
      },
      "execution_count": null,
      "outputs": []
    },
    {
      "cell_type": "markdown",
      "source": [
        "---\n",
        "### **(2) 데이터 추가**\n",
        "---\n"
      ],
      "metadata": {
        "id": "4JjRIpeerKvP"
      }
    },
    {
      "cell_type": "markdown",
      "source": [
        "#### **| 행 추가**\n",
        "\n",
        "새로운 행을 작성합니다.\n",
        "\n",
        "```\n",
        "line = np.zeros(9)\n",
        "line\n",
        "```"
      ],
      "metadata": {
        "id": "RgV3ReqftKqp"
      }
    },
    {
      "cell_type": "code",
      "source": [
        ""
      ],
      "metadata": {
        "id": "3VZ186n_1P8X"
      },
      "execution_count": null,
      "outputs": []
    },
    {
      "cell_type": "markdown",
      "source": [
        "인덱싱을 이용해 새로운 행을 추가할 수 있습니다.\n",
        "\n",
        "\n",
        "```\n",
        "df.loc[3001] = line\n",
        "df.tail()\n",
        "```"
      ],
      "metadata": {
        "id": "teiLP2DX07sG"
      }
    },
    {
      "cell_type": "code",
      "source": [
        ""
      ],
      "metadata": {
        "id": "UyKcCOon095X"
      },
      "execution_count": null,
      "outputs": []
    },
    {
      "cell_type": "markdown",
      "source": [
        "#### **| 열 추가**\n",
        "\n"
      ],
      "metadata": {
        "id": "KzJEKFLttKIl"
      }
    },
    {
      "cell_type": "markdown",
      "source": [
        "새로운 열 `safety`를 만들어 보겠습니다. 총 5개의 등급으로 이루어져 있습니다.\n",
        "\n",
        "```\n",
        "col_list = ['A-a', 'A-b', 'B-a', 'B-b', 'C']\n",
        "col = np.random.choice(col_list, len(df))\n",
        "col, col.shape\n",
        "```"
      ],
      "metadata": {
        "id": "bU0uUOk7zVpg"
      }
    },
    {
      "cell_type": "code",
      "source": [
        ""
      ],
      "metadata": {
        "id": "QXRANdqozVph"
      },
      "execution_count": null,
      "outputs": []
    },
    {
      "cell_type": "markdown",
      "source": [
        "인덱싱을 이용하여 `safety`를 추가합니다.\n",
        "\n",
        "```\n",
        "df['safety']=safety\n",
        "df.head()\n",
        "```"
      ],
      "metadata": {
        "id": "dXXjxDrn1Rcd"
      }
    },
    {
      "cell_type": "code",
      "source": [
        ""
      ],
      "metadata": {
        "id": "fS3FtfnP1FtZ"
      },
      "execution_count": null,
      "outputs": []
    },
    {
      "cell_type": "markdown",
      "source": [
        "---\n",
        "### **(2) 데이터 삭제**\n",
        "---\n"
      ],
      "metadata": {
        "id": "Cl4J1ZMiIgGr"
      }
    },
    {
      "cell_type": "markdown",
      "source": [
        "#### **| 기본사용**"
      ],
      "metadata": {
        "id": "U0G2_4l8Jx7H"
      }
    },
    {
      "cell_type": "markdown",
      "source": [
        "* `.drop( idx, axis)` : `axis` 방향의 `idx` 데이터 제거\n",
        "\n",
        "```\n",
        "df = df.drop(0)\n",
        "df.head()\n",
        "```"
      ],
      "metadata": {
        "id": "Zq6AwGApIgGw"
      }
    },
    {
      "cell_type": "code",
      "source": [
        ""
      ],
      "metadata": {
        "id": "sdqy5s1KJCys"
      },
      "execution_count": null,
      "outputs": []
    },
    {
      "cell_type": "markdown",
      "source": [
        "여러개의 행을 지워 봅시다.\n",
        "\n",
        "```\n",
        "df = df.drop([1,2])\n",
        "df.head()\n",
        "```"
      ],
      "metadata": {
        "id": "PHOKjZ9_SvGH"
      }
    },
    {
      "cell_type": "code",
      "source": [
        ""
      ],
      "metadata": {
        "id": "0IZXlngyJe0j"
      },
      "execution_count": null,
      "outputs": []
    },
    {
      "cell_type": "markdown",
      "source": [
        "열을 지울 때는 `axis=1`를 추가합니다.\n",
        "\n",
        "```\n",
        "df = df.drop(['A7','A8'], axis=1)\n",
        "df.head()\n",
        "```"
      ],
      "metadata": {
        "id": "atIRjQl1S3yc"
      }
    },
    {
      "cell_type": "code",
      "source": [
        ""
      ],
      "metadata": {
        "id": "aH5oicfZJjKf"
      },
      "execution_count": null,
      "outputs": []
    },
    {
      "cell_type": "markdown",
      "source": [
        "#### **| 결측치 삭제**\n",
        "\n",
        "데이터에는 결측치가 포함된 경우가 종종 있습니다. 결측치를 삭제하는 방법을 알아봅니다.\n",
        "\n",
        "이를 위해 데이터에 `nan`값을 추가합니다.\n",
        "\n",
        "```\n",
        "df.loc[[3,5],'A0']=float('nan')\n",
        "df.head()\n",
        "```\n",
        " "
      ],
      "metadata": {
        "id": "_ym8wByrJ2Al"
      }
    },
    {
      "cell_type": "code",
      "source": [
        ""
      ],
      "metadata": {
        "id": "90WpV-1EKBSI"
      },
      "execution_count": null,
      "outputs": []
    },
    {
      "cell_type": "markdown",
      "source": [
        "* `.dropna(axis)` : 결측값이 포함된 `axis`를 삭제합니다. ( 기본 `axis=0` )\n"
      ],
      "metadata": {
        "id": "64SwRaIWLIbd"
      }
    },
    {
      "cell_type": "code",
      "source": [
        ""
      ],
      "metadata": {
        "id": "NoMFYJsVKS_g"
      },
      "execution_count": null,
      "outputs": []
    },
    {
      "cell_type": "markdown",
      "metadata": {
        "id": "POpUbIHgUuvh"
      },
      "source": [
        "---\n",
        "### **(3) 마스킹**\n",
        "---\n",
        "\n",
        "마스킹이란 넘파이의 불리언 인덱싱과 같은 개념으로 보시면 됩니다. 원하는 조건에 맞는 데이터만 출력할 수 있습니다."
      ]
    },
    {
      "cell_type": "markdown",
      "source": [
        "#### **| 인덱싱을 이용한 마스킹**\n"
      ],
      "metadata": {
        "id": "Qcira8Kp4Aqh"
      }
    },
    {
      "cell_type": "markdown",
      "metadata": {
        "id": "WYO3SNomUuvl"
      },
      "source": [
        "\n",
        "열 `safety`에서 값이 `A-b`인 마스크를 바인딩 합니다.\n",
        "\n",
        "```\n",
        "mask = df['safety'] == 'A-b'\n",
        "mask\n",
        "```\n",
        "\n"
      ]
    },
    {
      "cell_type": "code",
      "execution_count": null,
      "metadata": {
        "id": "1-2yNAsREtTD"
      },
      "outputs": [],
      "source": [
        ""
      ]
    },
    {
      "cell_type": "markdown",
      "source": [
        "마스크를 이용해 해당하는 데이터만 출력합니다.\n",
        "```\n",
        "df_masked = df[mask]\n",
        "df_masked.head()\n",
        "```"
      ],
      "metadata": {
        "id": "JJ43x45wHkYG"
      }
    },
    {
      "cell_type": "code",
      "source": [
        ""
      ],
      "metadata": {
        "id": "AvvYKv0P3lOp"
      },
      "execution_count": null,
      "outputs": []
    },
    {
      "cell_type": "markdown",
      "source": [
        "두가지 조건을 다음과 같이 줄 수 있습니다.\n",
        "\n",
        "```\n",
        "mask = (df['safety']=='A-b') | (df['safety']=='A-a')\n",
        "df_masked = df[mask]\n",
        "df_masked.head()\n",
        "\n",
        "```"
      ],
      "metadata": {
        "id": "ruV42Igl54FX"
      }
    },
    {
      "cell_type": "code",
      "source": [
        ""
      ],
      "metadata": {
        "id": "rp88_hUi54FX"
      },
      "execution_count": null,
      "outputs": []
    },
    {
      "cell_type": "markdown",
      "source": [
        "#### **| `isin`을 이용한 마스킹**"
      ],
      "metadata": {
        "id": "ULYJWyYXPxXC"
      }
    },
    {
      "cell_type": "markdown",
      "source": [
        "* `.isin([val_list])`\n",
        "\n",
        "열 `safety`에서 값이 `A-b`인 마스크를 바인딩 합니다.\n",
        "\n",
        "```\n",
        "mask = df['safety'].isin(['A-b'])\n",
        "mask\n",
        "```"
      ],
      "metadata": {
        "id": "j6ASTojqPJ-b"
      }
    },
    {
      "cell_type": "code",
      "source": [
        ""
      ],
      "metadata": {
        "id": "VivaHCwoMxGV"
      },
      "execution_count": null,
      "outputs": []
    },
    {
      "cell_type": "markdown",
      "source": [
        "마스크를 이용해 해당하는 데이터만 출력합니다.\n",
        "```\n",
        "df_masked = df[mask]\n",
        "df_masked.head()\n",
        "```"
      ],
      "metadata": {
        "id": "KSEy_SEY5h0E"
      }
    },
    {
      "cell_type": "code",
      "source": [
        ""
      ],
      "metadata": {
        "id": "39CzNDrS5h0G"
      },
      "execution_count": null,
      "outputs": []
    },
    {
      "cell_type": "markdown",
      "source": [
        "`isin`을 사용하면 여러개의 값을 한번에 찾을 때 유용합니다.\n",
        "```\n",
        "mask = df['safety'].isin(['A-b', 'A-a'])\n",
        "df_masked = df[mask]\n",
        "df_masked.head()\n",
        "```"
      ],
      "metadata": {
        "id": "UetlcBxaPOpK"
      }
    },
    {
      "cell_type": "code",
      "source": [
        ""
      ],
      "metadata": {
        "id": "w5VN7sIDPOpL"
      },
      "execution_count": null,
      "outputs": []
    },
    {
      "cell_type": "markdown",
      "source": [
        "#### **| 마스킹을 이용한 데이터 수정**\n",
        "\n"
      ],
      "metadata": {
        "id": "f7FJg27TB0XP"
      }
    },
    {
      "cell_type": "markdown",
      "source": [
        "우선 `A-a`에 해당하는 마스크를 만듭시다.\n",
        "\n",
        "```\n",
        "mask = df['safety']=='A-a'\n",
        "mask\n",
        "```"
      ],
      "metadata": {
        "id": "ZBcMfco0CBju"
      }
    },
    {
      "cell_type": "code",
      "source": [
        ""
      ],
      "metadata": {
        "id": "VV1SPteXBBwQ"
      },
      "execution_count": null,
      "outputs": []
    },
    {
      "cell_type": "markdown",
      "source": [
        "기본적으로 마스크로 인덱싱한 값을 바꾸면 마스크에 속하는 행의 모든 값이 바뀝니다.\n",
        "\n",
        "```\n",
        "df[mask]='값수정1'\n",
        "df\n",
        "```"
      ],
      "metadata": {
        "id": "s2ouNMfYCJwH"
      }
    },
    {
      "cell_type": "code",
      "source": [
        ""
      ],
      "metadata": {
        "id": "4ST0Eg9ACIq1"
      },
      "execution_count": null,
      "outputs": []
    },
    {
      "cell_type": "markdown",
      "source": [
        "마스크에 속하는 행의 특정 열만 바꾸고 싶다면 `loc` 또는 `iloc`을 써서 열을 제한해 줍니다. \n",
        "\n",
        "```\n",
        "df.loc[mask, 'safety']='값수정2'\n",
        "df\n",
        "```"
      ],
      "metadata": {
        "id": "mYD1CUGjDIzl"
      }
    },
    {
      "cell_type": "code",
      "source": [
        ""
      ],
      "metadata": {
        "id": "FN-9fdDEDHiJ"
      },
      "execution_count": null,
      "outputs": []
    },
    {
      "cell_type": "markdown",
      "metadata": {
        "id": "-7T2F6-F726H"
      },
      "source": [
        "---\n",
        "### **(4) 문자열**\n",
        "---\n",
        "\n",
        "데이터의 문자를 인식해서 각종 처리를 할 수 있습니다. 이 때 전체 데이터 프레임이 아닌 열에 대해서만 함수를 사용할 수 있습니다.\n",
        "\n",
        "```\n",
        "df['열'].str.함수()\n",
        "```\n",
        "\n",
        "`.str`을 이용해 간단한 인덱싱이 가능합니다. `safety`에서 첫번째 문자만 출력해 보겠습니다.\n",
        "\n",
        "```\n",
        "df['safety'].str[0]\n",
        "```"
      ]
    },
    {
      "cell_type": "code",
      "source": [
        ""
      ],
      "metadata": {
        "id": "hqDThYMv9-fZ"
      },
      "execution_count": null,
      "outputs": []
    },
    {
      "cell_type": "markdown",
      "source": [
        "#### **| 글자인식**\n",
        "\n",
        "글자인식을 통해 해당하는 문자이면 `True , False`로 반환합니다. 따라서 이를 이용해 마스킹을 사용할 수 있습니다.\n",
        "\n"
      ],
      "metadata": {
        "id": "Rwnzua6Of-pb"
      }
    },
    {
      "cell_type": "markdown",
      "source": [
        "\n",
        "\n",
        "* `.str.contains(s)` : 문자열 `s`가 포함된 모든 행을 검색합니다.\n",
        "\n",
        "문자열이 값 안에 포함되어 있는지 검색할 때 유용합니다. 안전등급에 `A`가 포함된 값을 모두 찾아 보겠습니다.\n",
        "\n",
        "```\n",
        " mask = df['safety'].str.contains('A')\n",
        " mask\n",
        " ```"
      ],
      "metadata": {
        "id": "iWAwFmiho7pp"
      }
    },
    {
      "cell_type": "code",
      "execution_count": null,
      "metadata": {
        "id": "fqa2UNl8Et2f"
      },
      "outputs": [],
      "source": [
        ""
      ]
    },
    {
      "cell_type": "markdown",
      "source": [
        "위에서 만든 마스크를 씌우고 결과를 확인합니다.\n",
        "\n",
        "```\n",
        "df_maksed=df[mask]\n",
        "df_masked.head()\n",
        "```"
      ],
      "metadata": {
        "id": "BmSxSJjr7TpD"
      }
    },
    {
      "cell_type": "code",
      "source": [
        ""
      ],
      "metadata": {
        "id": "07h7d9lGmI6J"
      },
      "execution_count": null,
      "outputs": []
    },
    {
      "cell_type": "markdown",
      "source": [
        "문자열이 특정 문자로 시작되거나 끝나는지의 여부도 아래의 함수를 이용해 확인할 수 있습니다.\n",
        "\n",
        "\n",
        "* `.str.stratswith(s)` : 문자열 `s`로 시작되는지 여부를 반환합니다 (`True/False`)\n",
        "\n",
        "* `.str.endswith(s)` : 문자열 `s`로 끝나는지 여부를 반환합니다 (`True/False`)\n",
        "\n",
        "```\n",
        "mask = df['safety'].str.endswith('b')\n",
        "df_masked = df[mask]\n",
        "df_masked.head()\n",
        "```"
      ],
      "metadata": {
        "id": "ZbiWPwZh8lLu"
      }
    },
    {
      "cell_type": "code",
      "source": [
        ""
      ],
      "metadata": {
        "id": "m2-F_2r-8lLv"
      },
      "execution_count": null,
      "outputs": []
    },
    {
      "cell_type": "markdown",
      "source": [
        "#### **| 열 분할**\n",
        "\n"
      ],
      "metadata": {
        "id": "8nEa5n0_pexS"
      }
    },
    {
      "cell_type": "markdown",
      "source": [
        "* `.str.split(s)` : 특정 열을 문자열 기준으로 나눕니다\n",
        "\n",
        "```\n",
        "df['safety'].str.split('-', expand = True).head() \n",
        "```"
      ],
      "metadata": {
        "id": "A4nBiRaJ9Li-"
      }
    },
    {
      "cell_type": "code",
      "execution_count": null,
      "metadata": {
        "id": "Oaex2d6zEt2f"
      },
      "outputs": [],
      "source": [
        ""
      ]
    },
    {
      "cell_type": "markdown",
      "source": [
        "#### **| 문자 교체**\n",
        "\n"
      ],
      "metadata": {
        "id": "rPy-oxpg_vZ2"
      }
    },
    {
      "cell_type": "markdown",
      "source": [
        "* `.str.replace(s1,s2 )` : 문자열 `s1`을 `s2`로 바꿉니다.\n",
        "\n",
        "```\n",
        "df['safety'].str.replace('-', ':').head()\n",
        "```"
      ],
      "metadata": {
        "id": "35IepRRY_vZ2"
      }
    },
    {
      "cell_type": "code",
      "execution_count": null,
      "metadata": {
        "id": "bnVMpKuH_vZ2"
      },
      "outputs": [],
      "source": [
        ""
      ]
    },
    {
      "cell_type": "markdown",
      "source": [
        "## 문제풀이\n",
        "---"
      ],
      "metadata": {
        "id": "hZ2ZSejdAWer"
      }
    },
    {
      "cell_type": "markdown",
      "source": [
        "**예제 01**\n",
        "\n",
        "다음과 같이 연도, 월, 날짜가 기입된 데이터프레임을 작성하고 `df01` 로 바인딩하세요.\n",
        "\n",
        "2001년 1-1일 부터 2001년 2-28일까지 기입되어 있습니다. (31+28= 총 59줄)\n",
        "\n",
        "\n",
        "| index | 연도 | 날짜 | \n",
        "|--|--|--|\n",
        "|0|2001|1-1|\n",
        "|1|2001|1-2|\n",
        "|2|2001|1-3|\n",
        "||...|"
      ],
      "metadata": {
        "id": "VX7R_ysQrk1W"
      }
    },
    {
      "cell_type": "code",
      "source": [
        ""
      ],
      "metadata": {
        "id": "Yztwjo2QY9el"
      },
      "execution_count": null,
      "outputs": []
    },
    {
      "cell_type": "markdown",
      "source": [
        "**예제 02**\n",
        "\n",
        "`df01`의 연도를 모두 2022로 바꾸세요."
      ],
      "metadata": {
        "id": "R99-tbGHlCXA"
      }
    },
    {
      "cell_type": "code",
      "source": [
        ""
      ],
      "metadata": {
        "id": "IrNRVZLflCXG"
      },
      "execution_count": null,
      "outputs": []
    },
    {
      "cell_type": "markdown",
      "source": [
        "**예제 03**\n",
        "\n",
        "`df01` 에 1월, 2월에 이어서 3월을 추가하세요."
      ],
      "metadata": {
        "id": "Dc03FG4OlQfG"
      }
    },
    {
      "cell_type": "code",
      "source": [
        ""
      ],
      "metadata": {
        "id": "6NTzruX-lQfG"
      },
      "execution_count": null,
      "outputs": []
    },
    {
      "cell_type": "markdown",
      "source": [
        "**예제 05**\n",
        "\n",
        "`df01`의 `날짜` 열에서 하이픈`-` 을 콤마`,`로 바꿔주세요. "
      ],
      "metadata": {
        "id": "DX8-vC4qgKNY"
      }
    },
    {
      "cell_type": "code",
      "source": [
        ""
      ],
      "metadata": {
        "id": "_rdyE-u0gKNY"
      },
      "execution_count": null,
      "outputs": []
    },
    {
      "cell_type": "markdown",
      "source": [
        "**예제 06**\n",
        "\n",
        "`df01`에 `요일` 열을 추가하세요. 첫번째 행의 시작은 `토요일` 입니다."
      ],
      "metadata": {
        "id": "9c4Br1LtGao5"
      }
    },
    {
      "cell_type": "code",
      "source": [
        ""
      ],
      "metadata": {
        "id": "hxgkdmkdGao5"
      },
      "execution_count": null,
      "outputs": []
    },
    {
      "cell_type": "markdown",
      "source": [
        "**예제 07**\n",
        "\n",
        "`목요일`에 해당하는 행을 모두 출력하세요."
      ],
      "metadata": {
        "id": "-6Ts6yhdGcDv"
      }
    },
    {
      "cell_type": "code",
      "source": [
        ""
      ],
      "metadata": {
        "id": "wKzcx7tCGcDw"
      },
      "execution_count": null,
      "outputs": []
    },
    {
      "cell_type": "markdown",
      "source": [
        "**예제 08**\n",
        "\n",
        "`2`월에 해당하는 행 중 `날짜` 열과 `요일` 열만 출력하세요."
      ],
      "metadata": {
        "id": "pWvjRWkP0F1s"
      }
    },
    {
      "cell_type": "code",
      "source": [
        ""
      ],
      "metadata": {
        "id": "UbpgKVdJ0Hlt"
      },
      "execution_count": null,
      "outputs": []
    },
    {
      "cell_type": "markdown",
      "source": [
        "**예제 09**\n",
        "\n",
        "`날짜`의 데이터를 나눠 `월`과 `일`이라는 새로운 열을 `df01`에 추가하세요. "
      ],
      "metadata": {
        "id": "gpFG93lDlYou"
      }
    },
    {
      "cell_type": "code",
      "source": [
        ""
      ],
      "metadata": {
        "id": "8f0_WUsulYou"
      },
      "execution_count": null,
      "outputs": []
    },
    {
      "cell_type": "markdown",
      "source": [
        "**예제 10**\n",
        "\n",
        "`df01`에서 `날짜` 열을 제거하세요."
      ],
      "metadata": {
        "id": "KMNcsrSJg5bP"
      }
    },
    {
      "cell_type": "code",
      "source": [
        ""
      ],
      "metadata": {
        "id": "TASc8OJCg5bQ"
      },
      "execution_count": null,
      "outputs": []
    },
    {
      "cell_type": "markdown",
      "source": [
        "---\n",
        "최종 `df01`을 `ch08_days.csv`로 저장하고 깃허브에 올려주세요."
      ],
      "metadata": {
        "id": "2ww05R1N0IEb"
      }
    },
    {
      "cell_type": "code",
      "source": [
        ""
      ],
      "metadata": {
        "id": "3PF2m0SW0KS1"
      },
      "execution_count": null,
      "outputs": []
    }
  ]
}