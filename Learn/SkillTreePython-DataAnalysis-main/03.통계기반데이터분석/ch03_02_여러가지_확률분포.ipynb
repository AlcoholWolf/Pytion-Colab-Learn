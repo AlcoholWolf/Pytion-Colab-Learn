{
  "nbformat": 4,
  "nbformat_minor": 0,
  "metadata": {
    "colab": {
      "name": "ch03_02_여러가지_확률분포.ipynb",
      "provenance": [],
      "collapsed_sections": [],
      "authorship_tag": "ABX9TyOFuN7WvD8daf7GVk98B1zM",
      "include_colab_link": true
    },
    "kernelspec": {
      "name": "python3",
      "display_name": "Python 3"
    },
    "language_info": {
      "name": "python"
    }
  },
  "cells": [
    {
      "cell_type": "markdown",
      "metadata": {
        "id": "view-in-github",
        "colab_type": "text"
      },
      "source": [
        "<a href=\"https://colab.research.google.com/github/yebiny/SkillTreePython-DataAnalysis/blob/main/03.%ED%86%B5%EA%B3%84%EA%B8%B0%EB%B0%98%EB%8D%B0%EC%9D%B4%ED%84%B0%EB%B6%84%EC%84%9D/ch03_02_%EC%97%AC%EB%9F%AC%EA%B0%80%EC%A7%80_%ED%99%95%EB%A5%A0%EB%B6%84%ED%8F%AC.ipynb\" target=\"_parent\"><img src=\"https://colab.research.google.com/assets/colab-badge.svg\" alt=\"Open In Colab\"/></a>"
      ]
    },
    {
      "cell_type": "markdown",
      "source": [
        "# ch03.02. 여러가지 확률 분포\n",
        "---\n",
        "* 날짜:\n",
        "* 이름:\n",
        "\n",
        "## 학습내용\n",
        "    * 연속형 확률변수 -> 확률 밀도 함수 -> 연속형 확률 분포\n",
        "      - 균등 분포\n",
        "      - 정규 분포\n",
        "      - 감마 분포\n",
        "      - 베타 분포\n",
        "      - 카이제곱 분포\n",
        "    * 이산형 확률변수 -> 확률 질량 함수 -> 이산형 확률 분포\n",
        "      - 베르누이 분포\n",
        "      - 이항분포\n",
        "      - 카테고리 확률 분포\n",
        "      - 포아송 분포\n",
        "      - 기하 분포\n",
        "      - 음이항 분포\n",
        "      - 초기하 분포\n"
      ],
      "metadata": {
        "id": "wWpXZc2fi39U"
      }
    },
    {
      "cell_type": "code",
      "source": [
        "import numpy as np\n",
        "import matplotlib.pyplot as plt\n",
        "import pandas as pd\n",
        "import scipy as sp"
      ],
      "metadata": {
        "id": "uYLRSgCqw4YZ"
      },
      "execution_count": null,
      "outputs": []
    },
    {
      "cell_type": "markdown",
      "source": [
        "## 연속형 확률 분포\n",
        "---\n",
        "\n"
      ],
      "metadata": {
        "id": "i76b_rugaaQh"
      }
    },
    {
      "cell_type": "markdown",
      "source": [
        "### **| 정규분포**\n",
        "\n",
        "\\begin{align}\n",
        "\\mathcal{N}(x; \\mu, \\sigma^2) = \\dfrac{1}{\\sqrt{2\\pi\\sigma^2}} \\exp \\left(-\\dfrac{(x-\\mu)^2}{2\\sigma^2}\\right)\n",
        "\\end{align}\n",
        "\n",
        "```\n",
        "sp.stats.norm(mu, std)\n",
        "```"
      ],
      "metadata": {
        "id": "1-OKBt9jah1A"
      }
    },
    {
      "cell_type": "code",
      "source": [
        ""
      ],
      "metadata": {
        "id": "O_8p6vLnan54"
      },
      "execution_count": null,
      "outputs": []
    },
    {
      "cell_type": "markdown",
      "source": [
        "* 확률 분포\n"
      ],
      "metadata": {
        "id": "K1g-lUcoav1y"
      }
    },
    {
      "cell_type": "code",
      "source": [
        ""
      ],
      "metadata": {
        "id": "if7zfSErayZP"
      },
      "execution_count": null,
      "outputs": []
    },
    {
      "cell_type": "markdown",
      "source": [
        "* 누적 확률 분포\n"
      ],
      "metadata": {
        "id": "GXf2Mnfie-1t"
      }
    },
    {
      "cell_type": "code",
      "source": [
        ""
      ],
      "metadata": {
        "id": "3XzNesNhe-1z"
      },
      "execution_count": null,
      "outputs": []
    },
    {
      "cell_type": "markdown",
      "source": [
        "* 표본 추출\n",
        "\n"
      ],
      "metadata": {
        "id": "yqKfsYtznOxw"
      }
    },
    {
      "cell_type": "code",
      "source": [
        ""
      ],
      "metadata": {
        "id": "qCNrdRXEnOxw"
      },
      "execution_count": null,
      "outputs": []
    },
    {
      "cell_type": "markdown",
      "source": [
        "#### **예제 01. 파라미터 변경-평균**\n",
        "\n",
        "* 표준편차 `1`, 평균이 각각 `0.5, 1, 2, 4`인 확률분포와 확률누적분포를 그리세요."
      ],
      "metadata": {
        "id": "rKj9hDWacrgX"
      }
    },
    {
      "cell_type": "code",
      "source": [
        ""
      ],
      "metadata": {
        "id": "XbHcwBmscrgX"
      },
      "execution_count": null,
      "outputs": []
    },
    {
      "cell_type": "markdown",
      "source": [
        "#### **예제 02. 파라미터 변경-표준편차**\n",
        "\n",
        "* 평균 `0`, 표준편차가 각각 `0.5, 1, 2, 4`인 확률분포와 확률누적분포를 그리세요."
      ],
      "metadata": {
        "id": "68PJGdS4bhKx"
      }
    },
    {
      "cell_type": "code",
      "source": [
        ""
      ],
      "metadata": {
        "id": "ar0jleVqaquI"
      },
      "execution_count": null,
      "outputs": []
    },
    {
      "cell_type": "markdown",
      "source": [
        "#### **예제 03. 손의 길이**\n",
        "\n",
        "성인 손의 길이의 평균은 15.2cm 이고 표준편차는 2.5cm를 따른다고 합니다. 1000명을 표본으로 뽑고 히스토 그램을 그리세요."
      ],
      "metadata": {
        "id": "IM5omP40m7QE"
      }
    },
    {
      "cell_type": "code",
      "source": [
        ""
      ],
      "metadata": {
        "id": "Ogc5cyhtnIuA"
      },
      "execution_count": null,
      "outputs": []
    },
    {
      "cell_type": "markdown",
      "source": [
        "### **| 카이제곱 분포**\n",
        "\n",
        "\\begin{align}\n",
        "\\chi^2(x; \\nu) = \\frac{x^{(\\nu/2-1)} e^{-x/2}}{2^{\\nu/2} \\Gamma\\left(\\frac{\\nu}{2}\\right)}\n",
        "\\end{align}\n",
        "\n",
        "```\n",
        "sp.stats.chi2(df=df)\n",
        "```"
      ],
      "metadata": {
        "id": "3-ZZ9iGbgpQN"
      }
    },
    {
      "cell_type": "code",
      "source": [
        ""
      ],
      "metadata": {
        "id": "RU7CmupYgpQN"
      },
      "execution_count": null,
      "outputs": []
    },
    {
      "cell_type": "markdown",
      "source": [
        "* 확률 분포\n"
      ],
      "metadata": {
        "id": "PCozJCXVgpQN"
      }
    },
    {
      "cell_type": "code",
      "source": [
        ""
      ],
      "metadata": {
        "id": "s3y8Xi8ugpQN"
      },
      "execution_count": null,
      "outputs": []
    },
    {
      "cell_type": "markdown",
      "source": [
        "* 누적 확률 분포\n"
      ],
      "metadata": {
        "id": "Q2KLFkCkgpQO"
      }
    },
    {
      "cell_type": "code",
      "source": [
        ""
      ],
      "metadata": {
        "id": "Ga1U8gwjgpQO"
      },
      "execution_count": null,
      "outputs": []
    },
    {
      "cell_type": "markdown",
      "source": [
        "* 표본 추출\n"
      ],
      "metadata": {
        "id": "zlxOZPKVn78e"
      }
    },
    {
      "cell_type": "code",
      "source": [
        ""
      ],
      "metadata": {
        "id": "RXHpaI2Cn78f"
      },
      "execution_count": null,
      "outputs": []
    },
    {
      "cell_type": "markdown",
      "source": [
        "#### **예제 01. 파라미터 변경-자유도**\n",
        "\n",
        "* 자유도(df) 값이 각각 `1,2,3,4`인 카이제곱분포와 누적 확률 분포를 그리세요."
      ],
      "metadata": {
        "id": "zPzWqeCThJss"
      }
    },
    {
      "cell_type": "code",
      "source": [
        ""
      ],
      "metadata": {
        "id": "oLJOwFs0hJss"
      },
      "execution_count": null,
      "outputs": []
    },
    {
      "cell_type": "markdown",
      "source": [
        "### **| 감마분포**\n",
        "\n",
        "\\begin{align}\n",
        "\\text{Gam}(x;a,b) = \\frac{1}{\\Gamma(a)} b^a x^{a-1}e^{-bx}\n",
        "\\end{align}\n",
        "\n",
        "```\n",
        "sp.stats.gamma(a=a, b=1)\n",
        "```"
      ],
      "metadata": {
        "id": "I4cJJ7BikOwC"
      }
    },
    {
      "cell_type": "code",
      "source": [
        ""
      ],
      "metadata": {
        "id": "ai3TmH9kkOwC"
      },
      "execution_count": null,
      "outputs": []
    },
    {
      "cell_type": "markdown",
      "source": [
        "* 확률 분포"
      ],
      "metadata": {
        "id": "NcMJTjsZkOwC"
      }
    },
    {
      "cell_type": "code",
      "source": [
        ""
      ],
      "metadata": {
        "id": "NzelXp2kkOwC"
      },
      "execution_count": null,
      "outputs": []
    },
    {
      "cell_type": "markdown",
      "source": [
        "* 누적 확률 분포\n"
      ],
      "metadata": {
        "id": "YpsnR4AMkOwD"
      }
    },
    {
      "cell_type": "code",
      "source": [
        ""
      ],
      "metadata": {
        "id": "6xuAfh80kOwD"
      },
      "execution_count": null,
      "outputs": []
    },
    {
      "cell_type": "markdown",
      "source": [
        "* 표본 추출"
      ],
      "metadata": {
        "id": "sapQZAdtoYSX"
      }
    },
    {
      "cell_type": "code",
      "source": [
        ""
      ],
      "metadata": {
        "id": "jxd1q3o_oYSY"
      },
      "execution_count": null,
      "outputs": []
    },
    {
      "cell_type": "markdown",
      "source": [
        "#### **예제 01. 파라미터 변경-a**\n",
        "\n",
        "* a 값이 각각 `1,2,4,8`인 감마 분포와 누적 확률 분포를 그리세요."
      ],
      "metadata": {
        "id": "BxtZ4WMcmb_r"
      }
    },
    {
      "cell_type": "code",
      "source": [
        ""
      ],
      "metadata": {
        "id": "VU-dYTDCmb_r"
      },
      "execution_count": null,
      "outputs": []
    },
    {
      "cell_type": "markdown",
      "source": [
        "## 이산형 확률 분포\n",
        "---"
      ],
      "metadata": {
        "id": "u_bkL0sQxRLB"
      }
    },
    {
      "cell_type": "markdown",
      "source": [
        "### |  **베르누이 분포**\n",
        "\n",
        "\\begin{split}\n",
        "\\begin{align}\n",
        "\\text{Bern}(x;\\mu) = \n",
        "\\begin{cases} \n",
        "\\mu   & \\text{if }x=1, \\\\\n",
        "1-\\mu & \\text{if }x=0\n",
        "\\end{cases}\n",
        "\\end{align}\n",
        "\\end{split}\n",
        "\n",
        "* 기본사용\n",
        "\n",
        "```\n",
        "mu = 0.5\n",
        "rv = sp.stats.bernoulli(mu)\n",
        "```"
      ],
      "metadata": {
        "id": "DZR4Ztbb2Hi_"
      }
    },
    {
      "cell_type": "code",
      "source": [
        ""
      ],
      "metadata": {
        "id": "IWbIlD-p2HrT"
      },
      "execution_count": null,
      "outputs": []
    },
    {
      "cell_type": "markdown",
      "source": [
        "* 확률 분포\n"
      ],
      "metadata": {
        "id": "yBSPcMFQ21KV"
      }
    },
    {
      "cell_type": "code",
      "source": [
        ""
      ],
      "metadata": {
        "id": "iAeMmd4U2bsO"
      },
      "execution_count": null,
      "outputs": []
    },
    {
      "cell_type": "markdown",
      "source": [
        "* 누적 확률 분포\n"
      ],
      "metadata": {
        "id": "5SxoR2Zx8md8"
      }
    },
    {
      "cell_type": "code",
      "source": [
        ""
      ],
      "metadata": {
        "id": "K60MYhgC8md9"
      },
      "execution_count": null,
      "outputs": []
    },
    {
      "cell_type": "markdown",
      "source": [
        "* 표본 추출"
      ],
      "metadata": {
        "id": "rJYDT6oQ2ttl"
      }
    },
    {
      "cell_type": "code",
      "source": [
        ""
      ],
      "metadata": {
        "id": "SInJdkhz2Tnu"
      },
      "execution_count": null,
      "outputs": []
    },
    {
      "cell_type": "markdown",
      "source": [
        "#### **예제 01. 동전 던지기**\n",
        "\n",
        "동전을 던져서 앞면이 나온 확률\n",
        "\n"
      ],
      "metadata": {
        "id": "u2x8LQa74A_V"
      }
    },
    {
      "cell_type": "code",
      "source": [
        ""
      ],
      "metadata": {
        "id": "2ZzCyh9q3O7D"
      },
      "execution_count": null,
      "outputs": []
    },
    {
      "cell_type": "markdown",
      "source": [
        "#### **예제 02. 주사위 굴리기**\n",
        "\n",
        "주사위 던져서 6이 나온 확률\n"
      ],
      "metadata": {
        "id": "SdLG6-us4Ws9"
      }
    },
    {
      "cell_type": "code",
      "source": [
        ""
      ],
      "metadata": {
        "id": "HUuwegja4Ws-"
      },
      "execution_count": null,
      "outputs": []
    },
    {
      "cell_type": "markdown",
      "source": [
        "#### **예제 03. 같은 생일**\n",
        "\n",
        "두 사람의 생일 월(月)이 같을 확률\n"
      ],
      "metadata": {
        "id": "zbGZCly_4cok"
      }
    },
    {
      "cell_type": "code",
      "source": [
        ""
      ],
      "metadata": {
        "id": "674nneQn4cok"
      },
      "execution_count": null,
      "outputs": []
    },
    {
      "cell_type": "markdown",
      "source": [
        "#### **예제 04. 주머니 공**\n",
        "주머니에 5개의 공이 들어있고 3개는 빨강, 2개는 하양이다. 공 2개를 뽑았을 때 색깔이 모두 다를 확률은?"
      ],
      "metadata": {
        "id": "7q4TvtJM45nM"
      }
    },
    {
      "cell_type": "code",
      "source": [
        ""
      ],
      "metadata": {
        "id": "McDZjQD845nS"
      },
      "execution_count": null,
      "outputs": []
    },
    {
      "cell_type": "markdown",
      "source": [
        "### |  **이항분포**\n",
        "\n",
        "\\begin{align}\n",
        "\\text{Bin}(x;N,\\mu) = \\binom N x \\; \\mu^x(1-\\mu)^{N-x}\n",
        "\\end{align}\n",
        "\n",
        "\n",
        "```\n",
        "sp.stats.binom(N, mu)\n",
        "```"
      ],
      "metadata": {
        "id": "qvyEmd6IxTQq"
      }
    },
    {
      "cell_type": "code",
      "source": [
        ""
      ],
      "metadata": {
        "id": "zzxF40t6XjoK"
      },
      "execution_count": null,
      "outputs": []
    },
    {
      "cell_type": "markdown",
      "source": [
        "* 확률 분포\n"
      ],
      "metadata": {
        "id": "Ae04eAmT6uKh"
      }
    },
    {
      "cell_type": "code",
      "source": [
        ""
      ],
      "metadata": {
        "id": "aUNhvBEO6uKh"
      },
      "execution_count": null,
      "outputs": []
    },
    {
      "cell_type": "markdown",
      "source": [
        "* 누적 확률  분포"
      ],
      "metadata": {
        "id": "c78f-pb4fga9"
      }
    },
    {
      "cell_type": "code",
      "source": [
        ""
      ],
      "metadata": {
        "id": "liw4-4MJfhQl"
      },
      "execution_count": null,
      "outputs": []
    },
    {
      "cell_type": "markdown",
      "source": [
        "* 확률 변수 표본 추출\n"
      ],
      "metadata": {
        "id": "BfFaFXrz6uKb"
      }
    },
    {
      "cell_type": "code",
      "source": [
        ""
      ],
      "metadata": {
        "id": "Y-wueBTg6uKh"
      },
      "execution_count": null,
      "outputs": []
    },
    {
      "cell_type": "markdown",
      "source": [
        "#### **예제 01. 동전 던지기**\n",
        "\n",
        "* 동전을 1번 던졌을 때 앞면이 나온 횟수의 확률분포\n",
        "\n"
      ],
      "metadata": {
        "id": "mfOJS2Ij63lL"
      }
    },
    {
      "cell_type": "code",
      "source": [
        ""
      ],
      "metadata": {
        "id": "iIZ2aPI90p0_"
      },
      "execution_count": null,
      "outputs": []
    },
    {
      "cell_type": "markdown",
      "source": [
        "* 동전을 10번 던졌을 때 앞면이 나온 횟수의 확률분포\n"
      ],
      "metadata": {
        "id": "Dl3kr5v5aN2R"
      }
    },
    {
      "cell_type": "code",
      "source": [
        ""
      ],
      "metadata": {
        "id": "lLX3TRHMaGFI"
      },
      "execution_count": null,
      "outputs": []
    },
    {
      "cell_type": "markdown",
      "source": [
        "#### **예제 02. 주사위 굴리기**\n",
        "\n",
        "* 주사위를 1번 던져서 짝수가 나온 횟수의 분포"
      ],
      "metadata": {
        "id": "BgCrd71ay0xo"
      }
    },
    {
      "cell_type": "code",
      "source": [
        ""
      ],
      "metadata": {
        "id": "FGt6Yv-hy0xp"
      },
      "execution_count": null,
      "outputs": []
    },
    {
      "cell_type": "markdown",
      "source": [
        "* 주사위를 6번 던져서 짝수가 나온 횟수의 분포"
      ],
      "metadata": {
        "id": "pQfzCX3C1O7e"
      }
    },
    {
      "cell_type": "code",
      "source": [
        ""
      ],
      "metadata": {
        "id": "dLTDN71b1O7f"
      },
      "execution_count": null,
      "outputs": []
    },
    {
      "cell_type": "markdown",
      "source": [
        "* 주사위를 20번 던져서 짝수가 나온 횟수의 분포"
      ],
      "metadata": {
        "id": "fYk90ripZv-p"
      }
    },
    {
      "cell_type": "code",
      "source": [
        ""
      ],
      "metadata": {
        "id": "BBKpHijjZv-u"
      },
      "execution_count": null,
      "outputs": []
    },
    {
      "cell_type": "markdown",
      "source": [
        "* 주사위를 1번 던져서 6이 나온 횟수의 분포"
      ],
      "metadata": {
        "id": "vTgdAm2_yFfp"
      }
    },
    {
      "cell_type": "code",
      "source": [
        ""
      ],
      "metadata": {
        "id": "BjL3tbaPxycR"
      },
      "execution_count": null,
      "outputs": []
    },
    {
      "cell_type": "markdown",
      "source": [
        "* 주사위를 6번 던져서 6이 나온 횟수의 분포"
      ],
      "metadata": {
        "id": "yugdY-bMyf9w"
      }
    },
    {
      "cell_type": "code",
      "source": [
        ""
      ],
      "metadata": {
        "id": "5tOC9IWYyf9w"
      },
      "execution_count": null,
      "outputs": []
    },
    {
      "cell_type": "markdown",
      "source": [
        "* 주사위를 20번 던져서 6이 나온 횟수의 분포"
      ],
      "metadata": {
        "id": "C2uBhXRr8ACU"
      }
    },
    {
      "cell_type": "code",
      "source": [
        ""
      ],
      "metadata": {
        "id": "Ylmr1SNR8ACU"
      },
      "execution_count": null,
      "outputs": []
    },
    {
      "cell_type": "markdown",
      "source": [
        "### **| 카테고리 확률분포**\n",
        "\n",
        "\\begin{split} \n",
        "\\begin{align}\n",
        "\\text{Cat}(x;\\mu) = \n",
        "\\begin{cases}\n",
        "\\mu_1 & \\text{if } x = (1, 0, 0, \\cdots, 0) \\\\\n",
        "\\mu_2 & \\text{if } x = (0, 1, 0, \\cdots, 0) \\\\\n",
        "\\mu_3 & \\text{if } x = (0, 0, 1, \\cdots, 0) \\\\\n",
        "\\vdots & \\vdots \\\\\n",
        "\\mu_K & \\text{if } x = (0, 0, 0, \\cdots, 1) \\\\\n",
        "\\end{cases}\n",
        "\\end{align}\n",
        "\\end{split}\n",
        "\n",
        "\n",
        "```\n",
        "sp.stats.multinomial(1, mu)\n",
        "```"
      ],
      "metadata": {
        "id": "80kMNBkH_zez"
      }
    },
    {
      "cell_type": "code",
      "source": [
        ""
      ],
      "metadata": {
        "id": "uU5fIlSRABLp"
      },
      "execution_count": null,
      "outputs": []
    },
    {
      "cell_type": "markdown",
      "source": [
        "* 확률 분포\n"
      ],
      "metadata": {
        "id": "NPVTGlV3QkX3"
      }
    },
    {
      "cell_type": "code",
      "source": [
        ""
      ],
      "metadata": {
        "id": "rl4lQtsdQkX3"
      },
      "execution_count": null,
      "outputs": []
    },
    {
      "cell_type": "markdown",
      "source": [
        "* 표본 추출\n"
      ],
      "metadata": {
        "id": "B0fGcCvTACrJ"
      }
    },
    {
      "cell_type": "code",
      "source": [
        ""
      ],
      "metadata": {
        "id": "7pIEzR11ACrK"
      },
      "execution_count": null,
      "outputs": []
    },
    {
      "cell_type": "markdown",
      "source": [
        "#### **예제 01.공정하지 않은 주사위**\n",
        "\n",
        "* 주사위의 짝수 면이 나올 확률이 홀수 면이 나올 확률의 2배일 때 확률분포를 그래세요."
      ],
      "metadata": {
        "id": "qTi5CXlcVkgb"
      }
    },
    {
      "cell_type": "code",
      "source": [
        ""
      ],
      "metadata": {
        "id": "j9LKA4bcVkgh"
      },
      "execution_count": null,
      "outputs": []
    },
    {
      "cell_type": "markdown",
      "source": [
        "#### **예제 02. 주머니 공**\n",
        "\n",
        "주머니 안에 빨간색 5개, 노란색, 3개 초록색 2개 공이 들어 있을 때 공 한개를 뽑을 때 나오는 색깔의 확률 분포를 그리세요."
      ],
      "metadata": {
        "id": "4sA7w4hPPDR3"
      }
    },
    {
      "cell_type": "code",
      "source": [
        ""
      ],
      "metadata": {
        "id": "KY8dsIRHPbXm"
      },
      "execution_count": null,
      "outputs": []
    },
    {
      "cell_type": "markdown",
      "source": [
        "#### **예제 03. 선호 자리**\n",
        "\n",
        "교실에 5개의 자리가 있고 학생이 x번째 자리에 앉을 확률이 $f(X=x)=\\frac{1}{2^{(x+1)}}$ 로 주어졌습니다. 확률 분포를 그리세요."
      ],
      "metadata": {
        "id": "nY1r7_HTXbAM"
      }
    },
    {
      "cell_type": "code",
      "source": [
        ""
      ],
      "metadata": {
        "id": "1cbAe4SvXbAM"
      },
      "execution_count": null,
      "outputs": []
    }
  ]
}