{
  "nbformat": 4,
  "nbformat_minor": 0,
  "metadata": {
    "colab": {
      "name": "ch03_01_확률변수와_확률함수.ipynb",
      "provenance": [],
      "collapsed_sections": [],
      "authorship_tag": "ABX9TyPA8GjJCHtFCXlj5L9b8UFt",
      "include_colab_link": true
    },
    "kernelspec": {
      "name": "python3",
      "display_name": "Python 3"
    },
    "language_info": {
      "name": "python"
    }
  },
  "cells": [
    {
      "cell_type": "markdown",
      "metadata": {
        "id": "view-in-github",
        "colab_type": "text"
      },
      "source": [
        "<a href=\"https://colab.research.google.com/github/yebiny/SkillTreePython-DataAnalysis/blob/main/03.%ED%86%B5%EA%B3%84%EA%B8%B0%EB%B0%98%EB%8D%B0%EC%9D%B4%ED%84%B0%EB%B6%84%EC%84%9D/ch03_01_%ED%99%95%EB%A5%A0%EB%B3%80%EC%88%98%EC%99%80_%ED%99%95%EB%A5%A0%ED%95%A8%EC%88%98.ipynb\" target=\"_parent\"><img src=\"https://colab.research.google.com/assets/colab-badge.svg\" alt=\"Open In Colab\"/></a>"
      ]
    },
    {
      "cell_type": "markdown",
      "source": [
        "# ch03.01. 확률 변수와 확률 함수\n",
        "---\n",
        "* 날짜:\n",
        "* 이름:\n",
        "\n",
        "## 학습내용\n",
        "    - 실험 (Experiment) : 데이터셋을 생성하는 모든 프로세스 \n",
        "    - 표본 공간 (Sample space): 실험에서 도출되는 모든 결과를 포함하는 공간\n",
        "    - 사건 (Event) : 표본 공간 S의 부분집합\n",
        "    - 확률 변수 (Random variable) : 표본공간의 모든 요소를 실수로 매핑하는 함수\n",
        "    - 확률 함수 (Probability function) : 확률을 매핑하는 함수"
      ],
      "metadata": {
        "id": "wWpXZc2fi39U"
      }
    },
    {
      "cell_type": "code",
      "execution_count": null,
      "metadata": {
        "id": "ASwbQ96XXSib"
      },
      "outputs": [],
      "source": [
        ""
      ]
    },
    {
      "cell_type": "markdown",
      "source": [
        "#### **예제 01. 공정한 주사위**\n",
        "\n"
      ],
      "metadata": {
        "id": "82a3GtBCNjto"
      }
    },
    {
      "cell_type": "markdown",
      "source": [
        "* 확률변수가 '주사위를 굴려 나온 눈의 값' 일 때, 확률변수 $X$를 정의하세요."
      ],
      "metadata": {
        "id": "1ACJgMN1N3Jn"
      }
    },
    {
      "cell_type": "code",
      "source": [
        ""
      ],
      "metadata": {
        "id": "i0hS4O76OIFP"
      },
      "execution_count": null,
      "outputs": []
    },
    {
      "cell_type": "markdown",
      "source": [
        "* 주사위의 모든 면이 '공정' 할 때, 확률 질량 함수 $P$를 정의하세요."
      ],
      "metadata": {
        "id": "uP4JqP4lOMnW"
      }
    },
    {
      "cell_type": "code",
      "source": [
        ""
      ],
      "metadata": {
        "id": "pWiNfRAoi2oU"
      },
      "execution_count": null,
      "outputs": []
    },
    {
      "cell_type": "markdown",
      "source": [
        "* 확률 분포를 그리세요."
      ],
      "metadata": {
        "id": "YT_NwyHEOZpQ"
      }
    },
    {
      "cell_type": "code",
      "source": [
        ""
      ],
      "metadata": {
        "id": "PPNa5Kpim7Bx"
      },
      "execution_count": null,
      "outputs": []
    },
    {
      "cell_type": "markdown",
      "source": [
        "* 누적 확률 분포를 그리세요."
      ],
      "metadata": {
        "id": "u5_TJcvKOmjn"
      }
    },
    {
      "cell_type": "code",
      "source": [
        ""
      ],
      "metadata": {
        "id": "JjzXLhk9rpyv"
      },
      "execution_count": null,
      "outputs": []
    },
    {
      "cell_type": "markdown",
      "source": [
        "#### **예제 02. 동전 두번 던지기**\n"
      ],
      "metadata": {
        "id": "aaiN5uQHVCe7"
      }
    },
    {
      "cell_type": "markdown",
      "source": [
        "* 확률변수가 '앞면이 나온 횟수' 일 때, 확률변수 $X$를 정의하세요."
      ],
      "metadata": {
        "id": "EmhyKeQ1VCe8"
      }
    },
    {
      "cell_type": "code",
      "source": [
        ""
      ],
      "metadata": {
        "id": "scnOXxGQVCe8"
      },
      "execution_count": null,
      "outputs": []
    },
    {
      "cell_type": "markdown",
      "source": [
        "* 확률 질량 함수를 정의하세요."
      ],
      "metadata": {
        "id": "0DKjpoFLVCe8"
      }
    },
    {
      "cell_type": "code",
      "source": [
        ""
      ],
      "metadata": {
        "id": "oqqQDpWsVCe8"
      },
      "execution_count": null,
      "outputs": []
    },
    {
      "cell_type": "markdown",
      "source": [
        "* 확률 분포를 그리세요."
      ],
      "metadata": {
        "id": "9R9x4M08VCe9"
      }
    },
    {
      "cell_type": "code",
      "source": [
        ""
      ],
      "metadata": {
        "id": "1WUTddGpVCe9"
      },
      "execution_count": null,
      "outputs": []
    },
    {
      "cell_type": "markdown",
      "source": [
        "* 누적 확률 분포를 그리세요."
      ],
      "metadata": {
        "id": "uWoDJPIlVCe9"
      }
    },
    {
      "cell_type": "code",
      "source": [
        ""
      ],
      "metadata": {
        "id": "kkEvt6eNrlnX"
      },
      "execution_count": null,
      "outputs": []
    },
    {
      "cell_type": "markdown",
      "source": [
        "#### **예제 03. 화재 발생**\n"
      ],
      "metadata": {
        "id": "csb8tewGVmvb"
      }
    },
    {
      "cell_type": "markdown",
      "source": [
        "*  확률변수가 '1년간 발생한 화재건수' 일 때 $X$를 정의하세요."
      ],
      "metadata": {
        "id": "fFwyEMxkVmvh"
      }
    },
    {
      "cell_type": "code",
      "source": [
        ""
      ],
      "metadata": {
        "id": "o-ZY6qYBVmvh"
      },
      "execution_count": null,
      "outputs": []
    },
    {
      "cell_type": "markdown",
      "source": [
        "* 화재발생 확률이 다음과 같이 주어졌을 때 함수 $f$ 를 정의하세요.\n",
        "\n",
        "\\begin{align}\n",
        "f(X=x)=\\frac{1}{2^{(x+1)}}\n",
        "\\end{align}"
      ],
      "metadata": {
        "id": "YQa-1CopVmvh"
      }
    },
    {
      "cell_type": "code",
      "source": [
        ""
      ],
      "metadata": {
        "id": "Ez1kBPTTVmvh"
      },
      "execution_count": null,
      "outputs": []
    },
    {
      "cell_type": "markdown",
      "source": [
        "* 확률 분포를 그리세요."
      ],
      "metadata": {
        "id": "9HAIHU1HVmvh"
      }
    },
    {
      "cell_type": "code",
      "source": [
        ""
      ],
      "metadata": {
        "id": "NcO2LheUVmvi"
      },
      "execution_count": null,
      "outputs": []
    },
    {
      "cell_type": "markdown",
      "source": [
        "* 누적 확률 분포를 그리세요."
      ],
      "metadata": {
        "id": "deIDtmURVmvi"
      }
    },
    {
      "cell_type": "code",
      "source": [
        ""
      ],
      "metadata": {
        "id": "L1lhlFfNVmvi"
      },
      "execution_count": null,
      "outputs": []
    },
    {
      "cell_type": "markdown",
      "source": [
        "#### **예제 04. 공정하지 않은 주사위**\n"
      ],
      "metadata": {
        "id": "JbMCXAgaOrw_"
      }
    },
    {
      "cell_type": "markdown",
      "source": [
        "* 확률변수가 '주사위를 굴려 나온 눈의 값' 일 때, 확률변수 $X$를 정의하세요."
      ],
      "metadata": {
        "id": "TFXEpuObOrxA"
      }
    },
    {
      "cell_type": "code",
      "source": [
        ""
      ],
      "metadata": {
        "id": "k0267EHiOrxA"
      },
      "execution_count": null,
      "outputs": []
    },
    {
      "cell_type": "markdown",
      "source": [
        "* 주사위의 짝수 면이 나올 확률이 홀수 면이 나올 확률의 2배일 때, 확률 질량 함수 $P$를 정의하세요."
      ],
      "metadata": {
        "id": "TWicXFFdOrxA"
      }
    },
    {
      "cell_type": "code",
      "source": [
        ""
      ],
      "metadata": {
        "id": "ir4IqIO9OrxA"
      },
      "execution_count": null,
      "outputs": []
    },
    {
      "cell_type": "markdown",
      "source": [
        "* 확률분포 를 그리세요."
      ],
      "metadata": {
        "id": "JOWFqozBOrxA"
      }
    },
    {
      "cell_type": "code",
      "source": [
        ""
      ],
      "metadata": {
        "id": "WfgOLsxbOrxA"
      },
      "execution_count": null,
      "outputs": []
    },
    {
      "cell_type": "markdown",
      "source": [
        "* 누적 확률 분포를 그리세요."
      ],
      "metadata": {
        "id": "DivVdhyrOrxB"
      }
    },
    {
      "cell_type": "code",
      "source": [
        ""
      ],
      "metadata": {
        "id": "KHe2uMwmOrxB"
      },
      "execution_count": null,
      "outputs": []
    },
    {
      "cell_type": "markdown",
      "source": [
        "#### **예제 05. 주사위 두번 굴리기**\n"
      ],
      "metadata": {
        "id": "MkZcbqe2Xhmh"
      }
    },
    {
      "cell_type": "markdown",
      "source": [
        "* 확률변수가 '주사위를 두번 굴려 나온 눈의 합' 일 때, 확률변수 $X$를 정의하세요."
      ],
      "metadata": {
        "id": "D_JC-aFkXhmi"
      }
    },
    {
      "cell_type": "code",
      "source": [
        ""
      ],
      "metadata": {
        "id": "lg4_wfZNXhmi"
      },
      "execution_count": null,
      "outputs": []
    },
    {
      "cell_type": "markdown",
      "source": [
        "*  확률 질량 함수 $P$ 를 정의하세요."
      ],
      "metadata": {
        "id": "9vdwsNYgXhmi"
      }
    },
    {
      "cell_type": "code",
      "source": [
        ""
      ],
      "metadata": {
        "id": "QbV0gd4tXhmi"
      },
      "execution_count": null,
      "outputs": []
    },
    {
      "cell_type": "markdown",
      "source": [
        "* 확률 분포를 그리세요."
      ],
      "metadata": {
        "id": "dENmsSwIXhmi"
      }
    },
    {
      "cell_type": "code",
      "source": [
        ""
      ],
      "metadata": {
        "id": "Y91VYdLFXhmi"
      },
      "execution_count": null,
      "outputs": []
    },
    {
      "cell_type": "markdown",
      "source": [
        "* 누적 확률 분포를 그리세요."
      ],
      "metadata": {
        "id": "VWD3Q1jRXhmi"
      }
    },
    {
      "cell_type": "code",
      "source": [
        ""
      ],
      "metadata": {
        "id": "4zuqckh3Xhmj"
      },
      "execution_count": null,
      "outputs": []
    },
    {
      "cell_type": "markdown",
      "source": [
        "#### **예제 06. 손의 길이**\n"
      ],
      "metadata": {
        "id": "PkwoNqyoiQ8i"
      }
    },
    {
      "cell_type": "markdown",
      "source": [
        "* 확률변수가 '성인의 손 길이(cm)' 입니다. $X$를 10부터 20까지 1000개의 값으로 정의하세요."
      ],
      "metadata": {
        "id": "ZOyUQpNtiQ8o"
      }
    },
    {
      "cell_type": "code",
      "source": [
        ""
      ],
      "metadata": {
        "id": "NIdnQlEaiQ8o"
      },
      "execution_count": null,
      "outputs": []
    },
    {
      "cell_type": "markdown",
      "source": [
        "* 손 길이에 대한 확률이 다음과 같이 주어졌을 때 함수 $f$ 를 정의하세요. ($\\sigma$ = 1)\n",
        "\n",
        "\n",
        "\n",
        "\\begin{align}\n",
        " f(x)=\\frac{1}{\\sqrt{2\\pi}\\sigma}\\exp^{-\\frac{(x-15.2)^2}{2*\\sigma^2}}\n",
        "\\end{align}"
      ],
      "metadata": {
        "id": "gj2dFgBJiQ8o"
      }
    },
    {
      "cell_type": "code",
      "source": [
        ""
      ],
      "metadata": {
        "id": "P4ytpN5giQ8o"
      },
      "execution_count": null,
      "outputs": []
    },
    {
      "cell_type": "markdown",
      "source": [
        "* 확률 분포를 그리세요."
      ],
      "metadata": {
        "id": "y-d1Q_EdiQ8o"
      }
    },
    {
      "cell_type": "code",
      "source": [
        ""
      ],
      "metadata": {
        "id": "F6y785cJiQ8o"
      },
      "execution_count": null,
      "outputs": []
    },
    {
      "cell_type": "markdown",
      "source": [
        "* 누적 확률 분포를 그리세요."
      ],
      "metadata": {
        "id": "TKCRdDB4iQ8p"
      }
    },
    {
      "cell_type": "code",
      "source": [
        ""
      ],
      "metadata": {
        "id": "vOPgzT8SiQ8p"
      },
      "execution_count": null,
      "outputs": []
    },
    {
      "cell_type": "markdown",
      "source": [
        "#### **예제 07. 파라미터 변경**\n",
        "\n",
        "예제 06 에서 정의한 함수 $f$의 파라미터 $\\sigma$를 각각 `0.5, 1, 2, 4`로 정의한 후 확률분포와 누적확률 분포를 그리세요.\n",
        "\n",
        "\\begin{align}\n",
        " f(x)=\\frac{1}{\\sqrt{2\\pi}\\sigma}\\exp^{-\\frac{(x-15.2)^2}{2*\\sigma^2}}\n",
        "\\end{align}"
      ],
      "metadata": {
        "id": "fIC9ftgHuQdj"
      }
    },
    {
      "cell_type": "code",
      "source": [
        ""
      ],
      "metadata": {
        "id": "DbFc1_8BtM5i"
      },
      "execution_count": null,
      "outputs": []
    }
  ]
}